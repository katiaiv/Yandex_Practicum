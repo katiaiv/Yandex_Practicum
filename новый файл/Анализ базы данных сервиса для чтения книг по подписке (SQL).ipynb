{
 "cells": [
  {
   "cell_type": "markdown",
   "metadata": {},
   "source": [
    "# Анализ базы данных сервиса для чтения книг по подписке "
   ]
  },
  {
   "cell_type": "markdown",
   "metadata": {},
   "source": [
    "Цель: Проанализировать базу данных сервиса для чтения книг и сформулировать ценностное предложение для нового продукта.\n",
    "\n",
    "Описание данных:\n",
    "\n",
    "Предоставлены четыре таблицы:\n",
    "- books.\n",
    "- authors.\n",
    "- publishers.\n",
    "- ratings.\n",
    "- reviews.\n",
    "\n",
    "books- содержит данные о книгах.\n",
    "\n",
    "Структура таблицы:\n",
    "\n",
    "- book_id — идентификатор книги;\n",
    "- author_id — идентификатор автора;\n",
    "- title — название книги;\n",
    "- num_pages — количество страниц;\n",
    "- publication_date — дата публикации книги;\n",
    "- publisher_id — идентификатор издателя.\n",
    "\n",
    "authors- содержит данные об авторах.\n",
    "\n",
    "Структура таблицы:\n",
    "\n",
    "- author_id — идентификатор автора;\n",
    "- author — имя автора.\n",
    "\n",
    "publishers- содержит данные об издательствах.\n",
    "\n",
    "- publisher_id — идентификатор издательства;\n",
    "- publisher — название издательства.\n",
    "\n",
    "ratings- содержит данные о пользовательских оценках книг.\n",
    "\n",
    "- rating_id — идентификатор оценки;\n",
    "- book_id — идентификатор книги;\n",
    "- username — имя пользователя, оставившего оценку;\n",
    "- rating — оценка книги.\n",
    "\n",
    "reviews- содержит данные о пользовательских обзорах.\n",
    "\n",
    "- review_id — идентификатор обзора;\n",
    "- book_id — идентификатор книги;\n",
    "- username — имя автора обзора;\n",
    "- text — текст обзора.\n",
    "\n",
    "Шаг1. Изучение файла с данными:\n",
    "- Выгрузка и просмотр информации о таблицах.\n",
    "\n",
    "Шаг 2. Исследовательский анализ:\n",
    "\n",
    "- Рассчет количества книг, выпущенных после 1 января 2000 года;\n",
    "- Рассчет количества обзоров и средней оценки для каждой книги; \n",
    "- Определение издательства, которое выпустило наибольшее число книг толще 50 страниц;\n",
    "- Определиние автора с самой высокой средней оценкой книг;\n",
    "- Рассчет среднего количества обзоров от пользователей, которые поставили больше 50 оценок.\n",
    "\n",
    "Шаг 3. Вывод по исследованию и рекомендации."
   ]
  },
  {
   "cell_type": "markdown",
   "metadata": {},
   "source": [
    "# Шаг 1. Изучение файла с данными:"
   ]
  },
  {
   "cell_type": "markdown",
   "metadata": {},
   "source": [
    "Импортируем требуемые библиотеки:"
   ]
  },
  {
   "cell_type": "code",
   "execution_count": 1,
   "metadata": {},
   "outputs": [],
   "source": [
    "import pandas as pd\n",
    "from sqlalchemy import create_engine\n",
    "# устанавливаем параметры\n",
    "db_config = {'user': 'praktikum_student', # имя пользователя\n",
    "'pwd': 'Sdf4$2;d-d30pp', # пароль\n",
    "'host': 'rc1b-wcoijxj3yxfsf3fs.mdb.yandexcloud.net',\n",
    "'port': 6432, # порт подключения\n",
    "'db': 'data-analyst-final-project-db'} # название базы данных\n",
    "connection_string = 'postgresql://{}:{}@{}:{}/{}'.format(db_config['user'],\n",
    " db_config['pwd'],\n",
    " db_config['host'],\n",
    " db_config['port'],\n",
    " db_config['db'])\n",
    "# сохраняем коннектор\n",
    "engine = create_engine(connection_string, connect_args={'sslmode':'require'}) "
   ]
  },
  {
   "cell_type": "markdown",
   "metadata": {},
   "source": [
    "Выведим первые пять строк каждой таблицы:"
   ]
  },
  {
   "cell_type": "code",
   "execution_count": 2,
   "metadata": {},
   "outputs": [
    {
     "data": {
      "text/html": [
       "<div>\n",
       "<style scoped>\n",
       "    .dataframe tbody tr th:only-of-type {\n",
       "        vertical-align: middle;\n",
       "    }\n",
       "\n",
       "    .dataframe tbody tr th {\n",
       "        vertical-align: top;\n",
       "    }\n",
       "\n",
       "    .dataframe thead th {\n",
       "        text-align: right;\n",
       "    }\n",
       "</style>\n",
       "<table border=\"1\" class=\"dataframe\">\n",
       "  <thead>\n",
       "    <tr style=\"text-align: right;\">\n",
       "      <th></th>\n",
       "      <th>book_id</th>\n",
       "      <th>author_id</th>\n",
       "      <th>title</th>\n",
       "      <th>num_pages</th>\n",
       "      <th>publication_date</th>\n",
       "      <th>publisher_id</th>\n",
       "    </tr>\n",
       "  </thead>\n",
       "  <tbody>\n",
       "    <tr>\n",
       "      <th>0</th>\n",
       "      <td>1</td>\n",
       "      <td>546</td>\n",
       "      <td>'Salem's Lot</td>\n",
       "      <td>594</td>\n",
       "      <td>2005-11-01</td>\n",
       "      <td>93</td>\n",
       "    </tr>\n",
       "    <tr>\n",
       "      <th>1</th>\n",
       "      <td>2</td>\n",
       "      <td>465</td>\n",
       "      <td>1 000 Places to See Before You Die</td>\n",
       "      <td>992</td>\n",
       "      <td>2003-05-22</td>\n",
       "      <td>336</td>\n",
       "    </tr>\n",
       "    <tr>\n",
       "      <th>2</th>\n",
       "      <td>3</td>\n",
       "      <td>407</td>\n",
       "      <td>13 Little Blue Envelopes (Little Blue Envelope...</td>\n",
       "      <td>322</td>\n",
       "      <td>2010-12-21</td>\n",
       "      <td>135</td>\n",
       "    </tr>\n",
       "    <tr>\n",
       "      <th>3</th>\n",
       "      <td>4</td>\n",
       "      <td>82</td>\n",
       "      <td>1491: New Revelations of the Americas Before C...</td>\n",
       "      <td>541</td>\n",
       "      <td>2006-10-10</td>\n",
       "      <td>309</td>\n",
       "    </tr>\n",
       "    <tr>\n",
       "      <th>4</th>\n",
       "      <td>5</td>\n",
       "      <td>125</td>\n",
       "      <td>1776</td>\n",
       "      <td>386</td>\n",
       "      <td>2006-07-04</td>\n",
       "      <td>268</td>\n",
       "    </tr>\n",
       "  </tbody>\n",
       "</table>\n",
       "</div>"
      ],
      "text/plain": [
       "   book_id  author_id                                              title  \\\n",
       "0        1        546                                       'Salem's Lot   \n",
       "1        2        465                 1 000 Places to See Before You Die   \n",
       "2        3        407  13 Little Blue Envelopes (Little Blue Envelope...   \n",
       "3        4         82  1491: New Revelations of the Americas Before C...   \n",
       "4        5        125                                               1776   \n",
       "\n",
       "   num_pages publication_date  publisher_id  \n",
       "0        594       2005-11-01            93  \n",
       "1        992       2003-05-22           336  \n",
       "2        322       2010-12-21           135  \n",
       "3        541       2006-10-10           309  \n",
       "4        386       2006-07-04           268  "
      ]
     },
     "execution_count": 2,
     "metadata": {},
     "output_type": "execute_result"
    }
   ],
   "source": [
    "books = '''\n",
    "SELECT  *\n",
    "FROM books\n",
    "LIMIT 5\n",
    "'''\n",
    "pd.io.sql.read_sql(books, con = engine) "
   ]
  },
  {
   "cell_type": "code",
   "execution_count": 3,
   "metadata": {},
   "outputs": [
    {
     "data": {
      "text/html": [
       "<div>\n",
       "<style scoped>\n",
       "    .dataframe tbody tr th:only-of-type {\n",
       "        vertical-align: middle;\n",
       "    }\n",
       "\n",
       "    .dataframe tbody tr th {\n",
       "        vertical-align: top;\n",
       "    }\n",
       "\n",
       "    .dataframe thead th {\n",
       "        text-align: right;\n",
       "    }\n",
       "</style>\n",
       "<table border=\"1\" class=\"dataframe\">\n",
       "  <thead>\n",
       "    <tr style=\"text-align: right;\">\n",
       "      <th></th>\n",
       "      <th>author_id</th>\n",
       "      <th>author</th>\n",
       "    </tr>\n",
       "  </thead>\n",
       "  <tbody>\n",
       "    <tr>\n",
       "      <th>0</th>\n",
       "      <td>1</td>\n",
       "      <td>A.S. Byatt</td>\n",
       "    </tr>\n",
       "    <tr>\n",
       "      <th>1</th>\n",
       "      <td>2</td>\n",
       "      <td>Aesop/Laura Harris/Laura Gibbs</td>\n",
       "    </tr>\n",
       "    <tr>\n",
       "      <th>2</th>\n",
       "      <td>3</td>\n",
       "      <td>Agatha Christie</td>\n",
       "    </tr>\n",
       "    <tr>\n",
       "      <th>3</th>\n",
       "      <td>4</td>\n",
       "      <td>Alan Brennert</td>\n",
       "    </tr>\n",
       "    <tr>\n",
       "      <th>4</th>\n",
       "      <td>5</td>\n",
       "      <td>Alan Moore/David   Lloyd</td>\n",
       "    </tr>\n",
       "  </tbody>\n",
       "</table>\n",
       "</div>"
      ],
      "text/plain": [
       "   author_id                          author\n",
       "0          1                      A.S. Byatt\n",
       "1          2  Aesop/Laura Harris/Laura Gibbs\n",
       "2          3                 Agatha Christie\n",
       "3          4                   Alan Brennert\n",
       "4          5        Alan Moore/David   Lloyd"
      ]
     },
     "execution_count": 3,
     "metadata": {},
     "output_type": "execute_result"
    }
   ],
   "source": [
    "authors = '''\n",
    "\n",
    "SELECT *\n",
    "FROM authors\n",
    "LIMIT 5\n",
    "\n",
    "'''\n",
    "pd.io.sql.read_sql(authors, con = engine) "
   ]
  },
  {
   "cell_type": "code",
   "execution_count": 4,
   "metadata": {},
   "outputs": [
    {
     "data": {
      "text/html": [
       "<div>\n",
       "<style scoped>\n",
       "    .dataframe tbody tr th:only-of-type {\n",
       "        vertical-align: middle;\n",
       "    }\n",
       "\n",
       "    .dataframe tbody tr th {\n",
       "        vertical-align: top;\n",
       "    }\n",
       "\n",
       "    .dataframe thead th {\n",
       "        text-align: right;\n",
       "    }\n",
       "</style>\n",
       "<table border=\"1\" class=\"dataframe\">\n",
       "  <thead>\n",
       "    <tr style=\"text-align: right;\">\n",
       "      <th></th>\n",
       "      <th>publisher_id</th>\n",
       "      <th>publisher</th>\n",
       "    </tr>\n",
       "  </thead>\n",
       "  <tbody>\n",
       "    <tr>\n",
       "      <th>0</th>\n",
       "      <td>1</td>\n",
       "      <td>Ace</td>\n",
       "    </tr>\n",
       "    <tr>\n",
       "      <th>1</th>\n",
       "      <td>2</td>\n",
       "      <td>Ace Book</td>\n",
       "    </tr>\n",
       "    <tr>\n",
       "      <th>2</th>\n",
       "      <td>3</td>\n",
       "      <td>Ace Books</td>\n",
       "    </tr>\n",
       "    <tr>\n",
       "      <th>3</th>\n",
       "      <td>4</td>\n",
       "      <td>Ace Hardcover</td>\n",
       "    </tr>\n",
       "    <tr>\n",
       "      <th>4</th>\n",
       "      <td>5</td>\n",
       "      <td>Addison Wesley Publishing Company</td>\n",
       "    </tr>\n",
       "  </tbody>\n",
       "</table>\n",
       "</div>"
      ],
      "text/plain": [
       "   publisher_id                          publisher\n",
       "0             1                                Ace\n",
       "1             2                           Ace Book\n",
       "2             3                          Ace Books\n",
       "3             4                      Ace Hardcover\n",
       "4             5  Addison Wesley Publishing Company"
      ]
     },
     "execution_count": 4,
     "metadata": {},
     "output_type": "execute_result"
    }
   ],
   "source": [
    "publishers = '''\n",
    "\n",
    "SELECT *\n",
    "FROM publishers\n",
    "LIMIT 5\n",
    "\n",
    "'''\n",
    "pd.io.sql.read_sql(publishers, con = engine) "
   ]
  },
  {
   "cell_type": "code",
   "execution_count": 5,
   "metadata": {},
   "outputs": [
    {
     "data": {
      "text/html": [
       "<div>\n",
       "<style scoped>\n",
       "    .dataframe tbody tr th:only-of-type {\n",
       "        vertical-align: middle;\n",
       "    }\n",
       "\n",
       "    .dataframe tbody tr th {\n",
       "        vertical-align: top;\n",
       "    }\n",
       "\n",
       "    .dataframe thead th {\n",
       "        text-align: right;\n",
       "    }\n",
       "</style>\n",
       "<table border=\"1\" class=\"dataframe\">\n",
       "  <thead>\n",
       "    <tr style=\"text-align: right;\">\n",
       "      <th></th>\n",
       "      <th>rating_id</th>\n",
       "      <th>book_id</th>\n",
       "      <th>username</th>\n",
       "      <th>rating</th>\n",
       "    </tr>\n",
       "  </thead>\n",
       "  <tbody>\n",
       "    <tr>\n",
       "      <th>0</th>\n",
       "      <td>1</td>\n",
       "      <td>1</td>\n",
       "      <td>ryanfranco</td>\n",
       "      <td>4</td>\n",
       "    </tr>\n",
       "    <tr>\n",
       "      <th>1</th>\n",
       "      <td>2</td>\n",
       "      <td>1</td>\n",
       "      <td>grantpatricia</td>\n",
       "      <td>2</td>\n",
       "    </tr>\n",
       "    <tr>\n",
       "      <th>2</th>\n",
       "      <td>3</td>\n",
       "      <td>1</td>\n",
       "      <td>brandtandrea</td>\n",
       "      <td>5</td>\n",
       "    </tr>\n",
       "    <tr>\n",
       "      <th>3</th>\n",
       "      <td>4</td>\n",
       "      <td>2</td>\n",
       "      <td>lorichen</td>\n",
       "      <td>3</td>\n",
       "    </tr>\n",
       "    <tr>\n",
       "      <th>4</th>\n",
       "      <td>5</td>\n",
       "      <td>2</td>\n",
       "      <td>mariokeller</td>\n",
       "      <td>2</td>\n",
       "    </tr>\n",
       "  </tbody>\n",
       "</table>\n",
       "</div>"
      ],
      "text/plain": [
       "   rating_id  book_id       username  rating\n",
       "0          1        1     ryanfranco       4\n",
       "1          2        1  grantpatricia       2\n",
       "2          3        1   brandtandrea       5\n",
       "3          4        2       lorichen       3\n",
       "4          5        2    mariokeller       2"
      ]
     },
     "execution_count": 5,
     "metadata": {},
     "output_type": "execute_result"
    }
   ],
   "source": [
    "ratings = '''\n",
    "\n",
    "SELECT *\n",
    "FROM ratings\n",
    "LIMIT 5\n",
    "\n",
    "'''\n",
    "pd.io.sql.read_sql(ratings, con = engine) "
   ]
  },
  {
   "cell_type": "code",
   "execution_count": 6,
   "metadata": {},
   "outputs": [
    {
     "data": {
      "text/html": [
       "<div>\n",
       "<style scoped>\n",
       "    .dataframe tbody tr th:only-of-type {\n",
       "        vertical-align: middle;\n",
       "    }\n",
       "\n",
       "    .dataframe tbody tr th {\n",
       "        vertical-align: top;\n",
       "    }\n",
       "\n",
       "    .dataframe thead th {\n",
       "        text-align: right;\n",
       "    }\n",
       "</style>\n",
       "<table border=\"1\" class=\"dataframe\">\n",
       "  <thead>\n",
       "    <tr style=\"text-align: right;\">\n",
       "      <th></th>\n",
       "      <th>review_id</th>\n",
       "      <th>book_id</th>\n",
       "      <th>username</th>\n",
       "      <th>text</th>\n",
       "    </tr>\n",
       "  </thead>\n",
       "  <tbody>\n",
       "    <tr>\n",
       "      <th>0</th>\n",
       "      <td>1</td>\n",
       "      <td>1</td>\n",
       "      <td>brandtandrea</td>\n",
       "      <td>Mention society tell send professor analysis. ...</td>\n",
       "    </tr>\n",
       "    <tr>\n",
       "      <th>1</th>\n",
       "      <td>2</td>\n",
       "      <td>1</td>\n",
       "      <td>ryanfranco</td>\n",
       "      <td>Foot glass pretty audience hit themselves. Amo...</td>\n",
       "    </tr>\n",
       "    <tr>\n",
       "      <th>2</th>\n",
       "      <td>3</td>\n",
       "      <td>2</td>\n",
       "      <td>lorichen</td>\n",
       "      <td>Listen treat keep worry. Miss husband tax but ...</td>\n",
       "    </tr>\n",
       "    <tr>\n",
       "      <th>3</th>\n",
       "      <td>4</td>\n",
       "      <td>3</td>\n",
       "      <td>johnsonamanda</td>\n",
       "      <td>Finally month interesting blue could nature cu...</td>\n",
       "    </tr>\n",
       "    <tr>\n",
       "      <th>4</th>\n",
       "      <td>5</td>\n",
       "      <td>3</td>\n",
       "      <td>scotttamara</td>\n",
       "      <td>Nation purpose heavy give wait song will. List...</td>\n",
       "    </tr>\n",
       "  </tbody>\n",
       "</table>\n",
       "</div>"
      ],
      "text/plain": [
       "   review_id  book_id       username  \\\n",
       "0          1        1   brandtandrea   \n",
       "1          2        1     ryanfranco   \n",
       "2          3        2       lorichen   \n",
       "3          4        3  johnsonamanda   \n",
       "4          5        3    scotttamara   \n",
       "\n",
       "                                                text  \n",
       "0  Mention society tell send professor analysis. ...  \n",
       "1  Foot glass pretty audience hit themselves. Amo...  \n",
       "2  Listen treat keep worry. Miss husband tax but ...  \n",
       "3  Finally month interesting blue could nature cu...  \n",
       "4  Nation purpose heavy give wait song will. List...  "
      ]
     },
     "execution_count": 6,
     "metadata": {},
     "output_type": "execute_result"
    }
   ],
   "source": [
    "reviews = '''\n",
    "\n",
    "SELECT *\n",
    "FROM reviews\n",
    "LIMIT 5\n",
    "\n",
    "'''\n",
    "pd.io.sql.read_sql(reviews, con = engine) "
   ]
  },
  {
   "cell_type": "markdown",
   "metadata": {},
   "source": [
    "# Шаг 2. Исследовательский анализ"
   ]
  },
  {
   "cell_type": "markdown",
   "metadata": {},
   "source": [
    "Рассчет количества книг, выпущенных после 1 января 2000 года:"
   ]
  },
  {
   "cell_type": "code",
   "execution_count": 7,
   "metadata": {},
   "outputs": [
    {
     "data": {
      "text/html": [
       "<div>\n",
       "<style scoped>\n",
       "    .dataframe tbody tr th:only-of-type {\n",
       "        vertical-align: middle;\n",
       "    }\n",
       "\n",
       "    .dataframe tbody tr th {\n",
       "        vertical-align: top;\n",
       "    }\n",
       "\n",
       "    .dataframe thead th {\n",
       "        text-align: right;\n",
       "    }\n",
       "</style>\n",
       "<table border=\"1\" class=\"dataframe\">\n",
       "  <thead>\n",
       "    <tr style=\"text-align: right;\">\n",
       "      <th></th>\n",
       "      <th>amount_of_books</th>\n",
       "    </tr>\n",
       "  </thead>\n",
       "  <tbody>\n",
       "    <tr>\n",
       "      <th>0</th>\n",
       "      <td>819</td>\n",
       "    </tr>\n",
       "  </tbody>\n",
       "</table>\n",
       "</div>"
      ],
      "text/plain": [
       "   amount_of_books\n",
       "0              819"
      ]
     },
     "execution_count": 7,
     "metadata": {},
     "output_type": "execute_result"
    }
   ],
   "source": [
    "books_count = '''\n",
    "                SELECT \n",
    "                COUNT(book_id) AS amount_of_books\n",
    "                FROM\n",
    "                    books\n",
    "                WHERE publication_date >= '2000-01-02';\n",
    "             ''' \n",
    "pd.io.sql.read_sql(books_count, con = engine) "
   ]
  },
  {
   "cell_type": "markdown",
   "metadata": {},
   "source": [
    "Вывод:\n",
    "- После 1 января 2000 года было выпущено 819 книг."
   ]
  },
  {
   "cell_type": "markdown",
   "metadata": {},
   "source": [
    "Рассчет количества обзоров и средней оценки для каждой книги:"
   ]
  },
  {
   "cell_type": "code",
   "execution_count": 8,
   "metadata": {},
   "outputs": [
    {
     "data": {
      "text/html": [
       "<div>\n",
       "<style scoped>\n",
       "    .dataframe tbody tr th:only-of-type {\n",
       "        vertical-align: middle;\n",
       "    }\n",
       "\n",
       "    .dataframe tbody tr th {\n",
       "        vertical-align: top;\n",
       "    }\n",
       "\n",
       "    .dataframe thead th {\n",
       "        text-align: right;\n",
       "    }\n",
       "</style>\n",
       "<table border=\"1\" class=\"dataframe\">\n",
       "  <thead>\n",
       "    <tr style=\"text-align: right;\">\n",
       "      <th></th>\n",
       "      <th>book_id</th>\n",
       "      <th>title</th>\n",
       "      <th>amount_of_reviews</th>\n",
       "      <th>avg_rating</th>\n",
       "    </tr>\n",
       "  </thead>\n",
       "  <tbody>\n",
       "    <tr>\n",
       "      <th>0</th>\n",
       "      <td>948</td>\n",
       "      <td>Twilight (Twilight  #1)</td>\n",
       "      <td>7</td>\n",
       "      <td>3.663</td>\n",
       "    </tr>\n",
       "    <tr>\n",
       "      <th>1</th>\n",
       "      <td>963</td>\n",
       "      <td>Water for Elephants</td>\n",
       "      <td>6</td>\n",
       "      <td>3.977</td>\n",
       "    </tr>\n",
       "    <tr>\n",
       "      <th>2</th>\n",
       "      <td>734</td>\n",
       "      <td>The Glass Castle</td>\n",
       "      <td>6</td>\n",
       "      <td>4.207</td>\n",
       "    </tr>\n",
       "    <tr>\n",
       "      <th>3</th>\n",
       "      <td>302</td>\n",
       "      <td>Harry Potter and the Prisoner of Azkaban (Harr...</td>\n",
       "      <td>6</td>\n",
       "      <td>4.415</td>\n",
       "    </tr>\n",
       "    <tr>\n",
       "      <th>4</th>\n",
       "      <td>695</td>\n",
       "      <td>The Curious Incident of the Dog in the Night-Time</td>\n",
       "      <td>6</td>\n",
       "      <td>4.081</td>\n",
       "    </tr>\n",
       "    <tr>\n",
       "      <th>...</th>\n",
       "      <td>...</td>\n",
       "      <td>...</td>\n",
       "      <td>...</td>\n",
       "      <td>...</td>\n",
       "    </tr>\n",
       "    <tr>\n",
       "      <th>995</th>\n",
       "      <td>83</td>\n",
       "      <td>Anne Rice's The Vampire Lestat: A Graphic Novel</td>\n",
       "      <td>0</td>\n",
       "      <td>3.667</td>\n",
       "    </tr>\n",
       "    <tr>\n",
       "      <th>996</th>\n",
       "      <td>808</td>\n",
       "      <td>The Natural Way to Draw</td>\n",
       "      <td>0</td>\n",
       "      <td>3.000</td>\n",
       "    </tr>\n",
       "    <tr>\n",
       "      <th>997</th>\n",
       "      <td>672</td>\n",
       "      <td>The Cat in the Hat and Other Dr. Seuss Favorites</td>\n",
       "      <td>0</td>\n",
       "      <td>5.000</td>\n",
       "    </tr>\n",
       "    <tr>\n",
       "      <th>998</th>\n",
       "      <td>221</td>\n",
       "      <td>Essential Tales and Poems</td>\n",
       "      <td>0</td>\n",
       "      <td>4.000</td>\n",
       "    </tr>\n",
       "    <tr>\n",
       "      <th>999</th>\n",
       "      <td>191</td>\n",
       "      <td>Disney's Beauty and the Beast (A Little Golden...</td>\n",
       "      <td>0</td>\n",
       "      <td>4.000</td>\n",
       "    </tr>\n",
       "  </tbody>\n",
       "</table>\n",
       "<p>1000 rows × 4 columns</p>\n",
       "</div>"
      ],
      "text/plain": [
       "     book_id                                              title  \\\n",
       "0        948                            Twilight (Twilight  #1)   \n",
       "1        963                                Water for Elephants   \n",
       "2        734                                   The Glass Castle   \n",
       "3        302  Harry Potter and the Prisoner of Azkaban (Harr...   \n",
       "4        695  The Curious Incident of the Dog in the Night-Time   \n",
       "..       ...                                                ...   \n",
       "995       83    Anne Rice's The Vampire Lestat: A Graphic Novel   \n",
       "996      808                            The Natural Way to Draw   \n",
       "997      672   The Cat in the Hat and Other Dr. Seuss Favorites   \n",
       "998      221                          Essential Tales and Poems   \n",
       "999      191  Disney's Beauty and the Beast (A Little Golden...   \n",
       "\n",
       "     amount_of_reviews  avg_rating  \n",
       "0                    7       3.663  \n",
       "1                    6       3.977  \n",
       "2                    6       4.207  \n",
       "3                    6       4.415  \n",
       "4                    6       4.081  \n",
       "..                 ...         ...  \n",
       "995                  0       3.667  \n",
       "996                  0       3.000  \n",
       "997                  0       5.000  \n",
       "998                  0       4.000  \n",
       "999                  0       4.000  \n",
       "\n",
       "[1000 rows x 4 columns]"
      ]
     },
     "execution_count": 8,
     "metadata": {},
     "output_type": "execute_result"
    }
   ],
   "source": [
    "reviews_rat = '''\n",
    "\n",
    "SELECT b.book_id, \n",
    "       b.title, \n",
    "       COUNT(DISTINCT rv.review_id) AS amount_of_reviews, \n",
    "       ROUND(AVG(r.rating),3) AS avg_rating\n",
    "FROM books AS b\n",
    "\n",
    "LEFT JOIN reviews AS rv\n",
    "ON b.book_id = rv.book_id\n",
    "\n",
    "LEFT JOIN  ratings AS r\n",
    "ON b.book_id = r.book_id\n",
    "\n",
    "GROUP BY b.book_id, b.title\n",
    "ORDER BY amount_of_reviews DESC\n",
    "\n",
    "'''\n",
    "\n",
    "pd.io.sql.read_sql(reviews_rat, con = engine)"
   ]
  },
  {
   "cell_type": "markdown",
   "metadata": {},
   "source": [
    "Количество обзоров маленькое. Самая популярная книга по обзорам Сумерки. Если рассматривать рейтинг самой популярной книги, то всего 3.6. На некоторые книги вообще нет обзоров."
   ]
  },
  {
   "cell_type": "markdown",
   "metadata": {},
   "source": [
    "Определение издательства, которое выпустило наибольшее число книг толще 50 страниц"
   ]
  },
  {
   "cell_type": "code",
   "execution_count": 9,
   "metadata": {},
   "outputs": [
    {
     "data": {
      "text/html": [
       "<div>\n",
       "<style scoped>\n",
       "    .dataframe tbody tr th:only-of-type {\n",
       "        vertical-align: middle;\n",
       "    }\n",
       "\n",
       "    .dataframe tbody tr th {\n",
       "        vertical-align: top;\n",
       "    }\n",
       "\n",
       "    .dataframe thead th {\n",
       "        text-align: right;\n",
       "    }\n",
       "</style>\n",
       "<table border=\"1\" class=\"dataframe\">\n",
       "  <thead>\n",
       "    <tr style=\"text-align: right;\">\n",
       "      <th></th>\n",
       "      <th>publisher</th>\n",
       "      <th>num_public</th>\n",
       "    </tr>\n",
       "  </thead>\n",
       "  <tbody>\n",
       "    <tr>\n",
       "      <th>0</th>\n",
       "      <td>Penguin Books</td>\n",
       "      <td>42</td>\n",
       "    </tr>\n",
       "    <tr>\n",
       "      <th>1</th>\n",
       "      <td>Vintage</td>\n",
       "      <td>31</td>\n",
       "    </tr>\n",
       "    <tr>\n",
       "      <th>2</th>\n",
       "      <td>Grand Central Publishing</td>\n",
       "      <td>25</td>\n",
       "    </tr>\n",
       "    <tr>\n",
       "      <th>3</th>\n",
       "      <td>Penguin Classics</td>\n",
       "      <td>24</td>\n",
       "    </tr>\n",
       "    <tr>\n",
       "      <th>4</th>\n",
       "      <td>Bantam</td>\n",
       "      <td>19</td>\n",
       "    </tr>\n",
       "  </tbody>\n",
       "</table>\n",
       "</div>"
      ],
      "text/plain": [
       "                  publisher  num_public\n",
       "0             Penguin Books          42\n",
       "1                   Vintage          31\n",
       "2  Grand Central Publishing          25\n",
       "3          Penguin Classics          24\n",
       "4                    Bantam          19"
      ]
     },
     "execution_count": 9,
     "metadata": {},
     "output_type": "execute_result"
    }
   ],
   "source": [
    "book_publisher = '''\n",
    "SELECT\n",
    "     publishers.publisher AS publisher,\n",
    "     COUNT(books.book_id) AS num_public\n",
    "FROM\n",
    "    publishers\n",
    "INNER JOIN books ON books.publisher_id = publishers.publisher_id\n",
    "WHERE\n",
    "    books.num_pages > 50\n",
    "GROUP BY\n",
    "    publisher\n",
    "ORDER BY \n",
    "    num_public DESC\n",
    "LIMIT 5\n",
    "'''\n",
    "pd.io.sql.read_sql(book_publisher, con = engine) "
   ]
  },
  {
   "cell_type": "markdown",
   "metadata": {},
   "source": [
    "Топ-3 издательства по количеству книг:\n",
    "- Penguin Books;\n",
    "- Vintage;\n",
    "- Grand Central Publishing.\n",
    "\n",
    "Самое продуктивное по выпуску книг издательство Penguin Books выпустило 42 книги. "
   ]
  },
  {
   "cell_type": "markdown",
   "metadata": {},
   "source": [
    "Определиние автора с самой высокой средней оценкой книг"
   ]
  },
  {
   "cell_type": "code",
   "execution_count": 10,
   "metadata": {},
   "outputs": [
    {
     "data": {
      "text/html": [
       "<div>\n",
       "<style scoped>\n",
       "    .dataframe tbody tr th:only-of-type {\n",
       "        vertical-align: middle;\n",
       "    }\n",
       "\n",
       "    .dataframe tbody tr th {\n",
       "        vertical-align: top;\n",
       "    }\n",
       "\n",
       "    .dataframe thead th {\n",
       "        text-align: right;\n",
       "    }\n",
       "</style>\n",
       "<table border=\"1\" class=\"dataframe\">\n",
       "  <thead>\n",
       "    <tr style=\"text-align: right;\">\n",
       "      <th></th>\n",
       "      <th>author</th>\n",
       "      <th>avg_rating</th>\n",
       "    </tr>\n",
       "  </thead>\n",
       "  <tbody>\n",
       "    <tr>\n",
       "      <th>0</th>\n",
       "      <td>J.K. Rowling/Mary GrandPré</td>\n",
       "      <td>4.287097</td>\n",
       "    </tr>\n",
       "    <tr>\n",
       "      <th>1</th>\n",
       "      <td>Markus Zusak/Cao Xuân Việt Khương</td>\n",
       "      <td>4.264151</td>\n",
       "    </tr>\n",
       "    <tr>\n",
       "      <th>2</th>\n",
       "      <td>J.R.R. Tolkien</td>\n",
       "      <td>4.246914</td>\n",
       "    </tr>\n",
       "    <tr>\n",
       "      <th>3</th>\n",
       "      <td>Louisa May Alcott</td>\n",
       "      <td>4.192308</td>\n",
       "    </tr>\n",
       "    <tr>\n",
       "      <th>4</th>\n",
       "      <td>Rick Riordan</td>\n",
       "      <td>4.080645</td>\n",
       "    </tr>\n",
       "  </tbody>\n",
       "</table>\n",
       "</div>"
      ],
      "text/plain": [
       "                              author  avg_rating\n",
       "0         J.K. Rowling/Mary GrandPré    4.287097\n",
       "1  Markus Zusak/Cao Xuân Việt Khương    4.264151\n",
       "2                     J.R.R. Tolkien    4.246914\n",
       "3                  Louisa May Alcott    4.192308\n",
       "4                       Rick Riordan    4.080645"
      ]
     },
     "execution_count": 10,
     "metadata": {},
     "output_type": "execute_result"
    }
   ],
   "source": [
    "author_rat = '''\n",
    "\n",
    "\n",
    "SELECT a.author,\n",
    "       AVG(r.rating) avg_rating\n",
    "FROM authors AS a\n",
    "JOIN books AS b ON a.author_id=b.author_id\n",
    "JOIN ratings AS r ON b.book_id=r.book_id\n",
    "WHERE b.book_id IN\n",
    "    (SELECT b.book_id\n",
    "     FROM books AS b\n",
    "     JOIN ratings AS r ON b.book_id=r.book_id\n",
    "     GROUP BY b.book_id\n",
    "     HAVING count(r.rating_id)>=50)\n",
    "GROUP BY a.author\n",
    "ORDER BY avg_rating desc\n",
    "\n",
    "LIMIT 5\n",
    "\n",
    "'''\n",
    "pd.io.sql.read_sql(author_rat, con = engine) "
   ]
  },
  {
   "cell_type": "markdown",
   "metadata": {},
   "source": [
    "Топ-3 автора по среднему рейтингу:\n",
    "- Джоан Роулинг;\n",
    "- Маркус Зусак;\n",
    "- Джон Толкиен.\n",
    "\n",
    "Автор с самым высоким средним рейтингом Роулинг. Не удивительно, кто не любит Гарри Поттера. В общей сложности тираж серии книг про Гарри Поттера по всему миру превышает 500 млн экземпляров, это одна из самых продаваемых книг в истории, что еще раз доказывает всеобщую любовь к данному писателю."
   ]
  },
  {
   "cell_type": "markdown",
   "metadata": {},
   "source": [
    "Рассчет среднего количества обзоров от пользователей, которые поставили больше 50 оценок."
   ]
  },
  {
   "cell_type": "code",
   "execution_count": 11,
   "metadata": {},
   "outputs": [
    {
     "data": {
      "text/html": [
       "<div>\n",
       "<style scoped>\n",
       "    .dataframe tbody tr th:only-of-type {\n",
       "        vertical-align: middle;\n",
       "    }\n",
       "\n",
       "    .dataframe tbody tr th {\n",
       "        vertical-align: top;\n",
       "    }\n",
       "\n",
       "    .dataframe thead th {\n",
       "        text-align: right;\n",
       "    }\n",
       "</style>\n",
       "<table border=\"1\" class=\"dataframe\">\n",
       "  <thead>\n",
       "    <tr style=\"text-align: right;\">\n",
       "      <th></th>\n",
       "      <th>avg</th>\n",
       "    </tr>\n",
       "  </thead>\n",
       "  <tbody>\n",
       "    <tr>\n",
       "      <th>0</th>\n",
       "      <td>24.33</td>\n",
       "    </tr>\n",
       "  </tbody>\n",
       "</table>\n",
       "</div>"
      ],
      "text/plain": [
       "     avg\n",
       "0  24.33"
      ]
     },
     "execution_count": 11,
     "metadata": {},
     "output_type": "execute_result"
    }
   ],
   "source": [
    "avg_views = '''\n",
    "\n",
    "WITH A AS\n",
    "  (SELECT username,\n",
    "          count(review_id)\n",
    "   FROM reviews\n",
    "   WHERE username in\n",
    "       (SELECT username\n",
    "        FROM ratings\n",
    "        GROUP BY username\n",
    "        HAVING count(rating_id)>50)\n",
    "   GROUP BY username)\n",
    "SELECT round (SUM (COUNT) / COUNT(COUNT), 2) AS AVG\n",
    "FROM A\n",
    "\n",
    "'''\n",
    "\n",
    "pd.io.sql.read_sql(avg_views, con = engine)\n"
   ]
  },
  {
   "cell_type": "markdown",
   "metadata": {},
   "source": [
    "Среднее количество обзоров от активных пользователей 24 обзора."
   ]
  },
  {
   "cell_type": "markdown",
   "metadata": {},
   "source": [
    "# Шаг 3. Вывод по исследованию и рекомендации."
   ]
  },
  {
   "cell_type": "markdown",
   "metadata": {},
   "source": [
    "Выводы:\n",
    "- Предоставлена информация о 993 книгах.\n",
    "- Большая часть книг выпущена за последние 20 лет.\n",
    "- Самые высокие показатели количества обзоров 7-6. Самая популярная книга по обзорам Сумерки.\n",
    "- Мксимальное количество книг выпустило издательство Penguin Books(42 книги). Это около 4,2% от всех книг.\n",
    "- Самый высокий рейтинг у писателия Джоан Роулинг.\n",
    "- Среднее количество обзоров от активных пользователей 24.\n",
    "\n",
    "Рекомендации:\n",
    "\n",
    "Количество книг в приложении не такое уж большое, стоит это учесть и увеличить ассортимент.  Также очевидно, что активность пользователей в обзорах низкая, а ведь часто потенциальные покупатели, любят почитать отзывы перед тем как совершить покупку, возможно стоит улучшить интерфейс приложения, сделать более яркую и привлекательную часть приложения, где пользователь может поставить оценку и сформировать обзор.\n",
    "Также можно добавить в ассортимент подкасты и аудиокниги, так как у этой нишы довольно широкая аудитория, которая увеличивается с каждым годом."
   ]
  }
 ],
 "metadata": {
  "ExecuteTimeLog": [
   {
    "duration": 5960,
    "start_time": "2023-03-30T15:06:15.639Z"
   },
   {
    "duration": 87,
    "start_time": "2023-03-30T15:06:37.024Z"
   },
   {
    "duration": 3,
    "start_time": "2023-03-30T15:08:28.668Z"
   },
   {
    "duration": 144,
    "start_time": "2023-03-30T15:08:51.931Z"
   },
   {
    "duration": 26,
    "start_time": "2023-03-30T15:09:09.989Z"
   },
   {
    "duration": 28,
    "start_time": "2023-03-30T15:09:24.459Z"
   },
   {
    "duration": 14,
    "start_time": "2023-03-30T15:09:48.638Z"
   },
   {
    "duration": 19,
    "start_time": "2023-03-30T15:10:19.370Z"
   },
   {
    "duration": 34,
    "start_time": "2023-03-30T15:10:34.478Z"
   },
   {
    "duration": 3,
    "start_time": "2023-03-30T15:12:16.955Z"
   },
   {
    "duration": 2,
    "start_time": "2023-03-30T15:12:37.945Z"
   },
   {
    "duration": 3,
    "start_time": "2023-03-30T15:13:13.337Z"
   },
   {
    "duration": 23,
    "start_time": "2023-03-30T15:13:32.192Z"
   },
   {
    "duration": 12,
    "start_time": "2023-03-30T15:14:14.584Z"
   },
   {
    "duration": 9627,
    "start_time": "2023-03-30T17:26:41.461Z"
   },
   {
    "duration": 3,
    "start_time": "2023-03-30T17:35:27.856Z"
   },
   {
    "duration": 282,
    "start_time": "2023-03-30T17:35:45.016Z"
   },
   {
    "duration": 67,
    "start_time": "2023-03-30T17:36:08.035Z"
   },
   {
    "duration": 103,
    "start_time": "2023-03-30T17:36:21.894Z"
   },
   {
    "duration": 72,
    "start_time": "2023-03-30T17:36:41.344Z"
   },
   {
    "duration": 72,
    "start_time": "2023-03-30T17:37:46.899Z"
   },
   {
    "duration": 71,
    "start_time": "2023-03-30T17:37:57.113Z"
   },
   {
    "duration": 71,
    "start_time": "2023-03-30T17:37:58.347Z"
   },
   {
    "duration": 75,
    "start_time": "2023-03-30T17:39:24.653Z"
   },
   {
    "duration": 72,
    "start_time": "2023-03-30T17:40:19.979Z"
   },
   {
    "duration": 71,
    "start_time": "2023-03-30T17:41:09.435Z"
   },
   {
    "duration": 72,
    "start_time": "2023-03-30T17:41:57.964Z"
   },
   {
    "duration": 73,
    "start_time": "2023-03-30T17:42:11.540Z"
   },
   {
    "duration": 72,
    "start_time": "2023-03-30T17:42:12.351Z"
   },
   {
    "duration": 71,
    "start_time": "2023-03-30T17:42:12.941Z"
   },
   {
    "duration": 71,
    "start_time": "2023-03-30T17:42:13.407Z"
   },
   {
    "duration": 71,
    "start_time": "2023-03-30T17:42:14.050Z"
   },
   {
    "duration": 83,
    "start_time": "2023-03-30T17:44:04.362Z"
   },
   {
    "duration": 71,
    "start_time": "2023-03-30T17:44:22.136Z"
   },
   {
    "duration": 71,
    "start_time": "2023-03-30T17:44:39.492Z"
   },
   {
    "duration": 70,
    "start_time": "2023-03-30T17:44:59.880Z"
   },
   {
    "duration": 72,
    "start_time": "2023-03-30T17:45:25.355Z"
   },
   {
    "duration": 72,
    "start_time": "2023-03-30T17:50:34.930Z"
   },
   {
    "duration": 64,
    "start_time": "2023-03-30T17:50:44.795Z"
   },
   {
    "duration": 70,
    "start_time": "2023-03-30T17:51:12.070Z"
   },
   {
    "duration": 71,
    "start_time": "2023-03-30T17:52:53.882Z"
   },
   {
    "duration": 87,
    "start_time": "2023-03-30T17:59:52.197Z"
   },
   {
    "duration": 85,
    "start_time": "2023-03-30T18:00:28.535Z"
   },
   {
    "duration": 84,
    "start_time": "2023-03-30T18:01:56.675Z"
   },
   {
    "duration": 110,
    "start_time": "2023-03-30T18:02:27.472Z"
   },
   {
    "duration": 89,
    "start_time": "2023-03-30T18:03:26.060Z"
   },
   {
    "duration": 90,
    "start_time": "2023-03-30T18:03:52.040Z"
   },
   {
    "duration": 111,
    "start_time": "2023-03-30T18:06:48.735Z"
   },
   {
    "duration": 7,
    "start_time": "2023-03-30T18:16:47.241Z"
   },
   {
    "duration": 72,
    "start_time": "2023-03-30T18:17:14.075Z"
   },
   {
    "duration": 72,
    "start_time": "2023-03-30T18:17:32.074Z"
   },
   {
    "duration": 175,
    "start_time": "2023-03-30T18:19:50.603Z"
   },
   {
    "duration": 71,
    "start_time": "2023-03-30T18:21:11.785Z"
   },
   {
    "duration": 77,
    "start_time": "2023-03-30T18:27:03.085Z"
   },
   {
    "duration": 77,
    "start_time": "2023-03-30T18:28:59.272Z"
   },
   {
    "duration": 70,
    "start_time": "2023-03-30T18:46:13.500Z"
   },
   {
    "duration": 74,
    "start_time": "2023-03-30T18:46:26.393Z"
   },
   {
    "duration": 9160,
    "start_time": "2023-03-30T19:09:14.339Z"
   },
   {
    "duration": 244,
    "start_time": "2023-03-30T19:09:23.501Z"
   },
   {
    "duration": 69,
    "start_time": "2023-03-30T19:09:23.746Z"
   },
   {
    "duration": 72,
    "start_time": "2023-03-30T19:09:23.817Z"
   },
   {
    "duration": 71,
    "start_time": "2023-03-30T19:09:23.890Z"
   },
   {
    "duration": 71,
    "start_time": "2023-03-30T19:09:25.079Z"
   },
   {
    "duration": 68,
    "start_time": "2023-03-30T19:09:30.036Z"
   },
   {
    "duration": 110,
    "start_time": "2023-03-30T19:09:33.553Z"
   },
   {
    "duration": 70,
    "start_time": "2023-03-30T19:09:47.792Z"
   },
   {
    "duration": 74,
    "start_time": "2023-03-30T19:10:31.241Z"
   },
   {
    "duration": 74,
    "start_time": "2023-03-30T19:10:48.525Z"
   },
   {
    "duration": 109,
    "start_time": "2023-03-30T19:13:24.019Z"
   },
   {
    "duration": 12743,
    "start_time": "2023-03-31T07:37:51.991Z"
   },
   {
    "duration": 317,
    "start_time": "2023-03-31T07:38:04.736Z"
   },
   {
    "duration": 89,
    "start_time": "2023-03-31T07:38:05.055Z"
   },
   {
    "duration": 99,
    "start_time": "2023-03-31T07:38:05.147Z"
   },
   {
    "duration": 81,
    "start_time": "2023-03-31T07:38:05.248Z"
   },
   {
    "duration": 97,
    "start_time": "2023-03-31T07:38:05.331Z"
   },
   {
    "duration": 90,
    "start_time": "2023-03-31T07:38:05.431Z"
   },
   {
    "duration": 130,
    "start_time": "2023-03-31T07:38:05.523Z"
   },
   {
    "duration": 92,
    "start_time": "2023-03-31T07:38:05.655Z"
   },
   {
    "duration": 92,
    "start_time": "2023-03-31T07:38:05.749Z"
   },
   {
    "duration": 83,
    "start_time": "2023-03-31T07:38:05.843Z"
   },
   {
    "duration": 6712,
    "start_time": "2023-03-31T13:34:36.372Z"
   },
   {
    "duration": 76,
    "start_time": "2023-03-31T13:34:43.087Z"
   },
   {
    "duration": 12,
    "start_time": "2023-03-31T13:34:43.165Z"
   },
   {
    "duration": 21,
    "start_time": "2023-03-31T13:34:43.179Z"
   },
   {
    "duration": 29,
    "start_time": "2023-03-31T13:34:43.203Z"
   },
   {
    "duration": 12,
    "start_time": "2023-03-31T13:34:43.234Z"
   },
   {
    "duration": 18,
    "start_time": "2023-03-31T13:34:43.247Z"
   },
   {
    "duration": 175,
    "start_time": "2023-03-31T13:34:43.267Z"
   },
   {
    "duration": 0,
    "start_time": "2023-03-31T13:34:43.444Z"
   },
   {
    "duration": 0,
    "start_time": "2023-03-31T13:34:43.446Z"
   },
   {
    "duration": 0,
    "start_time": "2023-03-31T13:34:43.447Z"
   },
   {
    "duration": 0,
    "start_time": "2023-03-31T13:34:43.448Z"
   },
   {
    "duration": 98,
    "start_time": "2023-03-31T13:34:57.094Z"
   },
   {
    "duration": 32,
    "start_time": "2023-03-31T13:35:20.125Z"
   },
   {
    "duration": 49,
    "start_time": "2023-03-31T13:37:22.135Z"
   },
   {
    "duration": 5,
    "start_time": "2023-03-31T13:38:52.063Z"
   },
   {
    "duration": 42,
    "start_time": "2023-03-31T13:38:52.719Z"
   },
   {
    "duration": 16,
    "start_time": "2023-03-31T13:38:52.995Z"
   },
   {
    "duration": 13,
    "start_time": "2023-03-31T13:38:53.235Z"
   },
   {
    "duration": 13,
    "start_time": "2023-03-31T13:38:53.476Z"
   },
   {
    "duration": 18,
    "start_time": "2023-03-31T13:38:53.763Z"
   },
   {
    "duration": 16,
    "start_time": "2023-03-31T13:38:55.252Z"
   },
   {
    "duration": 33,
    "start_time": "2023-03-31T13:38:56.436Z"
   },
   {
    "duration": 15,
    "start_time": "2023-03-31T13:38:58.445Z"
   },
   {
    "duration": 19,
    "start_time": "2023-03-31T13:38:59.872Z"
   },
   {
    "duration": 58,
    "start_time": "2023-03-31T13:40:18.302Z"
   },
   {
    "duration": 6407,
    "start_time": "2023-03-31T13:45:22.856Z"
   },
   {
    "duration": 66,
    "start_time": "2023-03-31T13:45:29.266Z"
   },
   {
    "duration": 12,
    "start_time": "2023-03-31T13:45:29.334Z"
   },
   {
    "duration": 11,
    "start_time": "2023-03-31T13:45:29.348Z"
   },
   {
    "duration": 12,
    "start_time": "2023-03-31T13:45:29.361Z"
   },
   {
    "duration": 12,
    "start_time": "2023-03-31T13:45:29.376Z"
   },
   {
    "duration": 37,
    "start_time": "2023-03-31T13:45:29.389Z"
   },
   {
    "duration": 29,
    "start_time": "2023-03-31T13:45:29.427Z"
   },
   {
    "duration": 13,
    "start_time": "2023-03-31T13:45:29.459Z"
   },
   {
    "duration": 22,
    "start_time": "2023-03-31T13:45:34.591Z"
   },
   {
    "duration": 15,
    "start_time": "2023-03-31T13:45:35.935Z"
   }
  ],
  "kernelspec": {
   "display_name": "Python 3 (ipykernel)",
   "language": "python",
   "name": "python3"
  },
  "language_info": {
   "codemirror_mode": {
    "name": "ipython",
    "version": 3
   },
   "file_extension": ".py",
   "mimetype": "text/x-python",
   "name": "python",
   "nbconvert_exporter": "python",
   "pygments_lexer": "ipython3",
   "version": "3.9.5"
  },
  "toc": {
   "base_numbering": 1,
   "nav_menu": {},
   "number_sections": true,
   "sideBar": true,
   "skip_h1_title": true,
   "title_cell": "Table of Contents",
   "title_sidebar": "Contents",
   "toc_cell": false,
   "toc_position": {},
   "toc_section_display": true,
   "toc_window_display": false
  }
 },
 "nbformat": 4,
 "nbformat_minor": 2
}
