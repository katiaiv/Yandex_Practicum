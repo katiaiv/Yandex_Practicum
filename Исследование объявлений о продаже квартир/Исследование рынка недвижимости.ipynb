{
 "cells": [
  {
   "cell_type": "markdown",
   "metadata": {},
   "source": [
    "# Исследование объявлений о продаже квартир\n",
    "\n",
    "В вашем распоряжении данные сервиса Яндекс.Недвижимость — архив объявлений о продаже квартир в Санкт-Петербурге и соседних населённых пунктов за несколько лет. Нужно научиться определять рыночную стоимость объектов недвижимости. Ваша задача — установить параметры. Это позволит построить автоматизированную систему: она отследит аномалии и мошенническую деятельность. \n",
    "\n",
    "По каждой квартире на продажу доступны два вида данных. Первые вписаны пользователем, вторые — получены автоматически на основе картографических данных. Например, расстояние до центра, аэропорта, ближайшего парка и водоёма. "
   ]
  },
  {
   "cell_type": "markdown",
   "metadata": {},
   "source": [
    "### Откройте файл с данными и изучите общую информацию. "
   ]
  },
  {
   "cell_type": "markdown",
   "metadata": {},
   "source": [
    "Импортируем библиотеку pandas для работы с данными и библеотеку matplotlib для работы с гиситрограммами и другими функциями визуализации, а также библиотеку для работы с целочисленными значениями"
   ]
  },
  {
   "cell_type": "code",
   "execution_count": 1,
   "metadata": {},
   "outputs": [],
   "source": [
    "import matplotlib.pyplot as plt\n",
    "\n",
    "import pandas as pd\n",
    "\n",
    "import numpy as np"
   ]
  },
  {
   "cell_type": "markdown",
   "metadata": {},
   "source": [
    "Присвоим переменную data и откроем таблицу"
   ]
  },
  {
   "cell_type": "code",
   "execution_count": 2,
   "metadata": {},
   "outputs": [],
   "source": [
    "data = pd.read_csv('/datasets/real_estate_data.csv', sep='\\t')"
   ]
  },
  {
   "cell_type": "markdown",
   "metadata": {},
   "source": [
    "Просмотрим первые 15 строк таблицы для ознакомления с данными"
   ]
  },
  {
   "cell_type": "code",
   "execution_count": 3,
   "metadata": {},
   "outputs": [
    {
     "data": {
      "text/html": [
       "<div>\n",
       "<style scoped>\n",
       "    .dataframe tbody tr th:only-of-type {\n",
       "        vertical-align: middle;\n",
       "    }\n",
       "\n",
       "    .dataframe tbody tr th {\n",
       "        vertical-align: top;\n",
       "    }\n",
       "\n",
       "    .dataframe thead th {\n",
       "        text-align: right;\n",
       "    }\n",
       "</style>\n",
       "<table border=\"1\" class=\"dataframe\">\n",
       "  <thead>\n",
       "    <tr style=\"text-align: right;\">\n",
       "      <th></th>\n",
       "      <th>total_images</th>\n",
       "      <th>last_price</th>\n",
       "      <th>total_area</th>\n",
       "      <th>first_day_exposition</th>\n",
       "      <th>rooms</th>\n",
       "      <th>ceiling_height</th>\n",
       "      <th>floors_total</th>\n",
       "      <th>living_area</th>\n",
       "      <th>floor</th>\n",
       "      <th>is_apartment</th>\n",
       "      <th>...</th>\n",
       "      <th>kitchen_area</th>\n",
       "      <th>balcony</th>\n",
       "      <th>locality_name</th>\n",
       "      <th>airports_nearest</th>\n",
       "      <th>cityCenters_nearest</th>\n",
       "      <th>parks_around3000</th>\n",
       "      <th>parks_nearest</th>\n",
       "      <th>ponds_around3000</th>\n",
       "      <th>ponds_nearest</th>\n",
       "      <th>days_exposition</th>\n",
       "    </tr>\n",
       "  </thead>\n",
       "  <tbody>\n",
       "    <tr>\n",
       "      <th>0</th>\n",
       "      <td>20</td>\n",
       "      <td>13000000.0</td>\n",
       "      <td>108.00</td>\n",
       "      <td>2019-03-07T00:00:00</td>\n",
       "      <td>3</td>\n",
       "      <td>2.70</td>\n",
       "      <td>16.0</td>\n",
       "      <td>51.00</td>\n",
       "      <td>8</td>\n",
       "      <td>NaN</td>\n",
       "      <td>...</td>\n",
       "      <td>25.00</td>\n",
       "      <td>NaN</td>\n",
       "      <td>Санкт-Петербург</td>\n",
       "      <td>18863.0</td>\n",
       "      <td>16028.0</td>\n",
       "      <td>1.0</td>\n",
       "      <td>482.0</td>\n",
       "      <td>2.0</td>\n",
       "      <td>755.0</td>\n",
       "      <td>NaN</td>\n",
       "    </tr>\n",
       "    <tr>\n",
       "      <th>1</th>\n",
       "      <td>7</td>\n",
       "      <td>3350000.0</td>\n",
       "      <td>40.40</td>\n",
       "      <td>2018-12-04T00:00:00</td>\n",
       "      <td>1</td>\n",
       "      <td>NaN</td>\n",
       "      <td>11.0</td>\n",
       "      <td>18.60</td>\n",
       "      <td>1</td>\n",
       "      <td>NaN</td>\n",
       "      <td>...</td>\n",
       "      <td>11.00</td>\n",
       "      <td>2.0</td>\n",
       "      <td>посёлок Шушары</td>\n",
       "      <td>12817.0</td>\n",
       "      <td>18603.0</td>\n",
       "      <td>0.0</td>\n",
       "      <td>NaN</td>\n",
       "      <td>0.0</td>\n",
       "      <td>NaN</td>\n",
       "      <td>81.0</td>\n",
       "    </tr>\n",
       "    <tr>\n",
       "      <th>2</th>\n",
       "      <td>10</td>\n",
       "      <td>5196000.0</td>\n",
       "      <td>56.00</td>\n",
       "      <td>2015-08-20T00:00:00</td>\n",
       "      <td>2</td>\n",
       "      <td>NaN</td>\n",
       "      <td>5.0</td>\n",
       "      <td>34.30</td>\n",
       "      <td>4</td>\n",
       "      <td>NaN</td>\n",
       "      <td>...</td>\n",
       "      <td>8.30</td>\n",
       "      <td>0.0</td>\n",
       "      <td>Санкт-Петербург</td>\n",
       "      <td>21741.0</td>\n",
       "      <td>13933.0</td>\n",
       "      <td>1.0</td>\n",
       "      <td>90.0</td>\n",
       "      <td>2.0</td>\n",
       "      <td>574.0</td>\n",
       "      <td>558.0</td>\n",
       "    </tr>\n",
       "    <tr>\n",
       "      <th>3</th>\n",
       "      <td>0</td>\n",
       "      <td>64900000.0</td>\n",
       "      <td>159.00</td>\n",
       "      <td>2015-07-24T00:00:00</td>\n",
       "      <td>3</td>\n",
       "      <td>NaN</td>\n",
       "      <td>14.0</td>\n",
       "      <td>NaN</td>\n",
       "      <td>9</td>\n",
       "      <td>NaN</td>\n",
       "      <td>...</td>\n",
       "      <td>NaN</td>\n",
       "      <td>0.0</td>\n",
       "      <td>Санкт-Петербург</td>\n",
       "      <td>28098.0</td>\n",
       "      <td>6800.0</td>\n",
       "      <td>2.0</td>\n",
       "      <td>84.0</td>\n",
       "      <td>3.0</td>\n",
       "      <td>234.0</td>\n",
       "      <td>424.0</td>\n",
       "    </tr>\n",
       "    <tr>\n",
       "      <th>4</th>\n",
       "      <td>2</td>\n",
       "      <td>10000000.0</td>\n",
       "      <td>100.00</td>\n",
       "      <td>2018-06-19T00:00:00</td>\n",
       "      <td>2</td>\n",
       "      <td>3.03</td>\n",
       "      <td>14.0</td>\n",
       "      <td>32.00</td>\n",
       "      <td>13</td>\n",
       "      <td>NaN</td>\n",
       "      <td>...</td>\n",
       "      <td>41.00</td>\n",
       "      <td>NaN</td>\n",
       "      <td>Санкт-Петербург</td>\n",
       "      <td>31856.0</td>\n",
       "      <td>8098.0</td>\n",
       "      <td>2.0</td>\n",
       "      <td>112.0</td>\n",
       "      <td>1.0</td>\n",
       "      <td>48.0</td>\n",
       "      <td>121.0</td>\n",
       "    </tr>\n",
       "    <tr>\n",
       "      <th>5</th>\n",
       "      <td>10</td>\n",
       "      <td>2890000.0</td>\n",
       "      <td>30.40</td>\n",
       "      <td>2018-09-10T00:00:00</td>\n",
       "      <td>1</td>\n",
       "      <td>NaN</td>\n",
       "      <td>12.0</td>\n",
       "      <td>14.40</td>\n",
       "      <td>5</td>\n",
       "      <td>NaN</td>\n",
       "      <td>...</td>\n",
       "      <td>9.10</td>\n",
       "      <td>NaN</td>\n",
       "      <td>городской посёлок Янино-1</td>\n",
       "      <td>NaN</td>\n",
       "      <td>NaN</td>\n",
       "      <td>NaN</td>\n",
       "      <td>NaN</td>\n",
       "      <td>NaN</td>\n",
       "      <td>NaN</td>\n",
       "      <td>55.0</td>\n",
       "    </tr>\n",
       "    <tr>\n",
       "      <th>6</th>\n",
       "      <td>6</td>\n",
       "      <td>3700000.0</td>\n",
       "      <td>37.30</td>\n",
       "      <td>2017-11-02T00:00:00</td>\n",
       "      <td>1</td>\n",
       "      <td>NaN</td>\n",
       "      <td>26.0</td>\n",
       "      <td>10.60</td>\n",
       "      <td>6</td>\n",
       "      <td>NaN</td>\n",
       "      <td>...</td>\n",
       "      <td>14.40</td>\n",
       "      <td>1.0</td>\n",
       "      <td>посёлок Парголово</td>\n",
       "      <td>52996.0</td>\n",
       "      <td>19143.0</td>\n",
       "      <td>0.0</td>\n",
       "      <td>NaN</td>\n",
       "      <td>0.0</td>\n",
       "      <td>NaN</td>\n",
       "      <td>155.0</td>\n",
       "    </tr>\n",
       "    <tr>\n",
       "      <th>7</th>\n",
       "      <td>5</td>\n",
       "      <td>7915000.0</td>\n",
       "      <td>71.60</td>\n",
       "      <td>2019-04-18T00:00:00</td>\n",
       "      <td>2</td>\n",
       "      <td>NaN</td>\n",
       "      <td>24.0</td>\n",
       "      <td>NaN</td>\n",
       "      <td>22</td>\n",
       "      <td>NaN</td>\n",
       "      <td>...</td>\n",
       "      <td>18.90</td>\n",
       "      <td>2.0</td>\n",
       "      <td>Санкт-Петербург</td>\n",
       "      <td>23982.0</td>\n",
       "      <td>11634.0</td>\n",
       "      <td>0.0</td>\n",
       "      <td>NaN</td>\n",
       "      <td>0.0</td>\n",
       "      <td>NaN</td>\n",
       "      <td>NaN</td>\n",
       "    </tr>\n",
       "    <tr>\n",
       "      <th>8</th>\n",
       "      <td>20</td>\n",
       "      <td>2900000.0</td>\n",
       "      <td>33.16</td>\n",
       "      <td>2018-05-23T00:00:00</td>\n",
       "      <td>1</td>\n",
       "      <td>NaN</td>\n",
       "      <td>27.0</td>\n",
       "      <td>15.43</td>\n",
       "      <td>26</td>\n",
       "      <td>NaN</td>\n",
       "      <td>...</td>\n",
       "      <td>8.81</td>\n",
       "      <td>NaN</td>\n",
       "      <td>посёлок Мурино</td>\n",
       "      <td>NaN</td>\n",
       "      <td>NaN</td>\n",
       "      <td>NaN</td>\n",
       "      <td>NaN</td>\n",
       "      <td>NaN</td>\n",
       "      <td>NaN</td>\n",
       "      <td>189.0</td>\n",
       "    </tr>\n",
       "    <tr>\n",
       "      <th>9</th>\n",
       "      <td>18</td>\n",
       "      <td>5400000.0</td>\n",
       "      <td>61.00</td>\n",
       "      <td>2017-02-26T00:00:00</td>\n",
       "      <td>3</td>\n",
       "      <td>2.50</td>\n",
       "      <td>9.0</td>\n",
       "      <td>43.60</td>\n",
       "      <td>7</td>\n",
       "      <td>NaN</td>\n",
       "      <td>...</td>\n",
       "      <td>6.50</td>\n",
       "      <td>2.0</td>\n",
       "      <td>Санкт-Петербург</td>\n",
       "      <td>50898.0</td>\n",
       "      <td>15008.0</td>\n",
       "      <td>0.0</td>\n",
       "      <td>NaN</td>\n",
       "      <td>0.0</td>\n",
       "      <td>NaN</td>\n",
       "      <td>289.0</td>\n",
       "    </tr>\n",
       "    <tr>\n",
       "      <th>10</th>\n",
       "      <td>5</td>\n",
       "      <td>5050000.0</td>\n",
       "      <td>39.60</td>\n",
       "      <td>2017-11-16T00:00:00</td>\n",
       "      <td>1</td>\n",
       "      <td>2.67</td>\n",
       "      <td>12.0</td>\n",
       "      <td>20.30</td>\n",
       "      <td>3</td>\n",
       "      <td>NaN</td>\n",
       "      <td>...</td>\n",
       "      <td>8.50</td>\n",
       "      <td>NaN</td>\n",
       "      <td>Санкт-Петербург</td>\n",
       "      <td>38357.0</td>\n",
       "      <td>13878.0</td>\n",
       "      <td>1.0</td>\n",
       "      <td>310.0</td>\n",
       "      <td>2.0</td>\n",
       "      <td>553.0</td>\n",
       "      <td>137.0</td>\n",
       "    </tr>\n",
       "    <tr>\n",
       "      <th>11</th>\n",
       "      <td>9</td>\n",
       "      <td>3300000.0</td>\n",
       "      <td>44.00</td>\n",
       "      <td>2018-08-27T00:00:00</td>\n",
       "      <td>2</td>\n",
       "      <td>NaN</td>\n",
       "      <td>5.0</td>\n",
       "      <td>31.00</td>\n",
       "      <td>4</td>\n",
       "      <td>False</td>\n",
       "      <td>...</td>\n",
       "      <td>6.00</td>\n",
       "      <td>1.0</td>\n",
       "      <td>Ломоносов</td>\n",
       "      <td>48252.0</td>\n",
       "      <td>51677.0</td>\n",
       "      <td>0.0</td>\n",
       "      <td>NaN</td>\n",
       "      <td>0.0</td>\n",
       "      <td>NaN</td>\n",
       "      <td>7.0</td>\n",
       "    </tr>\n",
       "    <tr>\n",
       "      <th>12</th>\n",
       "      <td>10</td>\n",
       "      <td>3890000.0</td>\n",
       "      <td>54.00</td>\n",
       "      <td>2016-06-30T00:00:00</td>\n",
       "      <td>2</td>\n",
       "      <td>NaN</td>\n",
       "      <td>5.0</td>\n",
       "      <td>30.00</td>\n",
       "      <td>5</td>\n",
       "      <td>NaN</td>\n",
       "      <td>...</td>\n",
       "      <td>9.00</td>\n",
       "      <td>0.0</td>\n",
       "      <td>Сертолово</td>\n",
       "      <td>NaN</td>\n",
       "      <td>NaN</td>\n",
       "      <td>NaN</td>\n",
       "      <td>NaN</td>\n",
       "      <td>NaN</td>\n",
       "      <td>NaN</td>\n",
       "      <td>90.0</td>\n",
       "    </tr>\n",
       "    <tr>\n",
       "      <th>13</th>\n",
       "      <td>20</td>\n",
       "      <td>3550000.0</td>\n",
       "      <td>42.80</td>\n",
       "      <td>2017-07-01T00:00:00</td>\n",
       "      <td>2</td>\n",
       "      <td>2.56</td>\n",
       "      <td>5.0</td>\n",
       "      <td>27.00</td>\n",
       "      <td>5</td>\n",
       "      <td>NaN</td>\n",
       "      <td>...</td>\n",
       "      <td>5.20</td>\n",
       "      <td>1.0</td>\n",
       "      <td>Петергоф</td>\n",
       "      <td>37868.0</td>\n",
       "      <td>33058.0</td>\n",
       "      <td>1.0</td>\n",
       "      <td>294.0</td>\n",
       "      <td>3.0</td>\n",
       "      <td>298.0</td>\n",
       "      <td>366.0</td>\n",
       "    </tr>\n",
       "    <tr>\n",
       "      <th>14</th>\n",
       "      <td>1</td>\n",
       "      <td>4400000.0</td>\n",
       "      <td>36.00</td>\n",
       "      <td>2016-06-23T00:00:00</td>\n",
       "      <td>1</td>\n",
       "      <td>NaN</td>\n",
       "      <td>6.0</td>\n",
       "      <td>17.00</td>\n",
       "      <td>1</td>\n",
       "      <td>NaN</td>\n",
       "      <td>...</td>\n",
       "      <td>8.00</td>\n",
       "      <td>0.0</td>\n",
       "      <td>Пушкин</td>\n",
       "      <td>20782.0</td>\n",
       "      <td>30759.0</td>\n",
       "      <td>0.0</td>\n",
       "      <td>NaN</td>\n",
       "      <td>1.0</td>\n",
       "      <td>96.0</td>\n",
       "      <td>203.0</td>\n",
       "    </tr>\n",
       "  </tbody>\n",
       "</table>\n",
       "<p>15 rows × 22 columns</p>\n",
       "</div>"
      ],
      "text/plain": [
       "    total_images  last_price  total_area first_day_exposition  rooms  \\\n",
       "0             20  13000000.0      108.00  2019-03-07T00:00:00      3   \n",
       "1              7   3350000.0       40.40  2018-12-04T00:00:00      1   \n",
       "2             10   5196000.0       56.00  2015-08-20T00:00:00      2   \n",
       "3              0  64900000.0      159.00  2015-07-24T00:00:00      3   \n",
       "4              2  10000000.0      100.00  2018-06-19T00:00:00      2   \n",
       "5             10   2890000.0       30.40  2018-09-10T00:00:00      1   \n",
       "6              6   3700000.0       37.30  2017-11-02T00:00:00      1   \n",
       "7              5   7915000.0       71.60  2019-04-18T00:00:00      2   \n",
       "8             20   2900000.0       33.16  2018-05-23T00:00:00      1   \n",
       "9             18   5400000.0       61.00  2017-02-26T00:00:00      3   \n",
       "10             5   5050000.0       39.60  2017-11-16T00:00:00      1   \n",
       "11             9   3300000.0       44.00  2018-08-27T00:00:00      2   \n",
       "12            10   3890000.0       54.00  2016-06-30T00:00:00      2   \n",
       "13            20   3550000.0       42.80  2017-07-01T00:00:00      2   \n",
       "14             1   4400000.0       36.00  2016-06-23T00:00:00      1   \n",
       "\n",
       "    ceiling_height  floors_total  living_area  floor is_apartment  ...  \\\n",
       "0             2.70          16.0        51.00      8          NaN  ...   \n",
       "1              NaN          11.0        18.60      1          NaN  ...   \n",
       "2              NaN           5.0        34.30      4          NaN  ...   \n",
       "3              NaN          14.0          NaN      9          NaN  ...   \n",
       "4             3.03          14.0        32.00     13          NaN  ...   \n",
       "5              NaN          12.0        14.40      5          NaN  ...   \n",
       "6              NaN          26.0        10.60      6          NaN  ...   \n",
       "7              NaN          24.0          NaN     22          NaN  ...   \n",
       "8              NaN          27.0        15.43     26          NaN  ...   \n",
       "9             2.50           9.0        43.60      7          NaN  ...   \n",
       "10            2.67          12.0        20.30      3          NaN  ...   \n",
       "11             NaN           5.0        31.00      4        False  ...   \n",
       "12             NaN           5.0        30.00      5          NaN  ...   \n",
       "13            2.56           5.0        27.00      5          NaN  ...   \n",
       "14             NaN           6.0        17.00      1          NaN  ...   \n",
       "\n",
       "    kitchen_area  balcony              locality_name  airports_nearest  \\\n",
       "0          25.00      NaN            Санкт-Петербург           18863.0   \n",
       "1          11.00      2.0             посёлок Шушары           12817.0   \n",
       "2           8.30      0.0            Санкт-Петербург           21741.0   \n",
       "3            NaN      0.0            Санкт-Петербург           28098.0   \n",
       "4          41.00      NaN            Санкт-Петербург           31856.0   \n",
       "5           9.10      NaN  городской посёлок Янино-1               NaN   \n",
       "6          14.40      1.0          посёлок Парголово           52996.0   \n",
       "7          18.90      2.0            Санкт-Петербург           23982.0   \n",
       "8           8.81      NaN             посёлок Мурино               NaN   \n",
       "9           6.50      2.0            Санкт-Петербург           50898.0   \n",
       "10          8.50      NaN            Санкт-Петербург           38357.0   \n",
       "11          6.00      1.0                  Ломоносов           48252.0   \n",
       "12          9.00      0.0                  Сертолово               NaN   \n",
       "13          5.20      1.0                   Петергоф           37868.0   \n",
       "14          8.00      0.0                     Пушкин           20782.0   \n",
       "\n",
       "   cityCenters_nearest  parks_around3000  parks_nearest  ponds_around3000  \\\n",
       "0              16028.0               1.0          482.0               2.0   \n",
       "1              18603.0               0.0            NaN               0.0   \n",
       "2              13933.0               1.0           90.0               2.0   \n",
       "3               6800.0               2.0           84.0               3.0   \n",
       "4               8098.0               2.0          112.0               1.0   \n",
       "5                  NaN               NaN            NaN               NaN   \n",
       "6              19143.0               0.0            NaN               0.0   \n",
       "7              11634.0               0.0            NaN               0.0   \n",
       "8                  NaN               NaN            NaN               NaN   \n",
       "9              15008.0               0.0            NaN               0.0   \n",
       "10             13878.0               1.0          310.0               2.0   \n",
       "11             51677.0               0.0            NaN               0.0   \n",
       "12                 NaN               NaN            NaN               NaN   \n",
       "13             33058.0               1.0          294.0               3.0   \n",
       "14             30759.0               0.0            NaN               1.0   \n",
       "\n",
       "    ponds_nearest  days_exposition  \n",
       "0           755.0              NaN  \n",
       "1             NaN             81.0  \n",
       "2           574.0            558.0  \n",
       "3           234.0            424.0  \n",
       "4            48.0            121.0  \n",
       "5             NaN             55.0  \n",
       "6             NaN            155.0  \n",
       "7             NaN              NaN  \n",
       "8             NaN            189.0  \n",
       "9             NaN            289.0  \n",
       "10          553.0            137.0  \n",
       "11            NaN              7.0  \n",
       "12            NaN             90.0  \n",
       "13          298.0            366.0  \n",
       "14           96.0            203.0  \n",
       "\n",
       "[15 rows x 22 columns]"
      ]
     },
     "metadata": {},
     "output_type": "display_data"
    }
   ],
   "source": [
    "display(data.head(15))"
   ]
  },
  {
   "cell_type": "markdown",
   "metadata": {},
   "source": [
    "Выведим информацию о таблице и нулевых данных в ней"
   ]
  },
  {
   "cell_type": "code",
   "execution_count": 4,
   "metadata": {},
   "outputs": [
    {
     "name": "stdout",
     "output_type": "stream",
     "text": [
      "<class 'pandas.core.frame.DataFrame'>\n",
      "RangeIndex: 23699 entries, 0 to 23698\n",
      "Data columns (total 22 columns):\n",
      " #   Column                Non-Null Count  Dtype  \n",
      "---  ------                --------------  -----  \n",
      " 0   total_images          23699 non-null  int64  \n",
      " 1   last_price            23699 non-null  float64\n",
      " 2   total_area            23699 non-null  float64\n",
      " 3   first_day_exposition  23699 non-null  object \n",
      " 4   rooms                 23699 non-null  int64  \n",
      " 5   ceiling_height        14504 non-null  float64\n",
      " 6   floors_total          23613 non-null  float64\n",
      " 7   living_area           21796 non-null  float64\n",
      " 8   floor                 23699 non-null  int64  \n",
      " 9   is_apartment          2775 non-null   object \n",
      " 10  studio                23699 non-null  bool   \n",
      " 11  open_plan             23699 non-null  bool   \n",
      " 12  kitchen_area          21421 non-null  float64\n",
      " 13  balcony               12180 non-null  float64\n",
      " 14  locality_name         23650 non-null  object \n",
      " 15  airports_nearest      18157 non-null  float64\n",
      " 16  cityCenters_nearest   18180 non-null  float64\n",
      " 17  parks_around3000      18181 non-null  float64\n",
      " 18  parks_nearest         8079 non-null   float64\n",
      " 19  ponds_around3000      18181 non-null  float64\n",
      " 20  ponds_nearest         9110 non-null   float64\n",
      " 21  days_exposition       20518 non-null  float64\n",
      "dtypes: bool(2), float64(14), int64(3), object(3)\n",
      "memory usage: 3.7+ MB\n"
     ]
    }
   ],
   "source": [
    "data.info()"
   ]
  },
  {
   "cell_type": "markdown",
   "metadata": {},
   "source": [
    "\n",
    "Используя полученную информацию, определим дынные и типы, которые нужно изменить:\n",
    "1) first_day_exposition заменим на более читабельный фрмат даты (y-m-d)\n",
    "\n",
    "2) ceiling_height много пропусков, требуется заполнить (возможно медианным значением)\n",
    "\n",
    "3) floors_total имеются пропуски, а также тип данных float64(число с плавающей точкой), заменим его на int64(целое число)\n",
    "\n",
    "4) living_area имеются пропуски(заменим медианой), а также исправим тип на int64\n",
    "\n",
    "5) is_apartment-данные с информацие о том аппартаменты тип недвижимости или нет, изменим на булевой тип и заменим пропуски False     \n",
    "\n",
    "6) kitchen_area имеются пропуски(заменим медианой), а также исправим тип на int64  \n",
    "\n",
    "7) balcony- количество балконов в квартире, исправим тип на int64, а также заменим пропуски 0(нет балкона)        \n",
    "\n",
    "8) locality_name- есть пропуски, но количество маленькое(заменять не будем), заменим неявные дубликаты\n",
    "\n",
    "9) airports_nearest- большое количетсво пропусков (возможно стоит заменить медианой)\n",
    "\n",
    "10) cityCenters_nearest-есть пропуски, а также нужно привести название столбца в приличный вид\n",
    "11) parks_around3000 и ponds_around3000- много пропусков (заменим медианой), а также приведем данные к количественному типу (int)\n",
    "\n",
    "12) parks_nearest и ponds_nearest- много пропусков (заменим медианой)\n",
    "\n",
    "13) days_exposition- много пропусков, приведем к целочисленному типу\n",
    "\n",
    "При обработке данных будем использовать медиану, так как при больших вбросах в данных, среднее не актуально\n"
   ]
  },
  {
   "cell_type": "code",
   "execution_count": 5,
   "metadata": {},
   "outputs": [
    {
     "data": {
      "image/png": "[encoded data removed]",
      "text/plain": [
       "<Figure size 1080x1440 with 20 Axes>"
      ]
     },
     "metadata": {
      "needs_background": "light"
     },
     "output_type": "display_data"
    }
   ],
   "source": [
    "data.hist(figsize=(15, 20))\n",
    "plt.show()"
   ]
  },
  {
   "cell_type": "code",
   "execution_count": 6,
   "metadata": {},
   "outputs": [
    {
     "data": {
      "text/plain": [
       "0"
      ]
     },
     "execution_count": 6,
     "metadata": {},
     "output_type": "execute_result"
    }
   ],
   "source": [
    "data.duplicated().sum()"
   ]
  },
  {
   "cell_type": "markdown",
   "metadata": {},
   "source": [
    "Дубликатов нет"
   ]
  },
  {
   "cell_type": "markdown",
   "metadata": {},
   "source": [
    "### Предобработка данных"
   ]
  },
  {
   "cell_type": "markdown",
   "metadata": {},
   "source": [
    "Выведем количество пропусков по каждому столбцу и исправим их"
   ]
  },
  {
   "cell_type": "code",
   "execution_count": 7,
   "metadata": {},
   "outputs": [
    {
     "data": {
      "text/plain": [
       "total_images                0\n",
       "last_price                  0\n",
       "total_area                  0\n",
       "first_day_exposition        0\n",
       "rooms                       0\n",
       "ceiling_height           9195\n",
       "floors_total               86\n",
       "living_area              1903\n",
       "floor                       0\n",
       "is_apartment            20924\n",
       "studio                      0\n",
       "open_plan                   0\n",
       "kitchen_area             2278\n",
       "balcony                 11519\n",
       "locality_name              49\n",
       "airports_nearest         5542\n",
       "cityCenters_nearest      5519\n",
       "parks_around3000         5518\n",
       "parks_nearest           15620\n",
       "ponds_around3000         5518\n",
       "ponds_nearest           14589\n",
       "days_exposition          3181\n",
       "dtype: int64"
      ]
     },
     "execution_count": 7,
     "metadata": {},
     "output_type": "execute_result"
    }
   ],
   "source": [
    "data.isna().sum()"
   ]
  },
  {
   "cell_type": "markdown",
   "metadata": {},
   "source": [
    "Так как в данных floors_total малый процент пропусков, удалим их и приведем данные к целочисленному типу"
   ]
  },
  {
   "cell_type": "code",
   "execution_count": 8,
   "metadata": {},
   "outputs": [],
   "source": [
    "data.dropna(subset=['floors_total'], inplace=True)\n",
    "data['floors_total'] = data['floors_total'].astype(int)"
   ]
  },
  {
   "cell_type": "markdown",
   "metadata": {},
   "source": [
    "Приведем last_price в целочисленный вид для удобства обработки данных"
   ]
  },
  {
   "cell_type": "code",
   "execution_count": 9,
   "metadata": {},
   "outputs": [],
   "source": [
    "data['last_price']=data['last_price'].astype(int)\n"
   ]
  },
  {
   "cell_type": "markdown",
   "metadata": {},
   "source": [
    "Выведем все уникальные значения в стобце locality_name и найдем неявные дубликаты и заменим их. Пропусков в данных 49, но у нас нет информации,чем их заменить. "
   ]
  },
  {
   "cell_type": "code",
   "execution_count": 10,
   "metadata": {},
   "outputs": [
    {
     "data": {
      "text/plain": [
       "array(['Санкт-Петербург', 'посёлок Шушары', 'городской посёлок Янино-1',\n",
       "       'посёлок Парголово', 'посёлок Мурино', 'Ломоносов', 'Сертолово',\n",
       "       'Петергоф', 'Пушкин', 'деревня Кудрово', 'Коммунар', 'Колпино',\n",
       "       'поселок городского типа Красный Бор', 'Гатчина', 'поселок Мурино',\n",
       "       'деревня Фёдоровское', 'Выборг', 'Кронштадт', 'Кировск',\n",
       "       'деревня Новое Девяткино', 'посёлок Металлострой',\n",
       "       'посёлок городского типа Лебяжье',\n",
       "       'посёлок городского типа Сиверский', 'поселок Молодцово',\n",
       "       'поселок городского типа Кузьмоловский',\n",
       "       'садовое товарищество Новая Ропша', 'Павловск',\n",
       "       'деревня Пикколово', 'Всеволожск', 'Волхов', 'Кингисепп',\n",
       "       'Приозерск', 'Сестрорецк', 'деревня Куттузи', 'посёлок Аннино',\n",
       "       'поселок городского типа Ефимовский', 'посёлок Плодовое',\n",
       "       'деревня Заклинье', 'поселок Торковичи', 'поселок Первомайское',\n",
       "       'Красное Село', 'посёлок Понтонный', 'Сясьстрой', 'деревня Старая',\n",
       "       'деревня Лесколово', 'посёлок Новый Свет', 'Сланцы',\n",
       "       'село Путилово', 'Ивангород', 'Мурино', 'Шлиссельбург',\n",
       "       'Никольское', 'Зеленогорск', 'Сосновый Бор', 'поселок Новый Свет',\n",
       "       'деревня Оржицы', 'деревня Кальтино', 'Кудрово',\n",
       "       'поселок Романовка', 'посёлок Бугры', 'поселок Бугры',\n",
       "       'поселок городского типа Рощино', 'Кириши', 'Луга', 'Волосово',\n",
       "       'Отрадное', 'село Павлово', 'поселок Оредеж', 'село Копорье',\n",
       "       'посёлок городского типа Красный Бор', 'посёлок Молодёжное',\n",
       "       'Тихвин', 'посёлок Победа', 'деревня Нурма',\n",
       "       'поселок городского типа Синявино', 'Тосно',\n",
       "       'посёлок городского типа Кузьмоловский', 'посёлок Стрельна',\n",
       "       'Бокситогорск', 'посёлок Александровская', 'деревня Лопухинка',\n",
       "       'Пикалёво', 'поселок Терволово',\n",
       "       'поселок городского типа Советский', 'Подпорожье',\n",
       "       'посёлок Петровское', 'посёлок городского типа Токсово',\n",
       "       'поселок Сельцо', 'посёлок городского типа Вырица',\n",
       "       'деревня Кипень', 'деревня Келози', 'деревня Вартемяги',\n",
       "       'посёлок Тельмана', 'поселок Севастьяново',\n",
       "       'городской поселок Большая Ижора', nan,\n",
       "       'городской посёлок Павлово', 'деревня Агалатово',\n",
       "       'посёлок Новогорелово', 'городской посёлок Лесогорский',\n",
       "       'деревня Лаголово', 'поселок Цвелодубово',\n",
       "       'поселок городского типа Рахья', 'поселок городского типа Вырица',\n",
       "       'деревня Белогорка', 'поселок Заводской',\n",
       "       'городской посёлок Новоселье', 'деревня Большие Колпаны',\n",
       "       'деревня Горбунки', 'деревня Батово', 'деревня Заневка',\n",
       "       'деревня Иссад', 'Приморск', 'городской посёлок Фёдоровское',\n",
       "       'деревня Мистолово', 'Новая Ладога', 'поселок Зимитицы',\n",
       "       'поселок Барышево', 'деревня Разметелево',\n",
       "       'поселок городского типа имени Свердлова', 'деревня Пеники',\n",
       "       'поселок Рябово', 'деревня Пудомяги', 'поселок станции Корнево',\n",
       "       'деревня Низино', 'деревня Бегуницы', 'посёлок Поляны',\n",
       "       'городской посёлок Мга', 'поселок Елизаветино',\n",
       "       'посёлок городского типа Кузнечное', 'деревня Колтуши',\n",
       "       'поселок Запорожское', 'посёлок городского типа Рощино',\n",
       "       'деревня Гостилицы', 'деревня Малое Карлино',\n",
       "       'посёлок Мичуринское', 'посёлок городского типа имени Морозова',\n",
       "       'посёлок Песочный', 'посёлок Сосново', 'деревня Аро',\n",
       "       'поселок Ильичёво', 'посёлок городского типа Тайцы',\n",
       "       'деревня Малое Верево', 'деревня Извара', 'поселок станции Вещево',\n",
       "       'село Паша', 'деревня Калитино',\n",
       "       'посёлок городского типа Ульяновка', 'деревня Чудской Бор',\n",
       "       'поселок городского типа Дубровка', 'деревня Мины',\n",
       "       'поселок Войсковицы', 'посёлок городского типа имени Свердлова',\n",
       "       'деревня Коркино', 'посёлок Ропша',\n",
       "       'поселок городского типа Приладожский', 'посёлок Щеглово',\n",
       "       'посёлок Гаврилово', 'Лодейное Поле', 'деревня Рабитицы',\n",
       "       'поселок городского типа Никольский', 'деревня Кузьмолово',\n",
       "       'деревня Малые Колпаны', 'поселок Тельмана',\n",
       "       'посёлок Петро-Славянка', 'городской посёлок Назия',\n",
       "       'посёлок Репино', 'посёлок Ильичёво', 'поселок Углово',\n",
       "       'поселок Старая Малукса', 'садовое товарищество Рахья',\n",
       "       'поселок Аннино', 'поселок Победа', 'деревня Меньково',\n",
       "       'деревня Старые Бегуницы', 'посёлок Сапёрный', 'поселок Семрино',\n",
       "       'поселок Гаврилово', 'поселок Глажево', 'поселок Кобринское',\n",
       "       'деревня Гарболово', 'деревня Юкки',\n",
       "       'поселок станции Приветнинское', 'деревня Мануйлово',\n",
       "       'деревня Пчева', 'поселок Поляны', 'поселок Цвылёво',\n",
       "       'поселок Мельниково', 'посёлок Пудость', 'посёлок Усть-Луга',\n",
       "       'Светогорск', 'Любань', 'поселок Селезнёво',\n",
       "       'поселок городского типа Рябово', 'Каменногорск', 'деревня Кривко',\n",
       "       'поселок Глебычево', 'деревня Парицы', 'поселок Жилпосёлок',\n",
       "       'посёлок городского типа Мга', 'городской поселок Янино-1',\n",
       "       'посёлок Войскорово', 'село Никольское', 'посёлок Терволово',\n",
       "       'поселок Стеклянный', 'посёлок городского типа Важины',\n",
       "       'посёлок Мыза-Ивановка', 'село Русско-Высоцкое',\n",
       "       'поселок городского типа Лебяжье',\n",
       "       'поселок городского типа Форносово', 'село Старая Ладога',\n",
       "       'поселок Житково', 'городской посёлок Виллози', 'деревня Лампово',\n",
       "       'деревня Шпаньково', 'деревня Лаврики', 'посёлок Сумино',\n",
       "       'посёлок Возрождение', 'деревня Старосиверская',\n",
       "       'посёлок Кикерино', 'поселок Возрождение',\n",
       "       'деревня Старое Хинколово', 'посёлок Пригородный',\n",
       "       'посёлок Торфяное', 'городской посёлок Будогощь',\n",
       "       'поселок Суходолье', 'поселок Красная Долина', 'деревня Хапо-Ое',\n",
       "       'поселок городского типа Дружная Горка', 'поселок Лисий Нос',\n",
       "       'деревня Яльгелево', 'посёлок Стеклянный', 'село Рождествено',\n",
       "       'деревня Старополье', 'посёлок Левашово', 'деревня Сяськелево',\n",
       "       'деревня Камышовка',\n",
       "       'садоводческое некоммерческое товарищество Лесная Поляна',\n",
       "       'деревня Хязельки', 'поселок Жилгородок',\n",
       "       'посёлок городского типа Павлово', 'деревня Ялгино',\n",
       "       'поселок Новый Учхоз', 'городской посёлок Рощино',\n",
       "       'поселок Гончарово', 'поселок Почап', 'посёлок Сапёрное',\n",
       "       'посёлок Платформа 69-й километр', 'поселок Каложицы',\n",
       "       'деревня Фалилеево', 'деревня Пельгора',\n",
       "       'поселок городского типа Лесогорский', 'деревня Торошковичи',\n",
       "       'посёлок Белоостров', 'посёлок Алексеевка', 'поселок Серебрянский',\n",
       "       'поселок Лукаши', 'поселок Петровское', 'деревня Щеглово',\n",
       "       'поселок Мичуринское', 'деревня Тарасово', 'поселок Кингисеппский',\n",
       "       'посёлок при железнодорожной станции Вещево', 'поселок Ушаки',\n",
       "       'деревня Котлы', 'деревня Сижно', 'деревня Торосово',\n",
       "       'посёлок Форт Красная Горка', 'деревня Новолисино',\n",
       "       'посёлок станции Громово', 'деревня Глинка', 'посёлок Мельниково',\n",
       "       'поселок городского типа Назия', 'деревня Старая Пустошь',\n",
       "       'поселок Коммунары', 'поселок Починок',\n",
       "       'посёлок городского типа Вознесенье', 'деревня Разбегаево',\n",
       "       'посёлок городского типа Рябово', 'поселок Гладкое',\n",
       "       'посёлок при железнодорожной станции Приветнинское',\n",
       "       'поселок Тёсово-4', 'посёлок Жилгородок', 'деревня Бор',\n",
       "       'посёлок Коробицыно', 'деревня Большая Вруда', 'деревня Курковицы',\n",
       "       'посёлок Лисий Нос', 'городской посёлок Советский',\n",
       "       'посёлок Кобралово', 'деревня Суоранда', 'поселок Кобралово',\n",
       "       'поселок городского типа Кондратьево',\n",
       "       'коттеджный поселок Счастье', 'поселок Любань', 'деревня Реброво',\n",
       "       'деревня Зимитицы', 'деревня Тойворово', 'поселок Семиозерье',\n",
       "       'поселок Лесное', 'поселок Совхозный', 'поселок Усть-Луга',\n",
       "       'посёлок Ленинское', 'посёлок Суйда',\n",
       "       'посёлок городского типа Форносово', 'деревня Нижние Осельки',\n",
       "       'посёлок станции Свирь', 'поселок Перово', 'Высоцк',\n",
       "       'поселок Гарболово', 'село Шум', 'поселок Котельский',\n",
       "       'поселок станции Лужайка', 'деревня Большая Пустомержа',\n",
       "       'поселок Красносельское', 'деревня Вахнова Кара', 'деревня Пижма',\n",
       "       'коттеджный поселок Кивеннапа Север', 'поселок Коробицыно',\n",
       "       'поселок Ромашки', 'посёлок Перово', 'деревня Каськово',\n",
       "       'деревня Куровицы', 'посёлок Плоское', 'поселок Сумино',\n",
       "       'поселок городского типа Большая Ижора', 'поселок Кирпичное',\n",
       "       'деревня Ям-Тесово', 'деревня Раздолье', 'деревня Терпилицы',\n",
       "       'поселок городского типа Токсово', 'посёлок Шугозеро',\n",
       "       'деревня Ваганово', 'поселок Пушное', 'садовое товарищество Садко',\n",
       "       'посёлок Усть-Ижора', 'деревня Выскатка',\n",
       "       'городской посёлок Свирьстрой', 'поселок Громово',\n",
       "       'деревня Кисельня', 'посёлок Старая Малукса',\n",
       "       'деревня Трубников Бор', 'поселок Калитино',\n",
       "       'посёлок Высокоключевой', 'садовое товарищество Приладожский',\n",
       "       'посёлок Пансионат Зелёный Бор', 'деревня Ненимяки',\n",
       "       'поселок Пансионат Зелёный Бор', 'деревня Снегирёвка',\n",
       "       'деревня Рапполово', 'деревня Пустынка', 'поселок Рабитицы',\n",
       "       'деревня Большой Сабск', 'деревня Русско', 'деревня Лупполово',\n",
       "       'деревня Большое Рейзино', 'деревня Малая Романовка',\n",
       "       'поселок Дружноселье', 'поселок Пчевжа', 'поселок Володарское',\n",
       "       'деревня Нижняя', 'коттеджный посёлок Лесное', 'деревня Тихковицы',\n",
       "       'деревня Борисова Грива', 'посёлок Дзержинского'], dtype=object)"
      ]
     },
     "execution_count": 10,
     "metadata": {},
     "output_type": "execute_result"
    }
   ],
   "source": [
    "data['locality_name'].unique()"
   ]
  },
  {
   "cell_type": "markdown",
   "metadata": {},
   "source": [
    " В названиях населенных пунктов встречается разное написание слова поселок – с е и ё. Приведем слова к единому написанию, а также поселок Мурино и деревня Кудрово, заменим на Кудрово и Мурино(так как это одни и те же населенные пункты).\n",
    "\n",
    " Так как пропусков вданных всего 49, удалим пропущенные значения, это не должно полвиять на дальнейший анализ"
   ]
  },
  {
   "cell_type": "code",
   "execution_count": 11,
   "metadata": {},
   "outputs": [],
   "source": [
    "data['locality_name'] = data['locality_name'].str.replace(\"посёлок\", \"поселок\") \n",
    "data['locality_name'] = data['locality_name'].str.replace(\"поселок Мурино\", \"Мурино\") \n",
    "data['locality_name'] = data['locality_name'].str.replace(\"деревня Кудрово\", \"Кудрово\") \n",
    "data.dropna(subset=['locality_name'], inplace=True)"
   ]
  },
  {
   "cell_type": "markdown",
   "metadata": {},
   "source": [
    "balcony - содержит информацию о наличии балконов в квартире. Предположим, что балконов в данных квартирах нет и заменим данные на 0"
   ]
  },
  {
   "cell_type": "code",
   "execution_count": 12,
   "metadata": {},
   "outputs": [],
   "source": [
    "data['balcony'] = data['balcony'].fillna(0).astype(int)\n"
   ]
  },
  {
   "cell_type": "markdown",
   "metadata": {},
   "source": [
    "Для восстановления пропусков в living_area, kitchen_area,days_exposition у нас нет подходящего признака, поэтому заполним их медианой"
   ]
  },
  {
   "cell_type": "code",
   "execution_count": 13,
   "metadata": {},
   "outputs": [],
   "source": [
    "data['kitchen_area'].fillna(data['kitchen_area'].median(), inplace=True)\n",
    "data['kitchen_area']=data['kitchen_area'].astype(int)\n",
    "data['living_area'].fillna(data['living_area'].median(), inplace=True)\n",
    "data['living_area']=data['living_area'].astype(int)\n",
    "data['days_exposition']=np.floor(pd.to_numeric(data['days_exposition'], errors='coerce')).astype('Int64')\n",
    "\n",
    "\n"
   ]
  },
  {
   "cell_type": "markdown",
   "metadata": {},
   "source": [
    "Приводим в целочисленный тип количество парков и количество мостов. Заменяем пропущенные значения на 0"
   ]
  },
  {
   "cell_type": "code",
   "execution_count": 14,
   "metadata": {},
   "outputs": [],
   "source": [
    "data['parks_around3000'] = data['parks_around3000'].fillna(value=0).astype(int)\n",
    "data['ponds_around3000'] = data['ponds_around3000'].fillna(value=0).astype(int)"
   ]
  },
  {
   "cell_type": "markdown",
   "metadata": {},
   "source": [
    "Булевой тип данных, либо апартаменты, либо нет. Заменим пропуски на false"
   ]
  },
  {
   "cell_type": "code",
   "execution_count": 15,
   "metadata": {},
   "outputs": [],
   "source": [
    "data['is_apartment'] = data['is_apartment'].fillna(value=False)"
   ]
  },
  {
   "cell_type": "markdown",
   "metadata": {},
   "source": [
    "Приводим к типу даты дату публикации"
   ]
  },
  {
   "cell_type": "code",
   "execution_count": 16,
   "metadata": {},
   "outputs": [],
   "source": [
    "data['first_day_exposition'] = pd.to_datetime(data['first_day_exposition'], format='%Y-%m-%d')"
   ]
  },
  {
   "cell_type": "markdown",
   "metadata": {},
   "source": [
    "Переименуем столбец cityCenters_nearest в читабельный вид"
   ]
  },
  {
   "cell_type": "code",
   "execution_count": 17,
   "metadata": {},
   "outputs": [],
   "source": [
    "data.rename(columns={'cityCenters_nearest': 'city_centers_nearest'}, inplace=True)"
   ]
  },
  {
   "cell_type": "markdown",
   "metadata": {},
   "source": [
    "Выведем информацию о таблице и первые десять строк"
   ]
  },
  {
   "cell_type": "code",
   "execution_count": 18,
   "metadata": {},
   "outputs": [
    {
     "name": "stdout",
     "output_type": "stream",
     "text": [
      "<class 'pandas.core.frame.DataFrame'>\n",
      "Int64Index: 23565 entries, 0 to 23698\n",
      "Data columns (total 22 columns):\n",
      " #   Column                Non-Null Count  Dtype         \n",
      "---  ------                --------------  -----         \n",
      " 0   total_images          23565 non-null  int64         \n",
      " 1   last_price            23565 non-null  int64         \n",
      " 2   total_area            23565 non-null  float64       \n",
      " 3   first_day_exposition  23565 non-null  datetime64[ns]\n",
      " 4   rooms                 23565 non-null  int64         \n",
      " 5   ceiling_height        14481 non-null  float64       \n",
      " 6   floors_total          23565 non-null  int64         \n",
      " 7   living_area           23565 non-null  int64         \n",
      " 8   floor                 23565 non-null  int64         \n",
      " 9   is_apartment          23565 non-null  bool          \n",
      " 10  studio                23565 non-null  bool          \n",
      " 11  open_plan             23565 non-null  bool          \n",
      " 12  kitchen_area          23565 non-null  int64         \n",
      " 13  balcony               23565 non-null  int64         \n",
      " 14  locality_name         23565 non-null  object        \n",
      " 15  airports_nearest      18041 non-null  float64       \n",
      " 16  city_centers_nearest  18064 non-null  float64       \n",
      " 17  parks_around3000      23565 non-null  int64         \n",
      " 18  parks_nearest         8030 non-null   float64       \n",
      " 19  ponds_around3000      23565 non-null  int64         \n",
      " 20  ponds_nearest         9036 non-null   float64       \n",
      " 21  days_exposition       20394 non-null  Int64         \n",
      "dtypes: Int64(1), bool(3), datetime64[ns](1), float64(6), int64(10), object(1)\n",
      "memory usage: 3.7+ MB\n"
     ]
    },
    {
     "data": {
      "text/html": [
       "<div>\n",
       "<style scoped>\n",
       "    .dataframe tbody tr th:only-of-type {\n",
       "        vertical-align: middle;\n",
       "    }\n",
       "\n",
       "    .dataframe tbody tr th {\n",
       "        vertical-align: top;\n",
       "    }\n",
       "\n",
       "    .dataframe thead th {\n",
       "        text-align: right;\n",
       "    }\n",
       "</style>\n",
       "<table border=\"1\" class=\"dataframe\">\n",
       "  <thead>\n",
       "    <tr style=\"text-align: right;\">\n",
       "      <th></th>\n",
       "      <th>total_images</th>\n",
       "      <th>last_price</th>\n",
       "      <th>total_area</th>\n",
       "      <th>first_day_exposition</th>\n",
       "      <th>rooms</th>\n",
       "      <th>ceiling_height</th>\n",
       "      <th>floors_total</th>\n",
       "      <th>living_area</th>\n",
       "      <th>floor</th>\n",
       "      <th>is_apartment</th>\n",
       "      <th>...</th>\n",
       "      <th>kitchen_area</th>\n",
       "      <th>balcony</th>\n",
       "      <th>locality_name</th>\n",
       "      <th>airports_nearest</th>\n",
       "      <th>city_centers_nearest</th>\n",
       "      <th>parks_around3000</th>\n",
       "      <th>parks_nearest</th>\n",
       "      <th>ponds_around3000</th>\n",
       "      <th>ponds_nearest</th>\n",
       "      <th>days_exposition</th>\n",
       "    </tr>\n",
       "  </thead>\n",
       "  <tbody>\n",
       "    <tr>\n",
       "      <th>0</th>\n",
       "      <td>20</td>\n",
       "      <td>13000000</td>\n",
       "      <td>108.00</td>\n",
       "      <td>2019-03-07</td>\n",
       "      <td>3</td>\n",
       "      <td>2.70</td>\n",
       "      <td>16</td>\n",
       "      <td>51</td>\n",
       "      <td>8</td>\n",
       "      <td>False</td>\n",
       "      <td>...</td>\n",
       "      <td>25</td>\n",
       "      <td>0</td>\n",
       "      <td>Санкт-Петербург</td>\n",
       "      <td>18863.0</td>\n",
       "      <td>16028.0</td>\n",
       "      <td>1</td>\n",
       "      <td>482.0</td>\n",
       "      <td>2</td>\n",
       "      <td>755.0</td>\n",
       "      <td>&lt;NA&gt;</td>\n",
       "    </tr>\n",
       "    <tr>\n",
       "      <th>1</th>\n",
       "      <td>7</td>\n",
       "      <td>3350000</td>\n",
       "      <td>40.40</td>\n",
       "      <td>2018-12-04</td>\n",
       "      <td>1</td>\n",
       "      <td>NaN</td>\n",
       "      <td>11</td>\n",
       "      <td>18</td>\n",
       "      <td>1</td>\n",
       "      <td>False</td>\n",
       "      <td>...</td>\n",
       "      <td>11</td>\n",
       "      <td>2</td>\n",
       "      <td>поселок Шушары</td>\n",
       "      <td>12817.0</td>\n",
       "      <td>18603.0</td>\n",
       "      <td>0</td>\n",
       "      <td>NaN</td>\n",
       "      <td>0</td>\n",
       "      <td>NaN</td>\n",
       "      <td>81</td>\n",
       "    </tr>\n",
       "    <tr>\n",
       "      <th>2</th>\n",
       "      <td>10</td>\n",
       "      <td>5196000</td>\n",
       "      <td>56.00</td>\n",
       "      <td>2015-08-20</td>\n",
       "      <td>2</td>\n",
       "      <td>NaN</td>\n",
       "      <td>5</td>\n",
       "      <td>34</td>\n",
       "      <td>4</td>\n",
       "      <td>False</td>\n",
       "      <td>...</td>\n",
       "      <td>8</td>\n",
       "      <td>0</td>\n",
       "      <td>Санкт-Петербург</td>\n",
       "      <td>21741.0</td>\n",
       "      <td>13933.0</td>\n",
       "      <td>1</td>\n",
       "      <td>90.0</td>\n",
       "      <td>2</td>\n",
       "      <td>574.0</td>\n",
       "      <td>558</td>\n",
       "    </tr>\n",
       "    <tr>\n",
       "      <th>3</th>\n",
       "      <td>0</td>\n",
       "      <td>64900000</td>\n",
       "      <td>159.00</td>\n",
       "      <td>2015-07-24</td>\n",
       "      <td>3</td>\n",
       "      <td>NaN</td>\n",
       "      <td>14</td>\n",
       "      <td>30</td>\n",
       "      <td>9</td>\n",
       "      <td>False</td>\n",
       "      <td>...</td>\n",
       "      <td>9</td>\n",
       "      <td>0</td>\n",
       "      <td>Санкт-Петербург</td>\n",
       "      <td>28098.0</td>\n",
       "      <td>6800.0</td>\n",
       "      <td>2</td>\n",
       "      <td>84.0</td>\n",
       "      <td>3</td>\n",
       "      <td>234.0</td>\n",
       "      <td>424</td>\n",
       "    </tr>\n",
       "    <tr>\n",
       "      <th>4</th>\n",
       "      <td>2</td>\n",
       "      <td>10000000</td>\n",
       "      <td>100.00</td>\n",
       "      <td>2018-06-19</td>\n",
       "      <td>2</td>\n",
       "      <td>3.03</td>\n",
       "      <td>14</td>\n",
       "      <td>32</td>\n",
       "      <td>13</td>\n",
       "      <td>False</td>\n",
       "      <td>...</td>\n",
       "      <td>41</td>\n",
       "      <td>0</td>\n",
       "      <td>Санкт-Петербург</td>\n",
       "      <td>31856.0</td>\n",
       "      <td>8098.0</td>\n",
       "      <td>2</td>\n",
       "      <td>112.0</td>\n",
       "      <td>1</td>\n",
       "      <td>48.0</td>\n",
       "      <td>121</td>\n",
       "    </tr>\n",
       "    <tr>\n",
       "      <th>5</th>\n",
       "      <td>10</td>\n",
       "      <td>2890000</td>\n",
       "      <td>30.40</td>\n",
       "      <td>2018-09-10</td>\n",
       "      <td>1</td>\n",
       "      <td>NaN</td>\n",
       "      <td>12</td>\n",
       "      <td>14</td>\n",
       "      <td>5</td>\n",
       "      <td>False</td>\n",
       "      <td>...</td>\n",
       "      <td>9</td>\n",
       "      <td>0</td>\n",
       "      <td>городской поселок Янино-1</td>\n",
       "      <td>NaN</td>\n",
       "      <td>NaN</td>\n",
       "      <td>0</td>\n",
       "      <td>NaN</td>\n",
       "      <td>0</td>\n",
       "      <td>NaN</td>\n",
       "      <td>55</td>\n",
       "    </tr>\n",
       "    <tr>\n",
       "      <th>6</th>\n",
       "      <td>6</td>\n",
       "      <td>3700000</td>\n",
       "      <td>37.30</td>\n",
       "      <td>2017-11-02</td>\n",
       "      <td>1</td>\n",
       "      <td>NaN</td>\n",
       "      <td>26</td>\n",
       "      <td>10</td>\n",
       "      <td>6</td>\n",
       "      <td>False</td>\n",
       "      <td>...</td>\n",
       "      <td>14</td>\n",
       "      <td>1</td>\n",
       "      <td>поселок Парголово</td>\n",
       "      <td>52996.0</td>\n",
       "      <td>19143.0</td>\n",
       "      <td>0</td>\n",
       "      <td>NaN</td>\n",
       "      <td>0</td>\n",
       "      <td>NaN</td>\n",
       "      <td>155</td>\n",
       "    </tr>\n",
       "    <tr>\n",
       "      <th>7</th>\n",
       "      <td>5</td>\n",
       "      <td>7915000</td>\n",
       "      <td>71.60</td>\n",
       "      <td>2019-04-18</td>\n",
       "      <td>2</td>\n",
       "      <td>NaN</td>\n",
       "      <td>24</td>\n",
       "      <td>30</td>\n",
       "      <td>22</td>\n",
       "      <td>False</td>\n",
       "      <td>...</td>\n",
       "      <td>18</td>\n",
       "      <td>2</td>\n",
       "      <td>Санкт-Петербург</td>\n",
       "      <td>23982.0</td>\n",
       "      <td>11634.0</td>\n",
       "      <td>0</td>\n",
       "      <td>NaN</td>\n",
       "      <td>0</td>\n",
       "      <td>NaN</td>\n",
       "      <td>&lt;NA&gt;</td>\n",
       "    </tr>\n",
       "    <tr>\n",
       "      <th>8</th>\n",
       "      <td>20</td>\n",
       "      <td>2900000</td>\n",
       "      <td>33.16</td>\n",
       "      <td>2018-05-23</td>\n",
       "      <td>1</td>\n",
       "      <td>NaN</td>\n",
       "      <td>27</td>\n",
       "      <td>15</td>\n",
       "      <td>26</td>\n",
       "      <td>False</td>\n",
       "      <td>...</td>\n",
       "      <td>8</td>\n",
       "      <td>0</td>\n",
       "      <td>Мурино</td>\n",
       "      <td>NaN</td>\n",
       "      <td>NaN</td>\n",
       "      <td>0</td>\n",
       "      <td>NaN</td>\n",
       "      <td>0</td>\n",
       "      <td>NaN</td>\n",
       "      <td>189</td>\n",
       "    </tr>\n",
       "    <tr>\n",
       "      <th>9</th>\n",
       "      <td>18</td>\n",
       "      <td>5400000</td>\n",
       "      <td>61.00</td>\n",
       "      <td>2017-02-26</td>\n",
       "      <td>3</td>\n",
       "      <td>2.50</td>\n",
       "      <td>9</td>\n",
       "      <td>43</td>\n",
       "      <td>7</td>\n",
       "      <td>False</td>\n",
       "      <td>...</td>\n",
       "      <td>6</td>\n",
       "      <td>2</td>\n",
       "      <td>Санкт-Петербург</td>\n",
       "      <td>50898.0</td>\n",
       "      <td>15008.0</td>\n",
       "      <td>0</td>\n",
       "      <td>NaN</td>\n",
       "      <td>0</td>\n",
       "      <td>NaN</td>\n",
       "      <td>289</td>\n",
       "    </tr>\n",
       "  </tbody>\n",
       "</table>\n",
       "<p>10 rows × 22 columns</p>\n",
       "</div>"
      ],
      "text/plain": [
       "   total_images  last_price  total_area first_day_exposition  rooms  \\\n",
       "0            20    13000000      108.00           2019-03-07      3   \n",
       "1             7     3350000       40.40           2018-12-04      1   \n",
       "2            10     5196000       56.00           2015-08-20      2   \n",
       "3             0    64900000      159.00           2015-07-24      3   \n",
       "4             2    10000000      100.00           2018-06-19      2   \n",
       "5            10     2890000       30.40           2018-09-10      1   \n",
       "6             6     3700000       37.30           2017-11-02      1   \n",
       "7             5     7915000       71.60           2019-04-18      2   \n",
       "8            20     2900000       33.16           2018-05-23      1   \n",
       "9            18     5400000       61.00           2017-02-26      3   \n",
       "\n",
       "   ceiling_height  floors_total  living_area  floor  is_apartment  ...  \\\n",
       "0            2.70            16           51      8         False  ...   \n",
       "1             NaN            11           18      1         False  ...   \n",
       "2             NaN             5           34      4         False  ...   \n",
       "3             NaN            14           30      9         False  ...   \n",
       "4            3.03            14           32     13         False  ...   \n",
       "5             NaN            12           14      5         False  ...   \n",
       "6             NaN            26           10      6         False  ...   \n",
       "7             NaN            24           30     22         False  ...   \n",
       "8             NaN            27           15     26         False  ...   \n",
       "9            2.50             9           43      7         False  ...   \n",
       "\n",
       "   kitchen_area  balcony              locality_name  airports_nearest  \\\n",
       "0            25        0            Санкт-Петербург           18863.0   \n",
       "1            11        2             поселок Шушары           12817.0   \n",
       "2             8        0            Санкт-Петербург           21741.0   \n",
       "3             9        0            Санкт-Петербург           28098.0   \n",
       "4            41        0            Санкт-Петербург           31856.0   \n",
       "5             9        0  городской поселок Янино-1               NaN   \n",
       "6            14        1          поселок Парголово           52996.0   \n",
       "7            18        2            Санкт-Петербург           23982.0   \n",
       "8             8        0                     Мурино               NaN   \n",
       "9             6        2            Санкт-Петербург           50898.0   \n",
       "\n",
       "  city_centers_nearest  parks_around3000  parks_nearest  ponds_around3000  \\\n",
       "0              16028.0                 1          482.0                 2   \n",
       "1              18603.0                 0            NaN                 0   \n",
       "2              13933.0                 1           90.0                 2   \n",
       "3               6800.0                 2           84.0                 3   \n",
       "4               8098.0                 2          112.0                 1   \n",
       "5                  NaN                 0            NaN                 0   \n",
       "6              19143.0                 0            NaN                 0   \n",
       "7              11634.0                 0            NaN                 0   \n",
       "8                  NaN                 0            NaN                 0   \n",
       "9              15008.0                 0            NaN                 0   \n",
       "\n",
       "   ponds_nearest  days_exposition  \n",
       "0          755.0             <NA>  \n",
       "1            NaN               81  \n",
       "2          574.0              558  \n",
       "3          234.0              424  \n",
       "4           48.0              121  \n",
       "5            NaN               55  \n",
       "6            NaN              155  \n",
       "7            NaN             <NA>  \n",
       "8            NaN              189  \n",
       "9            NaN              289  \n",
       "\n",
       "[10 rows x 22 columns]"
      ]
     },
     "metadata": {},
     "output_type": "display_data"
    }
   ],
   "source": [
    "data.info()\n",
    "display(data.head(10))"
   ]
  },
  {
   "cell_type": "markdown",
   "metadata": {},
   "source": [
    " Изучать общую площади и приводить данные в читстый вид будем  с помощью анализа диаграммы размаха и затем построения гистограммы с читстыми данными"
   ]
  },
  {
   "cell_type": "code",
   "execution_count": 19,
   "metadata": {},
   "outputs": [
    {
     "data": {
      "image/png": "[encoded data removed]",
      "text/plain": [
       "<Figure size 432x288 with 1 Axes>"
      ]
     },
     "metadata": {
      "needs_background": "light"
     },
     "output_type": "display_data"
    }
   ],
   "source": [
    "plt.ylim(0, 300)\n",
    "data.boxplot(column='total_area')\n",
    "plt.title(' Диаграмма  размаха для общей площади квартир')\n",
    "plt.ylabel('Общая площадь, кв.м')\n",
    "plt.show()"
   ]
  },
  {
   "cell_type": "markdown",
   "metadata": {},
   "source": [
    "Большая часть значений лежит в диапазоне до 70 кв.м.\n",
    "Первый квартиль находится на уровне 40 кв.м.\n",
    "Нижний \"ус\" упирается в 12, минимальное значение(очень маленькие квартиры). \n",
    "Верхний ус заканчивается около 115 кв.м.\n",
    "Данные за пределом верхнего уса будем считать вбросом\n",
    "Для визуализации чиситых данных будем использовать диапазон между верхним и нижнем усом"
   ]
  },
  {
   "cell_type": "markdown",
   "metadata": {},
   "source": [
    "Изучаем жилаю площадь таким же способ как и площадь квартиры"
   ]
  },
  {
   "cell_type": "markdown",
   "metadata": {},
   "source": [
    "Выведем основную информацию по данным"
   ]
  },
  {
   "cell_type": "code",
   "execution_count": 20,
   "metadata": {},
   "outputs": [
    {
     "data": {
      "text/plain": [
       "count    23565.000000\n",
       "mean        33.875705\n",
       "std         21.186871\n",
       "min          2.000000\n",
       "25%         19.000000\n",
       "50%         30.000000\n",
       "75%         41.000000\n",
       "max        409.000000\n",
       "Name: living_area, dtype: float64"
      ]
     },
     "metadata": {},
     "output_type": "display_data"
    }
   ],
   "source": [
    "display(data['living_area'].describe())\n"
   ]
  },
  {
   "cell_type": "code",
   "execution_count": 21,
   "metadata": {},
   "outputs": [
    {
     "data": {
      "image/png": "[encoded data removed]",
      "text/plain": [
       "<Figure size 432x288 with 1 Axes>"
      ]
     },
     "metadata": {
      "needs_background": "light"
     },
     "output_type": "display_data"
    }
   ],
   "source": [
    "plt.ylim(0, 300)\n",
    "data.boxplot(column='living_area')\n",
    "plt.title(' Диаграмма  размаха для жилой площади квартир')\n",
    "plt.ylabel('Жилая площадь, кв.м')\n",
    "plt.show()"
   ]
  },
  {
   "cell_type": "markdown",
   "metadata": {},
   "source": [
    "Большая часть значений лежит в диапазоне до 40 кв.м.\n",
    "Первый квартиль находится на уровне 10 кв.м.\n",
    "Нижний \"ус\" упирается в 2, минимальное значение(сложно представить, что есть квартиры с жилой площадью 2 кв.м, но при учете того что у нас есть квартиры с общей площадью12 кв.м, то возможно). \n",
    "Верхний ус заканчивается около 75 кв.м.\n",
    "Данные за пределом верхнего уса будем считать вбросом\n",
    "Для визуализации чситых данных будем использовать диапазон между верхним и нижнем усом"
   ]
  },
  {
   "cell_type": "markdown",
   "metadata": {},
   "source": [
    "Работаем с площадью кухни"
   ]
  },
  {
   "cell_type": "code",
   "execution_count": 22,
   "metadata": {},
   "outputs": [
    {
     "name": "stdout",
     "output_type": "stream",
     "text": [
      "count    23565.000000\n",
      "mean        10.189136\n",
      "std          5.640145\n",
      "min          1.000000\n",
      "25%          7.000000\n",
      "50%          9.000000\n",
      "75%         11.000000\n",
      "max        112.000000\n",
      "Name: kitchen_area, dtype: float64\n"
     ]
    },
    {
     "data": {
      "image/png": "[encoded data removed]",
      "text/plain": [
       "<Figure size 432x288 with 1 Axes>"
      ]
     },
     "metadata": {
      "needs_background": "light"
     },
     "output_type": "display_data"
    }
   ],
   "source": [
    "print(data['kitchen_area'].describe())\n",
    "plt.ylim(0, 50)\n",
    "data.boxplot(column='kitchen_area')\n",
    "plt.title(' Диаграмма  размаха для площади кухни')\n",
    "plt.ylabel('Площадь кухни, кв.м')\n",
    "plt.show()"
   ]
  },
  {
   "cell_type": "markdown",
   "metadata": {},
   "source": [
    "Большая часть значений лежит в диапазоне до 11 кв.м.\n",
    "Первый квартиль находится на уровне 7 кв.м.\n",
    "Нижний \"ус\" упирается в 1. \n",
    "Верхний ус заканчивается около 17 кв.м.\n",
    "Данные за пределом верхнего уса будем считать вбросом\n",
    "Для визуализации чситых данных будем использовать диапазон между верхним и нижнем усом"
   ]
  },
  {
   "cell_type": "markdown",
   "metadata": {},
   "source": [
    "Изучаем стоимость таким же способ приведенным выше"
   ]
  },
  {
   "cell_type": "code",
   "execution_count": 23,
   "metadata": {},
   "outputs": [
    {
     "name": "stdout",
     "output_type": "stream",
     "text": [
      "count    2.356500e+04\n",
      "mean     6.540058e+06\n",
      "std      1.091093e+07\n",
      "min      1.219000e+04\n",
      "25%      3.400000e+06\n",
      "50%      4.646000e+06\n",
      "75%      6.790000e+06\n",
      "max      7.630000e+08\n",
      "Name: last_price, dtype: float64\n"
     ]
    },
    {
     "data": {
      "image/png": "[encoded data removed]",
      "text/plain": [
       "<Figure size 432x288 with 1 Axes>"
      ]
     },
     "metadata": {
      "needs_background": "light"
     },
     "output_type": "display_data"
    }
   ],
   "source": [
    "print(data['last_price'].describe())\n",
    "plt.ylim(-1e+06, 1.4e+07)\n",
    "data.boxplot(column='last_price')\n",
    "plt.title(' Диаграмма  размаха стоимости квартиры')\n",
    "plt.ylabel('Стоимость')\n",
    "plt.show()"
   ]
  },
  {
   "cell_type": "markdown",
   "metadata": {},
   "source": [
    "Большая часть значений лежит в диапазоне до 7 млн., что выглядит правдаподобно.\n",
    "Первый квартиль на уровне 3.4 млн.\n",
    "Нижний \"ус\" упирается в 0. С данными проблема, так как врядли квартиры раздают за бесценок\n",
    "Просмотрим проблемные данные"
   ]
  },
  {
   "cell_type": "code",
   "execution_count": 24,
   "metadata": {},
   "outputs": [
    {
     "data": {
      "text/html": [
       "<div>\n",
       "<style scoped>\n",
       "    .dataframe tbody tr th:only-of-type {\n",
       "        vertical-align: middle;\n",
       "    }\n",
       "\n",
       "    .dataframe tbody tr th {\n",
       "        vertical-align: top;\n",
       "    }\n",
       "\n",
       "    .dataframe thead th {\n",
       "        text-align: right;\n",
       "    }\n",
       "</style>\n",
       "<table border=\"1\" class=\"dataframe\">\n",
       "  <thead>\n",
       "    <tr style=\"text-align: right;\">\n",
       "      <th></th>\n",
       "      <th>locality_name</th>\n",
       "      <th>last_price</th>\n",
       "      <th>total_area</th>\n",
       "    </tr>\n",
       "  </thead>\n",
       "  <tbody>\n",
       "    <tr>\n",
       "      <th>8793</th>\n",
       "      <td>Санкт-Петербург</td>\n",
       "      <td>12190</td>\n",
       "      <td>109.0</td>\n",
       "    </tr>\n",
       "    <tr>\n",
       "      <th>14911</th>\n",
       "      <td>поселок станции Свирь</td>\n",
       "      <td>430000</td>\n",
       "      <td>54.0</td>\n",
       "    </tr>\n",
       "    <tr>\n",
       "      <th>17456</th>\n",
       "      <td>Сланцы</td>\n",
       "      <td>430000</td>\n",
       "      <td>30.4</td>\n",
       "    </tr>\n",
       "    <tr>\n",
       "      <th>16274</th>\n",
       "      <td>деревня Старополье</td>\n",
       "      <td>440000</td>\n",
       "      <td>40.0</td>\n",
       "    </tr>\n",
       "  </tbody>\n",
       "</table>\n",
       "</div>"
      ],
      "text/plain": [
       "               locality_name  last_price  total_area\n",
       "8793         Санкт-Петербург       12190       109.0\n",
       "14911  поселок станции Свирь      430000        54.0\n",
       "17456                 Сланцы      430000        30.4\n",
       "16274     деревня Старополье      440000        40.0"
      ]
     },
     "execution_count": 24,
     "metadata": {},
     "output_type": "execute_result"
    }
   ],
   "source": [
    "cheap_realty = data.query('last_price < 4.5e+5')\n",
    "cheap_realty.sort_values('last_price').head()[['locality_name', 'last_price', 'total_area']]"
   ]
  },
  {
   "cell_type": "markdown",
   "metadata": {},
   "source": [
    "Квартира в Санкт- Петербурге с такой большой площадью, не может столько стоит, а вот для поселка стоимость в 430.000 нормальна. Нижнюю границу будем брать в 430000"
   ]
  },
  {
   "cell_type": "markdown",
   "metadata": {},
   "source": [
    "Изучаем количество комнат"
   ]
  },
  {
   "cell_type": "code",
   "execution_count": 25,
   "metadata": {},
   "outputs": [
    {
     "name": "stdout",
     "output_type": "stream",
     "text": [
      "count    23565.000000\n",
      "mean         2.070656\n",
      "std          1.078591\n",
      "min          0.000000\n",
      "25%          1.000000\n",
      "50%          2.000000\n",
      "75%          3.000000\n",
      "max         19.000000\n",
      "Name: rooms, dtype: float64\n"
     ]
    },
    {
     "data": {
      "image/png": "[encoded data removed]",
      "text/plain": [
       "<Figure size 432x288 with 1 Axes>"
      ]
     },
     "metadata": {
      "needs_background": "light"
     },
     "output_type": "display_data"
    }
   ],
   "source": [
    "print(data['rooms'].describe())\n",
    "plt.ylim(-1, 10)\n",
    "data.boxplot('rooms')\n",
    "plt.title(' Диаграмма  размаха для количества комнат')\n",
    "plt.ylabel('Количество комнат')\n",
    "plt.show()"
   ]
  },
  {
   "cell_type": "markdown",
   "metadata": {},
   "source": [
    "Больше всего однушек,двушек и трехкомнатных квартир.\n",
    "Первый квартиль находится на уровне 1 комнаты.\n",
    "Нижний \"ус\" упирается в 0, минимальное значение. Это ошибка в данных. Таких квартир не существует\n",
    "Верхний ус заканчивается около 6.\n",
    "Выбросы лежат за ориентировочной границей нормального распределения."
   ]
  },
  {
   "cell_type": "markdown",
   "metadata": {},
   "source": [
    "Изучаем высоту потолков"
   ]
  },
  {
   "cell_type": "code",
   "execution_count": 26,
   "metadata": {},
   "outputs": [
    {
     "name": "stdout",
     "output_type": "stream",
     "text": [
      "count    14481.000000\n",
      "mean         2.771283\n",
      "std          1.261983\n",
      "min          1.000000\n",
      "25%          2.510000\n",
      "50%          2.650000\n",
      "75%          2.800000\n",
      "max        100.000000\n",
      "Name: ceiling_height, dtype: float64\n"
     ]
    },
    {
     "data": {
      "image/png": "[encoded data removed]",
      "text/plain": [
       "<Figure size 432x288 with 1 Axes>"
      ]
     },
     "metadata": {
      "needs_background": "light"
     },
     "output_type": "display_data"
    }
   ],
   "source": [
    "print(data['ceiling_height'].describe())\n",
    "plt.ylim(1,4.5)\n",
    "data.boxplot('ceiling_height')\n",
    "plt.title(' Диаграмма  размаха для высоты потолков')\n",
    "plt.ylabel('Высота потолков, м')\n",
    "plt.show()"
   ]
  },
  {
   "cell_type": "markdown",
   "metadata": {},
   "source": [
    "\n",
    "Большая часть значений лежит в диапазоне до 2.8 м. Нормальная высота потолка\n",
    "Первый квартиль находится на уровне 2.5 м.\n",
    "Нижний \"ус\" упирается в 2.2 м. Слишком низко, это ошибка. Возьмем для обработки данные чуть повыше на уровне 2.4\n",
    "Верхний ус заканчивается около 3.2 м."
   ]
  },
  {
   "cell_type": "markdown",
   "metadata": {},
   "source": [
    "Изучаем общую этажность дома"
   ]
  },
  {
   "cell_type": "code",
   "execution_count": 27,
   "metadata": {},
   "outputs": [
    {
     "name": "stdout",
     "output_type": "stream",
     "text": [
      "count    23565.000000\n",
      "mean        10.675875\n",
      "std          6.594823\n",
      "min          1.000000\n",
      "25%          5.000000\n",
      "50%          9.000000\n",
      "75%         16.000000\n",
      "max         60.000000\n",
      "Name: floors_total, dtype: float64\n"
     ]
    },
    {
     "data": {
      "image/png": "[encoded data removed]",
      "text/plain": [
       "<Figure size 432x288 with 1 Axes>"
      ]
     },
     "metadata": {
      "needs_background": "light"
     },
     "output_type": "display_data"
    }
   ],
   "source": [
    "print(data['floors_total'].describe())\n",
    "plt.ylim(0,60)\n",
    "data.boxplot('floors_total')\n",
    "plt.title(' Диаграмма  размаха для количества этажей в доме')\n",
    "plt.ylabel('количество этажей')\n",
    "plt.show()"
   ]
  },
  {
   "cell_type": "markdown",
   "metadata": {},
   "source": [
    "Большая часть значений лежит в диапазоне до 15 этажа.\n",
    "Первый квартиль находится на уровне 5 этажа.\n",
    "Нижний \"ус\" упирается в 1. \n",
    "Верхний ус заканчивается на 29 этажах.\n",
    "Данные за пределом верхнего уса будем считать вбросом\n",
    "Для визуализации чситых данных будем использовать диапазон между верхним и нижнем усом"
   ]
  },
  {
   "cell_type": "markdown",
   "metadata": {},
   "source": [
    "Изучаем информацию об этажах"
   ]
  },
  {
   "cell_type": "code",
   "execution_count": 28,
   "metadata": {},
   "outputs": [
    {
     "name": "stdout",
     "output_type": "stream",
     "text": [
      "count    23565.000000\n",
      "mean         5.878124\n",
      "std          4.871485\n",
      "min          1.000000\n",
      "25%          2.000000\n",
      "50%          4.000000\n",
      "75%          8.000000\n",
      "max         33.000000\n",
      "Name: floor, dtype: float64\n"
     ]
    },
    {
     "data": {
      "image/png": "[encoded data removed]",
      "text/plain": [
       "<Figure size 432x288 with 1 Axes>"
      ]
     },
     "metadata": {
      "needs_background": "light"
     },
     "output_type": "display_data"
    }
   ],
   "source": [
    "print(data['floor'].describe())\n",
    "plt.ylim(0,60)\n",
    "data.boxplot('floor')\n",
    "plt.title(' Диаграмма  размаха для  этажа расположения квартиры')\n",
    "plt.ylabel('Этаж расположения')\n",
    "plt.show()"
   ]
  },
  {
   "cell_type": "markdown",
   "metadata": {},
   "source": [
    "Большая часть значений лежит в диапазоне до 9 этажа.\n",
    "Первый квартиль находится на уровне 2 этажа.\n",
    "Нижний \"ус\" упирается в 1. \n",
    "Верхний ус заканчивается на 17 этаже.\n",
    "Данные за пределом верхнего уса будем считать вбросом\n",
    "Для визуализации чситых данных будем использовать диапазон между верхним и нижнем усом"
   ]
  },
  {
   "cell_type": "markdown",
   "metadata": {},
   "source": [
    "Изучаем расстояние до центра города в м"
   ]
  },
  {
   "cell_type": "code",
   "execution_count": 29,
   "metadata": {},
   "outputs": [
    {
     "name": "stdout",
     "output_type": "stream",
     "text": [
      "count    18064.000000\n",
      "mean     14192.656056\n",
      "std       8613.348153\n",
      "min        181.000000\n",
      "25%       9238.000000\n",
      "50%      13096.500000\n",
      "75%      16285.000000\n",
      "max      65968.000000\n",
      "Name: city_centers_nearest, dtype: float64\n"
     ]
    },
    {
     "data": {
      "image/png": "[encoded data removed]",
      "text/plain": [
       "<Figure size 432x288 with 1 Axes>"
      ]
     },
     "metadata": {
      "needs_background": "light"
     },
     "output_type": "display_data"
    }
   ],
   "source": [
    "print(data['city_centers_nearest'].describe())\n",
    "plt.ylim(0,70000)\n",
    "data.boxplot('city_centers_nearest')\n",
    "plt.title(' Диаграмма  размаха расстояния до центра города')\n",
    "plt.ylabel('Расстояние до центра города,м')\n",
    "plt.show()"
   ]
  },
  {
   "cell_type": "markdown",
   "metadata": {},
   "source": [
    "Большая часть значений лежит в диапазоне до 15 км удаленности.\n",
    "Первый квартиль находится на уровне 9км.\n",
    "Нижний \"ус\" упирается в 0(квартиры в самом центре). \n",
    "Верхний ус заканчивается на 27 км(окраина).\n",
    "Данные за пределом верхнего уса будем считать вбросом\n",
    "Для визуализации чситых данных будем использовать диапазон между верхним и нижнем усом"
   ]
  },
  {
   "cell_type": "markdown",
   "metadata": {},
   "source": [
    "Изучаем расстояние до ближайшего аэропорта"
   ]
  },
  {
   "cell_type": "code",
   "execution_count": 30,
   "metadata": {},
   "outputs": [
    {
     "name": "stdout",
     "output_type": "stream",
     "text": [
      "count    18041.000000\n",
      "mean     28797.082701\n",
      "std      12632.499735\n",
      "min          0.000000\n",
      "25%      18565.000000\n",
      "50%      26757.000000\n",
      "75%      37273.000000\n",
      "max      84869.000000\n",
      "Name: airports_nearest, dtype: float64\n"
     ]
    },
    {
     "data": {
      "image/png": "[encoded data removed]",
      "text/plain": [
       "<Figure size 432x288 with 1 Axes>"
      ]
     },
     "metadata": {
      "needs_background": "light"
     },
     "output_type": "display_data"
    }
   ],
   "source": [
    "print(data['airports_nearest'].describe())\n",
    "plt.ylim(-1000,80000)\n",
    "data.boxplot('airports_nearest')\n",
    "plt.title(' Диаграмма  размаха расстояния до аэропорта')\n",
    "plt.ylabel('Расстояние до аэропорта,м')\n",
    "plt.show()"
   ]
  },
  {
   "cell_type": "markdown",
   "metadata": {},
   "source": [
    "Большая часть значений лежит в диапазоне до 38 км удаленности.\n",
    "Первый квартиль находится на уровне 19км.\n",
    "Нижний \"ус\" упирается в 0. Врядли квартира расположена в самом аэропорту, неверные данные, отбрасываем\n",
    "Верхний ус заканчивается на 38 км(окраина).\n",
    "Данные за пределом верхнего уса будем считать вбросом\n",
    "Для визуализации чситых данных будем использовать диапазон между верхним и нижнем усом"
   ]
  },
  {
   "cell_type": "markdown",
   "metadata": {},
   "source": [
    "Изучаем расстояние до ближайшего парка"
   ]
  },
  {
   "cell_type": "code",
   "execution_count": 31,
   "metadata": {},
   "outputs": [
    {
     "name": "stdout",
     "output_type": "stream",
     "text": [
      "count    8030.000000\n",
      "mean      490.580448\n",
      "std       341.572956\n",
      "min         1.000000\n",
      "25%       288.000000\n",
      "50%       455.000000\n",
      "75%       612.000000\n",
      "max      3190.000000\n",
      "Name: parks_nearest, dtype: float64\n"
     ]
    },
    {
     "data": {
      "image/png": "[encoded data removed]",
      "text/plain": [
       "<Figure size 432x288 with 1 Axes>"
      ]
     },
     "metadata": {
      "needs_background": "light"
     },
     "output_type": "display_data"
    }
   ],
   "source": [
    "print(data['parks_nearest'].describe())\n",
    "plt.ylim(-100,3000)\n",
    "data.boxplot('parks_nearest')\n",
    "plt.title(' Диаграмма  размаха расстояния до парка')\n",
    "plt.ylabel('Расстояние до парка,м')\n",
    "plt.show()"
   ]
  },
  {
   "cell_type": "markdown",
   "metadata": {},
   "source": [
    "Большая часть значений лежит в диапазоне до 600м удаленности.\n",
    "Первый квартиль находится на уровне 250м.\n",
    "Нижний \"ус\" упирается в 0. Врядли квартира расположена в самом парке, неверные данные, отбрасываем\n",
    "Верхний ус заканчивается на уадленности чуть больше 1 км(окраина).\n",
    "Данные за пределом верхнего уса будем считать вбросом\n",
    "Для визуализации чситых данных будем использовать диапазон между верхним и нижнем усом"
   ]
  },
  {
   "cell_type": "markdown",
   "metadata": {},
   "source": [
    "Работаем с аномалиями и выбивающиемеся значениями"
   ]
  },
  {
   "cell_type": "markdown",
   "metadata": {},
   "source": [
    "Создаем функцию для подсчёта границ с учетом 1.5 размаха"
   ]
  },
  {
   "cell_type": "code",
   "execution_count": 32,
   "metadata": {},
   "outputs": [],
   "source": [
    "def quartile_range(df, column):\n",
    "    q1 = df[column].quantile(0.25)\n",
    "    q3 = df[column].quantile(0.75)\n",
    "    iqr = q3 - q1\n",
    "    dfq = df.loc[(df[column] < q3 + 1.5*iqr) & (df[column] > q1 - 1.5*iqr), column]\n",
    "    return dfq"
   ]
  },
  {
   "cell_type": "markdown",
   "metadata": {},
   "source": [
    "Столбцы с выбросами"
   ]
  },
  {
   "cell_type": "code",
   "execution_count": 33,
   "metadata": {},
   "outputs": [],
   "source": [
    "list_features = ['last_price', 'total_area', 'kitchen_area', 'living_area', 'days_exposition', 'ceiling_height', 'rooms']\n",
    "for col in list_features:\n",
    "    data[col] = quartile_range(data, col)\n"
   ]
  },
  {
   "cell_type": "markdown",
   "metadata": {},
   "source": [
    "Возвращаем в целочисленный тип число комнат"
   ]
  },
  {
   "cell_type": "code",
   "execution_count": 34,
   "metadata": {},
   "outputs": [],
   "source": [
    "data['rooms'] = data['rooms'].fillna(0).astype(int)"
   ]
  },
  {
   "cell_type": "markdown",
   "metadata": {},
   "source": [
    "Изучаем, есть ли выбивающиеся значения"
   ]
  },
  {
   "cell_type": "code",
   "execution_count": 35,
   "metadata": {},
   "outputs": [
    {
     "data": {
      "text/html": [
       "<div>\n",
       "<style scoped>\n",
       "    .dataframe tbody tr th:only-of-type {\n",
       "        vertical-align: middle;\n",
       "    }\n",
       "\n",
       "    .dataframe tbody tr th {\n",
       "        vertical-align: top;\n",
       "    }\n",
       "\n",
       "    .dataframe thead th {\n",
       "        text-align: right;\n",
       "    }\n",
       "</style>\n",
       "<table border=\"1\" class=\"dataframe\">\n",
       "  <thead>\n",
       "    <tr style=\"text-align: right;\">\n",
       "      <th></th>\n",
       "      <th>total_images</th>\n",
       "      <th>last_price</th>\n",
       "      <th>total_area</th>\n",
       "      <th>rooms</th>\n",
       "      <th>ceiling_height</th>\n",
       "      <th>floors_total</th>\n",
       "      <th>living_area</th>\n",
       "      <th>floor</th>\n",
       "      <th>kitchen_area</th>\n",
       "      <th>balcony</th>\n",
       "      <th>airports_nearest</th>\n",
       "      <th>city_centers_nearest</th>\n",
       "      <th>parks_around3000</th>\n",
       "      <th>parks_nearest</th>\n",
       "      <th>ponds_around3000</th>\n",
       "      <th>ponds_nearest</th>\n",
       "      <th>days_exposition</th>\n",
       "    </tr>\n",
       "  </thead>\n",
       "  <tbody>\n",
       "    <tr>\n",
       "      <th>count</th>\n",
       "      <td>23565.000000</td>\n",
       "      <td>2.151900e+04</td>\n",
       "      <td>22326.000000</td>\n",
       "      <td>23565.000000</td>\n",
       "      <td>13662.000000</td>\n",
       "      <td>23565.000000</td>\n",
       "      <td>22673.000000</td>\n",
       "      <td>23565.000000</td>\n",
       "      <td>21801.000000</td>\n",
       "      <td>23565.000000</td>\n",
       "      <td>18041.000000</td>\n",
       "      <td>18064.000000</td>\n",
       "      <td>23565.000000</td>\n",
       "      <td>8030.000000</td>\n",
       "      <td>23565.000000</td>\n",
       "      <td>9036.000000</td>\n",
       "      <td>18721.000000</td>\n",
       "    </tr>\n",
       "    <tr>\n",
       "      <th>mean</th>\n",
       "      <td>9.878421</td>\n",
       "      <td>4.837115e+06</td>\n",
       "      <td>54.319704</td>\n",
       "      <td>2.013495</td>\n",
       "      <td>2.680072</td>\n",
       "      <td>10.675875</td>\n",
       "      <td>30.953204</td>\n",
       "      <td>5.878124</td>\n",
       "      <td>9.002110</td>\n",
       "      <td>0.593677</td>\n",
       "      <td>28797.082701</td>\n",
       "      <td>14192.656056</td>\n",
       "      <td>0.468831</td>\n",
       "      <td>490.580448</td>\n",
       "      <td>0.589900</td>\n",
       "      <td>518.289509</td>\n",
       "      <td>128.299343</td>\n",
       "    </tr>\n",
       "    <tr>\n",
       "      <th>std</th>\n",
       "      <td>5.681156</td>\n",
       "      <td>2.215774e+06</td>\n",
       "      <td>19.331030</td>\n",
       "      <td>0.986750</td>\n",
       "      <td>0.184412</td>\n",
       "      <td>6.594823</td>\n",
       "      <td>12.987830</td>\n",
       "      <td>4.871485</td>\n",
       "      <td>2.662394</td>\n",
       "      <td>0.960660</td>\n",
       "      <td>12632.499735</td>\n",
       "      <td>8613.348153</td>\n",
       "      <td>0.748403</td>\n",
       "      <td>341.572956</td>\n",
       "      <td>0.883966</td>\n",
       "      <td>278.009558</td>\n",
       "      <td>121.064671</td>\n",
       "    </tr>\n",
       "    <tr>\n",
       "      <th>min</th>\n",
       "      <td>0.000000</td>\n",
       "      <td>1.219000e+04</td>\n",
       "      <td>12.000000</td>\n",
       "      <td>0.000000</td>\n",
       "      <td>2.200000</td>\n",
       "      <td>1.000000</td>\n",
       "      <td>2.000000</td>\n",
       "      <td>1.000000</td>\n",
       "      <td>2.000000</td>\n",
       "      <td>0.000000</td>\n",
       "      <td>0.000000</td>\n",
       "      <td>181.000000</td>\n",
       "      <td>0.000000</td>\n",
       "      <td>1.000000</td>\n",
       "      <td>0.000000</td>\n",
       "      <td>13.000000</td>\n",
       "      <td>1.000000</td>\n",
       "    </tr>\n",
       "    <tr>\n",
       "      <th>25%</th>\n",
       "      <td>6.000000</td>\n",
       "      <td>3.300000e+06</td>\n",
       "      <td>39.400000</td>\n",
       "      <td>1.000000</td>\n",
       "      <td>2.500000</td>\n",
       "      <td>5.000000</td>\n",
       "      <td>19.000000</td>\n",
       "      <td>2.000000</td>\n",
       "      <td>7.000000</td>\n",
       "      <td>0.000000</td>\n",
       "      <td>18565.000000</td>\n",
       "      <td>9238.000000</td>\n",
       "      <td>0.000000</td>\n",
       "      <td>288.000000</td>\n",
       "      <td>0.000000</td>\n",
       "      <td>293.000000</td>\n",
       "      <td>41.000000</td>\n",
       "    </tr>\n",
       "    <tr>\n",
       "      <th>50%</th>\n",
       "      <td>9.000000</td>\n",
       "      <td>4.400000e+06</td>\n",
       "      <td>50.000000</td>\n",
       "      <td>2.000000</td>\n",
       "      <td>2.640000</td>\n",
       "      <td>9.000000</td>\n",
       "      <td>30.000000</td>\n",
       "      <td>4.000000</td>\n",
       "      <td>9.000000</td>\n",
       "      <td>0.000000</td>\n",
       "      <td>26757.000000</td>\n",
       "      <td>13096.500000</td>\n",
       "      <td>0.000000</td>\n",
       "      <td>455.000000</td>\n",
       "      <td>0.000000</td>\n",
       "      <td>503.000000</td>\n",
       "      <td>85.000000</td>\n",
       "    </tr>\n",
       "    <tr>\n",
       "      <th>75%</th>\n",
       "      <td>14.000000</td>\n",
       "      <td>6.000000e+06</td>\n",
       "      <td>65.500000</td>\n",
       "      <td>3.000000</td>\n",
       "      <td>2.760000</td>\n",
       "      <td>16.000000</td>\n",
       "      <td>39.000000</td>\n",
       "      <td>8.000000</td>\n",
       "      <td>10.000000</td>\n",
       "      <td>1.000000</td>\n",
       "      <td>37273.000000</td>\n",
       "      <td>16285.000000</td>\n",
       "      <td>1.000000</td>\n",
       "      <td>612.000000</td>\n",
       "      <td>1.000000</td>\n",
       "      <td>730.000000</td>\n",
       "      <td>182.000000</td>\n",
       "    </tr>\n",
       "    <tr>\n",
       "      <th>max</th>\n",
       "      <td>50.000000</td>\n",
       "      <td>1.186686e+07</td>\n",
       "      <td>114.200000</td>\n",
       "      <td>5.000000</td>\n",
       "      <td>3.230000</td>\n",
       "      <td>60.000000</td>\n",
       "      <td>73.000000</td>\n",
       "      <td>33.000000</td>\n",
       "      <td>16.000000</td>\n",
       "      <td>5.000000</td>\n",
       "      <td>84869.000000</td>\n",
       "      <td>65968.000000</td>\n",
       "      <td>3.000000</td>\n",
       "      <td>3190.000000</td>\n",
       "      <td>3.000000</td>\n",
       "      <td>1344.000000</td>\n",
       "      <td>509.000000</td>\n",
       "    </tr>\n",
       "  </tbody>\n",
       "</table>\n",
       "</div>"
      ],
      "text/plain": [
       "       total_images    last_price    total_area         rooms  ceiling_height  \\\n",
       "count  23565.000000  2.151900e+04  22326.000000  23565.000000    13662.000000   \n",
       "mean       9.878421  4.837115e+06     54.319704      2.013495        2.680072   \n",
       "std        5.681156  2.215774e+06     19.331030      0.986750        0.184412   \n",
       "min        0.000000  1.219000e+04     12.000000      0.000000        2.200000   \n",
       "25%        6.000000  3.300000e+06     39.400000      1.000000        2.500000   \n",
       "50%        9.000000  4.400000e+06     50.000000      2.000000        2.640000   \n",
       "75%       14.000000  6.000000e+06     65.500000      3.000000        2.760000   \n",
       "max       50.000000  1.186686e+07    114.200000      5.000000        3.230000   \n",
       "\n",
       "       floors_total   living_area         floor  kitchen_area       balcony  \\\n",
       "count  23565.000000  22673.000000  23565.000000  21801.000000  23565.000000   \n",
       "mean      10.675875     30.953204      5.878124      9.002110      0.593677   \n",
       "std        6.594823     12.987830      4.871485      2.662394      0.960660   \n",
       "min        1.000000      2.000000      1.000000      2.000000      0.000000   \n",
       "25%        5.000000     19.000000      2.000000      7.000000      0.000000   \n",
       "50%        9.000000     30.000000      4.000000      9.000000      0.000000   \n",
       "75%       16.000000     39.000000      8.000000     10.000000      1.000000   \n",
       "max       60.000000     73.000000     33.000000     16.000000      5.000000   \n",
       "\n",
       "       airports_nearest  city_centers_nearest  parks_around3000  \\\n",
       "count      18041.000000          18064.000000      23565.000000   \n",
       "mean       28797.082701          14192.656056          0.468831   \n",
       "std        12632.499735           8613.348153          0.748403   \n",
       "min            0.000000            181.000000          0.000000   \n",
       "25%        18565.000000           9238.000000          0.000000   \n",
       "50%        26757.000000          13096.500000          0.000000   \n",
       "75%        37273.000000          16285.000000          1.000000   \n",
       "max        84869.000000          65968.000000          3.000000   \n",
       "\n",
       "       parks_nearest  ponds_around3000  ponds_nearest  days_exposition  \n",
       "count    8030.000000      23565.000000    9036.000000     18721.000000  \n",
       "mean      490.580448          0.589900     518.289509       128.299343  \n",
       "std       341.572956          0.883966     278.009558       121.064671  \n",
       "min         1.000000          0.000000      13.000000         1.000000  \n",
       "25%       288.000000          0.000000     293.000000        41.000000  \n",
       "50%       455.000000          0.000000     503.000000        85.000000  \n",
       "75%       612.000000          1.000000     730.000000       182.000000  \n",
       "max      3190.000000          3.000000    1344.000000       509.000000  "
      ]
     },
     "execution_count": 35,
     "metadata": {},
     "output_type": "execute_result"
    }
   ],
   "source": [
    "data.describe()"
   ]
  },
  {
   "cell_type": "markdown",
   "metadata": {},
   "source": [
    "В датафрейме отброшены значения на основе 1.5 размаха. Значения стали лучше и адекватнее."
   ]
  },
  {
   "cell_type": "markdown",
   "metadata": {},
   "source": [
    "### Посчитайте и добавьте в таблицу новые столбцы"
   ]
  },
  {
   "cell_type": "markdown",
   "metadata": {},
   "source": [
    "Рассчитаем цену одного квадратного метра, разделим цену на общую площадь и добавим новый столбец"
   ]
  },
  {
   "cell_type": "code",
   "execution_count": 36,
   "metadata": {},
   "outputs": [],
   "source": [
    "data['area_price'] = data['last_price'] / data['total_area']\n",
    "data['area_price'] = np.floor(pd.to_numeric(data['area_price'], errors='coerce')).astype('Int64')"
   ]
  },
  {
   "cell_type": "markdown",
   "metadata": {},
   "source": [
    "Добавляем столбцы дня недели, месяца и года"
   ]
  },
  {
   "cell_type": "code",
   "execution_count": 37,
   "metadata": {},
   "outputs": [],
   "source": [
    "data['weekday'] = data['first_day_exposition'].dt.weekday\n",
    "data['month'] = data['first_day_exposition'].dt.month\n",
    "data['year'] = data['first_day_exposition'].dt.year"
   ]
  },
  {
   "cell_type": "markdown",
   "metadata": {},
   "source": [
    "Категоризируем этажи, используя цикл"
   ]
  },
  {
   "cell_type": "code",
   "execution_count": 38,
   "metadata": {},
   "outputs": [],
   "source": [
    "def floor_group(row):\n",
    "    if row['floor'] == 1:\n",
    "        return 'первый'\n",
    "    elif row['floor'] == row['floors_total']:\n",
    "        return 'последний'\n",
    "    else:\n",
    "        return 'другой'\n",
    "data['floor_type'] = data.apply(floor_group, axis=1)"
   ]
  },
  {
   "cell_type": "markdown",
   "metadata": {},
   "source": [
    "Рассчитаем расстояние в км до центра города  и приведем данные к целочисленному типу"
   ]
  },
  {
   "cell_type": "code",
   "execution_count": 39,
   "metadata": {},
   "outputs": [],
   "source": [
    "data['city_centers_nearest_km'] = data['city_centers_nearest'] / 1000\n",
    "data['city_centers_nearest_km']=np.floor(pd.to_numeric(data['city_centers_nearest_km'], errors='coerce')).astype('Int64')\n"
   ]
  },
  {
   "cell_type": "markdown",
   "metadata": {},
   "source": [
    "Выведем первые 10 строк таблицы"
   ]
  },
  {
   "cell_type": "code",
   "execution_count": 40,
   "metadata": {},
   "outputs": [
    {
     "data": {
      "text/html": [
       "<div>\n",
       "<style scoped>\n",
       "    .dataframe tbody tr th:only-of-type {\n",
       "        vertical-align: middle;\n",
       "    }\n",
       "\n",
       "    .dataframe tbody tr th {\n",
       "        vertical-align: top;\n",
       "    }\n",
       "\n",
       "    .dataframe thead th {\n",
       "        text-align: right;\n",
       "    }\n",
       "</style>\n",
       "<table border=\"1\" class=\"dataframe\">\n",
       "  <thead>\n",
       "    <tr style=\"text-align: right;\">\n",
       "      <th></th>\n",
       "      <th>total_images</th>\n",
       "      <th>last_price</th>\n",
       "      <th>total_area</th>\n",
       "      <th>first_day_exposition</th>\n",
       "      <th>rooms</th>\n",
       "      <th>ceiling_height</th>\n",
       "      <th>floors_total</th>\n",
       "      <th>living_area</th>\n",
       "      <th>floor</th>\n",
       "      <th>is_apartment</th>\n",
       "      <th>...</th>\n",
       "      <th>parks_nearest</th>\n",
       "      <th>ponds_around3000</th>\n",
       "      <th>ponds_nearest</th>\n",
       "      <th>days_exposition</th>\n",
       "      <th>area_price</th>\n",
       "      <th>weekday</th>\n",
       "      <th>month</th>\n",
       "      <th>year</th>\n",
       "      <th>floor_type</th>\n",
       "      <th>city_centers_nearest_km</th>\n",
       "    </tr>\n",
       "  </thead>\n",
       "  <tbody>\n",
       "    <tr>\n",
       "      <th>0</th>\n",
       "      <td>20</td>\n",
       "      <td>NaN</td>\n",
       "      <td>108.00</td>\n",
       "      <td>2019-03-07</td>\n",
       "      <td>3</td>\n",
       "      <td>2.70</td>\n",
       "      <td>16</td>\n",
       "      <td>51.0</td>\n",
       "      <td>8</td>\n",
       "      <td>False</td>\n",
       "      <td>...</td>\n",
       "      <td>482.0</td>\n",
       "      <td>2</td>\n",
       "      <td>755.0</td>\n",
       "      <td>&lt;NA&gt;</td>\n",
       "      <td>&lt;NA&gt;</td>\n",
       "      <td>3</td>\n",
       "      <td>3</td>\n",
       "      <td>2019</td>\n",
       "      <td>другой</td>\n",
       "      <td>16</td>\n",
       "    </tr>\n",
       "    <tr>\n",
       "      <th>1</th>\n",
       "      <td>7</td>\n",
       "      <td>3350000.0</td>\n",
       "      <td>40.40</td>\n",
       "      <td>2018-12-04</td>\n",
       "      <td>1</td>\n",
       "      <td>NaN</td>\n",
       "      <td>11</td>\n",
       "      <td>18.0</td>\n",
       "      <td>1</td>\n",
       "      <td>False</td>\n",
       "      <td>...</td>\n",
       "      <td>NaN</td>\n",
       "      <td>0</td>\n",
       "      <td>NaN</td>\n",
       "      <td>81</td>\n",
       "      <td>82920</td>\n",
       "      <td>1</td>\n",
       "      <td>12</td>\n",
       "      <td>2018</td>\n",
       "      <td>первый</td>\n",
       "      <td>18</td>\n",
       "    </tr>\n",
       "    <tr>\n",
       "      <th>2</th>\n",
       "      <td>10</td>\n",
       "      <td>5196000.0</td>\n",
       "      <td>56.00</td>\n",
       "      <td>2015-08-20</td>\n",
       "      <td>2</td>\n",
       "      <td>NaN</td>\n",
       "      <td>5</td>\n",
       "      <td>34.0</td>\n",
       "      <td>4</td>\n",
       "      <td>False</td>\n",
       "      <td>...</td>\n",
       "      <td>90.0</td>\n",
       "      <td>2</td>\n",
       "      <td>574.0</td>\n",
       "      <td>&lt;NA&gt;</td>\n",
       "      <td>92785</td>\n",
       "      <td>3</td>\n",
       "      <td>8</td>\n",
       "      <td>2015</td>\n",
       "      <td>другой</td>\n",
       "      <td>13</td>\n",
       "    </tr>\n",
       "    <tr>\n",
       "      <th>3</th>\n",
       "      <td>0</td>\n",
       "      <td>NaN</td>\n",
       "      <td>NaN</td>\n",
       "      <td>2015-07-24</td>\n",
       "      <td>3</td>\n",
       "      <td>NaN</td>\n",
       "      <td>14</td>\n",
       "      <td>30.0</td>\n",
       "      <td>9</td>\n",
       "      <td>False</td>\n",
       "      <td>...</td>\n",
       "      <td>84.0</td>\n",
       "      <td>3</td>\n",
       "      <td>234.0</td>\n",
       "      <td>424</td>\n",
       "      <td>&lt;NA&gt;</td>\n",
       "      <td>4</td>\n",
       "      <td>7</td>\n",
       "      <td>2015</td>\n",
       "      <td>другой</td>\n",
       "      <td>6</td>\n",
       "    </tr>\n",
       "    <tr>\n",
       "      <th>4</th>\n",
       "      <td>2</td>\n",
       "      <td>10000000.0</td>\n",
       "      <td>100.00</td>\n",
       "      <td>2018-06-19</td>\n",
       "      <td>2</td>\n",
       "      <td>3.03</td>\n",
       "      <td>14</td>\n",
       "      <td>32.0</td>\n",
       "      <td>13</td>\n",
       "      <td>False</td>\n",
       "      <td>...</td>\n",
       "      <td>112.0</td>\n",
       "      <td>1</td>\n",
       "      <td>48.0</td>\n",
       "      <td>121</td>\n",
       "      <td>100000</td>\n",
       "      <td>1</td>\n",
       "      <td>6</td>\n",
       "      <td>2018</td>\n",
       "      <td>другой</td>\n",
       "      <td>8</td>\n",
       "    </tr>\n",
       "    <tr>\n",
       "      <th>5</th>\n",
       "      <td>10</td>\n",
       "      <td>2890000.0</td>\n",
       "      <td>30.40</td>\n",
       "      <td>2018-09-10</td>\n",
       "      <td>1</td>\n",
       "      <td>NaN</td>\n",
       "      <td>12</td>\n",
       "      <td>14.0</td>\n",
       "      <td>5</td>\n",
       "      <td>False</td>\n",
       "      <td>...</td>\n",
       "      <td>NaN</td>\n",
       "      <td>0</td>\n",
       "      <td>NaN</td>\n",
       "      <td>55</td>\n",
       "      <td>95065</td>\n",
       "      <td>0</td>\n",
       "      <td>9</td>\n",
       "      <td>2018</td>\n",
       "      <td>другой</td>\n",
       "      <td>&lt;NA&gt;</td>\n",
       "    </tr>\n",
       "    <tr>\n",
       "      <th>6</th>\n",
       "      <td>6</td>\n",
       "      <td>3700000.0</td>\n",
       "      <td>37.30</td>\n",
       "      <td>2017-11-02</td>\n",
       "      <td>1</td>\n",
       "      <td>NaN</td>\n",
       "      <td>26</td>\n",
       "      <td>10.0</td>\n",
       "      <td>6</td>\n",
       "      <td>False</td>\n",
       "      <td>...</td>\n",
       "      <td>NaN</td>\n",
       "      <td>0</td>\n",
       "      <td>NaN</td>\n",
       "      <td>155</td>\n",
       "      <td>99195</td>\n",
       "      <td>3</td>\n",
       "      <td>11</td>\n",
       "      <td>2017</td>\n",
       "      <td>другой</td>\n",
       "      <td>19</td>\n",
       "    </tr>\n",
       "    <tr>\n",
       "      <th>7</th>\n",
       "      <td>5</td>\n",
       "      <td>7915000.0</td>\n",
       "      <td>71.60</td>\n",
       "      <td>2019-04-18</td>\n",
       "      <td>2</td>\n",
       "      <td>NaN</td>\n",
       "      <td>24</td>\n",
       "      <td>30.0</td>\n",
       "      <td>22</td>\n",
       "      <td>False</td>\n",
       "      <td>...</td>\n",
       "      <td>NaN</td>\n",
       "      <td>0</td>\n",
       "      <td>NaN</td>\n",
       "      <td>&lt;NA&gt;</td>\n",
       "      <td>110544</td>\n",
       "      <td>3</td>\n",
       "      <td>4</td>\n",
       "      <td>2019</td>\n",
       "      <td>другой</td>\n",
       "      <td>11</td>\n",
       "    </tr>\n",
       "    <tr>\n",
       "      <th>8</th>\n",
       "      <td>20</td>\n",
       "      <td>2900000.0</td>\n",
       "      <td>33.16</td>\n",
       "      <td>2018-05-23</td>\n",
       "      <td>1</td>\n",
       "      <td>NaN</td>\n",
       "      <td>27</td>\n",
       "      <td>15.0</td>\n",
       "      <td>26</td>\n",
       "      <td>False</td>\n",
       "      <td>...</td>\n",
       "      <td>NaN</td>\n",
       "      <td>0</td>\n",
       "      <td>NaN</td>\n",
       "      <td>189</td>\n",
       "      <td>87454</td>\n",
       "      <td>2</td>\n",
       "      <td>5</td>\n",
       "      <td>2018</td>\n",
       "      <td>другой</td>\n",
       "      <td>&lt;NA&gt;</td>\n",
       "    </tr>\n",
       "    <tr>\n",
       "      <th>9</th>\n",
       "      <td>18</td>\n",
       "      <td>5400000.0</td>\n",
       "      <td>61.00</td>\n",
       "      <td>2017-02-26</td>\n",
       "      <td>3</td>\n",
       "      <td>2.50</td>\n",
       "      <td>9</td>\n",
       "      <td>43.0</td>\n",
       "      <td>7</td>\n",
       "      <td>False</td>\n",
       "      <td>...</td>\n",
       "      <td>NaN</td>\n",
       "      <td>0</td>\n",
       "      <td>NaN</td>\n",
       "      <td>289</td>\n",
       "      <td>88524</td>\n",
       "      <td>6</td>\n",
       "      <td>2</td>\n",
       "      <td>2017</td>\n",
       "      <td>другой</td>\n",
       "      <td>15</td>\n",
       "    </tr>\n",
       "  </tbody>\n",
       "</table>\n",
       "<p>10 rows × 28 columns</p>\n",
       "</div>"
      ],
      "text/plain": [
       "   total_images  last_price  total_area first_day_exposition  rooms  \\\n",
       "0            20         NaN      108.00           2019-03-07      3   \n",
       "1             7   3350000.0       40.40           2018-12-04      1   \n",
       "2            10   5196000.0       56.00           2015-08-20      2   \n",
       "3             0         NaN         NaN           2015-07-24      3   \n",
       "4             2  10000000.0      100.00           2018-06-19      2   \n",
       "5            10   2890000.0       30.40           2018-09-10      1   \n",
       "6             6   3700000.0       37.30           2017-11-02      1   \n",
       "7             5   7915000.0       71.60           2019-04-18      2   \n",
       "8            20   2900000.0       33.16           2018-05-23      1   \n",
       "9            18   5400000.0       61.00           2017-02-26      3   \n",
       "\n",
       "   ceiling_height  floors_total  living_area  floor  is_apartment  ...  \\\n",
       "0            2.70            16         51.0      8         False  ...   \n",
       "1             NaN            11         18.0      1         False  ...   \n",
       "2             NaN             5         34.0      4         False  ...   \n",
       "3             NaN            14         30.0      9         False  ...   \n",
       "4            3.03            14         32.0     13         False  ...   \n",
       "5             NaN            12         14.0      5         False  ...   \n",
       "6             NaN            26         10.0      6         False  ...   \n",
       "7             NaN            24         30.0     22         False  ...   \n",
       "8             NaN            27         15.0     26         False  ...   \n",
       "9            2.50             9         43.0      7         False  ...   \n",
       "\n",
       "   parks_nearest  ponds_around3000  ponds_nearest  days_exposition area_price  \\\n",
       "0          482.0                 2          755.0             <NA>       <NA>   \n",
       "1            NaN                 0            NaN               81      82920   \n",
       "2           90.0                 2          574.0             <NA>      92785   \n",
       "3           84.0                 3          234.0              424       <NA>   \n",
       "4          112.0                 1           48.0              121     100000   \n",
       "5            NaN                 0            NaN               55      95065   \n",
       "6            NaN                 0            NaN              155      99195   \n",
       "7            NaN                 0            NaN             <NA>     110544   \n",
       "8            NaN                 0            NaN              189      87454   \n",
       "9            NaN                 0            NaN              289      88524   \n",
       "\n",
       "   weekday  month  year  floor_type  city_centers_nearest_km  \n",
       "0        3      3  2019      другой                       16  \n",
       "1        1     12  2018      первый                       18  \n",
       "2        3      8  2015      другой                       13  \n",
       "3        4      7  2015      другой                        6  \n",
       "4        1      6  2018      другой                        8  \n",
       "5        0      9  2018      другой                     <NA>  \n",
       "6        3     11  2017      другой                       19  \n",
       "7        3      4  2019      другой                       11  \n",
       "8        2      5  2018      другой                     <NA>  \n",
       "9        6      2  2017      другой                       15  \n",
       "\n",
       "[10 rows x 28 columns]"
      ]
     },
     "metadata": {},
     "output_type": "display_data"
    }
   ],
   "source": [
    "display(data.head(10))"
   ]
  },
  {
   "cell_type": "markdown",
   "metadata": {},
   "source": [
    "### Проведите исследовательский анализ данных"
   ]
  },
  {
   "cell_type": "markdown",
   "metadata": {},
   "source": [
    "Построим гистограммы и проанализируем результаты"
   ]
  },
  {
   "cell_type": "code",
   "execution_count": 41,
   "metadata": {},
   "outputs": [
    {
     "data": {
      "image/png": "[encoded data removed]",
      "text/plain": [
       "<Figure size 432x288 with 1 Axes>"
      ]
     },
     "metadata": {
      "needs_background": "light"
     },
     "output_type": "display_data"
    }
   ],
   "source": [
    "data.query('total_area >= 12 and total_area <= 115')['total_area'].hist()\n",
    "plt.title('Общая площадь квартир')\n",
    "plt.xlabel('Общая площадь,кв.м')\n",
    "plt.ylabel('Количество квартир')\n",
    "plt.show()"
   ]
  },
  {
   "cell_type": "markdown",
   "metadata": {},
   "source": [
    "Самые популярные квартиры для размещения от 30 до 50 кв.метров.Большинство квартир - менее 100 квадратных метров, больше площадь практически не встречается. "
   ]
  },
  {
   "cell_type": "code",
   "execution_count": 42,
   "metadata": {},
   "outputs": [
    {
     "data": {
      "image/png": "[encoded data removed]",
      "text/plain": [
       "<Figure size 432x288 with 1 Axes>"
      ]
     },
     "metadata": {
      "needs_background": "light"
     },
     "output_type": "display_data"
    }
   ],
   "source": [
    "data.query('living_area >= 10 and living_area <= 40')['living_area'].hist()\n",
    "plt.title('Жилая площадь квартир')\n",
    "plt.xlabel('Жилая площадь,кв.м')\n",
    "plt.ylabel('Количество квартир')\n",
    "plt.show()"
   ]
  },
  {
   "cell_type": "markdown",
   "metadata": {},
   "source": [
    "Самая популярная квадратура от 25 кв.м и до 32 кв. метров(однушки и студии), вторыми по популярности идут двушки(40 плюс квадратов). Были найдены и квартиры с жилой площадью 2 кв. метра, что логично при условии, что есть варинаты квартир с общей площадью 12кв.метров.Два пика графика вызваны, вероятно, тем, что это жилые площади для 1-комнатной, затем для 2-комнатной и после этого для 3-комнатной квартиры."
   ]
  },
  {
   "cell_type": "code",
   "execution_count": 43,
   "metadata": {},
   "outputs": [
    {
     "data": {
      "image/png": "[encoded data removed]",
      "text/plain": [
       "<Figure size 432x288 with 1 Axes>"
      ]
     },
     "metadata": {
      "needs_background": "light"
     },
     "output_type": "display_data"
    }
   ],
   "source": [
    "data.query('kitchen_area >= 1 and kitchen_area <= 17')['kitchen_area'].hist()\n",
    "plt.title('Площадь кухни')\n",
    "plt.xlabel('Площадь кухни, кв.м')\n",
    "plt.ylabel('Количество квартир')\n",
    "plt.show()"
   ]
  },
  {
   "cell_type": "markdown",
   "metadata": {},
   "source": [
    "В основном площадь кухни занимает от 7 до 11 кв.метров"
   ]
  },
  {
   "cell_type": "code",
   "execution_count": 44,
   "metadata": {},
   "outputs": [
    {
     "data": {
      "image/png": "[encoded data removed]",
      "text/plain": [
       "<Figure size 432x288 with 1 Axes>"
      ]
     },
     "metadata": {
      "needs_background": "light"
     },
     "output_type": "display_data"
    }
   ],
   "source": [
    "data.query('last_price >= 4.3e+5 and last_price <= 1.2e+7')['last_price'].hist()\n",
    "plt.title('Стоимость квартиры')\n",
    "plt.xlabel('Цена,млн')\n",
    "plt.ylabel('Количество квартир')\n",
    "plt.show()"
   ]
  },
  {
   "cell_type": "markdown",
   "metadata": {},
   "source": [
    "В основном стоимость квартир - порядка 5 миллионов. Больше 20 миллионов вариантов мало и они выглядят очень странно и некоторые - на порядок дороже."
   ]
  },
  {
   "cell_type": "code",
   "execution_count": 45,
   "metadata": {},
   "outputs": [
    {
     "data": {
      "image/png": "[encoded data removed]",
      "text/plain": [
       "<Figure size 432x288 with 1 Axes>"
      ]
     },
     "metadata": {
      "needs_background": "light"
     },
     "output_type": "display_data"
    }
   ],
   "source": [
    "data.query('rooms >= 1 and rooms <= 6')['rooms'].hist()\n",
    "plt.title('Количество комнат')\n",
    "plt.xlabel('Количество комнат')\n",
    "plt.ylabel('Количество квартир')\n",
    "plt.show()"
   ]
  },
  {
   "cell_type": "markdown",
   "metadata": {},
   "source": [
    "В основном квартиры состоят из 1, 2 и 3 комнат. Есть небольшая доля 4-комнатных квартир. "
   ]
  },
  {
   "cell_type": "code",
   "execution_count": 46,
   "metadata": {},
   "outputs": [
    {
     "data": {
      "image/png": "[encoded data removed]",
      "text/plain": [
       "<Figure size 432x288 with 1 Axes>"
      ]
     },
     "metadata": {
      "needs_background": "light"
     },
     "output_type": "display_data"
    }
   ],
   "source": [
    "data.query('ceiling_height >= 2.4 and ceiling_height <= 3.2')['ceiling_height'].hist(bins=50)\n",
    "plt.title('Высота потолков')\n",
    "plt.xlabel('Высота потолка,м')\n",
    "plt.ylabel('Количество квартир')\n",
    "plt.show()"
   ]
  },
  {
   "cell_type": "markdown",
   "metadata": {},
   "source": [
    "Большинство вариантов имеют высоту потолков от 2,5 до 3 метров. Больше 4 метров высота потолков выглядит страно."
   ]
  },
  {
   "cell_type": "code",
   "execution_count": 47,
   "metadata": {},
   "outputs": [
    {
     "data": {
      "image/png": "[encoded data removed]",
      "text/plain": [
       "<Figure size 432x288 with 1 Axes>"
      ]
     },
     "metadata": {
      "needs_background": "light"
     },
     "output_type": "display_data"
    }
   ],
   "source": [
    "data.query('floors_total >= 1 and floors_total <= 29')['floors_total'].hist(bins=50)\n",
    "plt.title('Общая этажность дома')\n",
    "plt.xlabel('Количество этажей в доме')\n",
    "plt.ylabel('Количество квартир')\n",
    "plt.show()\n"
   ]
  },
  {
   "cell_type": "markdown",
   "metadata": {},
   "source": [
    "Самыми популярными являются 5-этажки и 9-этажки (в целом вторичный рынок в основном состоит из таких домов), скорее всего мало квартир выставлено в малоэтажных зданиях, так как они возможно находяться в аварийном состоянии, есть шанс на расселение, а небоскребы-новые дома, либо с большой ценой, либо в новом районе с плохой инфраструктурой, поэтому менее популярны"
   ]
  },
  {
   "cell_type": "code",
   "execution_count": 48,
   "metadata": {},
   "outputs": [
    {
     "data": {
      "image/png": "[encoded data removed]",
      "text/plain": [
       "<Figure size 432x288 with 1 Axes>"
      ]
     },
     "metadata": {
      "needs_background": "light"
     },
     "output_type": "display_data"
    }
   ],
   "source": [
    "plt.hist(data['floor_type'], bins=5)\n",
    "plt.title('Типы этажей дома')\n",
    "plt.xlabel('Тип этажа')\n",
    "plt.ylabel('Количество квартир')\n",
    "plt.show()"
   ]
  },
  {
   "cell_type": "markdown",
   "metadata": {},
   "source": [
    "Меньше всего объявлений на первом и последнем этажах, все что между является более популярным"
   ]
  },
  {
   "cell_type": "code",
   "execution_count": 49,
   "metadata": {},
   "outputs": [
    {
     "data": {
      "image/png": "[encoded data removed]",
      "text/plain": [
       "<Figure size 432x288 with 1 Axes>"
      ]
     },
     "metadata": {
      "needs_background": "light"
     },
     "output_type": "display_data"
    }
   ],
   "source": [
    "data.query('floor >= 1 and floor <= 17')['floor'].hist(bins=50)\n",
    "plt.title('Этаж квартиры')\n",
    "plt.xlabel('Расположение квартиры на этаже')\n",
    "plt.ylabel('Количество квартир')\n",
    "plt.show()"
   ]
  },
  {
   "cell_type": "markdown",
   "metadata": {},
   "source": [
    "Чем выше этаж, тем меньше количество квартир на продаже, все что в середине наиболее популярно(1-5 этаж), также не будем забывать, что высотки в целом не особо популярны"
   ]
  },
  {
   "cell_type": "code",
   "execution_count": 50,
   "metadata": {},
   "outputs": [
    {
     "data": {
      "image/png": "[encoded data removed]",
      "text/plain": [
       "<Figure size 432x288 with 1 Axes>"
      ]
     },
     "metadata": {
      "needs_background": "light"
     },
     "output_type": "display_data"
    }
   ],
   "source": [
    "data.query('city_centers_nearest >= 0 and city_centers_nearest <= 27000')['city_centers_nearest'].hist(bins=50)\n",
    "plt.title('Удаленность от центра')\n",
    "plt.xlabel('Расстояние от центра, м')\n",
    "plt.ylabel('Количество квартир')\n",
    "plt.show()"
   ]
  },
  {
   "cell_type": "markdown",
   "metadata": {},
   "source": [
    "В основном квартиры продаются от 11км до 17км от центра, оптимальная удаленность для спального района"
   ]
  },
  {
   "cell_type": "code",
   "execution_count": 51,
   "metadata": {},
   "outputs": [
    {
     "data": {
      "image/png": "[encoded data removed]",
      "text/plain": [
       "<Figure size 432x288 with 1 Axes>"
      ]
     },
     "metadata": {
      "needs_background": "light"
     },
     "output_type": "display_data"
    }
   ],
   "source": [
    "data.query('airports_nearest >= 1000 and airports_nearest <= 38000')['airports_nearest'].hist(bins=100)\n",
    "plt.title('Удаленность от аэропорта')\n",
    "plt.xlabel('Расстояние от аэропорта, м')\n",
    "plt.ylabel('Количество квартир')\n",
    "plt.show()"
   ]
  },
  {
   "cell_type": "markdown",
   "metadata": {},
   "source": [
    "Вблизи аэропорта в целом мало квартир, объявления о продаже в основном размещены с данными об удаленности +12км от аэропорта."
   ]
  },
  {
   "cell_type": "code",
   "execution_count": 52,
   "metadata": {},
   "outputs": [
    {
     "data": {
      "image/png": "[encoded data removed]",
      "text/plain": [
       "<Figure size 432x288 with 1 Axes>"
      ]
     },
     "metadata": {
      "needs_background": "light"
     },
     "output_type": "display_data"
    }
   ],
   "source": [
    "data.query('parks_nearest >= 100 and parks_nearest <= 1200')['parks_nearest'].hist(bins=100)\n",
    "plt.title('Удаленность от парка')\n",
    "plt.xlabel('Расстояние от парка, м')\n",
    "plt.ylabel('Количество квартир')\n",
    "plt.show()"
   ]
  },
  {
   "cell_type": "markdown",
   "metadata": {},
   "source": [
    "Среднее расстояние от парка 400, 600 метров, хороший показатель для спальных районов и признак развитой инфраструктуры"
   ]
  },
  {
   "cell_type": "code",
   "execution_count": 53,
   "metadata": {},
   "outputs": [
    {
     "name": "stdout",
     "output_type": "stream",
     "text": [
      "count    23565.000000\n",
      "mean         2.567367\n",
      "std          1.788279\n",
      "min          0.000000\n",
      "25%          1.000000\n",
      "50%          3.000000\n",
      "75%          4.000000\n",
      "max          6.000000\n",
      "Name: weekday, dtype: float64\n"
     ]
    },
    {
     "data": {
      "image/png": "[encoded data removed]",
      "text/plain": [
       "<Figure size 432x288 with 1 Axes>"
      ]
     },
     "metadata": {
      "needs_background": "light"
     },
     "output_type": "display_data"
    }
   ],
   "source": [
    "print(data['weekday'].describe())\n",
    "data.query('weekday >= 0 and weekday <= 7')['weekday'].hist(bins=100)\n",
    "plt.title('Зависимость от дня размещения')\n",
    "plt.xlabel('День размещения')\n",
    "plt.ylabel('Количество квартир')\n",
    "plt.show()"
   ]
  },
  {
   "cell_type": "markdown",
   "metadata": {},
   "source": [
    "Основные дни размещения объявлений вт и чт, на выходных размещают объявления о продаже меньше всего"
   ]
  },
  {
   "cell_type": "code",
   "execution_count": 54,
   "metadata": {},
   "outputs": [
    {
     "data": {
      "image/png": "[encoded data removed]",
      "text/plain": [
       "<Figure size 432x288 with 1 Axes>"
      ]
     },
     "metadata": {
      "needs_background": "light"
     },
     "output_type": "display_data"
    }
   ],
   "source": [
    "data.query('month >= 0 and month <= 12')['month'].hist(bins=100)\n",
    "plt.title('Зависимость от месяца размещения')\n",
    "plt.xlabel('Месяц размещения')\n",
    "plt.ylabel('Количество квартир')\n",
    "plt.show()"
   ]
  },
  {
   "cell_type": "markdown",
   "metadata": {},
   "source": [
    "Пики размещений приходяться на конец зимы и начало весны, а также начало зимнего периода. Меньше всего размещают объявления летом"
   ]
  },
  {
   "cell_type": "markdown",
   "metadata": {},
   "source": [
    "Изучим данные о времени продажи квартиры"
   ]
  },
  {
   "cell_type": "markdown",
   "metadata": {},
   "source": [
    "Отбрасываем маркеры пустых значений и выводим данные о медиане и среднем значении"
   ]
  },
  {
   "cell_type": "code",
   "execution_count": 55,
   "metadata": {},
   "outputs": [
    {
     "name": "stdout",
     "output_type": "stream",
     "text": [
      "Время продажи (медиана): 85 \n",
      "\n",
      "Время продажи (среднее): 128 \n",
      "\n"
     ]
    }
   ],
   "source": [
    "print('Время продажи (медиана):', round(data.query('days_exposition != 9999')['days_exposition'].median()),'\\n')\n",
    "print('Время продажи (среднее):', round(data.query('days_exposition != 9999')['days_exposition'].mean()),'\\n')"
   ]
  },
  {
   "cell_type": "markdown",
   "metadata": {},
   "source": [
    "Гистограма времени продажи"
   ]
  },
  {
   "cell_type": "code",
   "execution_count": 56,
   "metadata": {},
   "outputs": [
    {
     "data": {
      "image/png": "[encoded data removed]",
      "text/plain": [
       "<Figure size 432x288 with 1 Axes>"
      ]
     },
     "metadata": {
      "needs_background": "light"
     },
     "output_type": "display_data"
    }
   ],
   "source": [
    "plt.hist(data.query('days_exposition != 9999')['days_exposition'], bins=100, range=(0,250))\n",
    "plt.title('Время продажи')\n",
    "plt.xlabel('Дни')\n",
    "plt.ylabel('Количество квартир')\n",
    "plt.show()"
   ]
  },
  {
   "cell_type": "markdown",
   "metadata": {},
   "source": [
    "Изучаем значения срока продажи"
   ]
  },
  {
   "cell_type": "code",
   "execution_count": 57,
   "metadata": {},
   "outputs": [
    {
     "data": {
      "text/plain": [
       "count    18721.000000\n",
       "mean       128.299343\n",
       "std        121.064671\n",
       "min          1.000000\n",
       "25%         41.000000\n",
       "50%         85.000000\n",
       "75%        182.000000\n",
       "max        509.000000\n",
       "Name: days_exposition, dtype: float64"
      ]
     },
     "execution_count": 57,
     "metadata": {},
     "output_type": "execute_result"
    }
   ],
   "source": [
    "data.query('days_exposition != 9999')['days_exposition'].describe()"
   ]
  },
  {
   "cell_type": "markdown",
   "metadata": {},
   "source": [
    "Медианное время продажи - 95 дней. Среднее время продажи - 113 день.\n",
    "В основном квартиры продаются за срок в 90-100 дней. Есть большое число квартир, проданных всего за несколько дней после публикации. А также есть варианты, которые продавались несколько десятков месяцев."
   ]
  },
  {
   "cell_type": "markdown",
   "metadata": {},
   "source": [
    "Изучим зависимость цены от площади"
   ]
  },
  {
   "cell_type": "code",
   "execution_count": 58,
   "metadata": {},
   "outputs": [
    {
     "data": {
      "image/png": "[encoded data removed]",
      "text/plain": [
       "<Figure size 360x360 with 1 Axes>"
      ]
     },
     "metadata": {
      "needs_background": "light"
     },
     "output_type": "display_data"
    },
    {
     "name": "stdout",
     "output_type": "stream",
     "text": [
      "Корреляция цены и площади: \n",
      "\n",
      "            last_price  total_area\n",
      "last_price    1.000000    0.905372\n",
      "total_area    0.905372    1.000000 \n",
      "\n"
     ]
    }
   ],
   "source": [
    "(\n",
    "    data.pivot_table(index='total_area', values='last_price')\n",
    "    .plot(grid=True, style='o', figsize=(5, 5))\n",
    ")\n",
    "plt.title('Корреляция стоимости и общей площади квартиры')\n",
    "plt.xlabel('Общая площадь')\n",
    "plt.ylabel('Стоимость')\n",
    "plt.show()\n",
    "print('Корреляция цены и площади:','\\n')\n",
    "print(data.pivot_table(index='floor', values=['total_area', 'last_price']).corr(),'\\n')\n"
   ]
  },
  {
   "cell_type": "markdown",
   "metadata": {},
   "source": [
    "Изучим зависимость цены от жилой площади"
   ]
  },
  {
   "cell_type": "code",
   "execution_count": 59,
   "metadata": {},
   "outputs": [
    {
     "data": {
      "image/png": "[encoded data removed]",
      "text/plain": [
       "<Figure size 360x360 with 1 Axes>"
      ]
     },
     "metadata": {
      "needs_background": "light"
     },
     "output_type": "display_data"
    },
    {
     "name": "stdout",
     "output_type": "stream",
     "text": [
      "Корреляция цены и жилой площади: \n",
      "\n",
      "             last_price  living_area\n",
      "last_price     1.000000     0.738101\n",
      "living_area    0.738101     1.000000 \n",
      "\n"
     ]
    }
   ],
   "source": [
    "(\n",
    "    data.pivot_table(index='living_area', values='last_price')\n",
    "    .plot(grid=True, style='o', figsize=(5, 5))\n",
    ")\n",
    "plt.title('Корреляция стоимости и жилой площади')\n",
    "plt.xlabel('Жилая площадь')\n",
    "plt.ylabel('Стоимость')\n",
    "plt.show()\n",
    "print('Корреляция цены и жилой площади:','\\n')\n",
    "print(data.pivot_table(index='floor', values=['living_area', 'last_price']).corr(),'\\n')"
   ]
  },
  {
   "cell_type": "markdown",
   "metadata": {},
   "source": [
    "Изучим зависимость цены от площади кухни"
   ]
  },
  {
   "cell_type": "code",
   "execution_count": 60,
   "metadata": {},
   "outputs": [
    {
     "data": {
      "image/png": "[encoded data removed]",
      "text/plain": [
       "<Figure size 360x360 with 1 Axes>"
      ]
     },
     "metadata": {
      "needs_background": "light"
     },
     "output_type": "display_data"
    },
    {
     "name": "stdout",
     "output_type": "stream",
     "text": [
      "Корреляция цены и площади кухни: \n",
      "\n",
      "              kitchen_area  last_price\n",
      "kitchen_area      1.000000    0.816397\n",
      "last_price        0.816397    1.000000 \n",
      "\n"
     ]
    }
   ],
   "source": [
    "(\n",
    "    data.pivot_table(index='kitchen_area', values='last_price')\n",
    "    .plot(grid=True, style='o', figsize=(5, 5))\n",
    ")\n",
    "plt.title('Корреляция стоимости и площади кухни')\n",
    "plt.xlabel('Площадь кухни')\n",
    "plt.ylabel('Стоимость')\n",
    "plt.show()\n",
    "print('Корреляция цены и площади кухни:','\\n')\n",
    "print(data.pivot_table(index='floor', values=['kitchen_area', 'last_price']).corr(),'\\n')"
   ]
  },
  {
   "cell_type": "markdown",
   "metadata": {},
   "source": [
    "Зависимость цены от числа комнат"
   ]
  },
  {
   "cell_type": "code",
   "execution_count": 61,
   "metadata": {},
   "outputs": [
    {
     "data": {
      "image/png": "[encoded data removed]",
      "text/plain": [
       "<Figure size 360x360 with 1 Axes>"
      ]
     },
     "metadata": {
      "needs_background": "light"
     },
     "output_type": "display_data"
    },
    {
     "name": "stdout",
     "output_type": "stream",
     "text": [
      "Корреляция цены и числа комнат: \n",
      "\n",
      "            last_price     rooms\n",
      "last_price    1.000000  0.537551\n",
      "rooms         0.537551  1.000000 \n",
      "\n"
     ]
    }
   ],
   "source": [
    "(\n",
    "    data.query('rooms > 0').pivot_table(index='rooms', values='last_price')\n",
    "    .plot(grid=True, style='o-', figsize=(5, 5))\n",
    ")\n",
    "plt.title('Зависимость стоимости от числа комнат')\n",
    "plt.xlabel('Число комнат')\n",
    "plt.ylabel('Стоимость')\n",
    "plt.show()\n",
    "print('Корреляция цены и числа комнат:','\\n')\n",
    "print(data.query('rooms > 0').pivot_table(index='floor', values=['rooms', 'last_price']).corr(),'\\n')"
   ]
  },
  {
   "cell_type": "markdown",
   "metadata": {},
   "source": [
    "Зависимость цены от этажа"
   ]
  },
  {
   "cell_type": "code",
   "execution_count": 62,
   "metadata": {},
   "outputs": [
    {
     "data": {
      "image/png": "[encoded data removed]",
      "text/plain": [
       "<Figure size 360x360 with 1 Axes>"
      ]
     },
     "metadata": {
      "needs_background": "light"
     },
     "output_type": "display_data"
    }
   ],
   "source": [
    "(\n",
    "    data.pivot_table(index='floor_type', values='last_price', aggfunc='median')\n",
    "    .plot(grid=True, style='o-', figsize=(5, 5))\n",
    ")\n",
    "plt.title('Зависимость стоимости и типа этажа')\n",
    "plt.xlabel('Тип этажа')\n",
    "plt.ylabel('Стоимость')\n",
    "plt.show()"
   ]
  },
  {
   "cell_type": "markdown",
   "metadata": {},
   "source": [
    "Зависимость от дня размещения"
   ]
  },
  {
   "cell_type": "code",
   "execution_count": 63,
   "metadata": {},
   "outputs": [
    {
     "data": {
      "image/png": "[encoded data removed]",
      "text/plain": [
       "<Figure size 360x360 with 1 Axes>"
      ]
     },
     "metadata": {
      "needs_background": "light"
     },
     "output_type": "display_data"
    }
   ],
   "source": [
    "\n",
    "(\n",
    "    data.pivot_table(index='weekday', values='last_price')\n",
    "    .plot(grid=True, style='o-', figsize=(5, 5))\n",
    ")\n",
    "plt.title('Зависимость стоимости от дня размещения')\n",
    "plt.xlabel('День размещения')\n",
    "plt.ylabel('Стоимость')\n",
    "plt.show()"
   ]
  },
  {
   "cell_type": "markdown",
   "metadata": {},
   "source": [
    "Зависимость от месяца размещения"
   ]
  },
  {
   "cell_type": "code",
   "execution_count": 64,
   "metadata": {},
   "outputs": [
    {
     "data": {
      "image/png": "[encoded data removed]",
      "text/plain": [
       "<Figure size 720x360 with 1 Axes>"
      ]
     },
     "metadata": {
      "needs_background": "light"
     },
     "output_type": "display_data"
    }
   ],
   "source": [
    "(\n",
    "    data.pivot_table(index='month', values='last_price')\n",
    "    .plot(grid=True, style='o-', xlim=(1,12), figsize=(10, 5))\n",
    ")\n",
    "plt.title('Зависимость стоимости от месяца размещения')\n",
    "plt.xlabel('Месяц размещения')\n",
    "plt.ylabel('Стоимость')\n",
    "plt.show()"
   ]
  },
  {
   "cell_type": "markdown",
   "metadata": {},
   "source": [
    "Зависимость от года размещения"
   ]
  },
  {
   "cell_type": "code",
   "execution_count": 65,
   "metadata": {},
   "outputs": [
    {
     "data": {
      "image/png": "[encoded data removed]",
      "text/plain": [
       "<Figure size 360x360 with 1 Axes>"
      ]
     },
     "metadata": {
      "needs_background": "light"
     },
     "output_type": "display_data"
    }
   ],
   "source": [
    "(\n",
    "    data.pivot_table(index='year', values='last_price')\n",
    "    .plot(grid=True, style='o-', figsize=(5, 5))\n",
    ")\n",
    "plt.title('Зависимость стоимости от года размещения')\n",
    "plt.xlabel('Год размещения')\n",
    "plt.ylabel('Стоимость')\n",
    "plt.show()"
   ]
  },
  {
   "cell_type": "code",
   "execution_count": 66,
   "metadata": {},
   "outputs": [
    {
     "data": {
      "image/png": "[encoded data removed]",
      "text/plain": [
       "<Figure size 360x360 with 1 Axes>"
      ]
     },
     "metadata": {
      "needs_background": "light"
     },
     "output_type": "display_data"
    }
   ],
   "source": [
    "(\n",
    "    data.pivot_table(index='year', values='total_area')\n",
    "    .plot(grid=True, style='o-', figsize=(5, 5))\n",
    ")\n",
    "plt.title('Зависимость общей площади от года размещения')\n",
    "plt.xlabel('Год размещения')\n",
    "plt.ylabel('Общая площадь')\n",
    "plt.show()"
   ]
  },
  {
   "cell_type": "code",
   "execution_count": 67,
   "metadata": {},
   "outputs": [
    {
     "data": {
      "image/png": "[encoded data removed]",
      "text/plain": [
       "<Figure size 360x360 with 1 Axes>"
      ]
     },
     "metadata": {
      "needs_background": "light"
     },
     "output_type": "display_data"
    }
   ],
   "source": [
    "(\n",
    "    data.pivot_table(index='year', values='area_price')\n",
    "    .plot(grid=True, style='o-', figsize=(5, 5))\n",
    ")\n",
    "plt.title('Зависимость стоимости за квадратный метр от года размещения')\n",
    "plt.xlabel('Год размещения')\n",
    "plt.ylabel('Стоимость кв.м')\n",
    "plt.show()"
   ]
  },
  {
   "cell_type": "markdown",
   "metadata": {},
   "source": [
    "Чем больше площадь, тем выше стоимость. Корреляция этих параметров крайне высокая.\n",
    "\n",
    "Корреляция площади кухни и жилой площади небольщая, не влияющие факторы на выборки, при этом на цену жилая площадь влияет сильнее, чем площадь кухни, что логично.\n",
    "\n",
    "Число комнат влияет на цену (больше комнат - больше цена), однако зависимость ниже, чем у площади. \n",
    "\n",
    "Первый этаж непосредственно влияет на стоимость квартиры - в среднем квартиры на 1-м этаже значительно дешевле. Чуть дороже последний этаж. Наибольшая стоимость у квартир, расположенных не на 1-м и не на последнем этаже.\n",
    "\n",
    "День недели: дороже всего квартиры, опубликованные во вторник, дешевле всего - в субботу.\n",
    "\n",
    "Месяц: дороже всего квартиры, продающиеся с апреля и с сентября, дешевле всего - с июня\n",
    "\n",
    "Год: квартиры очень сильно подешевели в 2016-2018 годах, что, вероятно, вызвано некоторым кризисом 2014-2015 годов. В 2019 году цены снова стали повышаться, т.к. экономика и зарплаты скорее на подъёме.\n",
    "Общая жилая площадь квартир в 2014-2015 годах была выше, а цена ниже. В целом цена за кв.м  доражает со временем."
   ]
  },
  {
   "cell_type": "markdown",
   "metadata": {},
   "source": [
    "Сравниваем среднюю стоимость квадратного метра в топ-10 городов по числу объявлений"
   ]
  },
  {
   "cell_type": "code",
   "execution_count": 68,
   "metadata": {},
   "outputs": [
    {
     "data": {
      "text/html": [
       "<div>\n",
       "<style scoped>\n",
       "    .dataframe tbody tr th:only-of-type {\n",
       "        vertical-align: middle;\n",
       "    }\n",
       "\n",
       "    .dataframe tbody tr th {\n",
       "        vertical-align: top;\n",
       "    }\n",
       "\n",
       "    .dataframe thead th {\n",
       "        text-align: right;\n",
       "    }\n",
       "</style>\n",
       "<table border=\"1\" class=\"dataframe\">\n",
       "  <thead>\n",
       "    <tr style=\"text-align: right;\">\n",
       "      <th></th>\n",
       "      <th>area_price</th>\n",
       "    </tr>\n",
       "    <tr>\n",
       "      <th>locality_name</th>\n",
       "      <th></th>\n",
       "    </tr>\n",
       "  </thead>\n",
       "  <tbody>\n",
       "    <tr>\n",
       "      <th>Санкт-Петербург</th>\n",
       "      <td>105685</td>\n",
       "    </tr>\n",
       "    <tr>\n",
       "      <th>Пушкин</th>\n",
       "      <td>100461</td>\n",
       "    </tr>\n",
       "    <tr>\n",
       "      <th>Кудрово</th>\n",
       "      <td>95086</td>\n",
       "    </tr>\n",
       "    <tr>\n",
       "      <th>поселок Парголово</th>\n",
       "      <td>90331</td>\n",
       "    </tr>\n",
       "    <tr>\n",
       "      <th>Мурино</th>\n",
       "      <td>86040</td>\n",
       "    </tr>\n",
       "    <tr>\n",
       "      <th>поселок Шушары</th>\n",
       "      <td>78577</td>\n",
       "    </tr>\n",
       "    <tr>\n",
       "      <th>Колпино</th>\n",
       "      <td>75221</td>\n",
       "    </tr>\n",
       "    <tr>\n",
       "      <th>Гатчина</th>\n",
       "      <td>68663</td>\n",
       "    </tr>\n",
       "    <tr>\n",
       "      <th>Всеволожск</th>\n",
       "      <td>67221</td>\n",
       "    </tr>\n",
       "    <tr>\n",
       "      <th>Выборг</th>\n",
       "      <td>58225</td>\n",
       "    </tr>\n",
       "  </tbody>\n",
       "</table>\n",
       "</div>"
      ],
      "text/plain": [
       "                   area_price\n",
       "locality_name                \n",
       "Санкт-Петербург        105685\n",
       "Пушкин                 100461\n",
       "Кудрово                 95086\n",
       "поселок Парголово       90331\n",
       "Мурино                  86040\n",
       "поселок Шушары          78577\n",
       "Колпино                 75221\n",
       "Гатчина                 68663\n",
       "Всеволожск              67221\n",
       "Выборг                  58225"
      ]
     },
     "execution_count": 68,
     "metadata": {},
     "output_type": "execute_result"
    }
   ],
   "source": [
    "city_ten = data['locality_name'].value_counts().head(10)\n",
    "city_sm_price = data.query('locality_name in (@city_ten.index)').pivot_table(values='area_price', index='locality_name')\n",
    "city_sm_price = city_sm_price.astype(int)\n",
    "city_sm_price.sort_values('area_price', ascending=False)"
   ]
  },
  {
   "cell_type": "markdown",
   "metadata": {},
   "source": [
    "Наибольшая средняя стоимость квадратного метра, как и ожидалось, в Санкт-Петербурге. Затем идёт Пушкин, что, вероятно, вызвано хорошей застройкой и большим количеством парков. Затем идут районы, фактически являющиеся Санкт-Петербургом и непосредственно к нему примыкают. Из топ-10 наименьшая стоимость в Гатчине и Всеволожске, из которых далеко ехать до Санкт-Петербурга, а также неболшой по численности населения Выборг, расположенный на большом расстоянии от Санкт-Петербурга."
   ]
  },
  {
   "cell_type": "markdown",
   "metadata": {},
   "source": [
    "Выделим квартиры в Санкт-Петербурге с помощью столбца locality_name и вычислим среднюю цену каждого километра"
   ]
  },
  {
   "cell_type": "markdown",
   "metadata": {},
   "source": [
    "Выбираем только квартиры в спб"
   ]
  },
  {
   "cell_type": "code",
   "execution_count": 69,
   "metadata": {},
   "outputs": [],
   "source": [
    "data = data.query('locality_name == \"Санкт-Петербург\"') "
   ]
  },
  {
   "cell_type": "markdown",
   "metadata": {},
   "source": [
    "Рассчитываем среднюю цену для каждого км"
   ]
  },
  {
   "cell_type": "code",
   "execution_count": 70,
   "metadata": {},
   "outputs": [
    {
     "name": "stdout",
     "output_type": "stream",
     "text": [
      "Средняя стоимость за км: 105685.8074708401\n"
     ]
    }
   ],
   "source": [
    "data_mean_price_per_m = data['area_price'].mean() \n",
    "data['mean_price_for_km'] = data_mean_price_per_m / data['city_centers_nearest_km'] \n",
    "print('Средняя стоимость за км:', data_mean_price_per_m)"
   ]
  },
  {
   "cell_type": "code",
   "execution_count": 71,
   "metadata": {},
   "outputs": [
    {
     "data": {
      "image/png": "[encoded data removed]",
      "text/plain": [
       "<Figure size 360x360 with 1 Axes>"
      ]
     },
     "metadata": {
      "needs_background": "light"
     },
     "output_type": "display_data"
    }
   ],
   "source": [
    "data.plot(x='city_centers_nearest_km', y='mean_price_for_km', kind='scatter', figsize=(5, 5), grid=True)\n",
    "plt.title('Зависимость стоимости км от удаленности от центра')\n",
    "plt.xlabel('Удаленность от центра, км')\n",
    "plt.ylabel('Стоимость км')\n",
    "plt.show()"
   ]
  },
  {
   "cell_type": "markdown",
   "metadata": {},
   "source": [
    "Средняя стоимость за километр 105685, чем ближе к центру, тем выше стоимость, что логично"
   ]
  },
  {
   "cell_type": "markdown",
   "metadata": {},
   "source": [
    "### Общий вывод"
   ]
  },
  {
   "cell_type": "markdown",
   "metadata": {},
   "source": [
    "В таблице с данными было много пропусков. Пропуски были заполнены, а типы данных приведены к одному формату. Данные были нормализованы, все аномальные данные обработаны.\n",
    "Были изучены основные факторы влияющие на стоимость объектов для продажи, а также на количество объявлений.\n",
    "Самые часто размещаемые объявления о продаже имели такие признаки:\n",
    "- Общая площадь от 30 кв.м до 50 кв.м, чуть менее популяра площадь в районе 20 кв.м\n",
    "- Жилая площадь от 25 кв.м до 32 кв.м (студии, однушки, двухкомнатные квартиры в ходу на рынки недвижимости). \n",
    "- Площадь кухни от 7кв.м до 11 кв.м.\n",
    "- Средняя стоимость в районе 5 млн. рублей\n",
    "- Популярными являются 5-этажки и 9-этажки. Что обусловлено скорее всего большим довереем к вторичному жилью. с эти еще и связана высота- потока наиболее распространеная 2.5 м (обычное значение для вторички)\n",
    "- Много квартир размещено рядом с парками, в приличной удаленности от аэропорта.\n",
    "- Этаж размещения квартиры также играет важную роль. Первые и последние этажи наименее популярны.\n",
    "- Основные дни размещения объявлений вт и чт, на выходных размещают объявления о продаже меньше всего\n",
    "- Пики размещений приходяться на конец зимы и начало весны, а также начало зимнего периода. Меньше всего размещают объявления летом\n",
    "\n",
    "Среднее время продажи квартиры 95 дней.\n",
    "\n",
    "Также были рассмотрены факторы, влияющие на стоимость. Были выявлены ключевые факторы:\n",
    "\n",
    "- Общая площадь. Чем больше площадь, тем выше стоимость.\n",
    "- Число комнат. Чем больше комнат, тем дороже квартира.\n",
    "- Первый и последний этаж сделают цену квартиры меньше(особенно первый). Наибольшая стоимость у квартир, расположенных между первым и последнем этажои\n",
    "- Дороже всего квартиры, опубликованные во вторник, дешевле всего - в субботу.\n",
    "- Дороже всего квартиры, продающиеся с апреля и с сентября, дешевле всего - с июня\n",
    "- Также квартиры дорожают с течением времени. Если решаться на покупку, то лучше не тянуть.\n",
    "\n",
    "Были расмотрены населенные пункты и изучена средняя стоимость квадратного метра: как и ожидалось кв.м площади самый дорогой в г. Саекнт- петербурге, и его стоимость становиться дешевле в зависимости от удаленности. Наименьшая стоимость из 10 город в Выборге(молонаселенный и достаточно удаленноый от г. Санкт-петербурга город)\n"
   ]
  },
  {
   "cell_type": "code",
   "execution_count": null,
   "metadata": {},
   "outputs": [],
   "source": []
  }
 ],
 "metadata": {
  "ExecuteTimeLog": [
   {
    "duration": 667,
    "start_time": "2022-10-18T15:41:22.160Z"
   },
   {
    "duration": 33,
    "start_time": "2022-10-18T15:43:20.808Z"
   },
   {
    "duration": 99,
    "start_time": "2022-10-18T15:55:31.612Z"
   },
   {
    "duration": 91,
    "start_time": "2022-10-18T15:56:25.212Z"
   },
   {
    "duration": 114,
    "start_time": "2022-10-18T15:57:20.843Z"
   },
   {
    "duration": 93,
    "start_time": "2022-10-18T15:57:41.572Z"
   },
   {
    "duration": 85,
    "start_time": "2022-10-18T15:57:48.018Z"
   },
   {
    "duration": 116,
    "start_time": "2022-10-18T15:58:40.989Z"
   },
   {
    "duration": 19,
    "start_time": "2022-10-18T16:19:40.318Z"
   },
   {
    "duration": 23,
    "start_time": "2022-10-18T16:22:13.616Z"
   },
   {
    "duration": 9,
    "start_time": "2022-10-18T16:24:44.319Z"
   },
   {
    "duration": 13,
    "start_time": "2022-10-18T16:33:14.378Z"
   },
   {
    "duration": 16,
    "start_time": "2022-10-18T16:39:32.022Z"
   },
   {
    "duration": 15,
    "start_time": "2022-10-18T16:39:34.831Z"
   },
   {
    "duration": 13,
    "start_time": "2022-10-18T16:42:45.795Z"
   },
   {
    "duration": 25,
    "start_time": "2022-10-18T16:48:02.209Z"
   },
   {
    "duration": 162,
    "start_time": "2022-10-18T16:51:32.488Z"
   },
   {
    "duration": 33,
    "start_time": "2022-10-18T16:53:05.648Z"
   },
   {
    "duration": 34,
    "start_time": "2022-10-18T16:53:30.827Z"
   },
   {
    "duration": 43,
    "start_time": "2022-10-18T16:53:41.575Z"
   },
   {
    "duration": 22,
    "start_time": "2022-10-18T16:55:23.062Z"
   },
   {
    "duration": 35,
    "start_time": "2022-10-18T16:56:14.184Z"
   },
   {
    "duration": 41,
    "start_time": "2022-10-18T17:02:58.642Z"
   },
   {
    "duration": 32,
    "start_time": "2022-10-18T17:03:55.507Z"
   },
   {
    "duration": 33,
    "start_time": "2022-10-18T17:04:08.474Z"
   },
   {
    "duration": 33,
    "start_time": "2022-10-18T17:04:59.602Z"
   },
   {
    "duration": 54,
    "start_time": "2022-10-18T17:05:06.728Z"
   },
   {
    "duration": 28,
    "start_time": "2022-10-18T17:05:09.288Z"
   },
   {
    "duration": 99,
    "start_time": "2022-10-18T17:05:14.274Z"
   },
   {
    "duration": 28,
    "start_time": "2022-10-18T17:05:18.241Z"
   },
   {
    "duration": 32,
    "start_time": "2022-10-18T17:07:14.256Z"
   },
   {
    "duration": 33,
    "start_time": "2022-10-18T17:07:59.426Z"
   },
   {
    "duration": 31,
    "start_time": "2022-10-18T17:09:17.536Z"
   },
   {
    "duration": 33,
    "start_time": "2022-10-18T17:10:11.926Z"
   },
   {
    "duration": 9,
    "start_time": "2022-10-18T17:20:29.506Z"
   },
   {
    "duration": 701,
    "start_time": "2022-10-18T17:22:34.008Z"
   },
   {
    "duration": 1155,
    "start_time": "2022-10-18T17:23:14.304Z"
   },
   {
    "duration": 86,
    "start_time": "2022-10-18T17:24:43.863Z"
   },
   {
    "duration": 34,
    "start_time": "2022-10-18T17:27:58.358Z"
   },
   {
    "duration": 50,
    "start_time": "2022-10-18T17:28:14.758Z"
   },
   {
    "duration": 71,
    "start_time": "2022-10-18T17:28:33.621Z"
   },
   {
    "duration": 789,
    "start_time": "2022-10-20T16:07:51.296Z"
   },
   {
    "duration": 102,
    "start_time": "2022-10-20T16:07:52.833Z"
   },
   {
    "duration": 63,
    "start_time": "2022-10-20T16:08:00.747Z"
   },
   {
    "duration": 56,
    "start_time": "2022-10-20T16:57:27.956Z"
   },
   {
    "duration": 25,
    "start_time": "2022-10-20T16:57:59.979Z"
   },
   {
    "duration": 22,
    "start_time": "2022-10-20T16:59:22.440Z"
   },
   {
    "duration": 81,
    "start_time": "2022-10-20T17:21:59.111Z"
   },
   {
    "duration": 286,
    "start_time": "2022-10-20T17:25:13.980Z"
   },
   {
    "duration": 28,
    "start_time": "2022-10-20T17:25:31.388Z"
   },
   {
    "duration": 22,
    "start_time": "2022-10-20T17:25:38.932Z"
   },
   {
    "duration": 305,
    "start_time": "2022-10-20T17:25:43.430Z"
   },
   {
    "duration": 329,
    "start_time": "2022-10-20T17:26:05.780Z"
   },
   {
    "duration": 1454,
    "start_time": "2022-10-20T17:36:25.035Z"
   },
   {
    "duration": 37,
    "start_time": "2022-10-20T17:59:02.535Z"
   },
   {
    "duration": 38,
    "start_time": "2022-10-20T17:59:38.510Z"
   },
   {
    "duration": 33,
    "start_time": "2022-10-20T18:00:00.012Z"
   },
   {
    "duration": 39,
    "start_time": "2022-10-20T18:01:04.454Z"
   },
   {
    "duration": 124,
    "start_time": "2022-10-20T18:06:10.821Z"
   },
   {
    "duration": 118,
    "start_time": "2022-10-20T18:08:59.914Z"
   },
   {
    "duration": 105,
    "start_time": "2022-10-20T18:10:13.312Z"
   },
   {
    "duration": 115,
    "start_time": "2022-10-20T18:10:24.857Z"
   },
   {
    "duration": 49,
    "start_time": "2022-10-20T18:11:22.024Z"
   },
   {
    "duration": 39,
    "start_time": "2022-10-20T18:12:10.401Z"
   },
   {
    "duration": 73,
    "start_time": "2022-10-20T18:14:01.400Z"
   },
   {
    "duration": 125,
    "start_time": "2022-10-20T18:17:18.752Z"
   },
   {
    "duration": 149,
    "start_time": "2022-10-20T18:20:36.447Z"
   },
   {
    "duration": 284,
    "start_time": "2022-10-20T18:23:54.015Z"
   },
   {
    "duration": 68,
    "start_time": "2022-10-22T13:44:11.362Z"
   },
   {
    "duration": 481,
    "start_time": "2022-10-22T13:44:49.763Z"
   },
   {
    "duration": 667,
    "start_time": "2022-10-22T14:10:55.209Z"
   },
   {
    "duration": 266,
    "start_time": "2022-10-22T14:33:57.102Z"
   },
   {
    "duration": 47,
    "start_time": "2022-10-22T16:17:36.073Z"
   },
   {
    "duration": 743,
    "start_time": "2022-10-22T16:17:44.237Z"
   },
   {
    "duration": 763,
    "start_time": "2022-10-22T16:17:49.316Z"
   },
   {
    "duration": 301,
    "start_time": "2022-10-22T16:18:10.538Z"
   },
   {
    "duration": 353,
    "start_time": "2022-10-22T16:32:35.549Z"
   },
   {
    "duration": 616,
    "start_time": "2022-10-22T16:34:39.270Z"
   },
   {
    "duration": 346,
    "start_time": "2022-10-22T16:37:32.525Z"
   },
   {
    "duration": 364,
    "start_time": "2022-10-22T16:37:37.844Z"
   },
   {
    "duration": 119,
    "start_time": "2022-10-22T16:37:42.602Z"
   },
   {
    "duration": 616,
    "start_time": "2022-10-22T16:37:44.122Z"
   },
   {
    "duration": 328,
    "start_time": "2022-10-22T16:37:46.115Z"
   },
   {
    "duration": 41,
    "start_time": "2022-10-22T16:38:34.603Z"
   },
   {
    "duration": 11,
    "start_time": "2022-10-22T16:39:23.786Z"
   },
   {
    "duration": 1753,
    "start_time": "2022-10-22T16:39:38.144Z"
   },
   {
    "duration": 1860,
    "start_time": "2022-10-22T16:40:51.827Z"
   },
   {
    "duration": 785,
    "start_time": "2022-10-22T16:43:51.767Z"
   },
   {
    "duration": 915,
    "start_time": "2022-10-22T16:44:55.361Z"
   },
   {
    "duration": 1392,
    "start_time": "2022-10-22T16:45:32.719Z"
   },
   {
    "duration": 535,
    "start_time": "2022-10-23T08:48:57.260Z"
   },
   {
    "duration": 641,
    "start_time": "2022-10-23T08:49:09.210Z"
   },
   {
    "duration": 419,
    "start_time": "2022-10-23T08:50:26.241Z"
   },
   {
    "duration": 426,
    "start_time": "2022-10-23T08:50:52.951Z"
   },
   {
    "duration": 428,
    "start_time": "2022-10-23T08:56:10.856Z"
   },
   {
    "duration": 568,
    "start_time": "2022-10-23T11:54:24.913Z"
   },
   {
    "duration": 70,
    "start_time": "2022-10-23T11:54:29.817Z"
   },
   {
    "duration": 104,
    "start_time": "2022-10-23T11:54:49.577Z"
   },
   {
    "duration": 595,
    "start_time": "2022-10-23T11:54:52.027Z"
   },
   {
    "duration": 106,
    "start_time": "2022-10-23T12:00:00.334Z"
   },
   {
    "duration": 9,
    "start_time": "2022-10-23T12:00:07.091Z"
   },
   {
    "duration": 8,
    "start_time": "2022-10-23T12:02:44.963Z"
   },
   {
    "duration": 9,
    "start_time": "2022-10-23T12:02:46.747Z"
   },
   {
    "duration": 17,
    "start_time": "2022-10-23T12:12:25.401Z"
   },
   {
    "duration": 26,
    "start_time": "2022-10-23T12:18:00.357Z"
   },
   {
    "duration": 223,
    "start_time": "2022-10-23T12:18:05.307Z"
   },
   {
    "duration": 15,
    "start_time": "2022-10-23T12:27:54.861Z"
   },
   {
    "duration": 52,
    "start_time": "2022-10-23T12:28:41.014Z"
   },
   {
    "duration": 57,
    "start_time": "2022-10-23T12:28:46.730Z"
   },
   {
    "duration": 61,
    "start_time": "2022-10-23T12:29:01.470Z"
   },
   {
    "duration": 53,
    "start_time": "2022-10-23T12:31:54.102Z"
   },
   {
    "duration": 63,
    "start_time": "2022-10-23T12:38:23.403Z"
   },
   {
    "duration": 62,
    "start_time": "2022-10-23T12:38:46.709Z"
   },
   {
    "duration": 66,
    "start_time": "2022-10-23T12:44:21.976Z"
   },
   {
    "duration": 54,
    "start_time": "2022-10-23T12:49:34.842Z"
   },
   {
    "duration": 59,
    "start_time": "2022-10-23T12:50:23.205Z"
   },
   {
    "duration": 62,
    "start_time": "2022-10-23T12:55:22.130Z"
   },
   {
    "duration": 62,
    "start_time": "2022-10-23T12:55:32.586Z"
   },
   {
    "duration": 64,
    "start_time": "2022-10-23T12:58:23.500Z"
   },
   {
    "duration": 66,
    "start_time": "2022-10-23T12:58:34.800Z"
   },
   {
    "duration": 69,
    "start_time": "2022-10-23T13:00:39.121Z"
   },
   {
    "duration": 800,
    "start_time": "2022-10-23T13:01:54.221Z"
   },
   {
    "duration": 65,
    "start_time": "2022-10-23T13:02:21.305Z"
   },
   {
    "duration": 58,
    "start_time": "2022-10-23T13:06:21.952Z"
   },
   {
    "duration": 66,
    "start_time": "2022-10-23T13:07:18.114Z"
   },
   {
    "duration": 66,
    "start_time": "2022-10-23T13:08:28.996Z"
   },
   {
    "duration": 68,
    "start_time": "2022-10-23T13:09:38.409Z"
   },
   {
    "duration": 78,
    "start_time": "2022-10-23T13:10:30.527Z"
   },
   {
    "duration": 79,
    "start_time": "2022-10-23T13:11:40.904Z"
   },
   {
    "duration": 83,
    "start_time": "2022-10-23T13:12:39.409Z"
   },
   {
    "duration": 80,
    "start_time": "2022-10-23T13:13:32.403Z"
   },
   {
    "duration": 68,
    "start_time": "2022-10-23T13:15:04.421Z"
   },
   {
    "duration": 78,
    "start_time": "2022-10-23T13:15:15.425Z"
   },
   {
    "duration": 85,
    "start_time": "2022-10-23T13:23:34.306Z"
   },
   {
    "duration": 354,
    "start_time": "2022-10-23T13:29:39.599Z"
   },
   {
    "duration": 319,
    "start_time": "2022-10-23T13:29:45.149Z"
   },
   {
    "duration": 335,
    "start_time": "2022-10-23T13:30:12.350Z"
   },
   {
    "duration": 350,
    "start_time": "2022-10-23T13:34:26.807Z"
   },
   {
    "duration": 119,
    "start_time": "2022-10-23T13:36:47.895Z"
   },
   {
    "duration": 94,
    "start_time": "2022-10-23T13:37:07.546Z"
   },
   {
    "duration": 88,
    "start_time": "2022-10-23T13:37:12.715Z"
   },
   {
    "duration": 324,
    "start_time": "2022-10-23T13:37:32.298Z"
   },
   {
    "duration": 329,
    "start_time": "2022-10-23T13:38:00.057Z"
   },
   {
    "duration": 338,
    "start_time": "2022-10-23T13:41:44.023Z"
   },
   {
    "duration": 363,
    "start_time": "2022-10-23T13:42:06.895Z"
   },
   {
    "duration": 330,
    "start_time": "2022-10-23T13:42:29.750Z"
   },
   {
    "duration": 335,
    "start_time": "2022-10-23T13:44:03.279Z"
   },
   {
    "duration": 353,
    "start_time": "2022-10-23T13:44:11.873Z"
   },
   {
    "duration": 366,
    "start_time": "2022-10-23T13:44:45.103Z"
   },
   {
    "duration": 10,
    "start_time": "2022-10-23T13:46:23.853Z"
   },
   {
    "duration": 14,
    "start_time": "2022-10-23T13:48:16.289Z"
   },
   {
    "duration": 12,
    "start_time": "2022-10-23T13:48:45.556Z"
   },
   {
    "duration": 11,
    "start_time": "2022-10-23T13:49:02.013Z"
   },
   {
    "duration": 578,
    "start_time": "2022-10-23T13:50:21.942Z"
   },
   {
    "duration": 369,
    "start_time": "2022-10-23T13:53:39.938Z"
   },
   {
    "duration": 362,
    "start_time": "2022-10-23T13:54:17.549Z"
   },
   {
    "duration": 545,
    "start_time": "2022-10-23T13:54:54.449Z"
   },
   {
    "duration": 762,
    "start_time": "2022-10-23T13:55:26.545Z"
   },
   {
    "duration": 864,
    "start_time": "2022-10-23T13:56:17.634Z"
   },
   {
    "duration": 809,
    "start_time": "2022-10-23T15:53:22.288Z"
   },
   {
    "duration": 114,
    "start_time": "2022-10-23T15:53:26.103Z"
   },
   {
    "duration": 335,
    "start_time": "2022-10-23T15:53:33.734Z"
   },
   {
    "duration": 1746,
    "start_time": "2022-10-23T15:53:37.654Z"
   },
   {
    "duration": 1391,
    "start_time": "2022-10-23T16:03:38.505Z"
   },
   {
    "duration": 119,
    "start_time": "2022-10-23T16:03:49.112Z"
   },
   {
    "duration": 308,
    "start_time": "2022-10-23T16:03:50.799Z"
   },
   {
    "duration": 396,
    "start_time": "2022-10-23T16:03:52.311Z"
   },
   {
    "duration": 1389,
    "start_time": "2022-10-23T16:03:57.096Z"
   },
   {
    "duration": 1279,
    "start_time": "2022-10-23T16:04:20.563Z"
   },
   {
    "duration": 1296,
    "start_time": "2022-10-23T16:06:20.545Z"
   },
   {
    "duration": 1293,
    "start_time": "2022-10-23T16:07:05.927Z"
   },
   {
    "duration": 1291,
    "start_time": "2022-10-23T16:07:27.759Z"
   },
   {
    "duration": 1209,
    "start_time": "2022-10-23T16:07:51.023Z"
   },
   {
    "duration": 147,
    "start_time": "2022-10-23T16:11:41.652Z"
   },
   {
    "duration": 1266,
    "start_time": "2022-10-23T16:12:05.188Z"
   },
   {
    "duration": 1290,
    "start_time": "2022-10-23T16:15:58.122Z"
   },
   {
    "duration": 1299,
    "start_time": "2022-10-23T16:17:37.977Z"
   },
   {
    "duration": 1363,
    "start_time": "2022-10-23T16:19:20.824Z"
   },
   {
    "duration": 1368,
    "start_time": "2022-10-23T16:19:58.368Z"
   },
   {
    "duration": 1429,
    "start_time": "2022-10-23T16:20:56.441Z"
   },
   {
    "duration": 1396,
    "start_time": "2022-10-23T16:21:30.352Z"
   },
   {
    "duration": 1319,
    "start_time": "2022-10-23T16:23:31.162Z"
   },
   {
    "duration": 1363,
    "start_time": "2022-10-23T16:23:50.614Z"
   },
   {
    "duration": 1409,
    "start_time": "2022-10-23T16:24:08.397Z"
   },
   {
    "duration": 1336,
    "start_time": "2022-10-23T16:24:21.769Z"
   },
   {
    "duration": 1340,
    "start_time": "2022-10-23T16:27:42.704Z"
   },
   {
    "duration": 1438,
    "start_time": "2022-10-23T16:28:05.235Z"
   },
   {
    "duration": 1406,
    "start_time": "2022-10-23T16:28:28.555Z"
   },
   {
    "duration": 1407,
    "start_time": "2022-10-23T16:28:52.947Z"
   },
   {
    "duration": 1432,
    "start_time": "2022-10-23T16:29:08.694Z"
   },
   {
    "duration": 1413,
    "start_time": "2022-10-23T16:29:33.514Z"
   },
   {
    "duration": 1462,
    "start_time": "2022-10-23T16:29:59.588Z"
   },
   {
    "duration": 1571,
    "start_time": "2022-10-23T16:31:46.458Z"
   },
   {
    "duration": 1369,
    "start_time": "2022-10-23T16:32:08.473Z"
   },
   {
    "duration": 1418,
    "start_time": "2022-10-23T16:32:20.609Z"
   },
   {
    "duration": 1421,
    "start_time": "2022-10-23T16:32:39.377Z"
   },
   {
    "duration": 1533,
    "start_time": "2022-10-23T16:34:31.552Z"
   },
   {
    "duration": 1712,
    "start_time": "2022-10-23T16:35:06.141Z"
   },
   {
    "duration": 1463,
    "start_time": "2022-10-23T16:35:40.784Z"
   },
   {
    "duration": 1558,
    "start_time": "2022-10-23T16:38:00.328Z"
   },
   {
    "duration": 1812,
    "start_time": "2022-10-23T16:39:33.393Z"
   },
   {
    "duration": 1954,
    "start_time": "2022-10-23T16:41:12.295Z"
   },
   {
    "duration": 3009,
    "start_time": "2022-10-23T16:42:11.245Z"
   },
   {
    "duration": 2132,
    "start_time": "2022-10-23T16:42:25.288Z"
   },
   {
    "duration": 99,
    "start_time": "2022-10-23T16:48:46.988Z"
   },
   {
    "duration": 2050,
    "start_time": "2022-10-23T16:48:58.280Z"
   },
   {
    "duration": 2135,
    "start_time": "2022-10-23T16:50:42.804Z"
   },
   {
    "duration": 2114,
    "start_time": "2022-10-23T16:51:08.995Z"
   },
   {
    "duration": 2205,
    "start_time": "2022-10-23T17:00:27.309Z"
   },
   {
    "duration": 186,
    "start_time": "2022-10-23T17:09:49.868Z"
   },
   {
    "duration": 2280,
    "start_time": "2022-10-23T17:10:15.485Z"
   },
   {
    "duration": 2016,
    "start_time": "2022-10-23T17:10:58.173Z"
   },
   {
    "duration": 2059,
    "start_time": "2022-10-23T17:12:59.588Z"
   },
   {
    "duration": 2069,
    "start_time": "2022-10-23T17:15:36.981Z"
   },
   {
    "duration": 2300,
    "start_time": "2022-10-23T17:21:06.806Z"
   },
   {
    "duration": 2229,
    "start_time": "2022-10-23T17:24:26.241Z"
   },
   {
    "duration": 2115,
    "start_time": "2022-10-23T17:24:42.161Z"
   },
   {
    "duration": 2128,
    "start_time": "2022-10-23T17:25:01.160Z"
   },
   {
    "duration": 2183,
    "start_time": "2022-10-23T17:25:17.281Z"
   },
   {
    "duration": 2239,
    "start_time": "2022-10-23T17:29:42.203Z"
   },
   {
    "duration": 765,
    "start_time": "2022-10-23T17:33:32.089Z"
   },
   {
    "duration": 786,
    "start_time": "2022-10-23T17:34:30.176Z"
   },
   {
    "duration": 850,
    "start_time": "2022-10-23T17:34:58.864Z"
   },
   {
    "duration": 774,
    "start_time": "2022-10-23T17:35:08.815Z"
   },
   {
    "duration": 854,
    "start_time": "2022-10-23T17:35:21.902Z"
   },
   {
    "duration": 881,
    "start_time": "2022-10-23T17:35:32.359Z"
   },
   {
    "duration": 774,
    "start_time": "2022-10-23T17:35:44.837Z"
   },
   {
    "duration": 84,
    "start_time": "2022-10-23T17:37:23.149Z"
   },
   {
    "duration": 83,
    "start_time": "2022-10-23T17:37:32.069Z"
   },
   {
    "duration": 148,
    "start_time": "2022-10-23T17:37:40.774Z"
   },
   {
    "duration": 782,
    "start_time": "2022-10-23T17:38:04.350Z"
   },
   {
    "duration": 836,
    "start_time": "2022-10-23T17:38:59.205Z"
   },
   {
    "duration": 865,
    "start_time": "2022-10-23T17:42:57.643Z"
   },
   {
    "duration": 1054,
    "start_time": "2022-10-23T17:45:17.764Z"
   },
   {
    "duration": 960,
    "start_time": "2022-10-23T17:46:22.561Z"
   },
   {
    "duration": 959,
    "start_time": "2022-10-23T17:47:46.026Z"
   },
   {
    "duration": 971,
    "start_time": "2022-10-23T17:48:16.120Z"
   },
   {
    "duration": 1043,
    "start_time": "2022-10-23T17:48:25.528Z"
   },
   {
    "duration": 1315,
    "start_time": "2022-10-23T17:52:17.439Z"
   },
   {
    "duration": 1227,
    "start_time": "2022-10-23T17:53:48.080Z"
   },
   {
    "duration": 1323,
    "start_time": "2022-10-23T17:54:34.934Z"
   },
   {
    "duration": 1380,
    "start_time": "2022-10-23T17:54:47.531Z"
   },
   {
    "duration": 1286,
    "start_time": "2022-10-23T17:55:34.870Z"
   },
   {
    "duration": 1295,
    "start_time": "2022-10-23T17:55:45.877Z"
   },
   {
    "duration": 1384,
    "start_time": "2022-10-23T17:56:34.869Z"
   },
   {
    "duration": 1333,
    "start_time": "2022-10-23T17:57:00.148Z"
   },
   {
    "duration": 1270,
    "start_time": "2022-10-23T17:57:15.189Z"
   },
   {
    "duration": 1356,
    "start_time": "2022-10-23T17:57:29.637Z"
   },
   {
    "duration": 1283,
    "start_time": "2022-10-23T17:58:02.596Z"
   },
   {
    "duration": 77,
    "start_time": "2022-10-23T17:58:39.876Z"
   },
   {
    "duration": 298,
    "start_time": "2022-10-23T17:58:43.754Z"
   },
   {
    "duration": 1373,
    "start_time": "2022-10-23T17:58:46.280Z"
   },
   {
    "duration": 138,
    "start_time": "2022-10-23T17:59:46.180Z"
   },
   {
    "duration": 102,
    "start_time": "2022-10-23T17:59:55.891Z"
   },
   {
    "duration": 86,
    "start_time": "2022-10-23T17:59:58.154Z"
   },
   {
    "duration": 1228,
    "start_time": "2022-10-23T18:00:08.549Z"
   },
   {
    "duration": 1662,
    "start_time": "2022-10-23T18:04:57.353Z"
   },
   {
    "duration": 1491,
    "start_time": "2022-10-23T18:05:49.553Z"
   },
   {
    "duration": 1549,
    "start_time": "2022-10-23T18:07:46.138Z"
   },
   {
    "duration": 1685,
    "start_time": "2022-10-23T18:08:26.560Z"
   },
   {
    "duration": 1700,
    "start_time": "2022-10-23T18:08:37.835Z"
   },
   {
    "duration": 1665,
    "start_time": "2022-10-23T18:09:30.270Z"
   },
   {
    "duration": 1822,
    "start_time": "2022-10-23T18:13:05.709Z"
   },
   {
    "duration": 2943,
    "start_time": "2022-10-23T18:15:07.947Z"
   },
   {
    "duration": 2056,
    "start_time": "2022-10-23T18:22:56.524Z"
   },
   {
    "duration": 300,
    "start_time": "2022-10-23T18:24:01.636Z"
   },
   {
    "duration": 76,
    "start_time": "2022-10-23T18:27:29.077Z"
   },
   {
    "duration": 1954,
    "start_time": "2022-10-23T18:28:06.800Z"
   },
   {
    "duration": 2005,
    "start_time": "2022-10-23T18:28:34.749Z"
   },
   {
    "duration": 1915,
    "start_time": "2022-10-23T18:29:48.228Z"
   },
   {
    "duration": 2114,
    "start_time": "2022-10-23T18:30:38.647Z"
   },
   {
    "duration": 1948,
    "start_time": "2022-10-23T18:30:55.045Z"
   },
   {
    "duration": 2161,
    "start_time": "2022-10-23T18:31:16.444Z"
   },
   {
    "duration": 78,
    "start_time": "2022-10-23T18:31:58.154Z"
   },
   {
    "duration": 96,
    "start_time": "2022-10-23T18:32:20.850Z"
   },
   {
    "duration": 78,
    "start_time": "2022-10-23T18:32:38.450Z"
   },
   {
    "duration": 2023,
    "start_time": "2022-10-23T18:32:46.122Z"
   },
   {
    "duration": 1995,
    "start_time": "2022-10-23T18:33:08.740Z"
   },
   {
    "duration": 2009,
    "start_time": "2022-10-23T18:33:31.426Z"
   },
   {
    "duration": 1929,
    "start_time": "2022-10-23T18:33:54.345Z"
   },
   {
    "duration": 1878,
    "start_time": "2022-10-23T18:34:12.956Z"
   },
   {
    "duration": 1917,
    "start_time": "2022-10-23T18:35:09.705Z"
   },
   {
    "duration": 2023,
    "start_time": "2022-10-23T18:37:03.623Z"
   },
   {
    "duration": 2355,
    "start_time": "2022-10-23T18:39:42.807Z"
   },
   {
    "duration": 3751,
    "start_time": "2022-10-23T18:46:49.723Z"
   },
   {
    "duration": 2403,
    "start_time": "2022-10-23T18:48:22.298Z"
   },
   {
    "duration": 2522,
    "start_time": "2022-10-23T18:49:27.898Z"
   },
   {
    "duration": 2489,
    "start_time": "2022-10-23T18:49:51.922Z"
   },
   {
    "duration": 2451,
    "start_time": "2022-10-23T18:50:09.013Z"
   },
   {
    "duration": 2452,
    "start_time": "2022-10-23T18:50:24.947Z"
   },
   {
    "duration": 2951,
    "start_time": "2022-10-23T18:55:05.824Z"
   },
   {
    "duration": 2806,
    "start_time": "2022-10-23T18:55:35.759Z"
   },
   {
    "duration": 2972,
    "start_time": "2022-10-23T18:55:55.395Z"
   },
   {
    "duration": 2541,
    "start_time": "2022-10-23T19:06:18.865Z"
   },
   {
    "duration": 2941,
    "start_time": "2022-10-23T19:12:39.367Z"
   },
   {
    "duration": 2942,
    "start_time": "2022-10-23T19:13:08.977Z"
   },
   {
    "duration": 2900,
    "start_time": "2022-10-23T19:13:25.973Z"
   },
   {
    "duration": 3005,
    "start_time": "2022-10-23T19:13:48.549Z"
   },
   {
    "duration": 2888,
    "start_time": "2022-10-23T19:21:20.137Z"
   },
   {
    "duration": 3076,
    "start_time": "2022-10-23T19:21:42.745Z"
   },
   {
    "duration": 2982,
    "start_time": "2022-10-23T19:22:03.701Z"
   },
   {
    "duration": 3318,
    "start_time": "2022-10-23T19:22:18.823Z"
   },
   {
    "duration": 3177,
    "start_time": "2022-10-23T19:22:33.920Z"
   },
   {
    "duration": 3184,
    "start_time": "2022-10-23T19:25:59.522Z"
   },
   {
    "duration": 3311,
    "start_time": "2022-10-23T19:27:06.166Z"
   },
   {
    "duration": 3141,
    "start_time": "2022-10-23T19:27:19.986Z"
   },
   {
    "duration": 3333,
    "start_time": "2022-10-23T19:27:38.347Z"
   },
   {
    "duration": 3290,
    "start_time": "2022-10-23T19:27:53.998Z"
   },
   {
    "duration": 3140,
    "start_time": "2022-10-23T19:28:08.541Z"
   },
   {
    "duration": 3838,
    "start_time": "2022-10-23T19:32:36.059Z"
   },
   {
    "duration": 3849,
    "start_time": "2022-10-23T19:34:35.692Z"
   },
   {
    "duration": 3688,
    "start_time": "2022-10-23T19:37:42.797Z"
   },
   {
    "duration": 3783,
    "start_time": "2022-10-23T19:38:46.990Z"
   },
   {
    "duration": 4107,
    "start_time": "2022-10-23T19:39:03.944Z"
   },
   {
    "duration": 4214,
    "start_time": "2022-10-23T19:40:27.603Z"
   },
   {
    "duration": 4353,
    "start_time": "2022-10-23T19:43:02.539Z"
   },
   {
    "duration": 4488,
    "start_time": "2022-10-23T20:15:25.896Z"
   },
   {
    "duration": 4616,
    "start_time": "2022-10-23T20:19:37.239Z"
   },
   {
    "duration": 4392,
    "start_time": "2022-10-23T20:20:36.362Z"
   },
   {
    "duration": 4246,
    "start_time": "2022-10-23T20:21:14.956Z"
   },
   {
    "duration": 4343,
    "start_time": "2022-10-23T20:21:59.992Z"
   },
   {
    "duration": 4197,
    "start_time": "2022-10-23T20:23:07.621Z"
   },
   {
    "duration": 4295,
    "start_time": "2022-10-23T20:23:40.469Z"
   },
   {
    "duration": 562,
    "start_time": "2022-10-24T16:39:35.974Z"
   },
   {
    "duration": 95,
    "start_time": "2022-10-24T16:39:39.610Z"
   },
   {
    "duration": 358,
    "start_time": "2022-10-24T16:39:44.274Z"
   },
   {
    "duration": 5623,
    "start_time": "2022-10-24T16:51:54.264Z"
   },
   {
    "duration": 5993,
    "start_time": "2022-10-24T16:52:30.707Z"
   },
   {
    "duration": 4969,
    "start_time": "2022-10-24T16:54:14.561Z"
   },
   {
    "duration": 4822,
    "start_time": "2022-10-24T16:56:07.544Z"
   },
   {
    "duration": 4866,
    "start_time": "2022-10-24T16:56:36.326Z"
   },
   {
    "duration": 5053,
    "start_time": "2022-10-24T16:56:48.202Z"
   },
   {
    "duration": 4754,
    "start_time": "2022-10-24T17:09:59.190Z"
   },
   {
    "duration": 4898,
    "start_time": "2022-10-24T17:10:40.065Z"
   },
   {
    "duration": 4786,
    "start_time": "2022-10-24T17:14:15.380Z"
   },
   {
    "duration": 4685,
    "start_time": "2022-10-24T17:18:42.411Z"
   },
   {
    "duration": 4849,
    "start_time": "2022-10-24T17:19:21.155Z"
   },
   {
    "duration": 6003,
    "start_time": "2022-10-24T17:34:05.947Z"
   },
   {
    "duration": 6307,
    "start_time": "2022-10-24T17:36:14.364Z"
   },
   {
    "duration": 6143,
    "start_time": "2022-10-24T17:37:44.449Z"
   },
   {
    "duration": 6274,
    "start_time": "2022-10-24T17:39:08.796Z"
   },
   {
    "duration": 6193,
    "start_time": "2022-10-24T18:53:54.375Z"
   },
   {
    "duration": 6292,
    "start_time": "2022-10-24T19:00:47.310Z"
   },
   {
    "duration": 6194,
    "start_time": "2022-10-24T19:01:24.200Z"
   },
   {
    "duration": 6265,
    "start_time": "2022-10-24T19:02:56.176Z"
   },
   {
    "duration": 6450,
    "start_time": "2022-10-24T19:05:03.672Z"
   },
   {
    "duration": 122,
    "start_time": "2022-10-24T19:31:15.311Z"
   },
   {
    "duration": 104,
    "start_time": "2022-10-24T19:31:20.035Z"
   },
   {
    "duration": 358,
    "start_time": "2022-10-24T19:31:24.301Z"
   },
   {
    "duration": 120,
    "start_time": "2022-10-24T19:31:28.079Z"
   },
   {
    "duration": 6256,
    "start_time": "2022-10-24T19:31:44.954Z"
   },
   {
    "duration": 510,
    "start_time": "2022-10-25T06:36:39.462Z"
   },
   {
    "duration": 152,
    "start_time": "2022-10-25T06:37:02.322Z"
   },
   {
    "duration": 126,
    "start_time": "2022-10-25T06:43:24.914Z"
   },
   {
    "duration": 792,
    "start_time": "2022-10-25T15:32:38.590Z"
   },
   {
    "duration": 88,
    "start_time": "2022-10-25T15:35:59.378Z"
   },
   {
    "duration": 37,
    "start_time": "2022-10-25T15:36:39.081Z"
   },
   {
    "duration": 15,
    "start_time": "2022-10-25T15:37:38.753Z"
   },
   {
    "duration": 11,
    "start_time": "2022-10-25T15:43:43.382Z"
   },
   {
    "duration": 12,
    "start_time": "2022-10-25T15:47:13.738Z"
   },
   {
    "duration": 4,
    "start_time": "2022-10-25T15:55:05.014Z"
   },
   {
    "duration": 44,
    "start_time": "2022-10-25T15:55:07.584Z"
   },
   {
    "duration": 6,
    "start_time": "2022-10-25T15:55:11.461Z"
   },
   {
    "duration": 4,
    "start_time": "2022-10-25T15:55:14.018Z"
   },
   {
    "duration": 11,
    "start_time": "2022-10-25T15:56:06.119Z"
   },
   {
    "duration": 6,
    "start_time": "2022-10-25T15:59:22.989Z"
   },
   {
    "duration": 6,
    "start_time": "2022-10-25T16:01:12.867Z"
   },
   {
    "duration": 7,
    "start_time": "2022-10-25T16:01:14.271Z"
   },
   {
    "duration": 31,
    "start_time": "2022-10-25T16:03:02.436Z"
   },
   {
    "duration": 5,
    "start_time": "2022-10-25T16:07:13.433Z"
   },
   {
    "duration": 11,
    "start_time": "2022-10-25T16:07:31.856Z"
   },
   {
    "duration": 317,
    "start_time": "2022-10-25T16:07:59.052Z"
   },
   {
    "duration": 864,
    "start_time": "2022-10-25T16:09:31.832Z"
   },
   {
    "duration": 26,
    "start_time": "2022-10-25T16:10:08.986Z"
   },
   {
    "duration": 3,
    "start_time": "2022-10-25T16:12:22.099Z"
   },
   {
    "duration": 15,
    "start_time": "2022-10-25T16:12:27.749Z"
   },
   {
    "duration": 9,
    "start_time": "2022-10-25T16:13:13.449Z"
   },
   {
    "duration": 3,
    "start_time": "2022-10-25T16:13:25.661Z"
   },
   {
    "duration": 5,
    "start_time": "2022-10-25T16:14:21.494Z"
   },
   {
    "duration": 10,
    "start_time": "2022-10-25T16:14:36.973Z"
   },
   {
    "duration": 8,
    "start_time": "2022-10-25T16:14:39.957Z"
   },
   {
    "duration": 3,
    "start_time": "2022-10-25T16:14:41.212Z"
   },
   {
    "duration": 6,
    "start_time": "2022-10-25T16:14:43.297Z"
   },
   {
    "duration": 44,
    "start_time": "2022-10-25T16:14:45.116Z"
   },
   {
    "duration": 4,
    "start_time": "2022-10-25T16:14:46.395Z"
   },
   {
    "duration": 11,
    "start_time": "2022-10-25T16:14:47.720Z"
   },
   {
    "duration": 5,
    "start_time": "2022-10-25T16:14:48.775Z"
   },
   {
    "duration": 5,
    "start_time": "2022-10-25T16:14:49.949Z"
   },
   {
    "duration": 12,
    "start_time": "2022-10-25T16:14:50.943Z"
   },
   {
    "duration": 3,
    "start_time": "2022-10-25T16:14:51.911Z"
   },
   {
    "duration": 32,
    "start_time": "2022-10-25T16:14:53.066Z"
   },
   {
    "duration": 5,
    "start_time": "2022-10-25T16:14:56.020Z"
   },
   {
    "duration": 11,
    "start_time": "2022-10-25T16:14:57.813Z"
   },
   {
    "duration": 363,
    "start_time": "2022-10-25T16:14:58.944Z"
   },
   {
    "duration": 7,
    "start_time": "2022-10-25T16:15:01.452Z"
   },
   {
    "duration": 162,
    "start_time": "2022-10-25T16:25:40.274Z"
   },
   {
    "duration": 123,
    "start_time": "2022-10-25T16:27:25.203Z"
   },
   {
    "duration": 113,
    "start_time": "2022-10-25T16:28:08.326Z"
   },
   {
    "duration": 179,
    "start_time": "2022-10-25T16:34:04.090Z"
   },
   {
    "duration": 9,
    "start_time": "2022-10-25T16:38:49.348Z"
   },
   {
    "duration": 124,
    "start_time": "2022-10-25T16:39:34.990Z"
   },
   {
    "duration": 45,
    "start_time": "2022-10-25T16:39:56.312Z"
   },
   {
    "duration": 136,
    "start_time": "2022-10-25T16:41:16.783Z"
   },
   {
    "duration": 119,
    "start_time": "2022-10-25T16:43:19.606Z"
   },
   {
    "duration": 149,
    "start_time": "2022-10-25T16:43:39.132Z"
   },
   {
    "duration": 115,
    "start_time": "2022-10-25T16:43:51.503Z"
   },
   {
    "duration": 207,
    "start_time": "2022-10-25T16:43:59.917Z"
   },
   {
    "duration": 102,
    "start_time": "2022-10-25T16:52:42.098Z"
   },
   {
    "duration": 109,
    "start_time": "2022-10-25T16:53:17.601Z"
   },
   {
    "duration": 113,
    "start_time": "2022-10-25T16:56:09.261Z"
   },
   {
    "duration": 12,
    "start_time": "2022-10-25T16:57:12.420Z"
   },
   {
    "duration": 11,
    "start_time": "2022-10-25T16:57:49.551Z"
   },
   {
    "duration": 109,
    "start_time": "2022-10-25T17:00:55.458Z"
   },
   {
    "duration": 105,
    "start_time": "2022-10-25T17:01:06.618Z"
   },
   {
    "duration": 111,
    "start_time": "2022-10-25T17:03:22.455Z"
   },
   {
    "duration": 43,
    "start_time": "2022-10-25T17:05:24.958Z"
   },
   {
    "duration": 111,
    "start_time": "2022-10-25T17:06:28.415Z"
   },
   {
    "duration": 120,
    "start_time": "2022-10-25T17:09:40.861Z"
   },
   {
    "duration": 119,
    "start_time": "2022-10-25T17:14:12.904Z"
   },
   {
    "duration": 120,
    "start_time": "2022-10-25T17:15:42.522Z"
   },
   {
    "duration": 182,
    "start_time": "2022-10-25T17:16:59.856Z"
   },
   {
    "duration": 3,
    "start_time": "2022-10-25T17:21:02.797Z"
   },
   {
    "duration": 30,
    "start_time": "2022-10-25T17:21:06.110Z"
   },
   {
    "duration": 4,
    "start_time": "2022-10-25T17:21:09.342Z"
   },
   {
    "duration": 87,
    "start_time": "2022-10-25T17:21:13.355Z"
   },
   {
    "duration": 121,
    "start_time": "2022-10-25T17:24:32.365Z"
   },
   {
    "duration": 122,
    "start_time": "2022-10-25T17:24:41.842Z"
   },
   {
    "duration": 116,
    "start_time": "2022-10-25T17:24:46.438Z"
   },
   {
    "duration": 120,
    "start_time": "2022-10-25T17:25:25.115Z"
   },
   {
    "duration": 121,
    "start_time": "2022-10-25T17:27:54.306Z"
   },
   {
    "duration": 135,
    "start_time": "2022-10-25T17:30:25.142Z"
   },
   {
    "duration": 124,
    "start_time": "2022-10-25T17:30:29.171Z"
   },
   {
    "duration": 141,
    "start_time": "2022-10-25T17:33:34.894Z"
   },
   {
    "duration": 193,
    "start_time": "2022-10-25T17:34:12.167Z"
   },
   {
    "duration": 171,
    "start_time": "2022-10-25T17:34:16.576Z"
   },
   {
    "duration": 170,
    "start_time": "2022-10-25T17:34:19.452Z"
   },
   {
    "duration": 176,
    "start_time": "2022-10-25T17:34:22.208Z"
   },
   {
    "duration": 159,
    "start_time": "2022-10-25T17:34:25.484Z"
   },
   {
    "duration": 216,
    "start_time": "2022-10-25T17:34:27.773Z"
   },
   {
    "duration": 226,
    "start_time": "2022-10-25T17:34:27.991Z"
   },
   {
    "duration": 242,
    "start_time": "2022-10-25T17:34:30.901Z"
   },
   {
    "duration": 313,
    "start_time": "2022-10-25T17:34:33.932Z"
   },
   {
    "duration": 233,
    "start_time": "2022-10-25T17:34:34.247Z"
   },
   {
    "duration": 13,
    "start_time": "2022-10-25T17:55:10.178Z"
   },
   {
    "duration": 240,
    "start_time": "2022-10-25T17:55:18.873Z"
   },
   {
    "duration": 12,
    "start_time": "2022-10-25T17:55:26.551Z"
   },
   {
    "duration": 14,
    "start_time": "2022-10-25T17:55:52.547Z"
   },
   {
    "duration": 134,
    "start_time": "2022-10-25T17:58:25.961Z"
   },
   {
    "duration": 144,
    "start_time": "2022-10-25T17:59:06.263Z"
   },
   {
    "duration": 130,
    "start_time": "2022-10-25T17:59:43.189Z"
   },
   {
    "duration": 152,
    "start_time": "2022-10-25T18:00:56.165Z"
   },
   {
    "duration": 128,
    "start_time": "2022-10-25T18:01:22.146Z"
   },
   {
    "duration": 44,
    "start_time": "2022-10-25T18:02:00.512Z"
   },
   {
    "duration": 136,
    "start_time": "2022-10-25T18:02:12.168Z"
   },
   {
    "duration": 202,
    "start_time": "2022-10-25T18:02:45.223Z"
   },
   {
    "duration": 123,
    "start_time": "2022-10-25T18:03:24.791Z"
   },
   {
    "duration": 142,
    "start_time": "2022-10-25T18:09:55.253Z"
   },
   {
    "duration": 142,
    "start_time": "2022-10-25T18:10:49.692Z"
   },
   {
    "duration": 151,
    "start_time": "2022-10-25T18:11:42.252Z"
   },
   {
    "duration": 141,
    "start_time": "2022-10-25T18:12:14.579Z"
   },
   {
    "duration": 158,
    "start_time": "2022-10-25T18:12:45.930Z"
   },
   {
    "duration": 168,
    "start_time": "2022-10-25T18:13:47.388Z"
   },
   {
    "duration": 151,
    "start_time": "2022-10-25T18:14:23.838Z"
   },
   {
    "duration": 146,
    "start_time": "2022-10-25T18:15:10.522Z"
   },
   {
    "duration": 147,
    "start_time": "2022-10-25T18:15:38.513Z"
   },
   {
    "duration": 190,
    "start_time": "2022-10-25T18:15:56.465Z"
   },
   {
    "duration": 26,
    "start_time": "2022-10-25T18:17:00.949Z"
   },
   {
    "duration": 8,
    "start_time": "2022-10-25T18:19:30.743Z"
   },
   {
    "duration": 9,
    "start_time": "2022-10-25T18:19:36.272Z"
   },
   {
    "duration": 7,
    "start_time": "2022-10-25T18:22:41.310Z"
   },
   {
    "duration": 41,
    "start_time": "2022-10-25T18:22:54.447Z"
   },
   {
    "duration": 47,
    "start_time": "2022-10-25T18:23:33.133Z"
   },
   {
    "duration": 166,
    "start_time": "2022-10-25T18:24:14.605Z"
   },
   {
    "duration": 158,
    "start_time": "2022-10-25T18:24:27.349Z"
   },
   {
    "duration": 157,
    "start_time": "2022-10-25T18:27:46.090Z"
   },
   {
    "duration": 155,
    "start_time": "2022-10-25T18:29:02.202Z"
   },
   {
    "duration": 3,
    "start_time": "2022-10-25T18:30:26.402Z"
   },
   {
    "duration": 83,
    "start_time": "2022-10-25T18:30:33.665Z"
   },
   {
    "duration": 30,
    "start_time": "2022-10-25T18:30:37.647Z"
   },
   {
    "duration": 13,
    "start_time": "2022-10-25T18:30:43.425Z"
   },
   {
    "duration": 51,
    "start_time": "2022-10-25T18:35:07.359Z"
   },
   {
    "duration": 55,
    "start_time": "2022-10-25T18:35:30.913Z"
   },
   {
    "duration": 1793,
    "start_time": "2022-10-25T18:35:49.512Z"
   },
   {
    "duration": 13,
    "start_time": "2022-10-25T18:39:14.389Z"
   },
   {
    "duration": 221,
    "start_time": "2022-10-25T18:39:18.501Z"
   },
   {
    "duration": 15,
    "start_time": "2022-10-25T18:39:23.069Z"
   },
   {
    "duration": 10,
    "start_time": "2022-10-25T18:48:12.450Z"
   },
   {
    "duration": 10,
    "start_time": "2022-10-25T18:48:59.345Z"
   },
   {
    "duration": 12,
    "start_time": "2022-10-25T18:50:19.729Z"
   },
   {
    "duration": 5,
    "start_time": "2022-10-25T18:50:56.226Z"
   },
   {
    "duration": 10,
    "start_time": "2022-10-25T18:50:57.807Z"
   },
   {
    "duration": 2,
    "start_time": "2022-10-25T18:52:27.613Z"
   },
   {
    "duration": 81,
    "start_time": "2022-10-25T18:52:29.238Z"
   },
   {
    "duration": 38,
    "start_time": "2022-10-25T18:52:31.611Z"
   },
   {
    "duration": 15,
    "start_time": "2022-10-25T18:52:33.465Z"
   },
   {
    "duration": 1761,
    "start_time": "2022-10-25T18:52:35.058Z"
   },
   {
    "duration": 8,
    "start_time": "2022-10-25T18:52:41.242Z"
   },
   {
    "duration": 8,
    "start_time": "2022-10-25T18:52:42.802Z"
   },
   {
    "duration": 5,
    "start_time": "2022-10-25T18:52:44.274Z"
   },
   {
    "duration": 7,
    "start_time": "2022-10-25T18:52:45.675Z"
   },
   {
    "duration": 46,
    "start_time": "2022-10-25T18:52:47.033Z"
   },
   {
    "duration": 5,
    "start_time": "2022-10-25T18:52:48.226Z"
   },
   {
    "duration": 10,
    "start_time": "2022-10-25T18:52:49.562Z"
   },
   {
    "duration": 5,
    "start_time": "2022-10-25T18:52:50.658Z"
   },
   {
    "duration": 6,
    "start_time": "2022-10-25T18:52:51.713Z"
   },
   {
    "duration": 7,
    "start_time": "2022-10-25T18:52:52.746Z"
   },
   {
    "duration": 3,
    "start_time": "2022-10-25T18:52:53.770Z"
   },
   {
    "duration": 38,
    "start_time": "2022-10-25T18:52:54.966Z"
   },
   {
    "duration": 111,
    "start_time": "2022-10-25T18:52:56.194Z"
   },
   {
    "duration": 8,
    "start_time": "2022-10-25T18:53:04.539Z"
   },
   {
    "duration": 116,
    "start_time": "2022-10-25T18:53:04.994Z"
   },
   {
    "duration": 115,
    "start_time": "2022-10-25T18:53:06.034Z"
   },
   {
    "duration": 122,
    "start_time": "2022-10-25T18:53:07.052Z"
   },
   {
    "duration": 12,
    "start_time": "2022-10-25T18:53:07.690Z"
   },
   {
    "duration": 113,
    "start_time": "2022-10-25T18:53:08.714Z"
   },
   {
    "duration": 114,
    "start_time": "2022-10-25T18:53:10.274Z"
   },
   {
    "duration": 113,
    "start_time": "2022-10-25T18:53:11.411Z"
   },
   {
    "duration": 113,
    "start_time": "2022-10-25T18:53:12.594Z"
   },
   {
    "duration": 119,
    "start_time": "2022-10-25T18:53:13.802Z"
   },
   {
    "duration": 126,
    "start_time": "2022-10-25T18:53:15.411Z"
   },
   {
    "duration": 119,
    "start_time": "2022-10-25T18:53:17.146Z"
   },
   {
    "duration": 4,
    "start_time": "2022-10-25T18:53:19.658Z"
   },
   {
    "duration": 34,
    "start_time": "2022-10-25T18:53:20.626Z"
   },
   {
    "duration": 4,
    "start_time": "2022-10-25T18:53:21.754Z"
   },
   {
    "duration": 158,
    "start_time": "2022-10-25T18:53:22.842Z"
   },
   {
    "duration": 12,
    "start_time": "2022-10-25T18:53:27.394Z"
   },
   {
    "duration": 5,
    "start_time": "2022-10-25T18:54:18.305Z"
   },
   {
    "duration": 12,
    "start_time": "2022-10-25T18:54:24.130Z"
   },
   {
    "duration": 283,
    "start_time": "2022-10-25T18:54:29.418Z"
   },
   {
    "duration": 6,
    "start_time": "2022-10-25T18:54:30.481Z"
   },
   {
    "duration": 24,
    "start_time": "2022-10-25T18:54:32.329Z"
   },
   {
    "duration": 128,
    "start_time": "2022-10-25T18:54:36.441Z"
   },
   {
    "duration": 133,
    "start_time": "2022-10-25T18:54:37.218Z"
   },
   {
    "duration": 145,
    "start_time": "2022-10-25T18:54:38.114Z"
   },
   {
    "duration": 130,
    "start_time": "2022-10-25T18:54:42.857Z"
   },
   {
    "duration": 145,
    "start_time": "2022-10-25T18:54:45.465Z"
   },
   {
    "duration": 199,
    "start_time": "2022-10-25T18:54:46.904Z"
   },
   {
    "duration": 184,
    "start_time": "2022-10-25T18:54:47.453Z"
   },
   {
    "duration": 128,
    "start_time": "2022-10-25T18:54:47.954Z"
   },
   {
    "duration": 186,
    "start_time": "2022-10-25T18:54:48.489Z"
   },
   {
    "duration": 357,
    "start_time": "2022-10-25T18:54:49.009Z"
   },
   {
    "duration": 228,
    "start_time": "2022-10-25T18:54:49.480Z"
   },
   {
    "duration": 237,
    "start_time": "2022-10-25T18:54:49.898Z"
   },
   {
    "duration": 239,
    "start_time": "2022-10-25T18:54:50.340Z"
   },
   {
    "duration": 229,
    "start_time": "2022-10-25T18:54:50.778Z"
   },
   {
    "duration": 15,
    "start_time": "2022-10-25T18:54:51.745Z"
   },
   {
    "duration": 217,
    "start_time": "2022-10-25T18:54:56.081Z"
   },
   {
    "duration": 13,
    "start_time": "2022-10-25T18:55:00.953Z"
   },
   {
    "duration": 259,
    "start_time": "2022-10-25T18:55:03.185Z"
   },
   {
    "duration": 160,
    "start_time": "2022-10-25T18:55:04.764Z"
   },
   {
    "duration": 145,
    "start_time": "2022-10-25T18:55:06.579Z"
   },
   {
    "duration": 160,
    "start_time": "2022-10-25T18:55:08.251Z"
   },
   {
    "duration": 139,
    "start_time": "2022-10-25T18:55:10.409Z"
   },
   {
    "duration": 156,
    "start_time": "2022-10-25T18:55:11.808Z"
   },
   {
    "duration": 164,
    "start_time": "2022-10-25T18:55:14.138Z"
   },
   {
    "duration": 136,
    "start_time": "2022-10-25T18:55:17.769Z"
   },
   {
    "duration": 155,
    "start_time": "2022-10-25T18:55:20.161Z"
   },
   {
    "duration": 132,
    "start_time": "2022-10-25T18:56:04.106Z"
   },
   {
    "duration": 132,
    "start_time": "2022-10-25T18:56:55.793Z"
   },
   {
    "duration": 152,
    "start_time": "2022-10-25T19:24:26.499Z"
   },
   {
    "duration": 136,
    "start_time": "2022-10-25T19:25:06.651Z"
   },
   {
    "duration": 145,
    "start_time": "2022-10-25T19:27:04.637Z"
   },
   {
    "duration": 143,
    "start_time": "2022-10-25T19:27:32.509Z"
   },
   {
    "duration": 3,
    "start_time": "2022-10-25T19:30:58.901Z"
   },
   {
    "duration": 84,
    "start_time": "2022-10-25T19:30:59.863Z"
   },
   {
    "duration": 31,
    "start_time": "2022-10-25T19:31:00.802Z"
   },
   {
    "duration": 14,
    "start_time": "2022-10-25T19:31:01.840Z"
   },
   {
    "duration": 1812,
    "start_time": "2022-10-25T19:31:02.743Z"
   },
   {
    "duration": 11,
    "start_time": "2022-10-25T19:31:07.423Z"
   },
   {
    "duration": 10,
    "start_time": "2022-10-25T19:31:08.079Z"
   },
   {
    "duration": 5,
    "start_time": "2022-10-25T19:31:08.753Z"
   },
   {
    "duration": 9,
    "start_time": "2022-10-25T19:31:09.495Z"
   },
   {
    "duration": 56,
    "start_time": "2022-10-25T19:31:10.336Z"
   },
   {
    "duration": 5,
    "start_time": "2022-10-25T19:31:11.072Z"
   },
   {
    "duration": 10,
    "start_time": "2022-10-25T19:31:11.719Z"
   },
   {
    "duration": 6,
    "start_time": "2022-10-25T19:31:12.255Z"
   },
   {
    "duration": 5,
    "start_time": "2022-10-25T19:31:12.791Z"
   },
   {
    "duration": 7,
    "start_time": "2022-10-25T19:31:13.319Z"
   },
   {
    "duration": 3,
    "start_time": "2022-10-25T19:31:13.887Z"
   },
   {
    "duration": 35,
    "start_time": "2022-10-25T19:31:14.406Z"
   },
   {
    "duration": 124,
    "start_time": "2022-10-25T19:31:15.023Z"
   },
   {
    "duration": 8,
    "start_time": "2022-10-25T19:31:16.413Z"
   },
   {
    "duration": 113,
    "start_time": "2022-10-25T19:31:16.858Z"
   },
   {
    "duration": 108,
    "start_time": "2022-10-25T19:31:18.103Z"
   },
   {
    "duration": 124,
    "start_time": "2022-10-25T19:31:21.286Z"
   },
   {
    "duration": 15,
    "start_time": "2022-10-25T19:31:36.070Z"
   },
   {
    "duration": 219,
    "start_time": "2022-10-25T19:31:43.303Z"
   },
   {
    "duration": 118,
    "start_time": "2022-10-25T19:31:44.337Z"
   },
   {
    "duration": 114,
    "start_time": "2022-10-25T19:31:45.237Z"
   },
   {
    "duration": 108,
    "start_time": "2022-10-25T19:31:46.135Z"
   },
   {
    "duration": 119,
    "start_time": "2022-10-25T19:31:46.910Z"
   },
   {
    "duration": 117,
    "start_time": "2022-10-25T19:31:47.695Z"
   },
   {
    "duration": 107,
    "start_time": "2022-10-25T19:31:48.635Z"
   },
   {
    "duration": 3,
    "start_time": "2022-10-25T19:31:50.103Z"
   },
   {
    "duration": 29,
    "start_time": "2022-10-25T19:31:50.861Z"
   },
   {
    "duration": 4,
    "start_time": "2022-10-25T19:31:51.591Z"
   },
   {
    "duration": 63,
    "start_time": "2022-10-25T19:31:52.295Z"
   },
   {
    "duration": 6,
    "start_time": "2022-10-25T19:31:55.376Z"
   },
   {
    "duration": 11,
    "start_time": "2022-10-25T19:31:56.262Z"
   },
   {
    "duration": 289,
    "start_time": "2022-10-25T19:31:57.236Z"
   },
   {
    "duration": 6,
    "start_time": "2022-10-25T19:31:58.191Z"
   },
   {
    "duration": 25,
    "start_time": "2022-10-25T19:31:59.175Z"
   },
   {
    "duration": 124,
    "start_time": "2022-10-25T19:32:02.039Z"
   },
   {
    "duration": 144,
    "start_time": "2022-10-25T19:32:03.158Z"
   },
   {
    "duration": 140,
    "start_time": "2022-10-25T19:32:04.270Z"
   },
   {
    "duration": 127,
    "start_time": "2022-10-25T19:32:05.255Z"
   },
   {
    "duration": 142,
    "start_time": "2022-10-25T19:32:08.262Z"
   },
   {
    "duration": 187,
    "start_time": "2022-10-25T19:32:09.822Z"
   },
   {
    "duration": 172,
    "start_time": "2022-10-25T19:32:11.190Z"
   },
   {
    "duration": 107,
    "start_time": "2022-10-25T19:32:12.654Z"
   },
   {
    "duration": 335,
    "start_time": "2022-10-25T19:32:13.966Z"
   },
   {
    "duration": 173,
    "start_time": "2022-10-25T19:32:15.236Z"
   },
   {
    "duration": 229,
    "start_time": "2022-10-25T19:32:16.415Z"
   },
   {
    "duration": 230,
    "start_time": "2022-10-25T19:32:17.547Z"
   },
   {
    "duration": 293,
    "start_time": "2022-10-25T19:32:18.968Z"
   },
   {
    "duration": 234,
    "start_time": "2022-10-25T19:32:20.805Z"
   },
   {
    "duration": 14,
    "start_time": "2022-10-25T19:32:28.502Z"
   },
   {
    "duration": 234,
    "start_time": "2022-10-25T19:34:09.243Z"
   },
   {
    "duration": 14,
    "start_time": "2022-10-25T19:34:11.405Z"
   },
   {
    "duration": 296,
    "start_time": "2022-10-25T19:34:46.063Z"
   },
   {
    "duration": 162,
    "start_time": "2022-10-25T19:34:47.565Z"
   },
   {
    "duration": 191,
    "start_time": "2022-10-25T19:34:48.852Z"
   },
   {
    "duration": 172,
    "start_time": "2022-10-25T19:34:50.124Z"
   },
   {
    "duration": 144,
    "start_time": "2022-10-25T19:34:51.292Z"
   },
   {
    "duration": 150,
    "start_time": "2022-10-25T19:34:52.146Z"
   },
   {
    "duration": 152,
    "start_time": "2022-10-25T19:34:53.004Z"
   },
   {
    "duration": 133,
    "start_time": "2022-10-25T19:34:53.860Z"
   },
   {
    "duration": 148,
    "start_time": "2022-10-25T19:34:54.259Z"
   },
   {
    "duration": 144,
    "start_time": "2022-10-25T19:34:54.620Z"
   },
   {
    "duration": 24,
    "start_time": "2022-10-25T19:34:56.036Z"
   },
   {
    "duration": 8,
    "start_time": "2022-10-25T19:34:57.780Z"
   },
   {
    "duration": 6,
    "start_time": "2022-10-25T19:34:58.661Z"
   },
   {
    "duration": 149,
    "start_time": "2022-10-25T19:34:59.180Z"
   },
   {
    "duration": 829,
    "start_time": "2022-10-25T21:36:08.461Z"
   },
   {
    "duration": 154,
    "start_time": "2022-10-25T21:36:10.466Z"
   },
   {
    "duration": 57,
    "start_time": "2022-10-25T21:36:12.377Z"
   },
   {
    "duration": 23,
    "start_time": "2022-10-25T21:36:14.124Z"
   },
   {
    "duration": 2169,
    "start_time": "2022-10-25T21:36:16.289Z"
   },
   {
    "duration": 9,
    "start_time": "2022-10-25T21:36:25.857Z"
   },
   {
    "duration": 14,
    "start_time": "2022-10-25T21:36:27.609Z"
   },
   {
    "duration": 4,
    "start_time": "2022-10-25T21:36:29.010Z"
   },
   {
    "duration": 9,
    "start_time": "2022-10-25T21:36:30.289Z"
   },
   {
    "duration": 70,
    "start_time": "2022-10-25T21:36:31.808Z"
   },
   {
    "duration": 5,
    "start_time": "2022-10-25T21:36:33.121Z"
   },
   {
    "duration": 11,
    "start_time": "2022-10-25T21:36:34.401Z"
   },
   {
    "duration": 6,
    "start_time": "2022-10-25T21:36:35.696Z"
   },
   {
    "duration": 8,
    "start_time": "2022-10-25T21:36:36.889Z"
   },
   {
    "duration": 12,
    "start_time": "2022-10-25T21:36:38.063Z"
   },
   {
    "duration": 3,
    "start_time": "2022-10-25T21:36:39.235Z"
   },
   {
    "duration": 36,
    "start_time": "2022-10-25T21:36:40.705Z"
   },
   {
    "duration": 132,
    "start_time": "2022-10-25T21:36:42.688Z"
   },
   {
    "duration": 10,
    "start_time": "2022-10-25T21:36:45.285Z"
   },
   {
    "duration": 123,
    "start_time": "2022-10-25T21:36:45.985Z"
   },
   {
    "duration": 133,
    "start_time": "2022-10-25T21:36:47.889Z"
   },
   {
    "duration": 134,
    "start_time": "2022-10-25T21:36:49.991Z"
   },
   {
    "duration": 14,
    "start_time": "2022-10-25T21:36:51.513Z"
   },
   {
    "duration": 121,
    "start_time": "2022-10-25T21:36:53.537Z"
   },
   {
    "duration": 145,
    "start_time": "2022-10-25T21:36:55.635Z"
   },
   {
    "duration": 218,
    "start_time": "2022-10-25T21:36:57.697Z"
   },
   {
    "duration": 125,
    "start_time": "2022-10-25T21:37:00.776Z"
   },
   {
    "duration": 143,
    "start_time": "2022-10-25T21:37:03.081Z"
   },
   {
    "duration": 136,
    "start_time": "2022-10-25T21:37:05.523Z"
   },
   {
    "duration": 161,
    "start_time": "2022-10-25T21:37:08.112Z"
   },
   {
    "duration": 4,
    "start_time": "2022-10-25T21:37:12.856Z"
   },
   {
    "duration": 33,
    "start_time": "2022-10-25T21:37:14.497Z"
   },
   {
    "duration": 5,
    "start_time": "2022-10-25T21:37:16.049Z"
   },
   {
    "duration": 73,
    "start_time": "2022-10-25T21:37:17.576Z"
   },
   {
    "duration": 6,
    "start_time": "2022-10-25T21:37:21.873Z"
   },
   {
    "duration": 12,
    "start_time": "2022-10-25T21:37:23.841Z"
   },
   {
    "duration": 345,
    "start_time": "2022-10-25T21:37:25.344Z"
   },
   {
    "duration": 7,
    "start_time": "2022-10-25T21:37:26.734Z"
   },
   {
    "duration": 39,
    "start_time": "2022-10-25T21:37:28.208Z"
   },
   {
    "duration": 131,
    "start_time": "2022-10-25T21:37:31.585Z"
   },
   {
    "duration": 138,
    "start_time": "2022-10-25T21:37:33.792Z"
   },
   {
    "duration": 164,
    "start_time": "2022-10-25T21:37:35.984Z"
   },
   {
    "duration": 221,
    "start_time": "2022-10-25T21:37:37.761Z"
   },
   {
    "duration": 169,
    "start_time": "2022-10-25T21:37:39.863Z"
   },
   {
    "duration": 205,
    "start_time": "2022-10-25T21:37:43.608Z"
   },
   {
    "duration": 280,
    "start_time": "2022-10-25T21:37:46.368Z"
   },
   {
    "duration": 135,
    "start_time": "2022-10-25T21:37:48.569Z"
   },
   {
    "duration": 215,
    "start_time": "2022-10-25T21:37:50.191Z"
   },
   {
    "duration": 190,
    "start_time": "2022-10-25T21:37:53.088Z"
   },
   {
    "duration": 272,
    "start_time": "2022-10-25T21:37:54.572Z"
   },
   {
    "duration": 373,
    "start_time": "2022-10-25T21:37:56.239Z"
   },
   {
    "duration": 277,
    "start_time": "2022-10-25T21:37:58.768Z"
   },
   {
    "duration": 294,
    "start_time": "2022-10-25T21:38:10.614Z"
   },
   {
    "duration": 20,
    "start_time": "2022-10-25T21:38:13.864Z"
   },
   {
    "duration": 272,
    "start_time": "2022-10-25T21:38:15.752Z"
   },
   {
    "duration": 14,
    "start_time": "2022-10-25T21:38:19.337Z"
   },
   {
    "duration": 171,
    "start_time": "2022-10-25T21:38:23.015Z"
   },
   {
    "duration": 179,
    "start_time": "2022-10-25T21:38:24.337Z"
   },
   {
    "duration": 166,
    "start_time": "2022-10-25T21:38:25.711Z"
   },
   {
    "duration": 269,
    "start_time": "2022-10-25T21:38:27.175Z"
   },
   {
    "duration": 187,
    "start_time": "2022-10-25T21:38:28.609Z"
   },
   {
    "duration": 179,
    "start_time": "2022-10-25T21:38:30.016Z"
   },
   {
    "duration": 175,
    "start_time": "2022-10-25T21:38:31.416Z"
   },
   {
    "duration": 165,
    "start_time": "2022-10-25T21:38:32.815Z"
   },
   {
    "duration": 166,
    "start_time": "2022-10-25T21:38:33.600Z"
   },
   {
    "duration": 171,
    "start_time": "2022-10-25T21:38:34.176Z"
   },
   {
    "duration": 31,
    "start_time": "2022-10-25T21:38:38.193Z"
   },
   {
    "duration": 11,
    "start_time": "2022-10-25T21:38:40.943Z"
   },
   {
    "duration": 7,
    "start_time": "2022-10-25T21:38:42.327Z"
   },
   {
    "duration": 176,
    "start_time": "2022-10-25T21:38:45.111Z"
   },
   {
    "duration": 10,
    "start_time": "2022-10-25T21:39:24.483Z"
   },
   {
    "duration": 6,
    "start_time": "2022-10-25T21:39:25.734Z"
   },
   {
    "duration": 203,
    "start_time": "2022-10-25T21:39:26.846Z"
   },
   {
    "duration": 21,
    "start_time": "2022-10-25T21:40:57.623Z"
   },
   {
    "duration": 16,
    "start_time": "2022-10-25T21:41:02.767Z"
   },
   {
    "duration": 17,
    "start_time": "2022-10-25T21:41:04.958Z"
   },
   {
    "duration": 665,
    "start_time": "2022-10-25T21:41:23.071Z"
   },
   {
    "duration": 97,
    "start_time": "2022-10-25T21:41:24.602Z"
   },
   {
    "duration": 40,
    "start_time": "2022-10-25T21:41:26.698Z"
   },
   {
    "duration": 22,
    "start_time": "2022-10-25T21:41:29.145Z"
   },
   {
    "duration": 2057,
    "start_time": "2022-10-25T21:41:30.452Z"
   },
   {
    "duration": 25,
    "start_time": "2022-10-25T21:41:33.769Z"
   },
   {
    "duration": 13,
    "start_time": "2022-10-25T21:41:35.138Z"
   },
   {
    "duration": 5,
    "start_time": "2022-10-25T21:41:36.017Z"
   },
   {
    "duration": 7,
    "start_time": "2022-10-25T21:41:36.504Z"
   },
   {
    "duration": 44,
    "start_time": "2022-10-25T21:41:36.961Z"
   },
   {
    "duration": 5,
    "start_time": "2022-10-25T21:41:37.393Z"
   },
   {
    "duration": 10,
    "start_time": "2022-10-25T21:41:37.859Z"
   },
   {
    "duration": 8,
    "start_time": "2022-10-25T21:41:38.313Z"
   },
   {
    "duration": 7,
    "start_time": "2022-10-25T21:41:38.785Z"
   },
   {
    "duration": 8,
    "start_time": "2022-10-25T21:41:39.242Z"
   },
   {
    "duration": 3,
    "start_time": "2022-10-25T21:41:39.689Z"
   },
   {
    "duration": 39,
    "start_time": "2022-10-25T21:41:40.153Z"
   },
   {
    "duration": 132,
    "start_time": "2022-10-25T21:41:40.569Z"
   },
   {
    "duration": 9,
    "start_time": "2022-10-25T21:41:41.360Z"
   },
   {
    "duration": 187,
    "start_time": "2022-10-25T21:41:41.562Z"
   },
   {
    "duration": 122,
    "start_time": "2022-10-25T21:41:42.115Z"
   },
   {
    "duration": 141,
    "start_time": "2022-10-25T21:41:42.698Z"
   },
   {
    "duration": 16,
    "start_time": "2022-10-25T21:41:43.104Z"
   },
   {
    "duration": 134,
    "start_time": "2022-10-25T21:41:43.746Z"
   },
   {
    "duration": 141,
    "start_time": "2022-10-25T21:41:44.410Z"
   },
   {
    "duration": 212,
    "start_time": "2022-10-25T21:41:45.017Z"
   },
   {
    "duration": 126,
    "start_time": "2022-10-25T21:41:45.666Z"
   },
   {
    "duration": 144,
    "start_time": "2022-10-25T21:41:46.297Z"
   },
   {
    "duration": 146,
    "start_time": "2022-10-25T21:41:47.089Z"
   },
   {
    "duration": 120,
    "start_time": "2022-10-25T21:41:47.784Z"
   },
   {
    "duration": 4,
    "start_time": "2022-10-25T21:41:48.697Z"
   },
   {
    "duration": 33,
    "start_time": "2022-10-25T21:41:49.146Z"
   },
   {
    "duration": 5,
    "start_time": "2022-10-25T21:41:50.953Z"
   },
   {
    "duration": 78,
    "start_time": "2022-10-25T21:41:52.305Z"
   },
   {
    "duration": 7,
    "start_time": "2022-10-25T21:41:55.839Z"
   },
   {
    "duration": 13,
    "start_time": "2022-10-25T21:41:56.953Z"
   },
   {
    "duration": 339,
    "start_time": "2022-10-25T21:41:58.489Z"
   },
   {
    "duration": 6,
    "start_time": "2022-10-25T21:41:59.577Z"
   },
   {
    "duration": 41,
    "start_time": "2022-10-25T21:42:01.258Z"
   },
   {
    "duration": 150,
    "start_time": "2022-10-25T21:42:03.537Z"
   },
   {
    "duration": 160,
    "start_time": "2022-10-25T21:42:04.762Z"
   },
   {
    "duration": 195,
    "start_time": "2022-10-25T21:42:05.850Z"
   },
   {
    "duration": 278,
    "start_time": "2022-10-25T21:42:06.568Z"
   },
   {
    "duration": 169,
    "start_time": "2022-10-25T21:42:07.449Z"
   },
   {
    "duration": 214,
    "start_time": "2022-10-25T21:42:08.777Z"
   },
   {
    "duration": 234,
    "start_time": "2022-10-25T21:42:09.905Z"
   },
   {
    "duration": 151,
    "start_time": "2022-10-25T21:42:11.240Z"
   },
   {
    "duration": 216,
    "start_time": "2022-10-25T21:42:12.576Z"
   },
   {
    "duration": 218,
    "start_time": "2022-10-25T21:42:13.722Z"
   },
   {
    "duration": 283,
    "start_time": "2022-10-25T21:42:15.672Z"
   },
   {
    "duration": 398,
    "start_time": "2022-10-25T21:42:17.122Z"
   },
   {
    "duration": 351,
    "start_time": "2022-10-25T21:42:18.466Z"
   },
   {
    "duration": 273,
    "start_time": "2022-10-25T21:42:20.809Z"
   },
   {
    "duration": 17,
    "start_time": "2022-10-25T21:42:25.806Z"
   },
   {
    "duration": 14,
    "start_time": "2022-10-25T21:42:36.361Z"
   },
   {
    "duration": 9,
    "start_time": "2022-10-25T21:42:53.370Z"
   },
   {
    "duration": 7,
    "start_time": "2022-10-25T21:42:54.512Z"
   },
   {
    "duration": 58,
    "start_time": "2022-10-26T14:52:18.086Z"
   },
   {
    "duration": 747,
    "start_time": "2022-10-26T14:52:30.662Z"
   },
   {
    "duration": 746,
    "start_time": "2022-10-26T14:52:32.775Z"
   },
   {
    "duration": 35,
    "start_time": "2022-10-26T14:52:33.556Z"
   },
   {
    "duration": 15,
    "start_time": "2022-10-26T14:52:34.562Z"
   },
   {
    "duration": 1907,
    "start_time": "2022-10-26T14:52:35.694Z"
   },
   {
    "duration": 29,
    "start_time": "2022-10-26T14:52:37.603Z"
   },
   {
    "duration": 49,
    "start_time": "2022-10-26T18:10:12.346Z"
   },
   {
    "duration": 821,
    "start_time": "2022-10-26T18:10:24.117Z"
   },
   {
    "duration": 152,
    "start_time": "2022-10-26T18:10:26.534Z"
   },
   {
    "duration": 39,
    "start_time": "2022-10-26T18:10:28.213Z"
   },
   {
    "duration": 16,
    "start_time": "2022-10-26T18:10:29.883Z"
   },
   {
    "duration": 2111,
    "start_time": "2022-10-26T18:10:31.613Z"
   },
   {
    "duration": 102,
    "start_time": "2022-10-26T18:11:13.694Z"
   },
   {
    "duration": 803,
    "start_time": "2022-10-27T05:59:45.916Z"
   },
   {
    "duration": 339,
    "start_time": "2022-10-27T05:59:46.722Z"
   },
   {
    "duration": 39,
    "start_time": "2022-10-27T05:59:47.064Z"
   },
   {
    "duration": 22,
    "start_time": "2022-10-27T05:59:47.105Z"
   },
   {
    "duration": 1852,
    "start_time": "2022-10-27T05:59:47.129Z"
   },
   {
    "duration": 25,
    "start_time": "2022-10-27T05:59:48.983Z"
   },
   {
    "duration": 11,
    "start_time": "2022-10-27T05:59:49.010Z"
   },
   {
    "duration": 9,
    "start_time": "2022-10-27T05:59:49.023Z"
   },
   {
    "duration": 4,
    "start_time": "2022-10-27T05:59:49.033Z"
   },
   {
    "duration": 18,
    "start_time": "2022-10-27T05:59:49.038Z"
   },
   {
    "duration": 66,
    "start_time": "2022-10-27T05:59:49.057Z"
   },
   {
    "duration": 4,
    "start_time": "2022-10-27T05:59:49.124Z"
   },
   {
    "duration": 119,
    "start_time": "2022-10-27T05:59:49.130Z"
   },
   {
    "duration": 0,
    "start_time": "2022-10-27T05:59:49.254Z"
   },
   {
    "duration": 0,
    "start_time": "2022-10-27T05:59:49.255Z"
   },
   {
    "duration": 0,
    "start_time": "2022-10-27T05:59:49.256Z"
   },
   {
    "duration": 0,
    "start_time": "2022-10-27T05:59:49.257Z"
   },
   {
    "duration": 0,
    "start_time": "2022-10-27T05:59:49.258Z"
   },
   {
    "duration": 0,
    "start_time": "2022-10-27T05:59:49.259Z"
   },
   {
    "duration": 0,
    "start_time": "2022-10-27T05:59:49.260Z"
   },
   {
    "duration": 0,
    "start_time": "2022-10-27T05:59:49.261Z"
   },
   {
    "duration": 0,
    "start_time": "2022-10-27T05:59:49.262Z"
   },
   {
    "duration": 0,
    "start_time": "2022-10-27T05:59:49.263Z"
   },
   {
    "duration": 0,
    "start_time": "2022-10-27T05:59:49.264Z"
   },
   {
    "duration": 0,
    "start_time": "2022-10-27T05:59:49.265Z"
   },
   {
    "duration": 0,
    "start_time": "2022-10-27T05:59:49.266Z"
   },
   {
    "duration": 0,
    "start_time": "2022-10-27T05:59:49.267Z"
   },
   {
    "duration": 0,
    "start_time": "2022-10-27T05:59:49.269Z"
   },
   {
    "duration": 0,
    "start_time": "2022-10-27T05:59:49.270Z"
   },
   {
    "duration": 0,
    "start_time": "2022-10-27T05:59:49.271Z"
   },
   {
    "duration": 0,
    "start_time": "2022-10-27T05:59:49.272Z"
   },
   {
    "duration": 0,
    "start_time": "2022-10-27T05:59:49.273Z"
   },
   {
    "duration": 0,
    "start_time": "2022-10-27T05:59:49.308Z"
   },
   {
    "duration": 0,
    "start_time": "2022-10-27T05:59:49.309Z"
   },
   {
    "duration": 0,
    "start_time": "2022-10-27T05:59:49.310Z"
   },
   {
    "duration": 0,
    "start_time": "2022-10-27T05:59:49.311Z"
   },
   {
    "duration": 0,
    "start_time": "2022-10-27T05:59:49.312Z"
   },
   {
    "duration": 0,
    "start_time": "2022-10-27T05:59:49.313Z"
   },
   {
    "duration": 0,
    "start_time": "2022-10-27T05:59:49.314Z"
   },
   {
    "duration": 0,
    "start_time": "2022-10-27T05:59:49.315Z"
   },
   {
    "duration": 0,
    "start_time": "2022-10-27T05:59:49.316Z"
   },
   {
    "duration": 0,
    "start_time": "2022-10-27T05:59:49.317Z"
   },
   {
    "duration": 0,
    "start_time": "2022-10-27T05:59:49.318Z"
   },
   {
    "duration": 0,
    "start_time": "2022-10-27T05:59:49.318Z"
   },
   {
    "duration": 0,
    "start_time": "2022-10-27T05:59:49.319Z"
   },
   {
    "duration": 0,
    "start_time": "2022-10-27T05:59:49.320Z"
   },
   {
    "duration": 0,
    "start_time": "2022-10-27T05:59:49.321Z"
   },
   {
    "duration": 0,
    "start_time": "2022-10-27T05:59:49.322Z"
   },
   {
    "duration": 0,
    "start_time": "2022-10-27T05:59:49.324Z"
   },
   {
    "duration": 0,
    "start_time": "2022-10-27T05:59:49.325Z"
   },
   {
    "duration": 0,
    "start_time": "2022-10-27T05:59:49.326Z"
   },
   {
    "duration": 0,
    "start_time": "2022-10-27T05:59:49.328Z"
   },
   {
    "duration": 0,
    "start_time": "2022-10-27T05:59:49.329Z"
   },
   {
    "duration": 0,
    "start_time": "2022-10-27T05:59:49.330Z"
   },
   {
    "duration": 0,
    "start_time": "2022-10-27T05:59:49.331Z"
   },
   {
    "duration": 0,
    "start_time": "2022-10-27T05:59:49.332Z"
   },
   {
    "duration": 0,
    "start_time": "2022-10-27T05:59:49.333Z"
   },
   {
    "duration": 0,
    "start_time": "2022-10-27T05:59:49.334Z"
   },
   {
    "duration": 0,
    "start_time": "2022-10-27T05:59:49.335Z"
   },
   {
    "duration": 0,
    "start_time": "2022-10-27T05:59:49.336Z"
   },
   {
    "duration": 0,
    "start_time": "2022-10-27T05:59:49.336Z"
   },
   {
    "duration": 0,
    "start_time": "2022-10-27T05:59:49.337Z"
   },
   {
    "duration": 0,
    "start_time": "2022-10-27T05:59:49.338Z"
   },
   {
    "duration": 0,
    "start_time": "2022-10-27T05:59:49.339Z"
   },
   {
    "duration": 0,
    "start_time": "2022-10-27T05:59:49.341Z"
   },
   {
    "duration": 0,
    "start_time": "2022-10-27T05:59:49.342Z"
   },
   {
    "duration": 0,
    "start_time": "2022-10-27T05:59:49.342Z"
   },
   {
    "duration": 0,
    "start_time": "2022-10-27T05:59:49.344Z"
   },
   {
    "duration": 0,
    "start_time": "2022-10-27T05:59:49.345Z"
   },
   {
    "duration": 0,
    "start_time": "2022-10-27T05:59:49.346Z"
   },
   {
    "duration": 0,
    "start_time": "2022-10-27T05:59:49.409Z"
   },
   {
    "duration": 620,
    "start_time": "2022-10-27T06:01:33.863Z"
   },
   {
    "duration": 102,
    "start_time": "2022-10-27T06:01:34.485Z"
   },
   {
    "duration": 37,
    "start_time": "2022-10-27T06:01:34.589Z"
   },
   {
    "duration": 13,
    "start_time": "2022-10-27T06:01:34.628Z"
   },
   {
    "duration": 1823,
    "start_time": "2022-10-27T06:01:34.642Z"
   },
   {
    "duration": 25,
    "start_time": "2022-10-27T06:01:36.467Z"
   },
   {
    "duration": 12,
    "start_time": "2022-10-27T06:01:36.494Z"
   },
   {
    "duration": 44,
    "start_time": "2022-10-27T06:01:36.508Z"
   },
   {
    "duration": 50,
    "start_time": "2022-10-27T06:01:36.554Z"
   },
   {
    "duration": 38,
    "start_time": "2022-10-27T06:01:36.607Z"
   },
   {
    "duration": 63,
    "start_time": "2022-10-27T06:01:36.647Z"
   },
   {
    "duration": 4,
    "start_time": "2022-10-27T06:01:36.712Z"
   },
   {
    "duration": 25,
    "start_time": "2022-10-27T06:01:36.717Z"
   },
   {
    "duration": 10,
    "start_time": "2022-10-27T06:01:36.743Z"
   },
   {
    "duration": 20,
    "start_time": "2022-10-27T06:01:36.755Z"
   },
   {
    "duration": 23,
    "start_time": "2022-10-27T06:01:36.777Z"
   },
   {
    "duration": 24,
    "start_time": "2022-10-27T06:01:36.802Z"
   },
   {
    "duration": 55,
    "start_time": "2022-10-27T06:01:36.828Z"
   },
   {
    "duration": 120,
    "start_time": "2022-10-27T06:01:36.885Z"
   },
   {
    "duration": 8,
    "start_time": "2022-10-27T06:01:37.006Z"
   },
   {
    "duration": 129,
    "start_time": "2022-10-27T06:01:37.015Z"
   },
   {
    "duration": 122,
    "start_time": "2022-10-27T06:01:37.146Z"
   },
   {
    "duration": 135,
    "start_time": "2022-10-27T06:01:37.270Z"
   },
   {
    "duration": 21,
    "start_time": "2022-10-27T06:01:37.406Z"
   },
   {
    "duration": 126,
    "start_time": "2022-10-27T06:01:37.428Z"
   },
   {
    "duration": 121,
    "start_time": "2022-10-27T06:01:37.556Z"
   },
   {
    "duration": 206,
    "start_time": "2022-10-27T06:01:37.678Z"
   },
   {
    "duration": 131,
    "start_time": "2022-10-27T06:01:37.888Z"
   },
   {
    "duration": 138,
    "start_time": "2022-10-27T06:01:38.021Z"
   },
   {
    "duration": 140,
    "start_time": "2022-10-27T06:01:38.161Z"
   },
   {
    "duration": 123,
    "start_time": "2022-10-27T06:01:38.309Z"
   },
   {
    "duration": 3,
    "start_time": "2022-10-27T06:01:38.433Z"
   },
   {
    "duration": 84,
    "start_time": "2022-10-27T06:01:38.438Z"
   },
   {
    "duration": 3,
    "start_time": "2022-10-27T06:01:38.524Z"
   },
   {
    "duration": 90,
    "start_time": "2022-10-27T06:01:38.529Z"
   },
   {
    "duration": 5,
    "start_time": "2022-10-27T06:01:38.621Z"
   },
   {
    "duration": 41,
    "start_time": "2022-10-27T06:01:38.627Z"
   },
   {
    "duration": 358,
    "start_time": "2022-10-27T06:01:38.670Z"
   },
   {
    "duration": 6,
    "start_time": "2022-10-27T06:01:39.029Z"
   },
   {
    "duration": 47,
    "start_time": "2022-10-27T06:01:39.036Z"
   },
   {
    "duration": 127,
    "start_time": "2022-10-27T06:01:39.085Z"
   },
   {
    "duration": 135,
    "start_time": "2022-10-27T06:01:39.214Z"
   },
   {
    "duration": 163,
    "start_time": "2022-10-27T06:01:39.350Z"
   },
   {
    "duration": 189,
    "start_time": "2022-10-27T06:01:39.514Z"
   },
   {
    "duration": 159,
    "start_time": "2022-10-27T06:01:39.705Z"
   },
   {
    "duration": 194,
    "start_time": "2022-10-27T06:01:39.866Z"
   },
   {
    "duration": 182,
    "start_time": "2022-10-27T06:01:40.062Z"
   },
   {
    "duration": 120,
    "start_time": "2022-10-27T06:01:40.245Z"
   },
   {
    "duration": 190,
    "start_time": "2022-10-27T06:01:40.367Z"
   },
   {
    "duration": 175,
    "start_time": "2022-10-27T06:01:40.559Z"
   },
   {
    "duration": 251,
    "start_time": "2022-10-27T06:01:40.737Z"
   },
   {
    "duration": 289,
    "start_time": "2022-10-27T06:01:40.990Z"
   },
   {
    "duration": 251,
    "start_time": "2022-10-27T06:01:41.280Z"
   },
   {
    "duration": 265,
    "start_time": "2022-10-27T06:01:41.532Z"
   },
   {
    "duration": 23,
    "start_time": "2022-10-27T06:01:41.799Z"
   },
   {
    "duration": 243,
    "start_time": "2022-10-27T06:01:41.824Z"
   },
   {
    "duration": 20,
    "start_time": "2022-10-27T06:01:42.069Z"
   },
   {
    "duration": 181,
    "start_time": "2022-10-27T06:01:42.091Z"
   },
   {
    "duration": 167,
    "start_time": "2022-10-27T06:01:42.274Z"
   },
   {
    "duration": 220,
    "start_time": "2022-10-27T06:01:42.442Z"
   },
   {
    "duration": 301,
    "start_time": "2022-10-27T06:01:42.664Z"
   },
   {
    "duration": 163,
    "start_time": "2022-10-27T06:01:42.966Z"
   },
   {
    "duration": 168,
    "start_time": "2022-10-27T06:01:43.130Z"
   },
   {
    "duration": 154,
    "start_time": "2022-10-27T06:01:43.300Z"
   },
   {
    "duration": 154,
    "start_time": "2022-10-27T06:01:43.456Z"
   },
   {
    "duration": 152,
    "start_time": "2022-10-27T06:01:43.612Z"
   },
   {
    "duration": 161,
    "start_time": "2022-10-27T06:01:43.765Z"
   },
   {
    "duration": 22,
    "start_time": "2022-10-27T06:01:43.928Z"
   },
   {
    "duration": 58,
    "start_time": "2022-10-27T06:01:43.952Z"
   },
   {
    "duration": 37,
    "start_time": "2022-10-27T06:01:44.012Z"
   },
   {
    "duration": 205,
    "start_time": "2022-10-27T06:01:44.051Z"
   },
   {
    "duration": 91,
    "start_time": "2022-10-27T06:04:09.313Z"
   },
   {
    "duration": 617,
    "start_time": "2022-10-27T11:40:25.672Z"
   },
   {
    "duration": 102,
    "start_time": "2022-10-27T11:40:26.292Z"
   },
   {
    "duration": 41,
    "start_time": "2022-10-27T11:40:26.396Z"
   },
   {
    "duration": 14,
    "start_time": "2022-10-27T11:40:26.439Z"
   },
   {
    "duration": 1798,
    "start_time": "2022-10-27T11:40:26.455Z"
   },
   {
    "duration": 23,
    "start_time": "2022-10-27T11:40:28.255Z"
   },
   {
    "duration": 13,
    "start_time": "2022-10-27T11:40:28.280Z"
   },
   {
    "duration": 16,
    "start_time": "2022-10-27T11:40:28.295Z"
   },
   {
    "duration": 13,
    "start_time": "2022-10-27T11:40:28.312Z"
   },
   {
    "duration": 31,
    "start_time": "2022-10-27T11:40:28.328Z"
   },
   {
    "duration": 52,
    "start_time": "2022-10-27T11:40:28.361Z"
   },
   {
    "duration": 4,
    "start_time": "2022-10-27T11:40:28.415Z"
   },
   {
    "duration": 20,
    "start_time": "2022-10-27T11:40:28.420Z"
   },
   {
    "duration": 20,
    "start_time": "2022-10-27T11:40:28.442Z"
   },
   {
    "duration": 26,
    "start_time": "2022-10-27T11:40:28.464Z"
   },
   {
    "duration": 34,
    "start_time": "2022-10-27T11:40:28.492Z"
   },
   {
    "duration": 22,
    "start_time": "2022-10-27T11:40:28.528Z"
   },
   {
    "duration": 69,
    "start_time": "2022-10-27T11:40:28.552Z"
   },
   {
    "duration": 130,
    "start_time": "2022-10-27T11:40:28.623Z"
   },
   {
    "duration": 8,
    "start_time": "2022-10-27T11:40:28.755Z"
   },
   {
    "duration": 131,
    "start_time": "2022-10-27T11:40:28.765Z"
   },
   {
    "duration": 121,
    "start_time": "2022-10-27T11:40:28.897Z"
   },
   {
    "duration": 141,
    "start_time": "2022-10-27T11:40:29.019Z"
   },
   {
    "duration": 13,
    "start_time": "2022-10-27T11:40:29.162Z"
   },
   {
    "duration": 132,
    "start_time": "2022-10-27T11:40:29.177Z"
   },
   {
    "duration": 125,
    "start_time": "2022-10-27T11:40:29.310Z"
   },
   {
    "duration": 207,
    "start_time": "2022-10-27T11:40:29.437Z"
   },
   {
    "duration": 126,
    "start_time": "2022-10-27T11:40:29.649Z"
   },
   {
    "duration": 149,
    "start_time": "2022-10-27T11:40:29.777Z"
   },
   {
    "duration": 139,
    "start_time": "2022-10-27T11:40:29.927Z"
   },
   {
    "duration": 131,
    "start_time": "2022-10-27T11:40:30.067Z"
   },
   {
    "duration": 3,
    "start_time": "2022-10-27T11:40:30.209Z"
   },
   {
    "duration": 83,
    "start_time": "2022-10-27T11:40:30.214Z"
   },
   {
    "duration": 5,
    "start_time": "2022-10-27T11:40:30.298Z"
   },
   {
    "duration": 118,
    "start_time": "2022-10-27T11:40:30.304Z"
   },
   {
    "duration": 5,
    "start_time": "2022-10-27T11:40:30.424Z"
   },
   {
    "duration": 34,
    "start_time": "2022-10-27T11:40:30.431Z"
   },
   {
    "duration": 359,
    "start_time": "2022-10-27T11:40:30.467Z"
   },
   {
    "duration": 6,
    "start_time": "2022-10-27T11:40:30.829Z"
   },
   {
    "duration": 59,
    "start_time": "2022-10-27T11:40:30.838Z"
   },
   {
    "duration": 163,
    "start_time": "2022-10-27T11:40:30.898Z"
   },
   {
    "duration": 135,
    "start_time": "2022-10-27T11:40:31.063Z"
   },
   {
    "duration": 157,
    "start_time": "2022-10-27T11:40:31.200Z"
   },
   {
    "duration": 185,
    "start_time": "2022-10-27T11:40:31.358Z"
   },
   {
    "duration": 164,
    "start_time": "2022-10-27T11:40:31.545Z"
   },
   {
    "duration": 207,
    "start_time": "2022-10-27T11:40:31.710Z"
   },
   {
    "duration": 186,
    "start_time": "2022-10-27T11:40:31.919Z"
   },
   {
    "duration": 117,
    "start_time": "2022-10-27T11:40:32.109Z"
   },
   {
    "duration": 194,
    "start_time": "2022-10-27T11:40:32.227Z"
   },
   {
    "duration": 194,
    "start_time": "2022-10-27T11:40:32.423Z"
   },
   {
    "duration": 312,
    "start_time": "2022-10-27T11:40:32.619Z"
   },
   {
    "duration": 315,
    "start_time": "2022-10-27T11:40:32.933Z"
   },
   {
    "duration": 245,
    "start_time": "2022-10-27T11:40:33.250Z"
   },
   {
    "duration": 249,
    "start_time": "2022-10-27T11:40:33.496Z"
   },
   {
    "duration": 14,
    "start_time": "2022-10-27T11:40:33.747Z"
   },
   {
    "duration": 229,
    "start_time": "2022-10-27T11:40:33.763Z"
   },
   {
    "duration": 28,
    "start_time": "2022-10-27T11:40:33.994Z"
   },
   {
    "duration": 180,
    "start_time": "2022-10-27T11:40:34.024Z"
   },
   {
    "duration": 170,
    "start_time": "2022-10-27T11:40:34.206Z"
   },
   {
    "duration": 161,
    "start_time": "2022-10-27T11:40:34.378Z"
   },
   {
    "duration": 244,
    "start_time": "2022-10-27T11:40:34.541Z"
   },
   {
    "duration": 165,
    "start_time": "2022-10-27T11:40:34.787Z"
   },
   {
    "duration": 166,
    "start_time": "2022-10-27T11:40:34.954Z"
   },
   {
    "duration": 165,
    "start_time": "2022-10-27T11:40:35.122Z"
   },
   {
    "duration": 158,
    "start_time": "2022-10-27T11:40:35.289Z"
   },
   {
    "duration": 155,
    "start_time": "2022-10-27T11:40:35.449Z"
   },
   {
    "duration": 156,
    "start_time": "2022-10-27T11:40:35.608Z"
   },
   {
    "duration": 23,
    "start_time": "2022-10-27T11:40:35.766Z"
   },
   {
    "duration": 26,
    "start_time": "2022-10-27T11:40:35.791Z"
   },
   {
    "duration": 17,
    "start_time": "2022-10-27T11:40:35.819Z"
   },
   {
    "duration": 164,
    "start_time": "2022-10-27T11:40:35.837Z"
   }
  ],
  "kernelspec": {
   "display_name": "Python 3 (ipykernel)",
   "language": "python",
   "name": "python3"
  },
  "language_info": {
   "codemirror_mode": {
    "name": "ipython",
    "version": 3
   },
   "file_extension": ".py",
   "mimetype": "text/x-python",
   "name": "python",
   "nbconvert_exporter": "python",
   "pygments_lexer": "ipython3",
   "version": "3.9.5"
  },
  "toc": {
   "base_numbering": 1,
   "nav_menu": {},
   "number_sections": true,
   "sideBar": true,
   "skip_h1_title": true,
   "title_cell": "Table of Contents",
   "title_sidebar": "Contents",
   "toc_cell": false,
   "toc_position": {
    "height": "calc(100% - 180px)",
    "left": "10px",
    "top": "150px",
    "width": "165px"
   },
   "toc_section_display": true,
   "toc_window_display": true
  }
 },
 "nbformat": 4,
 "nbformat_minor": 2
}
