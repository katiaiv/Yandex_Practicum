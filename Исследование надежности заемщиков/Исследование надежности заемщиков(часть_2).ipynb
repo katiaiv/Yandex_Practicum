{
 "cells": [
  {
   "cell_type": "markdown",
   "id": "0d96a23a",
   "metadata": {
    "deletable": false,
    "editable": false,
    "id": "c81daeeb"
   },
   "source": [
    "# Исследование надежности заемщиков\n"
   ]
  },
  {
   "cell_type": "markdown",
   "id": "6556e176",
   "metadata": {
    "deletable": false,
    "editable": false,
    "id": "827c20bf"
   },
   "source": [
    "Во второй части проекта вы выполните шаги 3 и 4. Их вручную проверит ревьюер.\n",
    "Чтобы вам не пришлось писать код заново для шагов 1 и 2, мы добавили авторские решения в ячейки с кодом. \n",
    "\n"
   ]
  },
  {
   "cell_type": "markdown",
   "id": "bdb8e9a4",
   "metadata": {
    "deletable": false,
    "editable": false,
    "id": "744d7639"
   },
   "source": [
    "## Откройте таблицу и изучите общую информацию о данных"
   ]
  },
  {
   "cell_type": "markdown",
   "id": "e40d2568",
   "metadata": {
    "deletable": false,
    "editable": false,
    "id": "e7a14c31"
   },
   "source": [
    "**Задание 1. Импортируйте библиотеку pandas. Считайте данные из csv-файла в датафрейм и сохраните в переменную `data`. Путь к файлу:**\n",
    "\n",
    "`/datasets/data.csv`"
   ]
  },
  {
   "cell_type": "code",
   "execution_count": 1,
   "id": "ea4a1c13",
   "metadata": {
    "deletable": false,
    "id": "7bcf75c9"
   },
   "outputs": [],
   "source": [
    "import pandas as pd\n",
    "\n",
    "try:\n",
    "    data = pd.read_csv('/datasets/data.csv')\n",
    "except:\n",
    "    data = pd.read_csv('https://code.s3.yandex.net/datasets/data.csv')"
   ]
  },
  {
   "cell_type": "markdown",
   "id": "07fe29e9",
   "metadata": {
    "deletable": false,
    "editable": false,
    "id": "b8038fe3"
   },
   "source": [
    "**Задание 2. Выведите первые 20 строчек датафрейма `data` на экран.**"
   ]
  },
  {
   "cell_type": "code",
   "execution_count": 2,
   "id": "d01e824e",
   "metadata": {
    "deletable": false,
    "id": "2a7cab99",
    "outputId": "1a8f3ef2-d323-4ec2-ddf7-89670b5944c4"
   },
   "outputs": [
    {
     "data": {
      "text/html": [
       "<div>\n",
       "<style scoped>\n",
       "    .dataframe tbody tr th:only-of-type {\n",
       "        vertical-align: middle;\n",
       "    }\n",
       "\n",
       "    .dataframe tbody tr th {\n",
       "        vertical-align: top;\n",
       "    }\n",
       "\n",
       "    .dataframe thead th {\n",
       "        text-align: right;\n",
       "    }\n",
       "</style>\n",
       "<table border=\"1\" class=\"dataframe\">\n",
       "  <thead>\n",
       "    <tr style=\"text-align: right;\">\n",
       "      <th></th>\n",
       "      <th>children</th>\n",
       "      <th>days_employed</th>\n",
       "      <th>dob_years</th>\n",
       "      <th>education</th>\n",
       "      <th>education_id</th>\n",
       "      <th>family_status</th>\n",
       "      <th>family_status_id</th>\n",
       "      <th>gender</th>\n",
       "      <th>income_type</th>\n",
       "      <th>debt</th>\n",
       "      <th>total_income</th>\n",
       "      <th>purpose</th>\n",
       "    </tr>\n",
       "  </thead>\n",
       "  <tbody>\n",
       "    <tr>\n",
       "      <th>0</th>\n",
       "      <td>1</td>\n",
       "      <td>-8437.673028</td>\n",
       "      <td>42</td>\n",
       "      <td>высшее</td>\n",
       "      <td>0</td>\n",
       "      <td>женат / замужем</td>\n",
       "      <td>0</td>\n",
       "      <td>F</td>\n",
       "      <td>сотрудник</td>\n",
       "      <td>0</td>\n",
       "      <td>253875.639453</td>\n",
       "      <td>покупка жилья</td>\n",
       "    </tr>\n",
       "    <tr>\n",
       "      <th>1</th>\n",
       "      <td>1</td>\n",
       "      <td>-4024.803754</td>\n",
       "      <td>36</td>\n",
       "      <td>среднее</td>\n",
       "      <td>1</td>\n",
       "      <td>женат / замужем</td>\n",
       "      <td>0</td>\n",
       "      <td>F</td>\n",
       "      <td>сотрудник</td>\n",
       "      <td>0</td>\n",
       "      <td>112080.014102</td>\n",
       "      <td>приобретение автомобиля</td>\n",
       "    </tr>\n",
       "    <tr>\n",
       "      <th>2</th>\n",
       "      <td>0</td>\n",
       "      <td>-5623.422610</td>\n",
       "      <td>33</td>\n",
       "      <td>Среднее</td>\n",
       "      <td>1</td>\n",
       "      <td>женат / замужем</td>\n",
       "      <td>0</td>\n",
       "      <td>M</td>\n",
       "      <td>сотрудник</td>\n",
       "      <td>0</td>\n",
       "      <td>145885.952297</td>\n",
       "      <td>покупка жилья</td>\n",
       "    </tr>\n",
       "    <tr>\n",
       "      <th>3</th>\n",
       "      <td>3</td>\n",
       "      <td>-4124.747207</td>\n",
       "      <td>32</td>\n",
       "      <td>среднее</td>\n",
       "      <td>1</td>\n",
       "      <td>женат / замужем</td>\n",
       "      <td>0</td>\n",
       "      <td>M</td>\n",
       "      <td>сотрудник</td>\n",
       "      <td>0</td>\n",
       "      <td>267628.550329</td>\n",
       "      <td>дополнительное образование</td>\n",
       "    </tr>\n",
       "    <tr>\n",
       "      <th>4</th>\n",
       "      <td>0</td>\n",
       "      <td>340266.072047</td>\n",
       "      <td>53</td>\n",
       "      <td>среднее</td>\n",
       "      <td>1</td>\n",
       "      <td>гражданский брак</td>\n",
       "      <td>1</td>\n",
       "      <td>F</td>\n",
       "      <td>пенсионер</td>\n",
       "      <td>0</td>\n",
       "      <td>158616.077870</td>\n",
       "      <td>сыграть свадьбу</td>\n",
       "    </tr>\n",
       "    <tr>\n",
       "      <th>5</th>\n",
       "      <td>0</td>\n",
       "      <td>-926.185831</td>\n",
       "      <td>27</td>\n",
       "      <td>высшее</td>\n",
       "      <td>0</td>\n",
       "      <td>гражданский брак</td>\n",
       "      <td>1</td>\n",
       "      <td>M</td>\n",
       "      <td>компаньон</td>\n",
       "      <td>0</td>\n",
       "      <td>255763.565419</td>\n",
       "      <td>покупка жилья</td>\n",
       "    </tr>\n",
       "    <tr>\n",
       "      <th>6</th>\n",
       "      <td>0</td>\n",
       "      <td>-2879.202052</td>\n",
       "      <td>43</td>\n",
       "      <td>высшее</td>\n",
       "      <td>0</td>\n",
       "      <td>женат / замужем</td>\n",
       "      <td>0</td>\n",
       "      <td>F</td>\n",
       "      <td>компаньон</td>\n",
       "      <td>0</td>\n",
       "      <td>240525.971920</td>\n",
       "      <td>операции с жильем</td>\n",
       "    </tr>\n",
       "    <tr>\n",
       "      <th>7</th>\n",
       "      <td>0</td>\n",
       "      <td>-152.779569</td>\n",
       "      <td>50</td>\n",
       "      <td>СРЕДНЕЕ</td>\n",
       "      <td>1</td>\n",
       "      <td>женат / замужем</td>\n",
       "      <td>0</td>\n",
       "      <td>M</td>\n",
       "      <td>сотрудник</td>\n",
       "      <td>0</td>\n",
       "      <td>135823.934197</td>\n",
       "      <td>образование</td>\n",
       "    </tr>\n",
       "    <tr>\n",
       "      <th>8</th>\n",
       "      <td>2</td>\n",
       "      <td>-6929.865299</td>\n",
       "      <td>35</td>\n",
       "      <td>ВЫСШЕЕ</td>\n",
       "      <td>0</td>\n",
       "      <td>гражданский брак</td>\n",
       "      <td>1</td>\n",
       "      <td>F</td>\n",
       "      <td>сотрудник</td>\n",
       "      <td>0</td>\n",
       "      <td>95856.832424</td>\n",
       "      <td>на проведение свадьбы</td>\n",
       "    </tr>\n",
       "    <tr>\n",
       "      <th>9</th>\n",
       "      <td>0</td>\n",
       "      <td>-2188.756445</td>\n",
       "      <td>41</td>\n",
       "      <td>среднее</td>\n",
       "      <td>1</td>\n",
       "      <td>женат / замужем</td>\n",
       "      <td>0</td>\n",
       "      <td>M</td>\n",
       "      <td>сотрудник</td>\n",
       "      <td>0</td>\n",
       "      <td>144425.938277</td>\n",
       "      <td>покупка жилья для семьи</td>\n",
       "    </tr>\n",
       "    <tr>\n",
       "      <th>10</th>\n",
       "      <td>2</td>\n",
       "      <td>-4171.483647</td>\n",
       "      <td>36</td>\n",
       "      <td>высшее</td>\n",
       "      <td>0</td>\n",
       "      <td>женат / замужем</td>\n",
       "      <td>0</td>\n",
       "      <td>M</td>\n",
       "      <td>компаньон</td>\n",
       "      <td>0</td>\n",
       "      <td>113943.491460</td>\n",
       "      <td>покупка недвижимости</td>\n",
       "    </tr>\n",
       "    <tr>\n",
       "      <th>11</th>\n",
       "      <td>0</td>\n",
       "      <td>-792.701887</td>\n",
       "      <td>40</td>\n",
       "      <td>среднее</td>\n",
       "      <td>1</td>\n",
       "      <td>женат / замужем</td>\n",
       "      <td>0</td>\n",
       "      <td>F</td>\n",
       "      <td>сотрудник</td>\n",
       "      <td>0</td>\n",
       "      <td>77069.234271</td>\n",
       "      <td>покупка коммерческой недвижимости</td>\n",
       "    </tr>\n",
       "    <tr>\n",
       "      <th>12</th>\n",
       "      <td>0</td>\n",
       "      <td>NaN</td>\n",
       "      <td>65</td>\n",
       "      <td>среднее</td>\n",
       "      <td>1</td>\n",
       "      <td>гражданский брак</td>\n",
       "      <td>1</td>\n",
       "      <td>M</td>\n",
       "      <td>пенсионер</td>\n",
       "      <td>0</td>\n",
       "      <td>NaN</td>\n",
       "      <td>сыграть свадьбу</td>\n",
       "    </tr>\n",
       "    <tr>\n",
       "      <th>13</th>\n",
       "      <td>0</td>\n",
       "      <td>-1846.641941</td>\n",
       "      <td>54</td>\n",
       "      <td>неоконченное высшее</td>\n",
       "      <td>2</td>\n",
       "      <td>женат / замужем</td>\n",
       "      <td>0</td>\n",
       "      <td>F</td>\n",
       "      <td>сотрудник</td>\n",
       "      <td>0</td>\n",
       "      <td>130458.228857</td>\n",
       "      <td>приобретение автомобиля</td>\n",
       "    </tr>\n",
       "    <tr>\n",
       "      <th>14</th>\n",
       "      <td>0</td>\n",
       "      <td>-1844.956182</td>\n",
       "      <td>56</td>\n",
       "      <td>высшее</td>\n",
       "      <td>0</td>\n",
       "      <td>гражданский брак</td>\n",
       "      <td>1</td>\n",
       "      <td>F</td>\n",
       "      <td>компаньон</td>\n",
       "      <td>1</td>\n",
       "      <td>165127.911772</td>\n",
       "      <td>покупка жилой недвижимости</td>\n",
       "    </tr>\n",
       "    <tr>\n",
       "      <th>15</th>\n",
       "      <td>1</td>\n",
       "      <td>-972.364419</td>\n",
       "      <td>26</td>\n",
       "      <td>среднее</td>\n",
       "      <td>1</td>\n",
       "      <td>женат / замужем</td>\n",
       "      <td>0</td>\n",
       "      <td>F</td>\n",
       "      <td>сотрудник</td>\n",
       "      <td>0</td>\n",
       "      <td>116820.904450</td>\n",
       "      <td>строительство собственной недвижимости</td>\n",
       "    </tr>\n",
       "    <tr>\n",
       "      <th>16</th>\n",
       "      <td>0</td>\n",
       "      <td>-1719.934226</td>\n",
       "      <td>35</td>\n",
       "      <td>среднее</td>\n",
       "      <td>1</td>\n",
       "      <td>женат / замужем</td>\n",
       "      <td>0</td>\n",
       "      <td>F</td>\n",
       "      <td>сотрудник</td>\n",
       "      <td>0</td>\n",
       "      <td>289202.704229</td>\n",
       "      <td>недвижимость</td>\n",
       "    </tr>\n",
       "    <tr>\n",
       "      <th>17</th>\n",
       "      <td>0</td>\n",
       "      <td>-2369.999720</td>\n",
       "      <td>33</td>\n",
       "      <td>высшее</td>\n",
       "      <td>0</td>\n",
       "      <td>гражданский брак</td>\n",
       "      <td>1</td>\n",
       "      <td>M</td>\n",
       "      <td>сотрудник</td>\n",
       "      <td>0</td>\n",
       "      <td>90410.586745</td>\n",
       "      <td>строительство недвижимости</td>\n",
       "    </tr>\n",
       "    <tr>\n",
       "      <th>18</th>\n",
       "      <td>0</td>\n",
       "      <td>400281.136913</td>\n",
       "      <td>53</td>\n",
       "      <td>среднее</td>\n",
       "      <td>1</td>\n",
       "      <td>вдовец / вдова</td>\n",
       "      <td>2</td>\n",
       "      <td>F</td>\n",
       "      <td>пенсионер</td>\n",
       "      <td>0</td>\n",
       "      <td>56823.777243</td>\n",
       "      <td>на покупку подержанного автомобиля</td>\n",
       "    </tr>\n",
       "    <tr>\n",
       "      <th>19</th>\n",
       "      <td>0</td>\n",
       "      <td>-10038.818549</td>\n",
       "      <td>48</td>\n",
       "      <td>СРЕДНЕЕ</td>\n",
       "      <td>1</td>\n",
       "      <td>в разводе</td>\n",
       "      <td>3</td>\n",
       "      <td>F</td>\n",
       "      <td>сотрудник</td>\n",
       "      <td>0</td>\n",
       "      <td>242831.107982</td>\n",
       "      <td>на покупку своего автомобиля</td>\n",
       "    </tr>\n",
       "  </tbody>\n",
       "</table>\n",
       "</div>"
      ],
      "text/plain": [
       "    children  days_employed  dob_years            education  education_id  \\\n",
       "0          1   -8437.673028         42               высшее             0   \n",
       "1          1   -4024.803754         36              среднее             1   \n",
       "2          0   -5623.422610         33              Среднее             1   \n",
       "3          3   -4124.747207         32              среднее             1   \n",
       "4          0  340266.072047         53              среднее             1   \n",
       "5          0    -926.185831         27               высшее             0   \n",
       "6          0   -2879.202052         43               высшее             0   \n",
       "7          0    -152.779569         50              СРЕДНЕЕ             1   \n",
       "8          2   -6929.865299         35               ВЫСШЕЕ             0   \n",
       "9          0   -2188.756445         41              среднее             1   \n",
       "10         2   -4171.483647         36               высшее             0   \n",
       "11         0    -792.701887         40              среднее             1   \n",
       "12         0            NaN         65              среднее             1   \n",
       "13         0   -1846.641941         54  неоконченное высшее             2   \n",
       "14         0   -1844.956182         56               высшее             0   \n",
       "15         1    -972.364419         26              среднее             1   \n",
       "16         0   -1719.934226         35              среднее             1   \n",
       "17         0   -2369.999720         33               высшее             0   \n",
       "18         0  400281.136913         53              среднее             1   \n",
       "19         0  -10038.818549         48              СРЕДНЕЕ             1   \n",
       "\n",
       "       family_status  family_status_id gender income_type  debt  \\\n",
       "0    женат / замужем                 0      F   сотрудник     0   \n",
       "1    женат / замужем                 0      F   сотрудник     0   \n",
       "2    женат / замужем                 0      M   сотрудник     0   \n",
       "3    женат / замужем                 0      M   сотрудник     0   \n",
       "4   гражданский брак                 1      F   пенсионер     0   \n",
       "5   гражданский брак                 1      M   компаньон     0   \n",
       "6    женат / замужем                 0      F   компаньон     0   \n",
       "7    женат / замужем                 0      M   сотрудник     0   \n",
       "8   гражданский брак                 1      F   сотрудник     0   \n",
       "9    женат / замужем                 0      M   сотрудник     0   \n",
       "10   женат / замужем                 0      M   компаньон     0   \n",
       "11   женат / замужем                 0      F   сотрудник     0   \n",
       "12  гражданский брак                 1      M   пенсионер     0   \n",
       "13   женат / замужем                 0      F   сотрудник     0   \n",
       "14  гражданский брак                 1      F   компаньон     1   \n",
       "15   женат / замужем                 0      F   сотрудник     0   \n",
       "16   женат / замужем                 0      F   сотрудник     0   \n",
       "17  гражданский брак                 1      M   сотрудник     0   \n",
       "18    вдовец / вдова                 2      F   пенсионер     0   \n",
       "19         в разводе                 3      F   сотрудник     0   \n",
       "\n",
       "     total_income                                 purpose  \n",
       "0   253875.639453                           покупка жилья  \n",
       "1   112080.014102                 приобретение автомобиля  \n",
       "2   145885.952297                           покупка жилья  \n",
       "3   267628.550329              дополнительное образование  \n",
       "4   158616.077870                         сыграть свадьбу  \n",
       "5   255763.565419                           покупка жилья  \n",
       "6   240525.971920                       операции с жильем  \n",
       "7   135823.934197                             образование  \n",
       "8    95856.832424                   на проведение свадьбы  \n",
       "9   144425.938277                 покупка жилья для семьи  \n",
       "10  113943.491460                    покупка недвижимости  \n",
       "11   77069.234271       покупка коммерческой недвижимости  \n",
       "12            NaN                         сыграть свадьбу  \n",
       "13  130458.228857                 приобретение автомобиля  \n",
       "14  165127.911772              покупка жилой недвижимости  \n",
       "15  116820.904450  строительство собственной недвижимости  \n",
       "16  289202.704229                            недвижимость  \n",
       "17   90410.586745              строительство недвижимости  \n",
       "18   56823.777243      на покупку подержанного автомобиля  \n",
       "19  242831.107982            на покупку своего автомобиля  "
      ]
     },
     "execution_count": 2,
     "metadata": {},
     "output_type": "execute_result"
    }
   ],
   "source": [
    "data.head(20)"
   ]
  },
  {
   "cell_type": "markdown",
   "id": "3b11077e",
   "metadata": {
    "deletable": false,
    "editable": false,
    "id": "1c12e233"
   },
   "source": [
    "**Задание 3. Выведите основную информацию о датафрейме с помощью метода `info()`.**"
   ]
  },
  {
   "cell_type": "code",
   "execution_count": 3,
   "id": "34642a56",
   "metadata": {
    "deletable": false,
    "id": "2b757bca",
    "outputId": "15376089-8dad-46c9-b520-c05248d43158"
   },
   "outputs": [
    {
     "name": "stdout",
     "output_type": "stream",
     "text": [
      "<class 'pandas.core.frame.DataFrame'>\n",
      "RangeIndex: 21525 entries, 0 to 21524\n",
      "Data columns (total 12 columns):\n",
      " #   Column            Non-Null Count  Dtype  \n",
      "---  ------            --------------  -----  \n",
      " 0   children          21525 non-null  int64  \n",
      " 1   days_employed     19351 non-null  float64\n",
      " 2   dob_years         21525 non-null  int64  \n",
      " 3   education         21525 non-null  object \n",
      " 4   education_id      21525 non-null  int64  \n",
      " 5   family_status     21525 non-null  object \n",
      " 6   family_status_id  21525 non-null  int64  \n",
      " 7   gender            21525 non-null  object \n",
      " 8   income_type       21525 non-null  object \n",
      " 9   debt              21525 non-null  int64  \n",
      " 10  total_income      19351 non-null  float64\n",
      " 11  purpose           21525 non-null  object \n",
      "dtypes: float64(2), int64(5), object(5)\n",
      "memory usage: 2.0+ MB\n"
     ]
    }
   ],
   "source": [
    "data.info()"
   ]
  },
  {
   "cell_type": "markdown",
   "id": "b5668b06",
   "metadata": {
    "deletable": false,
    "editable": false,
    "id": "333ec665"
   },
   "source": [
    "## Предобработка данных"
   ]
  },
  {
   "cell_type": "markdown",
   "id": "34cc76d8",
   "metadata": {
    "deletable": false,
    "editable": false,
    "id": "02d92d53"
   },
   "source": [
    "### Удаление пропусков"
   ]
  },
  {
   "cell_type": "markdown",
   "id": "2282f0ac",
   "metadata": {
    "deletable": false,
    "editable": false,
    "id": "cd84967c"
   },
   "source": [
    "**Задание 4. Выведите количество пропущенных значений для каждого столбца. Используйте комбинацию двух методов.**"
   ]
  },
  {
   "cell_type": "code",
   "execution_count": 4,
   "id": "f95bb66d",
   "metadata": {
    "deletable": false,
    "id": "7f9b2309",
    "outputId": "81f4d817-781c-465c-ed15-91ce4446810d"
   },
   "outputs": [
    {
     "data": {
      "text/plain": [
       "children               0\n",
       "days_employed       2174\n",
       "dob_years              0\n",
       "education              0\n",
       "education_id           0\n",
       "family_status          0\n",
       "family_status_id       0\n",
       "gender                 0\n",
       "income_type            0\n",
       "debt                   0\n",
       "total_income        2174\n",
       "purpose                0\n",
       "dtype: int64"
      ]
     },
     "execution_count": 4,
     "metadata": {},
     "output_type": "execute_result"
    }
   ],
   "source": [
    "data.isna().sum()"
   ]
  },
  {
   "cell_type": "markdown",
   "id": "25621898",
   "metadata": {
    "deletable": false,
    "editable": false,
    "id": "db86e27b"
   },
   "source": [
    "**Задание 5. В двух столбцах есть пропущенные значения. Один из них — `days_employed`. Пропуски в этом столбце вы обработаете на следующем этапе. Другой столбец с пропущенными значениями — `total_income` — хранит данные о доходах. На сумму дохода сильнее всего влияет тип занятости, поэтому заполнить пропуски в этом столбце нужно медианным значением по каждому типу из столбца `income_type`. Например, у человека с типом занятости `сотрудник` пропуск в столбце `total_income` должен быть заполнен медианным доходом среди всех записей с тем же типом.**"
   ]
  },
  {
   "cell_type": "code",
   "execution_count": 5,
   "id": "d61121fa",
   "metadata": {
    "deletable": false,
    "id": "42006a93"
   },
   "outputs": [],
   "source": [
    "for t in data['income_type'].unique():\n",
    "    data.loc[(data['income_type'] == t) & (data['total_income'].isna()), 'total_income'] = \\\n",
    "    data.loc[(data['income_type'] == t), 'total_income'].median()"
   ]
  },
  {
   "cell_type": "markdown",
   "id": "f4c8e382",
   "metadata": {
    "deletable": false,
    "editable": false,
    "id": "89da5ece"
   },
   "source": [
    "### Обработка аномальных значений"
   ]
  },
  {
   "cell_type": "markdown",
   "id": "c3119c17",
   "metadata": {
    "deletable": false,
    "editable": false,
    "id": "57964554"
   },
   "source": [
    "**Задание 6. В данных могут встречаться артефакты (аномалии) — значения, которые не отражают действительность и появились по какой-то ошибке. таким артефактом будет отрицательное количество дней трудового стажа в столбце `days_employed`. Для реальных данных это нормально. Обработайте значения в этом столбце: замените все отрицательные значения положительными с помощью метода `abs()`.**"
   ]
  },
  {
   "cell_type": "code",
   "execution_count": 6,
   "id": "317b8d3f",
   "metadata": {
    "deletable": false,
    "id": "f6f055bf"
   },
   "outputs": [],
   "source": [
    "data['days_employed'] = data['days_employed'].abs()"
   ]
  },
  {
   "cell_type": "markdown",
   "id": "0bcc0544",
   "metadata": {
    "deletable": false,
    "editable": false,
    "id": "6107dd2f"
   },
   "source": [
    "**Задание 7. Для каждого типа занятости выведите медианное значение трудового стажа `days_employed` в днях.**"
   ]
  },
  {
   "cell_type": "code",
   "execution_count": 7,
   "id": "09c931d2",
   "metadata": {
    "deletable": false,
    "id": "85a5faf6",
    "outputId": "801ef80e-522b-4668-f34e-565af7432bcf"
   },
   "outputs": [
    {
     "data": {
      "text/plain": [
       "income_type\n",
       "безработный        366413.652744\n",
       "в декрете            3296.759962\n",
       "госслужащий          2689.368353\n",
       "компаньон            1547.382223\n",
       "пенсионер          365213.306266\n",
       "предприниматель       520.848083\n",
       "сотрудник            1574.202821\n",
       "студент               578.751554\n",
       "Name: days_employed, dtype: float64"
      ]
     },
     "execution_count": 7,
     "metadata": {},
     "output_type": "execute_result"
    }
   ],
   "source": [
    "data.groupby('income_type')['days_employed'].agg('median')"
   ]
  },
  {
   "cell_type": "markdown",
   "id": "17c7efa9",
   "metadata": {
    "deletable": false,
    "editable": false,
    "id": "38d1a030"
   },
   "source": [
    "У двух типов (безработные и пенсионеры) получатся аномально большие значения. Исправить такие значения сложно, поэтому оставьте их как есть. Тем более этот столбец не понадобится вам для исследования."
   ]
  },
  {
   "cell_type": "markdown",
   "id": "a7a0712b",
   "metadata": {
    "deletable": false,
    "editable": false,
    "id": "d8a9f147"
   },
   "source": [
    "**Задание 8. Выведите перечень уникальных значений столбца `children`.**"
   ]
  },
  {
   "cell_type": "code",
   "execution_count": 8,
   "id": "1609a365",
   "metadata": {
    "deletable": false,
    "id": "ef5056eb",
    "outputId": "6975b15c-7f95-4697-d16d-a0c79b657b03"
   },
   "outputs": [
    {
     "data": {
      "text/plain": [
       "array([ 1,  0,  3,  2, -1,  4, 20,  5])"
      ]
     },
     "execution_count": 8,
     "metadata": {},
     "output_type": "execute_result"
    }
   ],
   "source": [
    "data['children'].unique()"
   ]
  },
  {
   "cell_type": "markdown",
   "id": "7abb1cb2",
   "metadata": {
    "deletable": false,
    "editable": false,
    "id": "40b9ebf2"
   },
   "source": [
    "**Задание 9. В столбце `children` есть два аномальных значения. Удалите строки, в которых встречаются такие аномальные значения из датафрейма `data`.**"
   ]
  },
  {
   "cell_type": "code",
   "execution_count": 9,
   "id": "edc3e5d8",
   "metadata": {
    "deletable": false,
    "id": "3ff9801d"
   },
   "outputs": [],
   "source": [
    "data = data[(data['children'] != -1) & (data['children'] != 20)]"
   ]
  },
  {
   "cell_type": "markdown",
   "id": "4b55ba86",
   "metadata": {
    "deletable": false,
    "editable": false,
    "id": "bbc4d0ce"
   },
   "source": [
    "**Задание 10. Ещё раз выведите перечень уникальных значений столбца `children`, чтобы убедиться, что артефакты удалены.**"
   ]
  },
  {
   "cell_type": "code",
   "execution_count": 10,
   "id": "61583871",
   "metadata": {
    "deletable": false,
    "id": "ad4fa8b7",
    "outputId": "b2097101-d49d-44d9-901b-32a65c9463d1"
   },
   "outputs": [
    {
     "data": {
      "text/plain": [
       "array([1, 0, 3, 2, 4, 5])"
      ]
     },
     "execution_count": 10,
     "metadata": {},
     "output_type": "execute_result"
    }
   ],
   "source": [
    "data['children'].unique()"
   ]
  },
  {
   "cell_type": "markdown",
   "id": "113b04c5",
   "metadata": {
    "deletable": false,
    "editable": false,
    "id": "75440b63"
   },
   "source": [
    "### Удаление пропусков (продолжение)"
   ]
  },
  {
   "cell_type": "markdown",
   "id": "3a89f83f",
   "metadata": {
    "deletable": false,
    "editable": false,
    "id": "f4ea573f"
   },
   "source": [
    "**Задание 11. Заполните пропуски в столбце `days_employed` медианными значениями по каждого типа занятости `income_type`.**"
   ]
  },
  {
   "cell_type": "code",
   "execution_count": 11,
   "id": "2387899a",
   "metadata": {
    "deletable": false,
    "id": "af6b1a7e"
   },
   "outputs": [],
   "source": [
    "for t in data['income_type'].unique():\n",
    "    data.loc[(data['income_type'] == t) & (data['days_employed'].isna()), 'days_employed'] = \\\n",
    "    data.loc[(data['income_type'] == t), 'days_employed'].median()"
   ]
  },
  {
   "cell_type": "markdown",
   "id": "792aec1b",
   "metadata": {
    "deletable": false,
    "editable": false,
    "id": "2753f40d"
   },
   "source": [
    "**Задание 12. Убедитесь, что все пропуски заполнены. Проверьте себя и ещё раз выведите количество пропущенных значений для каждого столбца с помощью двух методов.**"
   ]
  },
  {
   "cell_type": "code",
   "execution_count": 12,
   "id": "586a465b",
   "metadata": {
    "deletable": false,
    "id": "55f78bc2",
    "outputId": "8da1e4e1-358e-4e87-98c9-f261bce0a7b2"
   },
   "outputs": [
    {
     "data": {
      "text/plain": [
       "children            0\n",
       "days_employed       0\n",
       "dob_years           0\n",
       "education           0\n",
       "education_id        0\n",
       "family_status       0\n",
       "family_status_id    0\n",
       "gender              0\n",
       "income_type         0\n",
       "debt                0\n",
       "total_income        0\n",
       "purpose             0\n",
       "dtype: int64"
      ]
     },
     "execution_count": 12,
     "metadata": {},
     "output_type": "execute_result"
    }
   ],
   "source": [
    "data.isna().sum()"
   ]
  },
  {
   "cell_type": "markdown",
   "id": "a5c7c7eb",
   "metadata": {
    "deletable": false,
    "editable": false,
    "id": "ddc81e43"
   },
   "source": [
    "### Изменение типов данных"
   ]
  },
  {
   "cell_type": "markdown",
   "id": "16b2e8f3",
   "metadata": {
    "deletable": false,
    "editable": false,
    "id": "42d19d24"
   },
   "source": [
    "**Задание 13. Замените вещественный тип данных в столбце `total_income` на целочисленный с помощью метода `astype()`.**"
   ]
  },
  {
   "cell_type": "code",
   "execution_count": 13,
   "id": "ced4c9ec",
   "metadata": {
    "deletable": false,
    "id": "920b65ad"
   },
   "outputs": [],
   "source": [
    "data['total_income'] = data['total_income'].astype(int)"
   ]
  },
  {
   "cell_type": "markdown",
   "id": "4c520bab",
   "metadata": {
    "deletable": false,
    "editable": false,
    "id": "80c420ba"
   },
   "source": [
    "### Обработка дубликатов"
   ]
  },
  {
   "cell_type": "markdown",
   "id": "267465df",
   "metadata": {
    "deletable": false,
    "editable": false
   },
   "source": [
    "**Задание 14. Обработайте неявные дубликаты в столбце `education`. В этом столбце есть одни и те же значения, но записанные по-разному: с использованием заглавных и строчных букв. Приведите их к нижнему регистру. Проверьте остальные столбцы.**"
   ]
  },
  {
   "cell_type": "code",
   "execution_count": 14,
   "id": "03d6318f",
   "metadata": {
    "deletable": false
   },
   "outputs": [],
   "source": [
    "data['education'] = data['education'].str.lower()"
   ]
  },
  {
   "cell_type": "markdown",
   "id": "87606aa6",
   "metadata": {
    "deletable": false,
    "editable": false,
    "id": "dc587695"
   },
   "source": [
    "**Задание 15. Выведите на экран количество строк-дубликатов в данных. Если такие строки присутствуют, удалите их.**"
   ]
  },
  {
   "cell_type": "code",
   "execution_count": 15,
   "id": "39682ea4",
   "metadata": {
    "deletable": false,
    "id": "3ee445e4",
    "outputId": "9684deba-1934-42d1-99e1-cda61740f822"
   },
   "outputs": [
    {
     "data": {
      "text/plain": [
       "71"
      ]
     },
     "execution_count": 15,
     "metadata": {},
     "output_type": "execute_result"
    }
   ],
   "source": [
    "data.duplicated().sum()"
   ]
  },
  {
   "cell_type": "code",
   "execution_count": 16,
   "id": "fb6f6aa7",
   "metadata": {
    "deletable": false,
    "id": "8575fe05"
   },
   "outputs": [],
   "source": [
    "data = data.drop_duplicates()"
   ]
  },
  {
   "cell_type": "markdown",
   "id": "843f6eb4",
   "metadata": {
    "deletable": false,
    "editable": false,
    "id": "9904cf55"
   },
   "source": [
    "### Категоризация данных"
   ]
  },
  {
   "cell_type": "markdown",
   "id": "3eebf3cb",
   "metadata": {
    "deletable": false,
    "editable": false,
    "id": "72fcc8a2"
   },
   "source": [
    "**Задание 16. На основании диапазонов, указанных ниже, создайте в датафрейме `data` столбец `total_income_category` с категориями:**\n",
    "\n",
    "- 0–30000 — `'E'`;\n",
    "- 30001–50000 — `'D'`;\n",
    "- 50001–200000 — `'C'`;\n",
    "- 200001–1000000 — `'B'`;\n",
    "- 1000001 и выше — `'A'`.\n",
    "\n",
    "\n",
    "**Например, кредитополучателю с доходом 25000 нужно назначить категорию `'E'`, а клиенту, получающему 235000, — `'B'`. Используйте собственную функцию с именем `categorize_income()` и метод `apply()`.**"
   ]
  },
  {
   "cell_type": "code",
   "execution_count": 17,
   "id": "c4fdefb2",
   "metadata": {
    "deletable": false,
    "id": "e1771346"
   },
   "outputs": [],
   "source": [
    "def categorize_income(income):\n",
    "    try:\n",
    "        if 0 <= income <= 30000:\n",
    "            return 'E'\n",
    "        elif 30001 <= income <= 50000:\n",
    "            return 'D'\n",
    "        elif 50001 <= income <= 200000:\n",
    "            return 'C'\n",
    "        elif 200001 <= income <= 1000000:\n",
    "            return 'B'\n",
    "        elif income >= 1000001:\n",
    "            return 'A'\n",
    "    except:\n",
    "        pass"
   ]
  },
  {
   "cell_type": "code",
   "execution_count": 18,
   "id": "f22ce366",
   "metadata": {
    "deletable": false,
    "id": "d5f3586d"
   },
   "outputs": [],
   "source": [
    "data['total_income_category'] = data['total_income'].apply(categorize_income)"
   ]
  },
  {
   "cell_type": "markdown",
   "id": "8aa432a6",
   "metadata": {
    "deletable": false,
    "editable": false,
    "id": "dde49b5c"
   },
   "source": [
    "**Задание 17. Выведите на экран перечень уникальных целей взятия кредита из столбца `purpose`.**"
   ]
  },
  {
   "cell_type": "code",
   "execution_count": 19,
   "id": "52a99eb8",
   "metadata": {
    "deletable": false,
    "id": "f67ce9b3",
    "outputId": "673c12d9-7d7e-4ae0-9812-c622c89dd244"
   },
   "outputs": [
    {
     "data": {
      "text/plain": [
       "array(['покупка жилья', 'приобретение автомобиля',\n",
       "       'дополнительное образование', 'сыграть свадьбу',\n",
       "       'операции с жильем', 'образование', 'на проведение свадьбы',\n",
       "       'покупка жилья для семьи', 'покупка недвижимости',\n",
       "       'покупка коммерческой недвижимости', 'покупка жилой недвижимости',\n",
       "       'строительство собственной недвижимости', 'недвижимость',\n",
       "       'строительство недвижимости', 'на покупку подержанного автомобиля',\n",
       "       'на покупку своего автомобиля',\n",
       "       'операции с коммерческой недвижимостью',\n",
       "       'строительство жилой недвижимости', 'жилье',\n",
       "       'операции со своей недвижимостью', 'автомобили',\n",
       "       'заняться образованием', 'сделка с подержанным автомобилем',\n",
       "       'получение образования', 'автомобиль', 'свадьба',\n",
       "       'получение дополнительного образования', 'покупка своего жилья',\n",
       "       'операции с недвижимостью', 'получение высшего образования',\n",
       "       'свой автомобиль', 'сделка с автомобилем',\n",
       "       'профильное образование', 'высшее образование',\n",
       "       'покупка жилья для сдачи', 'на покупку автомобиля', 'ремонт жилью',\n",
       "       'заняться высшим образованием'], dtype=object)"
      ]
     },
     "execution_count": 19,
     "metadata": {},
     "output_type": "execute_result"
    }
   ],
   "source": [
    "data['purpose'].unique()"
   ]
  },
  {
   "cell_type": "markdown",
   "id": "467c0706",
   "metadata": {
    "deletable": false,
    "editable": false,
    "id": "85d0aef0"
   },
   "source": [
    "**Задание 18. Создайте функцию, которая на основании данных из столбца `purpose` сформирует новый столбец `purpose_category`, в который войдут следующие категории:**\n",
    "\n",
    "- `'операции с автомобилем'`,\n",
    "- `'операции с недвижимостью'`,\n",
    "- `'проведение свадьбы'`,\n",
    "- `'получение образования'`.\n",
    "\n",
    "**Например, если в столбце `purpose` находится подстрока `'на покупку автомобиля'`, то в столбце `purpose_category` должна появиться строка `'операции с автомобилем'`.**\n",
    "\n",
    "**Используйте собственную функцию с именем `categorize_purpose()` и метод `apply()`. Изучите данные в столбце `purpose` и определите, какие подстроки помогут вам правильно определить категорию.**"
   ]
  },
  {
   "cell_type": "code",
   "execution_count": 20,
   "id": "6e438b26",
   "metadata": {
    "deletable": false,
    "id": "e149fab4"
   },
   "outputs": [],
   "source": [
    "def categorize_purpose(row):\n",
    "    try:\n",
    "        if 'автом' in row:\n",
    "            return 'операции с автомобилем'\n",
    "        elif 'жил' in row or 'недвиж' in row:\n",
    "            return 'операции с недвижимостью'\n",
    "        elif 'свад' in row:\n",
    "            return 'проведение свадьбы'\n",
    "        elif 'образов' in row:\n",
    "            return 'получение образования'\n",
    "    except:\n",
    "        return 'нет категории'"
   ]
  },
  {
   "cell_type": "code",
   "execution_count": 21,
   "id": "d39effee",
   "metadata": {
    "deletable": false,
    "id": "bf36e69b"
   },
   "outputs": [],
   "source": [
    "data['purpose_category'] = data['purpose'].apply(categorize_purpose)\n"
   ]
  },
  {
   "cell_type": "markdown",
   "id": "b985167a",
   "metadata": {
    "deletable": false,
    "editable": false,
    "id": "09b242bf"
   },
   "source": [
    "### Шаг 3. Исследуйте данные и ответьте на вопросы"
   ]
  },
  {
   "cell_type": "markdown",
   "id": "8c8d4e33",
   "metadata": {
    "deletable": false,
    "editable": false,
    "id": "c5d66278"
   },
   "source": [
    "#### 3.1 Есть ли зависимость между количеством детей и возвратом кредита в срок?"
   ]
  },
  {
   "cell_type": "code",
   "execution_count": 22,
   "id": "1ce09238",
   "metadata": {
    "deletable": false,
    "id": "2cacfc4a"
   },
   "outputs": [
    {
     "name": "stdout",
     "output_type": "stream",
     "text": [
      "                    sum  count make_proportion\n",
      "                   debt   debt            debt\n",
      "children_category                             \n",
      "Бездетные          1063  14091           7.54%\n",
      "Многодетные          31    380           8.16%\n",
      "Один ребенок        444   4808           9.23%\n",
      "Два ребенка         194   2052           9.45%\n"
     ]
    }
   ],
   "source": [
    "# Создадим функцию для вывода данных в процентах для боллее комфортного визуального анализа.\n",
    "def make_proportion(pdSerises):\n",
    "    return str(round((pdSerises.sum() / pdSerises.count()) * 100, 2)) + '%'\n",
    "## Разобъем данные по основным категориям количества детей с помощью создания функции.\n",
    "def categorize_children(children):\n",
    "        if children == 0:\n",
    "            return 'Бездетные'\n",
    "        elif children == 1:\n",
    "            return 'Один ребенок'\n",
    "        elif children == 2:\n",
    "            return 'Два ребенка'\n",
    "        elif children > 2:\n",
    "            return 'Многодетные' \n",
    "### Создадим столбец children_category с категориями по количеству детей.  \n",
    "data['children_category'] = data['children'].apply(categorize_children)\n",
    "#### Создадим сводную таблицу с помощью pivot. И будем использовать данный метод в оставшихся заданиях, указывая в значении index требуемую категории в вопросе\n",
    "pivot_children_debt = data.pivot_table(index=[\"children_category\"], values=[\"debt\"], aggfunc=['sum', 'count', make_proportion])\n",
    "##### В конце отсортируем от меньшего значения просрочки к большему.\n",
    "pivot_children_debt = pivot_children_debt.sort_values(by=('make_proportion', 'debt'))\n",
    "print(pivot_children_debt)"
   ]
  },
  {
   "cell_type": "markdown",
   "id": "2e290619",
   "metadata": {
    "deletable": false,
    "id": "3a6b99ec"
   },
   "source": [
    "**Вывод:** У людей без детей меньше всего просрочек, более ненадежными заемщиками являются люди с одним либо двумя детьми."
   ]
  },
  {
   "cell_type": "markdown",
   "id": "4ec3e07d",
   "metadata": {
    "deletable": false,
    "editable": false,
    "id": "97be82ca"
   },
   "source": [
    "#### 3.2 Есть ли зависимость между семейным положением и возвратом кредита в срок?"
   ]
  },
  {
   "cell_type": "code",
   "execution_count": 23,
   "id": "a800d7d6",
   "metadata": {
    "deletable": false,
    "id": "dc3f7ee8"
   },
   "outputs": [
    {
     "name": "stdout",
     "output_type": "stream",
     "text": [
      "                       sum  count make_proportion\n",
      "                      debt   debt            debt\n",
      "family_status                                    \n",
      "вдовец / вдова          63    951           6.62%\n",
      "в разводе               84   1189           7.06%\n",
      "женат / замужем        927  12261           7.56%\n",
      "гражданский брак       385   4134           9.31%\n",
      "Не женат / не замужем  273   2796           9.76%\n"
     ]
    }
   ],
   "source": [
    "pivot_family_debt = data.pivot_table(index=[\"family_status\"], values=[\"debt\"], aggfunc=['sum', 'count', make_proportion])\n",
    "pivot_family_debt = pivot_family_debt.sort_values(by=('make_proportion', 'debt'))\n",
    "print(pivot_family_debt)"
   ]
  },
  {
   "cell_type": "markdown",
   "id": "82064cdd",
   "metadata": {
    "deletable": false,
    "id": "1cef7837"
   },
   "source": [
    "**Вывод:** Более надежными заемщиками являются вдовцы и люди в разводе, наименее надежными люди в гражданском браке и не женатые. Возможно данный фактор стоит рассматривать в соотношении с возрастом заемщика. Так как это более осознаная категория людей"
   ]
  },
  {
   "cell_type": "markdown",
   "id": "bc0de123",
   "metadata": {
    "deletable": false,
    "editable": false,
    "id": "1e8b2fca"
   },
   "source": [
    "#### 3.3 Есть ли зависимость между уровнем дохода и возвратом кредита в срок?"
   ]
  },
  {
   "cell_type": "code",
   "execution_count": 24,
   "id": "d9a8ab6e",
   "metadata": {
    "deletable": false,
    "id": "cd7e3720"
   },
   "outputs": [
    {
     "name": "stdout",
     "output_type": "stream",
     "text": [
      "                        sum  count make_proportion\n",
      "                       debt   debt            debt\n",
      "total_income_category                             \n",
      "D                        21    349           6.02%\n",
      "B                       354   5014           7.06%\n",
      "A                         2     25            8.0%\n",
      "C                      1353  15921            8.5%\n",
      "E                         2     22           9.09%\n"
     ]
    }
   ],
   "source": [
    "pivot_income_debt = data.pivot_table(index=[\"total_income_category\"], values=[\"debt\"], aggfunc=['sum', 'count', make_proportion])\n",
    "pivot_income_debt = pivot_income_debt.sort_values(by=('make_proportion', 'debt'))\n",
    "print(pivot_income_debt)"
   ]
  },
  {
   "cell_type": "markdown",
   "id": "876f76ac",
   "metadata": {
    "deletable": false,
    "id": "e8593def"
   },
   "source": [
    "**Вывод:** \n",
    "Средний заработок и высокий заработок увеличивает надежность заемщика, маленький заработок уменьшает. "
   ]
  },
  {
   "cell_type": "markdown",
   "id": "cf088545",
   "metadata": {
    "deletable": false,
    "editable": false,
    "id": "99ecbd1f"
   },
   "source": [
    "#### 3.4 Как разные цели кредита влияют на его возврат в срок?"
   ]
  },
  {
   "cell_type": "code",
   "execution_count": 25,
   "id": "79cd140a",
   "metadata": {
    "deletable": false,
    "id": "2b687290"
   },
   "outputs": [
    {
     "name": "stdout",
     "output_type": "stream",
     "text": [
      "                          sum  count make_proportion\n",
      "                         debt   debt            debt\n",
      "purpose_category                                    \n",
      "операции с недвижимостью  780  10751           7.26%\n",
      "проведение свадьбы        183   2313           7.91%\n",
      "получение образования     369   3988           9.25%\n",
      "операции с автомобилем    400   4279           9.35%\n"
     ]
    }
   ],
   "source": [
    "pivot_purpose_debt = data.pivot_table(index=[\"purpose_category\"], values=[\"debt\"], aggfunc=['sum', 'count', make_proportion])\n",
    "pivot_purpose_debt = pivot_purpose_debt.sort_values(by=('make_proportion', 'debt'))\n",
    "print(pivot_purpose_debt)\n"
   ]
  },
  {
   "cell_type": "markdown",
   "id": "822efb62",
   "metadata": {
    "deletable": false,
    "id": "b4bb2ce6"
   },
   "source": [
    "**Вывод:** Операции с недвижимостью и проведения свадеб уменьшают вероятность просрочки. "
   ]
  },
  {
   "cell_type": "markdown",
   "id": "33445082",
   "metadata": {
    "deletable": false,
    "editable": false,
    "id": "09c3ac4c"
   },
   "source": [
    "#### 3.5 Приведите возможные причины появления пропусков в исходных данных."
   ]
  },
  {
   "cell_type": "markdown",
   "id": "f3be762b",
   "metadata": {
    "deletable": false,
    "id": "9da2ceda"
   },
   "source": [
    "*Ответ:* Данные в \"days_employed\" возможно неверно выгружены, либо внесены. Сыграл человечекий фактор, так как имеются и полностью пропущенные ячейки, с total_income данные внесены с копейками, такие значения сложее обрабатывать и такая точность не требуется в данном случае для исследования."
   ]
  },
  {
   "cell_type": "markdown",
   "id": "21926878",
   "metadata": {
    "deletable": false,
    "editable": false,
    "id": "7b0487d6"
   },
   "source": [
    "#### 3.6 Объясните, почему заполнить пропуски медианным значением — лучшее решение для количественных переменных."
   ]
  },
  {
   "cell_type": "markdown",
   "id": "337a71be",
   "metadata": {
    "deletable": false,
    "id": "7ecf2b8e"
   },
   "source": [
    "*Ответ:* Медианное значение позволит получить более точную информацию и снизить возможную  погрешность.\n",
    "<div class=\"alert alert-info\">\n",
    "<b>Комментарий студента: Например \"total income\" содержит данные с большим дипозоном, так как разброс данных от  0 до 1000001 и выше, соответсвенно среднее значение не отобразит корректный уровень дохода (для богатых будет занижен, для остальных — завышен). Медиана будет близка к уровню доходов большинства людей.Медиана высчитывает более точное значение для данной выборки при наличии аномально больших значение.</b>\n",
    "<br>\n",
    "</div>\n",
    "\n"
   ]
  },
  {
   "cell_type": "markdown",
   "id": "d04d5a60",
   "metadata": {
    "deletable": false,
    "editable": false,
    "id": "6db5255a"
   },
   "source": [
    "### Шаг 4: общий вывод."
   ]
  },
  {
   "cell_type": "markdown",
   "id": "05e9ff0c",
   "metadata": {
    "deletable": false,
    "id": "bad65432"
   },
   "source": [
    "Напишите ваш общий вывод.Чтобы обезопасить банк. \n",
    "Банку стоит раасматривать надежного заемщика как кандидата без детей, который либо уже в разводе, либо вдовец, со средним доходом категории(D) либо высоким доходом категори (B), с целью получения кредита либо на свадьбу, либо на недвижимость. \n",
    "С отсорожностью выдавать кредиты категории многодетных людей,находящимися в браке и доходом выше среднего(С) либо очень высокими доходами(А),с целью получения кредита либо на свадьбу, либо на недвижимость. \n",
    "Уменьшить количество выдаваемх кредитов до минимума, людям с одним либо с двумя детьми,с маленькми доходом (Е), с целью получения образования либо на автомобиль.\n"
   ]
  }
 ],
 "metadata": {
  "ExecuteTimeLog": [
   {
    "duration": 54,
    "start_time": "2022-10-05T14:34:06.323Z"
   },
   {
    "duration": 7,
    "start_time": "2022-10-05T14:34:36.125Z"
   },
   {
    "duration": 515,
    "start_time": "2022-10-05T14:34:51.629Z"
   },
   {
    "duration": 66,
    "start_time": "2022-10-05T14:34:55.524Z"
   },
   {
    "duration": 21,
    "start_time": "2022-10-05T14:34:57.806Z"
   },
   {
    "duration": 31,
    "start_time": "2022-10-05T14:35:09.896Z"
   },
   {
    "duration": 27,
    "start_time": "2022-10-05T14:35:46.477Z"
   },
   {
    "duration": 6,
    "start_time": "2022-10-05T14:36:15.236Z"
   },
   {
    "duration": 4,
    "start_time": "2022-10-05T14:36:42.012Z"
   },
   {
    "duration": 12,
    "start_time": "2022-10-05T14:37:32.612Z"
   },
   {
    "duration": 10,
    "start_time": "2022-10-05T14:37:52.932Z"
   },
   {
    "duration": 21,
    "start_time": "2022-10-05T14:38:47.228Z"
   },
   {
    "duration": 14,
    "start_time": "2022-10-05T14:41:01.507Z"
   },
   {
    "duration": 13,
    "start_time": "2022-10-05T14:41:32.415Z"
   },
   {
    "duration": 9,
    "start_time": "2022-10-05T14:49:55.365Z"
   },
   {
    "duration": 8,
    "start_time": "2022-10-05T14:50:41.444Z"
   },
   {
    "duration": 8,
    "start_time": "2022-10-05T14:55:14.755Z"
   },
   {
    "duration": 7,
    "start_time": "2022-10-05T14:58:48.143Z"
   },
   {
    "duration": 8,
    "start_time": "2022-10-05T14:59:19.155Z"
   },
   {
    "duration": 9,
    "start_time": "2022-10-05T14:59:33.904Z"
   },
   {
    "duration": 6,
    "start_time": "2022-10-05T15:02:18.942Z"
   },
   {
    "duration": 13,
    "start_time": "2022-10-05T15:02:44.910Z"
   },
   {
    "duration": 5,
    "start_time": "2022-10-05T15:04:05.493Z"
   },
   {
    "duration": 7,
    "start_time": "2022-10-05T15:04:45.269Z"
   },
   {
    "duration": 8,
    "start_time": "2022-10-05T15:05:21.563Z"
   },
   {
    "duration": 7,
    "start_time": "2022-10-05T15:05:29.253Z"
   },
   {
    "duration": 17,
    "start_time": "2022-10-05T15:14:45.361Z"
   },
   {
    "duration": 15,
    "start_time": "2022-10-05T15:27:24.139Z"
   },
   {
    "duration": 351,
    "start_time": "2022-10-05T15:28:10.817Z"
   },
   {
    "duration": 504,
    "start_time": "2022-10-05T15:29:39.256Z"
   },
   {
    "duration": 146,
    "start_time": "2022-10-05T15:30:11.336Z"
   },
   {
    "duration": 15,
    "start_time": "2022-10-05T15:31:32.440Z"
   },
   {
    "duration": 40,
    "start_time": "2022-10-05T16:56:45.470Z"
   },
   {
    "duration": 5,
    "start_time": "2022-10-05T16:56:50.673Z"
   },
   {
    "duration": 124,
    "start_time": "2022-10-05T16:57:00.801Z"
   },
   {
    "duration": 7,
    "start_time": "2022-10-05T16:57:09.049Z"
   },
   {
    "duration": 6,
    "start_time": "2022-10-05T16:57:30.648Z"
   },
   {
    "duration": 5,
    "start_time": "2022-10-05T16:57:41.432Z"
   },
   {
    "duration": 5,
    "start_time": "2022-10-05T16:58:09.408Z"
   },
   {
    "duration": 6,
    "start_time": "2022-10-05T16:58:44.304Z"
   },
   {
    "duration": 5,
    "start_time": "2022-10-05T16:58:48.920Z"
   },
   {
    "duration": 40,
    "start_time": "2022-10-05T16:59:02.588Z"
   },
   {
    "duration": 7,
    "start_time": "2022-10-05T16:59:24.699Z"
   },
   {
    "duration": 407,
    "start_time": "2022-10-05T16:59:30.761Z"
   },
   {
    "duration": 20,
    "start_time": "2022-10-05T16:59:32.947Z"
   },
   {
    "duration": 14,
    "start_time": "2022-10-05T16:59:36.602Z"
   },
   {
    "duration": 9,
    "start_time": "2022-10-05T16:59:39.794Z"
   },
   {
    "duration": 28,
    "start_time": "2022-10-05T16:59:43.459Z"
   },
   {
    "duration": 3,
    "start_time": "2022-10-05T16:59:45.993Z"
   },
   {
    "duration": 7,
    "start_time": "2022-10-05T16:59:48.922Z"
   },
   {
    "duration": 4,
    "start_time": "2022-10-05T16:59:51.554Z"
   },
   {
    "duration": 6,
    "start_time": "2022-10-05T16:59:53.854Z"
   },
   {
    "duration": 5,
    "start_time": "2022-10-05T16:59:56.073Z"
   },
   {
    "duration": 31,
    "start_time": "2022-10-05T16:59:58.412Z"
   },
   {
    "duration": 8,
    "start_time": "2022-10-05T17:00:00.602Z"
   },
   {
    "duration": 4,
    "start_time": "2022-10-05T17:00:02.796Z"
   },
   {
    "duration": 10,
    "start_time": "2022-10-05T17:00:05.050Z"
   },
   {
    "duration": 19,
    "start_time": "2022-10-05T17:00:07.020Z"
   },
   {
    "duration": 15,
    "start_time": "2022-10-05T17:00:09.977Z"
   },
   {
    "duration": 3,
    "start_time": "2022-10-05T17:00:12.777Z"
   },
   {
    "duration": 8,
    "start_time": "2022-10-05T17:00:14.785Z"
   },
   {
    "duration": 5,
    "start_time": "2022-10-05T17:00:16.593Z"
   },
   {
    "duration": 3,
    "start_time": "2022-10-05T17:00:19.033Z"
   },
   {
    "duration": 8,
    "start_time": "2022-10-05T17:00:21.417Z"
   },
   {
    "duration": 15,
    "start_time": "2022-10-05T17:00:23.532Z"
   },
   {
    "duration": 4,
    "start_time": "2022-10-05T17:00:41.003Z"
   },
   {
    "duration": 27,
    "start_time": "2022-10-05T17:04:06.977Z"
   },
   {
    "duration": 19,
    "start_time": "2022-10-05T17:04:34.112Z"
   },
   {
    "duration": 13,
    "start_time": "2022-10-05T17:04:44.601Z"
   },
   {
    "duration": 26,
    "start_time": "2022-10-05T17:05:37.513Z"
   },
   {
    "duration": 11,
    "start_time": "2022-10-05T17:06:00.415Z"
   },
   {
    "duration": 11,
    "start_time": "2022-10-05T17:06:07.679Z"
   },
   {
    "duration": 696,
    "start_time": "2022-10-05T21:42:47.303Z"
   },
   {
    "duration": 25,
    "start_time": "2022-10-05T21:42:49.626Z"
   },
   {
    "duration": 20,
    "start_time": "2022-10-05T21:42:51.173Z"
   },
   {
    "duration": 10,
    "start_time": "2022-10-05T21:42:53.277Z"
   },
   {
    "duration": 31,
    "start_time": "2022-10-05T21:42:54.244Z"
   },
   {
    "duration": 5,
    "start_time": "2022-10-05T21:42:55.632Z"
   },
   {
    "duration": 9,
    "start_time": "2022-10-05T21:42:56.582Z"
   },
   {
    "duration": 5,
    "start_time": "2022-10-05T21:42:58.036Z"
   },
   {
    "duration": 7,
    "start_time": "2022-10-05T21:42:58.988Z"
   },
   {
    "duration": 5,
    "start_time": "2022-10-05T21:42:59.940Z"
   },
   {
    "duration": 31,
    "start_time": "2022-10-05T21:43:02.116Z"
   },
   {
    "duration": 9,
    "start_time": "2022-10-05T21:43:03.097Z"
   },
   {
    "duration": 5,
    "start_time": "2022-10-05T21:43:04.564Z"
   },
   {
    "duration": 11,
    "start_time": "2022-10-05T21:43:05.873Z"
   },
   {
    "duration": 21,
    "start_time": "2022-10-05T21:43:06.797Z"
   },
   {
    "duration": 17,
    "start_time": "2022-10-05T21:43:07.313Z"
   },
   {
    "duration": 4,
    "start_time": "2022-10-05T21:43:09.140Z"
   },
   {
    "duration": 8,
    "start_time": "2022-10-05T21:43:09.653Z"
   },
   {
    "duration": 5,
    "start_time": "2022-10-05T21:43:10.890Z"
   },
   {
    "duration": 3,
    "start_time": "2022-10-05T21:43:12.296Z"
   },
   {
    "duration": 7,
    "start_time": "2022-10-05T21:43:12.870Z"
   },
   {
    "duration": 22,
    "start_time": "2022-10-05T21:43:22.438Z"
   },
   {
    "duration": 66,
    "start_time": "2022-10-05T21:45:16.950Z"
   },
   {
    "duration": 8,
    "start_time": "2022-10-05T21:45:52.236Z"
   },
   {
    "duration": 7,
    "start_time": "2022-10-05T21:47:12.915Z"
   },
   {
    "duration": 8,
    "start_time": "2022-10-05T21:47:18.655Z"
   },
   {
    "duration": 13,
    "start_time": "2022-10-05T21:47:38.392Z"
   },
   {
    "duration": 8,
    "start_time": "2022-10-05T21:49:13.615Z"
   },
   {
    "duration": 23,
    "start_time": "2022-10-05T21:52:29.605Z"
   },
   {
    "duration": 17,
    "start_time": "2022-10-05T21:55:36.549Z"
   },
   {
    "duration": 14,
    "start_time": "2022-10-05T21:55:52.903Z"
   },
   {
    "duration": 14,
    "start_time": "2022-10-05T21:56:07.519Z"
   },
   {
    "duration": 57,
    "start_time": "2022-10-05T21:57:46.015Z"
   },
   {
    "duration": 8,
    "start_time": "2022-10-05T21:57:52.590Z"
   },
   {
    "duration": 13,
    "start_time": "2022-10-05T21:58:04.883Z"
   },
   {
    "duration": 11,
    "start_time": "2022-10-05T21:59:17.274Z"
   },
   {
    "duration": 15,
    "start_time": "2022-10-05T21:59:42.290Z"
   },
   {
    "duration": 8,
    "start_time": "2022-10-05T22:00:19.878Z"
   },
   {
    "duration": 15,
    "start_time": "2022-10-05T22:00:27.586Z"
   },
   {
    "duration": 13,
    "start_time": "2022-10-05T22:01:00.964Z"
   },
   {
    "duration": 12,
    "start_time": "2022-10-05T22:01:35.311Z"
   },
   {
    "duration": 11,
    "start_time": "2022-10-05T22:02:56.387Z"
   },
   {
    "duration": 23,
    "start_time": "2022-10-05T22:03:24.000Z"
   },
   {
    "duration": 26,
    "start_time": "2022-10-05T22:04:51.764Z"
   },
   {
    "duration": 27,
    "start_time": "2022-10-05T22:05:10.419Z"
   },
   {
    "duration": 3,
    "start_time": "2022-10-05T22:05:41.131Z"
   },
   {
    "duration": 32,
    "start_time": "2022-10-05T22:05:45.270Z"
   },
   {
    "duration": 23,
    "start_time": "2022-10-05T22:06:01.915Z"
   },
   {
    "duration": 13,
    "start_time": "2022-10-05T22:07:12.897Z"
   },
   {
    "duration": 13,
    "start_time": "2022-10-05T22:07:19.040Z"
   },
   {
    "duration": 12,
    "start_time": "2022-10-05T22:07:20.874Z"
   },
   {
    "duration": 13,
    "start_time": "2022-10-05T22:08:06.224Z"
   },
   {
    "duration": 12,
    "start_time": "2022-10-05T22:08:18.905Z"
   },
   {
    "duration": 17,
    "start_time": "2022-10-05T22:09:54.033Z"
   },
   {
    "duration": 12,
    "start_time": "2022-10-05T22:10:38.565Z"
   },
   {
    "duration": 14,
    "start_time": "2022-10-05T22:11:17.949Z"
   },
   {
    "duration": 76,
    "start_time": "2022-10-05T22:12:49.228Z"
   },
   {
    "duration": 80,
    "start_time": "2022-10-05T22:13:00.732Z"
   },
   {
    "duration": 14,
    "start_time": "2022-10-05T22:14:44.077Z"
   },
   {
    "duration": 14,
    "start_time": "2022-10-05T22:14:56.613Z"
   },
   {
    "duration": 5,
    "start_time": "2022-10-05T22:15:32.570Z"
   },
   {
    "duration": 6,
    "start_time": "2022-10-05T22:16:52.369Z"
   },
   {
    "duration": 6,
    "start_time": "2022-10-05T22:16:54.776Z"
   },
   {
    "duration": 959,
    "start_time": "2022-10-05T22:17:42.297Z"
   },
   {
    "duration": 1073,
    "start_time": "2022-10-05T22:18:03.356Z"
   },
   {
    "duration": 737,
    "start_time": "2022-10-05T22:18:06.201Z"
   },
   {
    "duration": 715,
    "start_time": "2022-10-05T22:18:34.916Z"
   },
   {
    "duration": 1522,
    "start_time": "2022-10-05T22:18:37.763Z"
   },
   {
    "duration": 3,
    "start_time": "2022-10-05T22:18:39.775Z"
   },
   {
    "duration": 65,
    "start_time": "2022-10-05T22:18:47.616Z"
   },
   {
    "duration": 14,
    "start_time": "2022-10-05T22:18:50.015Z"
   },
   {
    "duration": 13,
    "start_time": "2022-10-05T22:18:54.155Z"
   },
   {
    "duration": 9,
    "start_time": "2022-10-05T22:18:56.587Z"
   },
   {
    "duration": 35,
    "start_time": "2022-10-05T22:18:59.211Z"
   },
   {
    "duration": 4,
    "start_time": "2022-10-05T22:19:01.479Z"
   },
   {
    "duration": 8,
    "start_time": "2022-10-05T22:19:02.466Z"
   },
   {
    "duration": 4,
    "start_time": "2022-10-05T22:19:04.114Z"
   },
   {
    "duration": 6,
    "start_time": "2022-10-05T22:19:04.975Z"
   },
   {
    "duration": 4,
    "start_time": "2022-10-05T22:19:05.896Z"
   },
   {
    "duration": 30,
    "start_time": "2022-10-05T22:19:07.466Z"
   },
   {
    "duration": 9,
    "start_time": "2022-10-05T22:19:08.858Z"
   },
   {
    "duration": 4,
    "start_time": "2022-10-05T22:19:10.519Z"
   },
   {
    "duration": 10,
    "start_time": "2022-10-05T22:19:11.824Z"
   },
   {
    "duration": 19,
    "start_time": "2022-10-05T22:19:13.946Z"
   },
   {
    "duration": 18,
    "start_time": "2022-10-05T22:19:14.627Z"
   },
   {
    "duration": 4,
    "start_time": "2022-10-05T22:19:16.154Z"
   },
   {
    "duration": 11,
    "start_time": "2022-10-05T22:19:16.706Z"
   },
   {
    "duration": 6,
    "start_time": "2022-10-05T22:19:17.991Z"
   },
   {
    "duration": 4,
    "start_time": "2022-10-05T22:19:19.930Z"
   },
   {
    "duration": 8,
    "start_time": "2022-10-05T22:19:21.459Z"
   },
   {
    "duration": 30,
    "start_time": "2022-10-05T22:19:24.314Z"
   },
   {
    "duration": 1406,
    "start_time": "2022-10-05T22:19:27.564Z"
   },
   {
    "duration": 1399,
    "start_time": "2022-10-05T22:20:40.410Z"
   },
   {
    "duration": 10,
    "start_time": "2022-10-05T22:23:56.158Z"
   },
   {
    "duration": 9,
    "start_time": "2022-10-05T22:24:03.742Z"
   },
   {
    "duration": 845,
    "start_time": "2022-10-05T22:24:17.648Z"
   },
   {
    "duration": 716,
    "start_time": "2022-10-06T14:02:49.797Z"
   },
   {
    "duration": 23,
    "start_time": "2022-10-06T14:02:51.637Z"
   },
   {
    "duration": 16,
    "start_time": "2022-10-06T14:02:53.140Z"
   },
   {
    "duration": 15,
    "start_time": "2022-10-06T14:03:21.461Z"
   },
   {
    "duration": 34,
    "start_time": "2022-10-06T14:03:22.877Z"
   },
   {
    "duration": 3,
    "start_time": "2022-10-06T14:03:24.309Z"
   },
   {
    "duration": 9,
    "start_time": "2022-10-06T14:03:25.238Z"
   },
   {
    "duration": 5,
    "start_time": "2022-10-06T14:03:26.853Z"
   },
   {
    "duration": 7,
    "start_time": "2022-10-06T14:03:27.837Z"
   },
   {
    "duration": 5,
    "start_time": "2022-10-06T14:03:28.861Z"
   },
   {
    "duration": 35,
    "start_time": "2022-10-06T14:03:34.716Z"
   },
   {
    "duration": 11,
    "start_time": "2022-10-06T14:03:35.573Z"
   },
   {
    "duration": 4,
    "start_time": "2022-10-06T14:03:36.988Z"
   },
   {
    "duration": 12,
    "start_time": "2022-10-06T14:03:38.165Z"
   },
   {
    "duration": 21,
    "start_time": "2022-10-06T14:03:39.004Z"
   },
   {
    "duration": 19,
    "start_time": "2022-10-06T14:03:39.390Z"
   },
   {
    "duration": 4,
    "start_time": "2022-10-06T14:03:41.245Z"
   },
   {
    "duration": 11,
    "start_time": "2022-10-06T14:03:41.700Z"
   },
   {
    "duration": 6,
    "start_time": "2022-10-06T14:03:43.037Z"
   },
   {
    "duration": 4,
    "start_time": "2022-10-06T14:03:44.213Z"
   },
   {
    "duration": 11,
    "start_time": "2022-10-06T14:03:44.644Z"
   },
   {
    "duration": 34,
    "start_time": "2022-10-06T14:03:46.500Z"
   },
   {
    "duration": 1522,
    "start_time": "2022-10-06T14:03:50.749Z"
   },
   {
    "duration": 13,
    "start_time": "2022-10-06T14:04:24.221Z"
   },
   {
    "duration": 35,
    "start_time": "2022-10-06T14:05:12.763Z"
   },
   {
    "duration": 1405,
    "start_time": "2022-10-06T14:06:26.181Z"
   },
   {
    "duration": 31,
    "start_time": "2022-10-06T14:06:29.039Z"
   },
   {
    "duration": 34,
    "start_time": "2022-10-06T14:07:13.644Z"
   },
   {
    "duration": 30,
    "start_time": "2022-10-06T14:07:36.949Z"
   },
   {
    "duration": 32,
    "start_time": "2022-10-06T14:09:19.509Z"
   },
   {
    "duration": 32,
    "start_time": "2022-10-06T14:10:47.940Z"
   },
   {
    "duration": 36,
    "start_time": "2022-10-06T14:11:55.217Z"
   },
   {
    "duration": 33,
    "start_time": "2022-10-06T14:12:14.717Z"
   },
   {
    "duration": 31,
    "start_time": "2022-10-06T14:12:32.224Z"
   },
   {
    "duration": 66,
    "start_time": "2022-10-06T14:25:30.530Z"
   },
   {
    "duration": 62,
    "start_time": "2022-10-06T14:25:37.561Z"
   },
   {
    "duration": 78,
    "start_time": "2022-10-06T14:26:23.112Z"
   },
   {
    "duration": 204,
    "start_time": "2022-10-06T14:26:47.696Z"
   },
   {
    "duration": 41,
    "start_time": "2022-10-06T14:27:17.000Z"
   },
   {
    "duration": 37,
    "start_time": "2022-10-06T14:27:36.439Z"
   },
   {
    "duration": 34,
    "start_time": "2022-10-06T14:27:43.654Z"
   },
   {
    "duration": 33,
    "start_time": "2022-10-06T14:27:46.351Z"
   },
   {
    "duration": 687,
    "start_time": "2022-10-08T13:03:48.294Z"
   },
   {
    "duration": 24,
    "start_time": "2022-10-08T13:03:49.123Z"
   },
   {
    "duration": 14,
    "start_time": "2022-10-08T13:03:50.148Z"
   },
   {
    "duration": 9,
    "start_time": "2022-10-08T13:03:51.949Z"
   },
   {
    "duration": 33,
    "start_time": "2022-10-08T13:03:52.842Z"
   },
   {
    "duration": 5,
    "start_time": "2022-10-08T13:03:54.004Z"
   },
   {
    "duration": 8,
    "start_time": "2022-10-08T13:03:54.772Z"
   },
   {
    "duration": 4,
    "start_time": "2022-10-08T13:03:56.042Z"
   },
   {
    "duration": 6,
    "start_time": "2022-10-08T13:03:56.836Z"
   },
   {
    "duration": 5,
    "start_time": "2022-10-08T13:03:57.645Z"
   },
   {
    "duration": 34,
    "start_time": "2022-10-08T13:03:58.837Z"
   },
   {
    "duration": 9,
    "start_time": "2022-10-08T13:03:59.657Z"
   },
   {
    "duration": 4,
    "start_time": "2022-10-08T13:04:01.001Z"
   },
   {
    "duration": 11,
    "start_time": "2022-10-08T13:04:02.150Z"
   },
   {
    "duration": 20,
    "start_time": "2022-10-08T13:04:02.966Z"
   },
   {
    "duration": 19,
    "start_time": "2022-10-08T13:04:03.306Z"
   },
   {
    "duration": 3,
    "start_time": "2022-10-08T13:04:04.322Z"
   },
   {
    "duration": 10,
    "start_time": "2022-10-08T13:04:04.586Z"
   },
   {
    "duration": 7,
    "start_time": "2022-10-08T13:04:05.209Z"
   },
   {
    "duration": 3,
    "start_time": "2022-10-08T13:04:05.815Z"
   },
   {
    "duration": 8,
    "start_time": "2022-10-08T13:04:06.162Z"
   },
   {
    "duration": 40,
    "start_time": "2022-10-08T13:04:16.362Z"
   },
   {
    "duration": 30,
    "start_time": "2022-10-08T13:04:36.074Z"
   },
   {
    "duration": 30,
    "start_time": "2022-10-08T13:04:38.645Z"
   },
   {
    "duration": 35,
    "start_time": "2022-10-08T13:04:41.636Z"
   },
   {
    "duration": 42,
    "start_time": "2022-10-08T13:05:31.053Z"
   },
   {
    "duration": 32,
    "start_time": "2022-10-08T13:07:01.453Z"
   },
   {
    "duration": 33,
    "start_time": "2022-10-08T13:07:33.181Z"
   },
   {
    "duration": 29,
    "start_time": "2022-10-08T13:09:02.033Z"
   },
   {
    "duration": 71,
    "start_time": "2022-10-08T13:12:40.816Z"
   },
   {
    "duration": 15,
    "start_time": "2022-10-08T13:12:44.764Z"
   },
   {
    "duration": 14,
    "start_time": "2022-10-08T13:12:45.532Z"
   },
   {
    "duration": 9,
    "start_time": "2022-10-08T13:12:47.350Z"
   },
   {
    "duration": 32,
    "start_time": "2022-10-08T13:12:48.280Z"
   },
   {
    "duration": 4,
    "start_time": "2022-10-08T13:12:49.391Z"
   },
   {
    "duration": 8,
    "start_time": "2022-10-08T13:12:50.151Z"
   },
   {
    "duration": 4,
    "start_time": "2022-10-08T13:12:51.369Z"
   },
   {
    "duration": 6,
    "start_time": "2022-10-08T13:12:52.082Z"
   },
   {
    "duration": 5,
    "start_time": "2022-10-08T13:12:52.703Z"
   },
   {
    "duration": 32,
    "start_time": "2022-10-08T13:12:53.930Z"
   },
   {
    "duration": 10,
    "start_time": "2022-10-08T13:12:54.643Z"
   },
   {
    "duration": 3,
    "start_time": "2022-10-08T13:12:55.930Z"
   },
   {
    "duration": 11,
    "start_time": "2022-10-08T13:12:57.075Z"
   },
   {
    "duration": 21,
    "start_time": "2022-10-08T13:12:57.978Z"
   },
   {
    "duration": 18,
    "start_time": "2022-10-08T13:12:58.494Z"
   },
   {
    "duration": 4,
    "start_time": "2022-10-08T13:13:00.091Z"
   },
   {
    "duration": 13,
    "start_time": "2022-10-08T13:13:00.543Z"
   },
   {
    "duration": 6,
    "start_time": "2022-10-08T13:13:01.703Z"
   },
   {
    "duration": 3,
    "start_time": "2022-10-08T13:13:02.919Z"
   },
   {
    "duration": 8,
    "start_time": "2022-10-08T13:13:03.407Z"
   },
   {
    "duration": 40,
    "start_time": "2022-10-08T13:13:05.144Z"
   },
   {
    "duration": 35,
    "start_time": "2022-10-08T13:13:06.978Z"
   },
   {
    "duration": 28,
    "start_time": "2022-10-08T13:13:11.785Z"
   },
   {
    "duration": 30,
    "start_time": "2022-10-08T13:13:16.479Z"
   },
   {
    "duration": 431,
    "start_time": "2022-10-08T13:13:42.125Z"
   },
   {
    "duration": 23,
    "start_time": "2022-10-08T13:13:43.140Z"
   },
   {
    "duration": 15,
    "start_time": "2022-10-08T13:13:44.273Z"
   },
   {
    "duration": 10,
    "start_time": "2022-10-08T13:13:46.289Z"
   },
   {
    "duration": 33,
    "start_time": "2022-10-08T13:13:47.717Z"
   },
   {
    "duration": 4,
    "start_time": "2022-10-08T13:13:49.214Z"
   },
   {
    "duration": 7,
    "start_time": "2022-10-08T13:13:50.133Z"
   },
   {
    "duration": 4,
    "start_time": "2022-10-08T13:13:51.477Z"
   },
   {
    "duration": 7,
    "start_time": "2022-10-08T13:13:52.497Z"
   },
   {
    "duration": 5,
    "start_time": "2022-10-08T13:13:53.932Z"
   },
   {
    "duration": 33,
    "start_time": "2022-10-08T13:13:55.571Z"
   },
   {
    "duration": 9,
    "start_time": "2022-10-08T13:13:56.588Z"
   },
   {
    "duration": 4,
    "start_time": "2022-10-08T13:13:58.015Z"
   },
   {
    "duration": 10,
    "start_time": "2022-10-08T13:13:59.358Z"
   },
   {
    "duration": 30,
    "start_time": "2022-10-08T13:14:00.245Z"
   },
   {
    "duration": 17,
    "start_time": "2022-10-08T13:14:00.690Z"
   },
   {
    "duration": 3,
    "start_time": "2022-10-08T13:14:02.181Z"
   },
   {
    "duration": 11,
    "start_time": "2022-10-08T13:14:02.694Z"
   },
   {
    "duration": 6,
    "start_time": "2022-10-08T13:14:03.797Z"
   },
   {
    "duration": 3,
    "start_time": "2022-10-08T13:14:04.901Z"
   },
   {
    "duration": 8,
    "start_time": "2022-10-08T13:14:13.170Z"
   },
   {
    "duration": 42,
    "start_time": "2022-10-08T13:14:14.550Z"
   },
   {
    "duration": 34,
    "start_time": "2022-10-08T13:14:17.076Z"
   },
   {
    "duration": 28,
    "start_time": "2022-10-08T13:14:19.677Z"
   },
   {
    "duration": 33,
    "start_time": "2022-10-08T13:14:21.924Z"
   },
   {
    "duration": 39,
    "start_time": "2022-10-08T13:14:53.647Z"
   },
   {
    "duration": 30,
    "start_time": "2022-10-08T13:15:08.685Z"
   },
   {
    "duration": 72,
    "start_time": "2022-10-08T14:30:52.536Z"
   },
   {
    "duration": 16,
    "start_time": "2022-10-08T14:30:54.820Z"
   },
   {
    "duration": 15,
    "start_time": "2022-10-08T14:30:55.969Z"
   },
   {
    "duration": 10,
    "start_time": "2022-10-08T14:30:58.046Z"
   },
   {
    "duration": 34,
    "start_time": "2022-10-08T14:30:59.173Z"
   },
   {
    "duration": 4,
    "start_time": "2022-10-08T14:31:00.497Z"
   },
   {
    "duration": 8,
    "start_time": "2022-10-08T14:31:01.496Z"
   },
   {
    "duration": 4,
    "start_time": "2022-10-08T14:31:02.922Z"
   },
   {
    "duration": 5,
    "start_time": "2022-10-08T14:31:03.818Z"
   },
   {
    "duration": 4,
    "start_time": "2022-10-08T14:31:04.705Z"
   },
   {
    "duration": 40,
    "start_time": "2022-10-08T14:31:05.934Z"
   },
   {
    "duration": 12,
    "start_time": "2022-10-08T14:31:06.908Z"
   },
   {
    "duration": 4,
    "start_time": "2022-10-08T14:31:08.261Z"
   },
   {
    "duration": 11,
    "start_time": "2022-10-08T14:31:09.602Z"
   },
   {
    "duration": 19,
    "start_time": "2022-10-08T14:31:10.430Z"
   },
   {
    "duration": 18,
    "start_time": "2022-10-08T14:31:10.910Z"
   },
   {
    "duration": 4,
    "start_time": "2022-10-08T14:31:12.365Z"
   },
   {
    "duration": 10,
    "start_time": "2022-10-08T14:31:12.825Z"
   },
   {
    "duration": 6,
    "start_time": "2022-10-08T14:31:13.807Z"
   },
   {
    "duration": 3,
    "start_time": "2022-10-08T14:31:14.809Z"
   },
   {
    "duration": 11,
    "start_time": "2022-10-08T14:31:15.276Z"
   },
   {
    "duration": 39,
    "start_time": "2022-10-08T14:31:16.742Z"
   },
   {
    "duration": 31,
    "start_time": "2022-10-08T14:31:19.062Z"
   },
   {
    "duration": 37,
    "start_time": "2022-10-08T14:31:25.334Z"
   },
   {
    "duration": 31,
    "start_time": "2022-10-08T14:31:27.273Z"
   },
   {
    "duration": 556,
    "start_time": "2022-10-08T14:54:59.914Z"
   },
   {
    "duration": 23,
    "start_time": "2022-10-08T14:55:01.039Z"
   },
   {
    "duration": 56,
    "start_time": "2022-10-08T14:55:01.065Z"
   },
   {
    "duration": 29,
    "start_time": "2022-10-08T14:55:01.123Z"
   },
   {
    "duration": 76,
    "start_time": "2022-10-08T14:55:01.154Z"
   },
   {
    "duration": 11,
    "start_time": "2022-10-08T14:55:01.234Z"
   },
   {
    "duration": 32,
    "start_time": "2022-10-08T14:55:01.247Z"
   },
   {
    "duration": 53,
    "start_time": "2022-10-08T14:55:01.281Z"
   },
   {
    "duration": 44,
    "start_time": "2022-10-08T14:55:01.337Z"
   },
   {
    "duration": 56,
    "start_time": "2022-10-08T14:55:01.383Z"
   },
   {
    "duration": 56,
    "start_time": "2022-10-08T14:55:01.442Z"
   },
   {
    "duration": 28,
    "start_time": "2022-10-08T14:55:01.499Z"
   },
   {
    "duration": 20,
    "start_time": "2022-10-08T14:55:01.529Z"
   },
   {
    "duration": 35,
    "start_time": "2022-10-08T14:55:01.551Z"
   },
   {
    "duration": 143,
    "start_time": "2022-10-08T14:55:01.596Z"
   },
   {
    "duration": 19,
    "start_time": "2022-10-08T14:55:01.741Z"
   },
   {
    "duration": 4,
    "start_time": "2022-10-08T14:55:01.762Z"
   },
   {
    "duration": 16,
    "start_time": "2022-10-08T14:55:01.768Z"
   },
   {
    "duration": 39,
    "start_time": "2022-10-08T14:55:01.785Z"
   },
   {
    "duration": 14,
    "start_time": "2022-10-08T14:55:01.827Z"
   },
   {
    "duration": 20,
    "start_time": "2022-10-08T14:55:01.844Z"
   },
   {
    "duration": 81,
    "start_time": "2022-10-08T14:55:01.866Z"
   },
   {
    "duration": 39,
    "start_time": "2022-10-08T14:55:01.949Z"
   },
   {
    "duration": 50,
    "start_time": "2022-10-08T14:55:01.992Z"
   },
   {
    "duration": 66,
    "start_time": "2022-10-08T14:55:02.044Z"
   }
  ],
  "colab": {
   "name": "dpp_template_part2.ipynb",
   "provenance": []
  },
  "kernelspec": {
   "display_name": "Python 3 (ipykernel)",
   "language": "python",
   "name": "python3"
  },
  "language_info": {
   "codemirror_mode": {
    "name": "ipython",
    "version": 3
   },
   "file_extension": ".py",
   "mimetype": "text/x-python",
   "name": "python",
   "nbconvert_exporter": "python",
   "pygments_lexer": "ipython3",
   "version": "3.9.5"
  },
  "toc": {
   "base_numbering": 1,
   "nav_menu": {},
   "number_sections": true,
   "sideBar": true,
   "skip_h1_title": true,
   "title_cell": "Table of Contents",
   "title_sidebar": "Contents",
   "toc_cell": false,
   "toc_position": {},
   "toc_section_display": true,
   "toc_window_display": false
  }
 },
 "nbformat": 4,
 "nbformat_minor": 5
}
