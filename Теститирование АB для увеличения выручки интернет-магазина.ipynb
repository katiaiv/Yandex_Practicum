{
 "cells": [
  {
   "cell_type": "markdown",
   "metadata": {},
   "source": [
    "Вы — аналитик крупного интернет-магазина. Вместе с отделом маркетинга вы подготовили список гипотез для увеличения выручки.\n",
    "Приоритизируйте гипотезы, запустите A/B-тест и проанализируйте результаты. \n",
    "\n",
    "1. Провести приоритизацию гипотез с помощью фреймворков ICE и RICE. Проанализировать инзменения.\n",
    "\n",
    "2. Провести А/В тестирование.\n",
    "\n",
    "3. Провести анализ А/В тестирования по следующим пунктам:\n",
    "\n",
    " -  Анализ графиков кумулятивной, выручки, среднего чека по грппам, количеству заказав на посетителям.\n",
    " -  Анализ относительных изменений.\n",
    " -  Анализ статичтической значимости различий.\n",
    " \n",
    " \n",
    "4. Провести анализ результатов А/В тестирования.\n"
   ]
  },
  {
   "cell_type": "markdown",
   "metadata": {},
   "source": [
    "# 1  Загрузим данные и подготовим их к анализу"
   ]
  },
  {
   "cell_type": "markdown",
   "metadata": {},
   "source": [
    "Загрузим необходимые для исследования библиотеки"
   ]
  },
  {
   "cell_type": "code",
   "execution_count": 1,
   "metadata": {},
   "outputs": [],
   "source": [
    "\n",
    "import numpy as np\n",
    "import pandas as pd\n",
    "import seaborn as sns\n",
    "from matplotlib import pyplot as plt\n",
    "from IPython.display import display\n",
    "import scipy.stats as stats\n",
    "import datetime as dt"
   ]
  },
  {
   "cell_type": "markdown",
   "metadata": {},
   "source": [
    "Присвоим соответствующие переменные данным о гипотезах, пользователях и заказах в соответсвующие переменные."
   ]
  },
  {
   "cell_type": "code",
   "execution_count": 2,
   "metadata": {},
   "outputs": [],
   "source": [
    "hypothesis = pd.read_csv('/datasets/hypothesis.csv')\n",
    "orders = pd.read_csv('/datasets/orders.csv')\n",
    "visitors = pd.read_csv('/datasets/visitors.csv')"
   ]
  },
  {
   "cell_type": "markdown",
   "metadata": {},
   "source": [
    "Выгрузим первые пять строк каждой таблицы и информацию о них. Для каждой сделаем вывод."
   ]
  },
  {
   "cell_type": "code",
   "execution_count": 3,
   "metadata": {},
   "outputs": [
    {
     "data": {
      "text/html": [
       "<div>\n",
       "<style scoped>\n",
       "    .dataframe tbody tr th:only-of-type {\n",
       "        vertical-align: middle;\n",
       "    }\n",
       "\n",
       "    .dataframe tbody tr th {\n",
       "        vertical-align: top;\n",
       "    }\n",
       "\n",
       "    .dataframe thead th {\n",
       "        text-align: right;\n",
       "    }\n",
       "</style>\n",
       "<table border=\"1\" class=\"dataframe\">\n",
       "  <thead>\n",
       "    <tr style=\"text-align: right;\">\n",
       "      <th></th>\n",
       "      <th>Hypothesis</th>\n",
       "      <th>Reach</th>\n",
       "      <th>Impact</th>\n",
       "      <th>Confidence</th>\n",
       "      <th>Efforts</th>\n",
       "    </tr>\n",
       "  </thead>\n",
       "  <tbody>\n",
       "    <tr>\n",
       "      <th>0</th>\n",
       "      <td>Добавить два новых канала привлечения трафика,...</td>\n",
       "      <td>3</td>\n",
       "      <td>10</td>\n",
       "      <td>8</td>\n",
       "      <td>6</td>\n",
       "    </tr>\n",
       "    <tr>\n",
       "      <th>1</th>\n",
       "      <td>Запустить собственную службу доставки, что сок...</td>\n",
       "      <td>2</td>\n",
       "      <td>5</td>\n",
       "      <td>4</td>\n",
       "      <td>10</td>\n",
       "    </tr>\n",
       "    <tr>\n",
       "      <th>2</th>\n",
       "      <td>Добавить блоки рекомендаций товаров на сайт ин...</td>\n",
       "      <td>8</td>\n",
       "      <td>3</td>\n",
       "      <td>7</td>\n",
       "      <td>3</td>\n",
       "    </tr>\n",
       "    <tr>\n",
       "      <th>3</th>\n",
       "      <td>Изменить структура категорий, что увеличит кон...</td>\n",
       "      <td>8</td>\n",
       "      <td>3</td>\n",
       "      <td>3</td>\n",
       "      <td>8</td>\n",
       "    </tr>\n",
       "    <tr>\n",
       "      <th>4</th>\n",
       "      <td>Изменить цвет фона главной страницы, чтобы уве...</td>\n",
       "      <td>3</td>\n",
       "      <td>1</td>\n",
       "      <td>1</td>\n",
       "      <td>1</td>\n",
       "    </tr>\n",
       "  </tbody>\n",
       "</table>\n",
       "</div>"
      ],
      "text/plain": [
       "                                          Hypothesis  Reach  Impact  \\\n",
       "0  Добавить два новых канала привлечения трафика,...      3      10   \n",
       "1  Запустить собственную службу доставки, что сок...      2       5   \n",
       "2  Добавить блоки рекомендаций товаров на сайт ин...      8       3   \n",
       "3  Изменить структура категорий, что увеличит кон...      8       3   \n",
       "4  Изменить цвет фона главной страницы, чтобы уве...      3       1   \n",
       "\n",
       "   Confidence  Efforts  \n",
       "0           8        6  \n",
       "1           4       10  \n",
       "2           7        3  \n",
       "3           3        8  \n",
       "4           1        1  "
      ]
     },
     "metadata": {},
     "output_type": "display_data"
    },
    {
     "name": "stdout",
     "output_type": "stream",
     "text": [
      "<class 'pandas.core.frame.DataFrame'>\n",
      "RangeIndex: 9 entries, 0 to 8\n",
      "Data columns (total 5 columns):\n",
      " #   Column      Non-Null Count  Dtype \n",
      "---  ------      --------------  ----- \n",
      " 0   Hypothesis  9 non-null      object\n",
      " 1   Reach       9 non-null      int64 \n",
      " 2   Impact      9 non-null      int64 \n",
      " 3   Confidence  9 non-null      int64 \n",
      " 4   Efforts     9 non-null      int64 \n",
      "dtypes: int64(4), object(1)\n",
      "memory usage: 488.0+ bytes\n"
     ]
    }
   ],
   "source": [
    "display(hypothesis.head(5))\n",
    "hypothesis.info()"
   ]
  },
  {
   "cell_type": "markdown",
   "metadata": {},
   "source": [
    "В таблице hypothesis данные полные."
   ]
  },
  {
   "cell_type": "code",
   "execution_count": 4,
   "metadata": {},
   "outputs": [
    {
     "data": {
      "text/html": [
       "<div>\n",
       "<style scoped>\n",
       "    .dataframe tbody tr th:only-of-type {\n",
       "        vertical-align: middle;\n",
       "    }\n",
       "\n",
       "    .dataframe tbody tr th {\n",
       "        vertical-align: top;\n",
       "    }\n",
       "\n",
       "    .dataframe thead th {\n",
       "        text-align: right;\n",
       "    }\n",
       "</style>\n",
       "<table border=\"1\" class=\"dataframe\">\n",
       "  <thead>\n",
       "    <tr style=\"text-align: right;\">\n",
       "      <th></th>\n",
       "      <th>transactionId</th>\n",
       "      <th>visitorId</th>\n",
       "      <th>date</th>\n",
       "      <th>revenue</th>\n",
       "      <th>group</th>\n",
       "    </tr>\n",
       "  </thead>\n",
       "  <tbody>\n",
       "    <tr>\n",
       "      <th>0</th>\n",
       "      <td>3667963787</td>\n",
       "      <td>3312258926</td>\n",
       "      <td>2019-08-15</td>\n",
       "      <td>1650</td>\n",
       "      <td>B</td>\n",
       "    </tr>\n",
       "    <tr>\n",
       "      <th>1</th>\n",
       "      <td>2804400009</td>\n",
       "      <td>3642806036</td>\n",
       "      <td>2019-08-15</td>\n",
       "      <td>730</td>\n",
       "      <td>B</td>\n",
       "    </tr>\n",
       "    <tr>\n",
       "      <th>2</th>\n",
       "      <td>2961555356</td>\n",
       "      <td>4069496402</td>\n",
       "      <td>2019-08-15</td>\n",
       "      <td>400</td>\n",
       "      <td>A</td>\n",
       "    </tr>\n",
       "    <tr>\n",
       "      <th>3</th>\n",
       "      <td>3797467345</td>\n",
       "      <td>1196621759</td>\n",
       "      <td>2019-08-15</td>\n",
       "      <td>9759</td>\n",
       "      <td>B</td>\n",
       "    </tr>\n",
       "    <tr>\n",
       "      <th>4</th>\n",
       "      <td>2282983706</td>\n",
       "      <td>2322279887</td>\n",
       "      <td>2019-08-15</td>\n",
       "      <td>2308</td>\n",
       "      <td>B</td>\n",
       "    </tr>\n",
       "  </tbody>\n",
       "</table>\n",
       "</div>"
      ],
      "text/plain": [
       "   transactionId   visitorId        date  revenue group\n",
       "0     3667963787  3312258926  2019-08-15     1650     B\n",
       "1     2804400009  3642806036  2019-08-15      730     B\n",
       "2     2961555356  4069496402  2019-08-15      400     A\n",
       "3     3797467345  1196621759  2019-08-15     9759     B\n",
       "4     2282983706  2322279887  2019-08-15     2308     B"
      ]
     },
     "metadata": {},
     "output_type": "display_data"
    },
    {
     "name": "stdout",
     "output_type": "stream",
     "text": [
      "<class 'pandas.core.frame.DataFrame'>\n",
      "RangeIndex: 1197 entries, 0 to 1196\n",
      "Data columns (total 5 columns):\n",
      " #   Column         Non-Null Count  Dtype \n",
      "---  ------         --------------  ----- \n",
      " 0   transactionId  1197 non-null   int64 \n",
      " 1   visitorId      1197 non-null   int64 \n",
      " 2   date           1197 non-null   object\n",
      " 3   revenue        1197 non-null   int64 \n",
      " 4   group          1197 non-null   object\n",
      "dtypes: int64(3), object(2)\n",
      "memory usage: 46.9+ KB\n"
     ]
    }
   ],
   "source": [
    "display(orders.head(5))\n",
    "orders.info()\n"
   ]
  },
  {
   "cell_type": "markdown",
   "metadata": {},
   "source": [
    "В таблице orders данные полные, некорректно указан тип данных для колонки 'date'. В данной колонке указаны дата, а значит тип object некорректный. В дальнейшем изменим его."
   ]
  },
  {
   "cell_type": "code",
   "execution_count": 5,
   "metadata": {},
   "outputs": [
    {
     "data": {
      "text/html": [
       "<div>\n",
       "<style scoped>\n",
       "    .dataframe tbody tr th:only-of-type {\n",
       "        vertical-align: middle;\n",
       "    }\n",
       "\n",
       "    .dataframe tbody tr th {\n",
       "        vertical-align: top;\n",
       "    }\n",
       "\n",
       "    .dataframe thead th {\n",
       "        text-align: right;\n",
       "    }\n",
       "</style>\n",
       "<table border=\"1\" class=\"dataframe\">\n",
       "  <thead>\n",
       "    <tr style=\"text-align: right;\">\n",
       "      <th></th>\n",
       "      <th>date</th>\n",
       "      <th>group</th>\n",
       "      <th>visitors</th>\n",
       "    </tr>\n",
       "  </thead>\n",
       "  <tbody>\n",
       "    <tr>\n",
       "      <th>0</th>\n",
       "      <td>2019-08-01</td>\n",
       "      <td>A</td>\n",
       "      <td>719</td>\n",
       "    </tr>\n",
       "    <tr>\n",
       "      <th>1</th>\n",
       "      <td>2019-08-02</td>\n",
       "      <td>A</td>\n",
       "      <td>619</td>\n",
       "    </tr>\n",
       "    <tr>\n",
       "      <th>2</th>\n",
       "      <td>2019-08-03</td>\n",
       "      <td>A</td>\n",
       "      <td>507</td>\n",
       "    </tr>\n",
       "    <tr>\n",
       "      <th>3</th>\n",
       "      <td>2019-08-04</td>\n",
       "      <td>A</td>\n",
       "      <td>717</td>\n",
       "    </tr>\n",
       "    <tr>\n",
       "      <th>4</th>\n",
       "      <td>2019-08-05</td>\n",
       "      <td>A</td>\n",
       "      <td>756</td>\n",
       "    </tr>\n",
       "  </tbody>\n",
       "</table>\n",
       "</div>"
      ],
      "text/plain": [
       "         date group  visitors\n",
       "0  2019-08-01     A       719\n",
       "1  2019-08-02     A       619\n",
       "2  2019-08-03     A       507\n",
       "3  2019-08-04     A       717\n",
       "4  2019-08-05     A       756"
      ]
     },
     "metadata": {},
     "output_type": "display_data"
    },
    {
     "name": "stdout",
     "output_type": "stream",
     "text": [
      "<class 'pandas.core.frame.DataFrame'>\n",
      "RangeIndex: 62 entries, 0 to 61\n",
      "Data columns (total 3 columns):\n",
      " #   Column    Non-Null Count  Dtype \n",
      "---  ------    --------------  ----- \n",
      " 0   date      62 non-null     object\n",
      " 1   group     62 non-null     object\n",
      " 2   visitors  62 non-null     int64 \n",
      "dtypes: int64(1), object(2)\n",
      "memory usage: 1.6+ KB\n"
     ]
    }
   ],
   "source": [
    "display(visitors.head(5))\n",
    "visitors.info()"
   ]
  },
  {
   "cell_type": "markdown",
   "metadata": {},
   "source": [
    "В таблице visitors данные полные, некорректно указан тип данных для колонки 'date'. В данной колонке указаны даты, а значит тип object некорректный. В дальнейшем изменим его."
   ]
  },
  {
   "cell_type": "markdown",
   "metadata": {},
   "source": [
    "Проверим наличие дубликатов в таблицах"
   ]
  },
  {
   "cell_type": "code",
   "execution_count": 6,
   "metadata": {},
   "outputs": [
    {
     "name": "stdout",
     "output_type": "stream",
     "text": [
      "0\n",
      "0\n",
      "0\n"
     ]
    }
   ],
   "source": [
    "print(visitors.duplicated().sum())\n",
    "print(orders.duplicated().sum())\n",
    "print(hypothesis.duplicated().sum())"
   ]
  },
  {
   "cell_type": "markdown",
   "metadata": {},
   "source": [
    "В данных нет дубликатов."
   ]
  },
  {
   "cell_type": "markdown",
   "metadata": {},
   "source": [
    "Проверим наличие пропущенных значений в таблицах."
   ]
  },
  {
   "cell_type": "code",
   "execution_count": 7,
   "metadata": {},
   "outputs": [
    {
     "name": "stdout",
     "output_type": "stream",
     "text": [
      "date        0\n",
      "group       0\n",
      "visitors    0\n",
      "dtype: int64\n",
      "transactionId    0\n",
      "visitorId        0\n",
      "date             0\n",
      "revenue          0\n",
      "group            0\n",
      "dtype: int64\n",
      "Hypothesis    0\n",
      "Reach         0\n",
      "Impact        0\n",
      "Confidence    0\n",
      "Efforts       0\n",
      "dtype: int64\n"
     ]
    }
   ],
   "source": [
    "print(visitors.isna().sum())\n",
    "print(orders.isna().sum())\n",
    "print(hypothesis.isna().sum())"
   ]
  },
  {
   "cell_type": "markdown",
   "metadata": {},
   "source": [
    "Пропущенных значений в данных нет."
   ]
  },
  {
   "cell_type": "markdown",
   "metadata": {},
   "source": [
    "Приведем данные к соответсвующему типу (даты)"
   ]
  },
  {
   "cell_type": "code",
   "execution_count": 8,
   "metadata": {},
   "outputs": [],
   "source": [
    "orders['date'] = orders['date'].map(\n",
    "    lambda x: dt.datetime.strptime(x, '%Y-%m-%d')\n",
    ")"
   ]
  },
  {
   "cell_type": "code",
   "execution_count": 9,
   "metadata": {},
   "outputs": [],
   "source": [
    "visitors['date'] = visitors['date'].map(\n",
    "    lambda x: dt.datetime.strptime(x, '%Y-%m-%d')\n",
    ")"
   ]
  },
  {
   "cell_type": "markdown",
   "metadata": {},
   "source": [
    "Просмотрим количество групп, выясним есть ли совпадения по группам( данная информация понадобится нам для проведения А/В эксперемента)"
   ]
  },
  {
   "cell_type": "markdown",
   "metadata": {},
   "source": [
    "Просмотри количество групп:"
   ]
  },
  {
   "cell_type": "code",
   "execution_count": 10,
   "metadata": {},
   "outputs": [
    {
     "data": {
      "text/plain": [
       "B    31\n",
       "A    31\n",
       "Name: group, dtype: int64"
      ]
     },
     "execution_count": 10,
     "metadata": {},
     "output_type": "execute_result"
    }
   ],
   "source": [
    "visitors['group'].value_counts()"
   ]
  },
  {
   "cell_type": "markdown",
   "metadata": {},
   "source": [
    "Проверим группы на наличие одинаковых пользователей в группе:"
   ]
  },
  {
   "cell_type": "code",
   "execution_count": 11,
   "metadata": {},
   "outputs": [
    {
     "name": "stdout",
     "output_type": "stream",
     "text": [
      "Количество пользователей в двух группах: 58\n",
      "Всего пользователей в тесте: 1031\n"
     ]
    }
   ],
   "source": [
    "group_a = orders[orders['group'] == 'A']['visitorId']\n",
    "group_b = orders[orders['group'] == 'B']['visitorId']\n",
    "orders_ab = orders.query('visitorId in @group_a and visitorId in @group_b')\n",
    "print('Количество пользователей в двух группах:', orders_ab['visitorId'].nunique())\n",
    "print('Всего пользователей в тесте:', orders['visitorId'].nunique())"
   ]
  },
  {
   "cell_type": "markdown",
   "metadata": {},
   "source": [
    "Выясним процент пользователей из двух групп от общего количества:"
   ]
  },
  {
   "cell_type": "code",
   "execution_count": 12,
   "metadata": {},
   "outputs": [
    {
     "name": "stdout",
     "output_type": "stream",
     "text": [
      "Процент пользователей из двух групп от общего количества 5.625606207565471\n"
     ]
    }
   ],
   "source": [
    "percent_ab=orders_ab['visitorId'].nunique()/orders['visitorId'].nunique()*100\n",
    "print('Процент пользователей из двух групп от общего количества', percent_ab)"
   ]
  },
  {
   "cell_type": "markdown",
   "metadata": {},
   "source": [
    "Выясним информацию о заказах пользователей"
   ]
  },
  {
   "cell_type": "code",
   "execution_count": 13,
   "metadata": {},
   "outputs": [
    {
     "data": {
      "text/plain": [
       "count      181.000000\n",
       "mean      8612.900552\n",
       "std      14161.550845\n",
       "min         50.000000\n",
       "25%       1530.000000\n",
       "50%       3460.000000\n",
       "75%       8439.000000\n",
       "max      93940.000000\n",
       "Name: revenue, dtype: float64"
      ]
     },
     "execution_count": 13,
     "metadata": {},
     "output_type": "execute_result"
    }
   ],
   "source": [
    "orders_ab['revenue'].describe()"
   ]
  },
  {
   "cell_type": "markdown",
   "metadata": {},
   "source": [
    "Сделаем таблицу с пользователями и суммой их заказов"
   ]
  },
  {
   "cell_type": "code",
   "execution_count": 14,
   "metadata": {},
   "outputs": [
    {
     "data": {
      "text/html": [
       "<div>\n",
       "<style scoped>\n",
       "    .dataframe tbody tr th:only-of-type {\n",
       "        vertical-align: middle;\n",
       "    }\n",
       "\n",
       "    .dataframe tbody tr th {\n",
       "        vertical-align: top;\n",
       "    }\n",
       "\n",
       "    .dataframe thead th {\n",
       "        text-align: right;\n",
       "    }\n",
       "</style>\n",
       "<table border=\"1\" class=\"dataframe\">\n",
       "  <thead>\n",
       "    <tr style=\"text-align: right;\">\n",
       "      <th></th>\n",
       "      <th>transactionId</th>\n",
       "      <th>revenue</th>\n",
       "    </tr>\n",
       "    <tr>\n",
       "      <th>visitorId</th>\n",
       "      <th></th>\n",
       "      <th></th>\n",
       "    </tr>\n",
       "  </thead>\n",
       "  <tbody>\n",
       "    <tr>\n",
       "      <th>4256040402</th>\n",
       "      <td>11</td>\n",
       "      <td>176490</td>\n",
       "    </tr>\n",
       "    <tr>\n",
       "      <th>4266935830</th>\n",
       "      <td>2</td>\n",
       "      <td>157980</td>\n",
       "    </tr>\n",
       "    <tr>\n",
       "      <th>2378935119</th>\n",
       "      <td>9</td>\n",
       "      <td>142939</td>\n",
       "    </tr>\n",
       "    <tr>\n",
       "      <th>1316129916</th>\n",
       "      <td>2</td>\n",
       "      <td>94770</td>\n",
       "    </tr>\n",
       "    <tr>\n",
       "      <th>3062433592</th>\n",
       "      <td>5</td>\n",
       "      <td>75459</td>\n",
       "    </tr>\n",
       "    <tr>\n",
       "      <th>2458001652</th>\n",
       "      <td>11</td>\n",
       "      <td>62098</td>\n",
       "    </tr>\n",
       "    <tr>\n",
       "      <th>4120364173</th>\n",
       "      <td>2</td>\n",
       "      <td>55300</td>\n",
       "    </tr>\n",
       "    <tr>\n",
       "      <th>393266494</th>\n",
       "      <td>3</td>\n",
       "      <td>55290</td>\n",
       "    </tr>\n",
       "    <tr>\n",
       "      <th>3984495233</th>\n",
       "      <td>3</td>\n",
       "      <td>54933</td>\n",
       "    </tr>\n",
       "    <tr>\n",
       "      <th>2686716486</th>\n",
       "      <td>2</td>\n",
       "      <td>45300</td>\n",
       "    </tr>\n",
       "    <tr>\n",
       "      <th>1404934699</th>\n",
       "      <td>3</td>\n",
       "      <td>43960</td>\n",
       "    </tr>\n",
       "    <tr>\n",
       "      <th>4186807279</th>\n",
       "      <td>3</td>\n",
       "      <td>37290</td>\n",
       "    </tr>\n",
       "    <tr>\n",
       "      <th>3951559397</th>\n",
       "      <td>2</td>\n",
       "      <td>33480</td>\n",
       "    </tr>\n",
       "    <tr>\n",
       "      <th>1959144690</th>\n",
       "      <td>2</td>\n",
       "      <td>32960</td>\n",
       "    </tr>\n",
       "    <tr>\n",
       "      <th>1230306981</th>\n",
       "      <td>5</td>\n",
       "      <td>31280</td>\n",
       "    </tr>\n",
       "    <tr>\n",
       "      <th>1294878855</th>\n",
       "      <td>3</td>\n",
       "      <td>31040</td>\n",
       "    </tr>\n",
       "    <tr>\n",
       "      <th>2927087541</th>\n",
       "      <td>2</td>\n",
       "      <td>29740</td>\n",
       "    </tr>\n",
       "    <tr>\n",
       "      <th>471551937</th>\n",
       "      <td>2</td>\n",
       "      <td>26410</td>\n",
       "    </tr>\n",
       "    <tr>\n",
       "      <th>199603092</th>\n",
       "      <td>5</td>\n",
       "      <td>23180</td>\n",
       "    </tr>\n",
       "    <tr>\n",
       "      <th>2587333274</th>\n",
       "      <td>4</td>\n",
       "      <td>22240</td>\n",
       "    </tr>\n",
       "    <tr>\n",
       "      <th>2579882178</th>\n",
       "      <td>2</td>\n",
       "      <td>21460</td>\n",
       "    </tr>\n",
       "    <tr>\n",
       "      <th>351125977</th>\n",
       "      <td>2</td>\n",
       "      <td>19670</td>\n",
       "    </tr>\n",
       "    <tr>\n",
       "      <th>276558944</th>\n",
       "      <td>2</td>\n",
       "      <td>17400</td>\n",
       "    </tr>\n",
       "    <tr>\n",
       "      <th>3972127743</th>\n",
       "      <td>2</td>\n",
       "      <td>16840</td>\n",
       "    </tr>\n",
       "    <tr>\n",
       "      <th>2038680547</th>\n",
       "      <td>8</td>\n",
       "      <td>15470</td>\n",
       "    </tr>\n",
       "    <tr>\n",
       "      <th>3234906277</th>\n",
       "      <td>2</td>\n",
       "      <td>15110</td>\n",
       "    </tr>\n",
       "    <tr>\n",
       "      <th>3963646447</th>\n",
       "      <td>2</td>\n",
       "      <td>13870</td>\n",
       "    </tr>\n",
       "    <tr>\n",
       "      <th>2954449915</th>\n",
       "      <td>2</td>\n",
       "      <td>13861</td>\n",
       "    </tr>\n",
       "    <tr>\n",
       "      <th>8300375</th>\n",
       "      <td>2</td>\n",
       "      <td>12300</td>\n",
       "    </tr>\n",
       "    <tr>\n",
       "      <th>1614305549</th>\n",
       "      <td>4</td>\n",
       "      <td>12060</td>\n",
       "    </tr>\n",
       "    <tr>\n",
       "      <th>3717692402</th>\n",
       "      <td>5</td>\n",
       "      <td>11420</td>\n",
       "    </tr>\n",
       "    <tr>\n",
       "      <th>3803269165</th>\n",
       "      <td>5</td>\n",
       "      <td>11053</td>\n",
       "    </tr>\n",
       "    <tr>\n",
       "      <th>477780734</th>\n",
       "      <td>2</td>\n",
       "      <td>10950</td>\n",
       "    </tr>\n",
       "    <tr>\n",
       "      <th>237748145</th>\n",
       "      <td>5</td>\n",
       "      <td>10810</td>\n",
       "    </tr>\n",
       "    <tr>\n",
       "      <th>2949041841</th>\n",
       "      <td>2</td>\n",
       "      <td>10570</td>\n",
       "    </tr>\n",
       "    <tr>\n",
       "      <th>2716752286</th>\n",
       "      <td>2</td>\n",
       "      <td>10210</td>\n",
       "    </tr>\n",
       "    <tr>\n",
       "      <th>457167155</th>\n",
       "      <td>4</td>\n",
       "      <td>9857</td>\n",
       "    </tr>\n",
       "    <tr>\n",
       "      <th>2044997962</th>\n",
       "      <td>3</td>\n",
       "      <td>9620</td>\n",
       "    </tr>\n",
       "    <tr>\n",
       "      <th>1668030113</th>\n",
       "      <td>3</td>\n",
       "      <td>8960</td>\n",
       "    </tr>\n",
       "    <tr>\n",
       "      <th>1602967004</th>\n",
       "      <td>2</td>\n",
       "      <td>8780</td>\n",
       "    </tr>\n",
       "    <tr>\n",
       "      <th>3202540741</th>\n",
       "      <td>2</td>\n",
       "      <td>8600</td>\n",
       "    </tr>\n",
       "    <tr>\n",
       "      <th>3891541246</th>\n",
       "      <td>3</td>\n",
       "      <td>6490</td>\n",
       "    </tr>\n",
       "    <tr>\n",
       "      <th>1738359350</th>\n",
       "      <td>3</td>\n",
       "      <td>5960</td>\n",
       "    </tr>\n",
       "    <tr>\n",
       "      <th>963407295</th>\n",
       "      <td>2</td>\n",
       "      <td>5240</td>\n",
       "    </tr>\n",
       "    <tr>\n",
       "      <th>3957174400</th>\n",
       "      <td>2</td>\n",
       "      <td>4960</td>\n",
       "    </tr>\n",
       "    <tr>\n",
       "      <th>1333886533</th>\n",
       "      <td>2</td>\n",
       "      <td>4410</td>\n",
       "    </tr>\n",
       "    <tr>\n",
       "      <th>2600415354</th>\n",
       "      <td>2</td>\n",
       "      <td>4320</td>\n",
       "    </tr>\n",
       "    <tr>\n",
       "      <th>2654030115</th>\n",
       "      <td>2</td>\n",
       "      <td>3960</td>\n",
       "    </tr>\n",
       "    <tr>\n",
       "      <th>818047933</th>\n",
       "      <td>2</td>\n",
       "      <td>3860</td>\n",
       "    </tr>\n",
       "    <tr>\n",
       "      <th>2780786433</th>\n",
       "      <td>3</td>\n",
       "      <td>3320</td>\n",
       "    </tr>\n",
       "    <tr>\n",
       "      <th>2712142231</th>\n",
       "      <td>2</td>\n",
       "      <td>3280</td>\n",
       "    </tr>\n",
       "    <tr>\n",
       "      <th>3656415546</th>\n",
       "      <td>2</td>\n",
       "      <td>3095</td>\n",
       "    </tr>\n",
       "    <tr>\n",
       "      <th>232979603</th>\n",
       "      <td>2</td>\n",
       "      <td>2700</td>\n",
       "    </tr>\n",
       "    <tr>\n",
       "      <th>3941795274</th>\n",
       "      <td>2</td>\n",
       "      <td>2310</td>\n",
       "    </tr>\n",
       "    <tr>\n",
       "      <th>3766097110</th>\n",
       "      <td>2</td>\n",
       "      <td>1340</td>\n",
       "    </tr>\n",
       "    <tr>\n",
       "      <th>1648269707</th>\n",
       "      <td>2</td>\n",
       "      <td>1150</td>\n",
       "    </tr>\n",
       "    <tr>\n",
       "      <th>4069496402</th>\n",
       "      <td>2</td>\n",
       "      <td>1040</td>\n",
       "    </tr>\n",
       "    <tr>\n",
       "      <th>1801183820</th>\n",
       "      <td>2</td>\n",
       "      <td>490</td>\n",
       "    </tr>\n",
       "  </tbody>\n",
       "</table>\n",
       "</div>"
      ],
      "text/plain": [
       "            transactionId  revenue\n",
       "visitorId                         \n",
       "4256040402             11   176490\n",
       "4266935830              2   157980\n",
       "2378935119              9   142939\n",
       "1316129916              2    94770\n",
       "3062433592              5    75459\n",
       "2458001652             11    62098\n",
       "4120364173              2    55300\n",
       "393266494               3    55290\n",
       "3984495233              3    54933\n",
       "2686716486              2    45300\n",
       "1404934699              3    43960\n",
       "4186807279              3    37290\n",
       "3951559397              2    33480\n",
       "1959144690              2    32960\n",
       "1230306981              5    31280\n",
       "1294878855              3    31040\n",
       "2927087541              2    29740\n",
       "471551937               2    26410\n",
       "199603092               5    23180\n",
       "2587333274              4    22240\n",
       "2579882178              2    21460\n",
       "351125977               2    19670\n",
       "276558944               2    17400\n",
       "3972127743              2    16840\n",
       "2038680547              8    15470\n",
       "3234906277              2    15110\n",
       "3963646447              2    13870\n",
       "2954449915              2    13861\n",
       "8300375                 2    12300\n",
       "1614305549              4    12060\n",
       "3717692402              5    11420\n",
       "3803269165              5    11053\n",
       "477780734               2    10950\n",
       "237748145               5    10810\n",
       "2949041841              2    10570\n",
       "2716752286              2    10210\n",
       "457167155               4     9857\n",
       "2044997962              3     9620\n",
       "1668030113              3     8960\n",
       "1602967004              2     8780\n",
       "3202540741              2     8600\n",
       "3891541246              3     6490\n",
       "1738359350              3     5960\n",
       "963407295               2     5240\n",
       "3957174400              2     4960\n",
       "1333886533              2     4410\n",
       "2600415354              2     4320\n",
       "2654030115              2     3960\n",
       "818047933               2     3860\n",
       "2780786433              3     3320\n",
       "2712142231              2     3280\n",
       "3656415546              2     3095\n",
       "232979603               2     2700\n",
       "3941795274              2     2310\n",
       "3766097110              2     1340\n",
       "1648269707              2     1150\n",
       "4069496402              2     1040\n",
       "1801183820              2      490"
      ]
     },
     "execution_count": 14,
     "metadata": {},
     "output_type": "execute_result"
    }
   ],
   "source": [
    "orders_ab.groupby('visitorId').agg({'transactionId':'count', 'revenue':'sum'}).sort_values('revenue', ascending=False)"
   ]
  },
  {
   "cell_type": "markdown",
   "metadata": {},
   "source": [
    "Из анализа данных о группах пользователей и заказах мы получаем такие данные:\n",
    "\n",
    "- 58 пользователей одновременно присутствуют в двух группах.\n",
    "- Всего в таблице 1031 пользоватей\n",
    "- Всего данные пользователи сделали 181 заказ.\n",
    "- Средняя сумма заказа 8612.\n",
    "- Максимальная сумма заказа 93940.\n",
    "- Процент пользователей из групп А и В от общего числа пользователей 5,6%.\n",
    "\n",
    "Вывод: Процент пользователей из двух групп маленький, для дальнейшего корректного проведения теста А/В, очистим таблицу от этих пользователей.\n"
   ]
  },
  {
   "cell_type": "code",
   "execution_count": 15,
   "metadata": {},
   "outputs": [
    {
     "name": "stdout",
     "output_type": "stream",
     "text": [
      "Всего пользователей в тесте осталось: 973\n"
     ]
    }
   ],
   "source": [
    "orders = orders.query('visitorId not in @orders_ab[\"visitorId\"]')\n",
    "print('Всего пользователей в тесте осталось:', orders['visitorId'].nunique())"
   ]
  },
  {
   "cell_type": "markdown",
   "metadata": {},
   "source": [
    "Общий вывод: \n",
    "\n",
    "-У нас имеются три таблицы с данными (visitors,hypothesis, orders).\n",
    "\n",
    "-Дубликатов и пропусков в данных нет.\n",
    "\n",
    "-Типы данных приведены к корректному формату.\n",
    "\n",
    "-Скорректированы данные по группам."
   ]
  },
  {
   "cell_type": "markdown",
   "metadata": {},
   "source": [
    "# 2 Приоритизация гипотез. (ICE и RICE)"
   ]
  },
  {
   "cell_type": "markdown",
   "metadata": {},
   "source": [
    "С помощью фреймворка Ice приоритезируем гипотезы. Отсортируйем их по убыванию приоритета."
   ]
  },
  {
   "cell_type": "code",
   "execution_count": 16,
   "metadata": {},
   "outputs": [
    {
     "data": {
      "text/html": [
       "<div>\n",
       "<style scoped>\n",
       "    .dataframe tbody tr th:only-of-type {\n",
       "        vertical-align: middle;\n",
       "    }\n",
       "\n",
       "    .dataframe tbody tr th {\n",
       "        vertical-align: top;\n",
       "    }\n",
       "\n",
       "    .dataframe thead th {\n",
       "        text-align: right;\n",
       "    }\n",
       "</style>\n",
       "<table border=\"1\" class=\"dataframe\">\n",
       "  <thead>\n",
       "    <tr style=\"text-align: right;\">\n",
       "      <th></th>\n",
       "      <th>Hypothesis</th>\n",
       "      <th>ICE</th>\n",
       "    </tr>\n",
       "  </thead>\n",
       "  <tbody>\n",
       "    <tr>\n",
       "      <th>8</th>\n",
       "      <td>Запустить акцию, дающую скидку на товар в день рождения</td>\n",
       "      <td>16.2</td>\n",
       "    </tr>\n",
       "    <tr>\n",
       "      <th>0</th>\n",
       "      <td>Добавить два новых канала привлечения трафика, что позволит привлекать на 30% больше пользователей</td>\n",
       "      <td>13.3</td>\n",
       "    </tr>\n",
       "    <tr>\n",
       "      <th>7</th>\n",
       "      <td>Добавить форму подписки на все основные страницы, чтобы собрать базу клиентов для email-рассылок</td>\n",
       "      <td>11.2</td>\n",
       "    </tr>\n",
       "    <tr>\n",
       "      <th>6</th>\n",
       "      <td>Показать на главной странице баннеры с актуальными акциями и распродажами, чтобы увеличить конверсию</td>\n",
       "      <td>8.0</td>\n",
       "    </tr>\n",
       "    <tr>\n",
       "      <th>2</th>\n",
       "      <td>Добавить блоки рекомендаций товаров на сайт интернет магазина, чтобы повысить конверсию и средний чек заказа</td>\n",
       "      <td>7.0</td>\n",
       "    </tr>\n",
       "    <tr>\n",
       "      <th>1</th>\n",
       "      <td>Запустить собственную службу доставки, что сократит срок доставки заказов</td>\n",
       "      <td>2.0</td>\n",
       "    </tr>\n",
       "    <tr>\n",
       "      <th>5</th>\n",
       "      <td>Добавить страницу отзывов клиентов о магазине, что позволит увеличить количество заказов</td>\n",
       "      <td>1.3</td>\n",
       "    </tr>\n",
       "    <tr>\n",
       "      <th>3</th>\n",
       "      <td>Изменить структура категорий, что увеличит конверсию, т.к. пользователи быстрее найдут нужный товар</td>\n",
       "      <td>1.1</td>\n",
       "    </tr>\n",
       "    <tr>\n",
       "      <th>4</th>\n",
       "      <td>Изменить цвет фона главной страницы, чтобы увеличить вовлеченность пользователей</td>\n",
       "      <td>1.0</td>\n",
       "    </tr>\n",
       "  </tbody>\n",
       "</table>\n",
       "</div>"
      ],
      "text/plain": [
       "                                                                                                     Hypothesis  \\\n",
       "8                                                       Запустить акцию, дающую скидку на товар в день рождения   \n",
       "0            Добавить два новых канала привлечения трафика, что позволит привлекать на 30% больше пользователей   \n",
       "7              Добавить форму подписки на все основные страницы, чтобы собрать базу клиентов для email-рассылок   \n",
       "6          Показать на главной странице баннеры с актуальными акциями и распродажами, чтобы увеличить конверсию   \n",
       "2  Добавить блоки рекомендаций товаров на сайт интернет магазина, чтобы повысить конверсию и средний чек заказа   \n",
       "1                                     Запустить собственную службу доставки, что сократит срок доставки заказов   \n",
       "5                      Добавить страницу отзывов клиентов о магазине, что позволит увеличить количество заказов   \n",
       "3           Изменить структура категорий, что увеличит конверсию, т.к. пользователи быстрее найдут нужный товар   \n",
       "4                              Изменить цвет фона главной страницы, чтобы увеличить вовлеченность пользователей   \n",
       "\n",
       "    ICE  \n",
       "8  16.2  \n",
       "0  13.3  \n",
       "7  11.2  \n",
       "6   8.0  \n",
       "2   7.0  \n",
       "1   2.0  \n",
       "5   1.3  \n",
       "3   1.1  \n",
       "4   1.0  "
      ]
     },
     "metadata": {},
     "output_type": "display_data"
    }
   ],
   "source": [
    "pd.set_option('display.max_colwidth', 500)\n",
    "hypothesis['ICE'] = round((hypothesis['Impact']*hypothesis['Confidence'])/hypothesis['Efforts'],1)\n",
    "display(hypothesis[['Hypothesis','ICE']].sort_values(by='ICE', ascending=False))"
   ]
  },
  {
   "cell_type": "markdown",
   "metadata": {},
   "source": [
    "<div class=\"alert alert-block alert-warning\">\n",
    "<b>Комментарий ревьюера v1:</b>\n",
    "    \n",
    "Можно для красоты округлить значение ICE."
   ]
  },
  {
   "cell_type": "markdown",
   "metadata": {},
   "source": [
    "<div class=\"alert alert-info\"> <b>Исправлено\n",
    "    </b> </div>\n"
   ]
  },
  {
   "cell_type": "markdown",
   "metadata": {},
   "source": [
    "При приоретизации с помощью ICE топ-3 гипотезы: \n",
    "\n",
    "1) Запустить акцию, дающую скидку на товар в день рождения\t\n",
    "\n",
    "2) Добавить два новых канала привлечения трафика, что позволит привлекать на 30% больше пользователей\t \n",
    "\n",
    "3) Добавить форму подписки на все основные страницы, чтобы собрать базу клиентов для email-рассылок"
   ]
  },
  {
   "cell_type": "markdown",
   "metadata": {},
   "source": [
    "С помощью фреймворка RICE приоритезируем гипотезы. Отсортируйем их по убыванию приоритета. "
   ]
  },
  {
   "cell_type": "code",
   "execution_count": 17,
   "metadata": {},
   "outputs": [
    {
     "data": {
      "text/html": [
       "<div>\n",
       "<style scoped>\n",
       "    .dataframe tbody tr th:only-of-type {\n",
       "        vertical-align: middle;\n",
       "    }\n",
       "\n",
       "    .dataframe tbody tr th {\n",
       "        vertical-align: top;\n",
       "    }\n",
       "\n",
       "    .dataframe thead th {\n",
       "        text-align: right;\n",
       "    }\n",
       "</style>\n",
       "<table border=\"1\" class=\"dataframe\">\n",
       "  <thead>\n",
       "    <tr style=\"text-align: right;\">\n",
       "      <th></th>\n",
       "      <th>RICE</th>\n",
       "      <th>Hypothesis</th>\n",
       "    </tr>\n",
       "  </thead>\n",
       "  <tbody>\n",
       "    <tr>\n",
       "      <th>7</th>\n",
       "      <td>112.0</td>\n",
       "      <td>Добавить форму подписки на все основные страницы, чтобы собрать базу клиентов для email-рассылок</td>\n",
       "    </tr>\n",
       "    <tr>\n",
       "      <th>2</th>\n",
       "      <td>56.0</td>\n",
       "      <td>Добавить блоки рекомендаций товаров на сайт интернет магазина, чтобы повысить конверсию и средний чек заказа</td>\n",
       "    </tr>\n",
       "    <tr>\n",
       "      <th>0</th>\n",
       "      <td>40.0</td>\n",
       "      <td>Добавить два новых канала привлечения трафика, что позволит привлекать на 30% больше пользователей</td>\n",
       "    </tr>\n",
       "    <tr>\n",
       "      <th>6</th>\n",
       "      <td>40.0</td>\n",
       "      <td>Показать на главной странице баннеры с актуальными акциями и распродажами, чтобы увеличить конверсию</td>\n",
       "    </tr>\n",
       "    <tr>\n",
       "      <th>8</th>\n",
       "      <td>16.2</td>\n",
       "      <td>Запустить акцию, дающую скидку на товар в день рождения</td>\n",
       "    </tr>\n",
       "    <tr>\n",
       "      <th>3</th>\n",
       "      <td>9.0</td>\n",
       "      <td>Изменить структура категорий, что увеличит конверсию, т.к. пользователи быстрее найдут нужный товар</td>\n",
       "    </tr>\n",
       "    <tr>\n",
       "      <th>1</th>\n",
       "      <td>4.0</td>\n",
       "      <td>Запустить собственную службу доставки, что сократит срок доставки заказов</td>\n",
       "    </tr>\n",
       "    <tr>\n",
       "      <th>5</th>\n",
       "      <td>4.0</td>\n",
       "      <td>Добавить страницу отзывов клиентов о магазине, что позволит увеличить количество заказов</td>\n",
       "    </tr>\n",
       "    <tr>\n",
       "      <th>4</th>\n",
       "      <td>3.0</td>\n",
       "      <td>Изменить цвет фона главной страницы, чтобы увеличить вовлеченность пользователей</td>\n",
       "    </tr>\n",
       "  </tbody>\n",
       "</table>\n",
       "</div>"
      ],
      "text/plain": [
       "    RICE  \\\n",
       "7  112.0   \n",
       "2   56.0   \n",
       "0   40.0   \n",
       "6   40.0   \n",
       "8   16.2   \n",
       "3    9.0   \n",
       "1    4.0   \n",
       "5    4.0   \n",
       "4    3.0   \n",
       "\n",
       "                                                                                                     Hypothesis  \n",
       "7              Добавить форму подписки на все основные страницы, чтобы собрать базу клиентов для email-рассылок  \n",
       "2  Добавить блоки рекомендаций товаров на сайт интернет магазина, чтобы повысить конверсию и средний чек заказа  \n",
       "0            Добавить два новых канала привлечения трафика, что позволит привлекать на 30% больше пользователей  \n",
       "6          Показать на главной странице баннеры с актуальными акциями и распродажами, чтобы увеличить конверсию  \n",
       "8                                                       Запустить акцию, дающую скидку на товар в день рождения  \n",
       "3           Изменить структура категорий, что увеличит конверсию, т.к. пользователи быстрее найдут нужный товар  \n",
       "1                                     Запустить собственную службу доставки, что сократит срок доставки заказов  \n",
       "5                      Добавить страницу отзывов клиентов о магазине, что позволит увеличить количество заказов  \n",
       "4                              Изменить цвет фона главной страницы, чтобы увеличить вовлеченность пользователей  "
      ]
     },
     "metadata": {},
     "output_type": "display_data"
    }
   ],
   "source": [
    "pd.set_option('display.max_colwidth', 500)\n",
    "hypothesis['RICE'] = (hypothesis['Reach']  *hypothesis['Impact'] * hypothesis['Confidence']) / hypothesis['Efforts']\n",
    "display(hypothesis[['RICE', 'Hypothesis']].sort_values(by='RICE', ascending=False))"
   ]
  },
  {
   "cell_type": "markdown",
   "metadata": {},
   "source": [
    "При приоретизации с пмощью RICE топ-3 гипотезы: \n",
    "\n",
    "1) Добавить форму подписки на все основные страницы, чтобы собрать базу клиентов для email-рассылок\n",
    "\n",
    "2) Добавить блоки рекомендаций товаров на сайт интернет магазина, чтобы повысить конверсию и средний чек заказа\t\n",
    "\n",
    "3) Добавить два новых канала привлечения трафика, что позволит привлекать на 30% больше пользователей"
   ]
  },
  {
   "cell_type": "markdown",
   "metadata": {},
   "source": [
    "Общий вывод:  \n",
    "Наиболее перспективные гипотезы (ICE): 8, 0, 7. При расчете RICE порядок приоритетности изменился, наиболее перспективными оказались: 7, 2, 0, так как при расчете RICE учитываем как много пользователей затронет гипотеза."
   ]
  },
  {
   "cell_type": "markdown",
   "metadata": {},
   "source": [
    "# Анализ A/B-теста"
   ]
  },
  {
   "cell_type": "markdown",
   "metadata": {},
   "source": [
    "Построение графика кумулятивной выручки по группам.Выводы и предположения."
   ]
  },
  {
   "cell_type": "markdown",
   "metadata": {},
   "source": [
    "Сбор данных."
   ]
  },
  {
   "cell_type": "code",
   "execution_count": 18,
   "metadata": {},
   "outputs": [
    {
     "data": {
      "text/html": [
       "<div>\n",
       "<style scoped>\n",
       "    .dataframe tbody tr th:only-of-type {\n",
       "        vertical-align: middle;\n",
       "    }\n",
       "\n",
       "    .dataframe tbody tr th {\n",
       "        vertical-align: top;\n",
       "    }\n",
       "\n",
       "    .dataframe thead th {\n",
       "        text-align: right;\n",
       "    }\n",
       "</style>\n",
       "<table border=\"1\" class=\"dataframe\">\n",
       "  <thead>\n",
       "    <tr style=\"text-align: right;\">\n",
       "      <th></th>\n",
       "      <th>date</th>\n",
       "      <th>group</th>\n",
       "      <th>orders</th>\n",
       "      <th>buyers</th>\n",
       "      <th>revenue</th>\n",
       "      <th>visitors</th>\n",
       "    </tr>\n",
       "  </thead>\n",
       "  <tbody>\n",
       "    <tr>\n",
       "      <th>0</th>\n",
       "      <td>2019-08-01</td>\n",
       "      <td>A</td>\n",
       "      <td>23</td>\n",
       "      <td>19</td>\n",
       "      <td>142779</td>\n",
       "      <td>719</td>\n",
       "    </tr>\n",
       "    <tr>\n",
       "      <th>1</th>\n",
       "      <td>2019-08-01</td>\n",
       "      <td>B</td>\n",
       "      <td>17</td>\n",
       "      <td>17</td>\n",
       "      <td>59758</td>\n",
       "      <td>713</td>\n",
       "    </tr>\n",
       "    <tr>\n",
       "      <th>2</th>\n",
       "      <td>2019-08-02</td>\n",
       "      <td>A</td>\n",
       "      <td>42</td>\n",
       "      <td>36</td>\n",
       "      <td>234381</td>\n",
       "      <td>1338</td>\n",
       "    </tr>\n",
       "    <tr>\n",
       "      <th>3</th>\n",
       "      <td>2019-08-02</td>\n",
       "      <td>B</td>\n",
       "      <td>40</td>\n",
       "      <td>39</td>\n",
       "      <td>221801</td>\n",
       "      <td>1294</td>\n",
       "    </tr>\n",
       "    <tr>\n",
       "      <th>4</th>\n",
       "      <td>2019-08-03</td>\n",
       "      <td>A</td>\n",
       "      <td>66</td>\n",
       "      <td>60</td>\n",
       "      <td>346854</td>\n",
       "      <td>1845</td>\n",
       "    </tr>\n",
       "  </tbody>\n",
       "</table>\n",
       "</div>"
      ],
      "text/plain": [
       "        date group  orders  buyers  revenue  visitors\n",
       "0 2019-08-01     A      23      19   142779       719\n",
       "1 2019-08-01     B      17      17    59758       713\n",
       "2 2019-08-02     A      42      36   234381      1338\n",
       "3 2019-08-02     B      40      39   221801      1294\n",
       "4 2019-08-03     A      66      60   346854      1845"
      ]
     },
     "metadata": {},
     "output_type": "display_data"
    }
   ],
   "source": [
    "groupDate = orders[['date','group']].drop_duplicates() #Создаем датафрейм с уникальными значениями \"date\" и \"group\" таблицы orders.\n",
    "#Объявим пременную ordersAgg с датой, группой А/В теста, число уникальных пользователей,заказов и суммарную выручку поуказанную дату.\n",
    "ordersAgg = groupDate.apply(\n",
    "    lambda x: orders[np.logical_and(orders['date'] <= x['date'], orders['group'] == x['group'])].agg({\n",
    "'date' : 'max',\n",
    "'group' : 'max',\n",
    "'transactionId' : pd.Series.nunique,\n",
    "'visitorId' : pd.Series.nunique,\n",
    "'revenue' : 'sum'}), axis=1).sort_values(by=['date','group'])\n",
    "#Объявим переменную visitorsAgg с датой, группой А/В теста, количество уникальных посетителей  по указанную дату включительно.\n",
    "visitorsAgg = groupDate.apply(\n",
    "    lambda x: visitors[np.logical_and(visitors['date'] <= x['date'], visitors['group'] == x['group'])].agg({\n",
    "'date' : 'max',\n",
    "'group' : 'max',\n",
    "'visitors' : 'sum'}), axis=1).sort_values(by=['date','group'])\n",
    "#Определим переменную cumulativeData, объединив ordersAgg и visitorsAgg по колонкам 'date', 'group'\n",
    "cumulativeData = ordersAgg.merge(visitorsAgg, left_on=['date', 'group'], right_on=['date', 'group'])\n",
    "#Присвоим столбцам cumulativeData названия.\n",
    "cumulativeData.columns = ['date', 'group', 'orders', 'buyers', 'revenue', 'visitors']\n",
    "# Выведем полученную таблицу\n",
    "display(cumulativeData.head())"
   ]
  },
  {
   "cell_type": "markdown",
   "metadata": {},
   "source": [
    "Объявим переменные cumulativeRevenueA и cumulativeRevenueB, в которых сохраним данные о датах, выручке и числе заказов в группах A и B, затем построим график и сделаем вывод."
   ]
  },
  {
   "cell_type": "code",
   "execution_count": 19,
   "metadata": {},
   "outputs": [
    {
     "data": {
      "image/png": "[encoded data removed]",
      "text/plain": [
       "<Figure size 1080x360 with 1 Axes>"
      ]
     },
     "metadata": {
      "needs_background": "light"
     },
     "output_type": "display_data"
    }
   ],
   "source": [
    "cumulativeRevenueA = cumulativeData[cumulativeData['group']=='A'][['date','revenue', 'orders']]\n",
    "cumulativeRevenueB = cumulativeData[cumulativeData['group']=='B'][['date','revenue', 'orders']]\n",
    "\n",
    "plt.figure(figsize=(15,5))\n",
    "plt.plot(cumulativeRevenueA['date'], cumulativeRevenueA['revenue'], label='A')\n",
    "plt.plot(cumulativeRevenueB['date'], cumulativeRevenueB['revenue'], label='B')\n",
    "\n",
    "plt.title('График кумулятивной выручки по группам')\n",
    "plt.ylabel('Выручка')\n",
    "plt.xticks(rotation=45)\n",
    "plt.legend()\n",
    "plt.grid()\n",
    "plt.show()"
   ]
  },
  {
   "cell_type": "markdown",
   "metadata": {},
   "source": [
    "Вывод:\n",
    "\n",
    "С начала августа по середину (13.08) выручка растет практически одинаково в двух группах (в группе В чуть быстрее). 13 августа выручка одинаковая у двух групп. С 13 августа выручка в группе В начнает резко увеличиваться  по сравнению с А. Основной скачок происходит после 17 августа. Такой резкий скачок может говорить о вбросах.Можно предположить, что  сильный всплеск выручки в группе B 17 августа может быть связан с крупным(-ми) заказом(-ами). Если отбросить его, то по графикам можно предположить, что выручки росли примерно одинаково, но у группы В она все равно выше на протяжении всего месяца."
   ]
  },
  {
   "cell_type": "markdown",
   "metadata": {},
   "source": [
    "Построение графика кумулятивного среднего чека по группам. Выводы и предположения."
   ]
  },
  {
   "cell_type": "code",
   "execution_count": 20,
   "metadata": {},
   "outputs": [
    {
     "data": {
      "image/png": "[encoded data removed]",
      "text/plain": [
       "<Figure size 1080x360 with 1 Axes>"
      ]
     },
     "metadata": {
      "needs_background": "light"
     },
     "output_type": "display_data"
    }
   ],
   "source": [
    "plt.figure(figsize=(15,5))\n",
    "plt.plot(cumulativeRevenueA['date'], cumulativeRevenueA['revenue']/cumulativeRevenueA['orders'], label='A')\n",
    "plt.plot(cumulativeRevenueB['date'], cumulativeRevenueB['revenue']/cumulativeRevenueB['orders'], label='B')\n",
    "\n",
    "plt.title('График кумулятивного среднего чека по группам')\n",
    "plt.ylabel('Выручка')\n",
    "plt.xticks(rotation=45)\n",
    "plt.legend()\n",
    "plt.grid()\n",
    "plt.show()"
   ]
  },
  {
   "cell_type": "markdown",
   "metadata": {},
   "source": [
    "Вывод:\n",
    " Кумулятивное значение среднего чека по группам неравномерное. Есть резкие скачки и падения. 17 августа снова резкий скачок у группы В. Пердположительно крупные заказы. После 21 августа происходит постепенное снижение у группы В. Принимать решения по данной метрике рано и требуется анализ вбросов.\n",
    "  Кумулятивное значение среднего чека по группе А в основном находится на одном уровне. Не считая резкого скачка 5 августа."
   ]
  },
  {
   "cell_type": "markdown",
   "metadata": {},
   "source": [
    "Построение графика относительного изменения кумулятивного среднего чека группы B к группе A. Выводы и предположения."
   ]
  },
  {
   "cell_type": "code",
   "execution_count": 21,
   "metadata": {},
   "outputs": [
    {
     "data": {
      "image/png": "[encoded data removed]",
      "text/plain": [
       "<Figure size 1080x360 with 1 Axes>"
      ]
     },
     "metadata": {
      "needs_background": "light"
     },
     "output_type": "display_data"
    }
   ],
   "source": [
    "mergedCumulativeRevenue = cumulativeRevenueA.merge(\n",
    "    cumulativeRevenueB, left_on='date', right_on='date', how='left', suffixes=['A', 'B']\n",
    ")\n",
    "\n",
    "plt.figure(figsize=(15,5))\n",
    "plt.plot(mergedCumulativeRevenue['date'],\n",
    "         (mergedCumulativeRevenue['revenueB']/mergedCumulativeRevenue['ordersB'])/\n",
    "         (mergedCumulativeRevenue['revenueA']/mergedCumulativeRevenue['ordersA'])-1)\n",
    "\n",
    "plt.axhline(y=0, color='black', linestyle='--') \n",
    "\n",
    "plt.title('График относительного изменения кумулятивного среднего чека группы B к группе A')\n",
    "plt.xticks(rotation=45)\n",
    "plt.grid()\n",
    "plt.show()"
   ]
  },
  {
   "cell_type": "markdown",
   "metadata": {},
   "source": [
    "Вывод:\n",
    "\n",
    "Результаты теста резко меняются в период с 5.08 по 9.08, а также с 17.08. В эти периоды, предположительно, совершены аномальные заказы."
   ]
  },
  {
   "cell_type": "markdown",
   "metadata": {},
   "source": [
    "Построение графика кумулятивного среднего количества заказов на посетителя по группам.Выводы и предположения."
   ]
  },
  {
   "cell_type": "code",
   "execution_count": 22,
   "metadata": {},
   "outputs": [
    {
     "data": {
      "image/png": "[encoded data removed]",
      "text/plain": [
       "<Figure size 1080x360 with 1 Axes>"
      ]
     },
     "metadata": {
      "needs_background": "light"
     },
     "output_type": "display_data"
    }
   ],
   "source": [
    "cumulativeData['conversion'] = cumulativeData['orders']/cumulativeData['visitors'] #cоотношение числа заказов к количеству пользователей в указанной группе в указанный день\n",
    "\n",
    "#Переменные cumulativeDataA и cumulativeDataB, в которых сохраним данные о заказах в сегментах A и B соответственно\n",
    "cumulativeDataA = cumulativeData[cumulativeData['group']=='A']\n",
    "cumulativeDataB = cumulativeData[cumulativeData['group']=='B']\n",
    "\n",
    "plt.figure(figsize=(15,5))\n",
    "plt.plot(cumulativeDataA['date'], cumulativeDataA['conversion'], label='A')\n",
    "plt.plot(cumulativeDataB['date'], cumulativeDataB['conversion'], label='B')\n",
    "plt.title('График кумулятивной среднего количества заказов по группам')\n",
    "plt.ylabel('сonversion')\n",
    "plt.xticks(rotation=45)\n",
    "plt.legend()\n",
    "plt.grid()\n",
    "plt.show()"
   ]
  },
  {
   "cell_type": "markdown",
   "metadata": {},
   "source": [
    "В начале теста группа А имела больщую конверсию, затем начала снижатся в период с 05.08 по 13.08 и затем держиться до конца периода практически на одном уровне. У группы В на графике видна обратная ситуация и значения выше сегмента А. При этом преиоды резких скачков и удержания значений на одном уровне, у двух групп, практически одинаковая."
   ]
  },
  {
   "cell_type": "markdown",
   "metadata": {},
   "source": [
    "Построение графика относительного изменения кумулятивного среднего количества заказов на посетителя группы B к группе A. Выводы и предположения."
   ]
  },
  {
   "cell_type": "code",
   "execution_count": 23,
   "metadata": {},
   "outputs": [
    {
     "data": {
      "image/png": "[encoded data removed]",
      "text/plain": [
       "<Figure size 1080x360 with 1 Axes>"
      ]
     },
     "metadata": {
      "needs_background": "light"
     },
     "output_type": "display_data"
    }
   ],
   "source": [
    "mergedCumulativeConversions = cumulativeDataA[['date','conversion']].merge(\n",
    "    cumulativeDataB[['date','conversion']], left_on='date', right_on='date', how='left', suffixes=['A', 'B']\n",
    ") #Объединим таблицы cumulativeDataA и cumulativeDataB, cохраним в переменной mergedCumulativeConversions\n",
    "\n",
    "plt.figure(figsize=(15,5))\n",
    "plt.plot(\n",
    "    mergedCumulativeConversions['date'], mergedCumulativeConversions['conversionB']/\n",
    "    mergedCumulativeConversions['conversionA']-1)\n",
    "\n",
    "plt.axhline(y=0, color='black', linestyle='--')\n",
    "plt.axhline(y=0.15, color='red', linestyle='--')\n",
    "plt.title('График относительного изменения кумулятивного среднего количества заказов на посетителя группы B к группе A')\n",
    "plt.xticks(rotation=45)\n",
    "plt.grid()\n",
    "plt.show()\n"
   ]
  },
  {
   "cell_type": "markdown",
   "metadata": {},
   "source": [
    "Кумулятивное среднее количество заказов на посетителя группы B растет относительно группы А."
   ]
  },
  {
   "cell_type": "markdown",
   "metadata": {},
   "source": [
    "Построение точечного графика количества заказов по пользователям. Выводы и предположения."
   ]
  },
  {
   "cell_type": "markdown",
   "metadata": {},
   "source": [
    "Создадим таблицу по заказам"
   ]
  },
  {
   "cell_type": "code",
   "execution_count": 24,
   "metadata": {},
   "outputs": [
    {
     "data": {
      "text/html": [
       "<div>\n",
       "<style scoped>\n",
       "    .dataframe tbody tr th:only-of-type {\n",
       "        vertical-align: middle;\n",
       "    }\n",
       "\n",
       "    .dataframe tbody tr th {\n",
       "        vertical-align: top;\n",
       "    }\n",
       "\n",
       "    .dataframe thead th {\n",
       "        text-align: right;\n",
       "    }\n",
       "</style>\n",
       "<table border=\"1\" class=\"dataframe\">\n",
       "  <thead>\n",
       "    <tr style=\"text-align: right;\">\n",
       "      <th></th>\n",
       "      <th>visitorId</th>\n",
       "      <th>orders</th>\n",
       "    </tr>\n",
       "  </thead>\n",
       "  <tbody>\n",
       "    <tr>\n",
       "      <th>0</th>\n",
       "      <td>5114589</td>\n",
       "      <td>1</td>\n",
       "    </tr>\n",
       "    <tr>\n",
       "      <th>1</th>\n",
       "      <td>6958315</td>\n",
       "      <td>1</td>\n",
       "    </tr>\n",
       "    <tr>\n",
       "      <th>2</th>\n",
       "      <td>11685486</td>\n",
       "      <td>1</td>\n",
       "    </tr>\n",
       "    <tr>\n",
       "      <th>3</th>\n",
       "      <td>39475350</td>\n",
       "      <td>1</td>\n",
       "    </tr>\n",
       "    <tr>\n",
       "      <th>4</th>\n",
       "      <td>47206413</td>\n",
       "      <td>1</td>\n",
       "    </tr>\n",
       "  </tbody>\n",
       "</table>\n",
       "</div>"
      ],
      "text/plain": [
       "   visitorId  orders\n",
       "0    5114589       1\n",
       "1    6958315       1\n",
       "2   11685486       1\n",
       "3   39475350       1\n",
       "4   47206413       1"
      ]
     },
     "execution_count": 24,
     "metadata": {},
     "output_type": "execute_result"
    }
   ],
   "source": [
    "visitors_orders = orders.groupby(\n",
    "    'visitorId', as_index=False).agg({'transactionId':'nunique'}).rename(columns={'transactionId':'orders'}\n",
    ")\n",
    "visitors_orders.head()"
   ]
  },
  {
   "cell_type": "code",
   "execution_count": 25,
   "metadata": {},
   "outputs": [
    {
     "data": {
      "image/png": "[encoded data removed]",
      "text/plain": [
       "<Figure size 720x360 with 1 Axes>"
      ]
     },
     "metadata": {
      "needs_background": "light"
     },
     "output_type": "display_data"
    }
   ],
   "source": [
    "x_values = pd.Series(range(0,len(visitors_orders['orders'])))\n",
    "\n",
    "plt.figure(figsize=(10,5))\n",
    "plt.scatter(x_values, visitors_orders['orders'], alpha=0.3)\n",
    "plt.title('Точечный график количества заказов по пользователям')\n",
    "plt.xlabel('Число пользователей')\n",
    "plt.ylabel('Число заказов')\n",
    "plt.grid()\n",
    "plt.show()"
   ]
  },
  {
   "cell_type": "markdown",
   "metadata": {},
   "source": [
    "Вывод: В основном пользователи совершают заказ один раз. Меньше пользователей совершают заказ 2, 3 раза."
   ]
  },
  {
   "cell_type": "markdown",
   "metadata": {},
   "source": [
    "Расчет 95-й и 99-й перцентили количества заказов на пользователя. Выбор граници для определения аномальных пользователей."
   ]
  },
  {
   "cell_type": "markdown",
   "metadata": {},
   "source": [
    "Расчет перцентали:"
   ]
  },
  {
   "cell_type": "code",
   "execution_count": 26,
   "metadata": {},
   "outputs": [
    {
     "name": "stdout",
     "output_type": "stream",
     "text": [
      "90 перцентиль: [1.]\n",
      "95 перцентиль: [1.]\n",
      "99 перцентиль: [2.]\n"
     ]
    }
   ],
   "source": [
    "print('90 перцентиль:', (np.percentile(visitors_orders['orders'], [90])))\n",
    "print('95 перцентиль:', (np.percentile(visitors_orders['orders'], [95])))\n",
    "print('99 перцентиль:', (np.percentile(visitors_orders['orders'], [99])))"
   ]
  },
  {
   "cell_type": "markdown",
   "metadata": {},
   "source": [
    "Не более одного процента пользователей совершили более 2 заказов."
   ]
  },
  {
   "cell_type": "markdown",
   "metadata": {},
   "source": [
    "Выясним максимальное количество заказов."
   ]
  },
  {
   "cell_type": "code",
   "execution_count": 27,
   "metadata": {},
   "outputs": [
    {
     "name": "stdout",
     "output_type": "stream",
     "text": [
      "Максимальное количество заказов: 3\n"
     ]
    }
   ],
   "source": [
    "print('Максимальное количество заказов:', visitors_orders['orders'].max())"
   ]
  },
  {
   "cell_type": "markdown",
   "metadata": {},
   "source": [
    "Логично сделать максимальной границей по заказам - 2 заказа."
   ]
  },
  {
   "cell_type": "markdown",
   "metadata": {},
   "source": [
    "Количество пользователей за выбранной границей:"
   ]
  },
  {
   "cell_type": "code",
   "execution_count": 28,
   "metadata": {},
   "outputs": [
    {
     "data": {
      "text/plain": [
       "7"
      ]
     },
     "execution_count": 28,
     "metadata": {},
     "output_type": "execute_result"
    }
   ],
   "source": [
    "len(visitors_orders[visitors_orders['orders'] > 2]['visitorId'])"
   ]
  },
  {
   "cell_type": "markdown",
   "metadata": {},
   "source": [
    "Вывод: Максимальной границей по заказам следует выбрать 2 заказа."
   ]
  },
  {
   "cell_type": "markdown",
   "metadata": {},
   "source": [
    "Построение точечного графика стоимости заказов. Выводы и предположения."
   ]
  },
  {
   "cell_type": "code",
   "execution_count": 29,
   "metadata": {},
   "outputs": [
    {
     "data": {
      "image/png": "[encoded data removed]",
      "text/plain": [
       "<Figure size 720x360 with 1 Axes>"
      ]
     },
     "metadata": {
      "needs_background": "light"
     },
     "output_type": "display_data"
    },
    {
     "data": {
      "image/png": "[encoded data removed]",
      "text/plain": [
       "<Figure size 720x360 with 1 Axes>"
      ]
     },
     "metadata": {
      "needs_background": "light"
     },
     "output_type": "display_data"
    },
    {
     "data": {
      "image/png": "[encoded data removed]",
      "text/plain": [
       "<Figure size 720x360 with 1 Axes>"
      ]
     },
     "metadata": {
      "needs_background": "light"
     },
     "output_type": "display_data"
    }
   ],
   "source": [
    "x_values = pd.Series(range(0,len(orders['revenue'])))\n",
    "\n",
    "plt.figure(figsize=(10,5))\n",
    "plt.scatter(x_values, orders['revenue'], alpha=0.3)\n",
    "plt.title('Точечный график стоимости заказов')\n",
    "plt.xlabel('Число пользователей')\n",
    "plt.ylabel('Стоимость заказов')\n",
    "plt.grid()\n",
    "plt.show()\n",
    "\n",
    "plt.figure(figsize=(10,5))\n",
    "plt.scatter(x_values, orders['revenue'], alpha=0.3)\n",
    "plt.ylim(0, 210000)\n",
    "plt.xlabel('Число пользователей')\n",
    "plt.ylabel('Стоимость заказов')\n",
    "plt.grid()\n",
    "plt.show()\n",
    "\n",
    "plt.figure(figsize=(10,5))\n",
    "plt.scatter(x_values, orders['revenue'], alpha=0.3)\n",
    "plt.ylim(0, 100000)\n",
    "plt.xlabel('Число пользователей')\n",
    "plt.ylabel('Стоимость заказов')\n",
    "plt.grid()\n",
    "plt.show()"
   ]
  },
  {
   "cell_type": "markdown",
   "metadata": {},
   "source": [
    "На основном графике виден очевидный вброс на уровне 1.2 (слишком большая стоимость заказа). В основном все заказы сосредоточены до стоимости 100000. Возьмем для работы данные не превышающие этой стоимости."
   ]
  },
  {
   "cell_type": "markdown",
   "metadata": {},
   "source": [
    "Расчет 95-й и 99-й перцентили стоимости заказов. Выбор границы для определения аномальных заказов."
   ]
  },
  {
   "cell_type": "code",
   "execution_count": 30,
   "metadata": {},
   "outputs": [
    {
     "name": "stdout",
     "output_type": "stream",
     "text": [
      "90 перцентиль: [17990.]\n",
      "95 перцентиль: [26785.]\n",
      "99 перцентиль: [53904.]\n"
     ]
    }
   ],
   "source": [
    "print('90 перцентиль:', (np.percentile(orders['revenue'], [90])))\n",
    "print('95 перцентиль:', (np.percentile(orders['revenue'], [95])))\n",
    "print('99 перцентиль:', (np.percentile(orders['revenue'], [99])))"
   ]
  },
  {
   "cell_type": "markdown",
   "metadata": {},
   "source": [
    "Не более 5% пользователей совершили заказ на сумму больше 26785.\n",
    "Не более 1% пользователей совершили заказ на сумму больше 53904. Аномальными будем считать заказы на сумму больше этого значения."
   ]
  },
  {
   "cell_type": "markdown",
   "metadata": {},
   "source": [
    "Расчет статистической значимости различий в среднем количестве заказов на посетителя между группами по «сырым» данным.Выводы и предположения."
   ]
  },
  {
   "cell_type": "code",
   "execution_count": 31,
   "metadata": {},
   "outputs": [],
   "source": [
    "visitorsADaily = visitors[visitors['group'] == 'A'][['date', 'visitors']]\n",
    "visitorsADaily.columns = ['date', 'visitorsPerDateA']\n",
    "\n",
    "visitorsACummulative = visitorsADaily.apply(\n",
    "    lambda x: visitorsADaily[visitorsADaily['date'] <= x['date']].agg(\n",
    "        {'date': 'max', 'visitorsPerDateA': 'sum'}\n",
    "    ),\n",
    "    axis=1,\n",
    ")\n",
    "visitorsACummulative.columns = ['date', 'visitorsCummulativeA']\n",
    "\n",
    "visitorsBDaily = visitors[visitors['group'] == 'B'][['date', 'visitors']]\n",
    "visitorsBDaily.columns = ['date', 'visitorsPerDateB']\n",
    "\n",
    "visitorsBCummulative = visitorsBDaily.apply(\n",
    "    lambda x: visitorsBDaily[visitorsBDaily['date'] <= x['date']].agg(\n",
    "        {'date': 'max', 'visitorsPerDateB': 'sum'}\n",
    "    ),\n",
    "    axis=1,\n",
    ")\n",
    "visitorsBCummulative.columns = ['date', 'visitorsCummulativeB']\n",
    "\n",
    "ordersADaily = (\n",
    "    orders[orders['group'] == 'A'][['date', 'transactionId', 'visitorId', 'revenue']]\n",
    "    .groupby('date', as_index=False)\n",
    "    .agg({'transactionId': pd.Series.nunique, 'revenue': 'sum'})\n",
    ")\n",
    "ordersADaily.columns = ['date', 'ordersPerDateA', 'revenuePerDateA']\n",
    "\n",
    "ordersACummulative = ordersADaily.apply(\n",
    "    lambda x: ordersADaily[ordersADaily['date'] <= x['date']].agg(\n",
    "        {'date': 'max', 'ordersPerDateA': 'sum', 'revenuePerDateA': 'sum'}\n",
    "    ),\n",
    "    axis=1,\n",
    ").sort_values(by=['date'])\n",
    "ordersACummulative.columns = [\n",
    "    'date',\n",
    "    'ordersCummulativeA',\n",
    "    'revenueCummulativeA',\n",
    "]\n",
    "\n",
    "ordersBDaily = (\n",
    "    orders[orders['group'] == 'B'][['date', 'transactionId', 'visitorId', 'revenue']]\n",
    "    .groupby('date', as_index=False)\n",
    "    .agg({'transactionId': pd.Series.nunique, 'revenue': 'sum'})\n",
    ")\n",
    "ordersBDaily.columns = ['date', 'ordersPerDateB', 'revenuePerDateB']\n",
    "\n",
    "ordersBCummulative = ordersBDaily.apply(\n",
    "    lambda x: ordersBDaily[ordersBDaily['date'] <= x['date']].agg(\n",
    "        {'date': 'max', 'ordersPerDateB': 'sum', 'revenuePerDateB': 'sum'}\n",
    "    ),\n",
    "    axis=1,\n",
    ").sort_values(by=['date'])\n",
    "ordersBCummulative.columns = [\n",
    "    'date',\n",
    "    'ordersCummulativeB',\n",
    "    'revenueCummulativeB',\n",
    "]\n",
    "\n",
    "cummulative = (\n",
    "    ordersADaily.merge(\n",
    "        ordersBDaily, left_on='date', right_on='date', how='left'\n",
    "    )\n",
    "    .merge(ordersACummulative, left_on='date', right_on='date', how='left')\n",
    "    .merge(ordersBCummulative, left_on='date', right_on='date', how='left')\n",
    "    .merge(visitorsADaily, left_on='date', right_on='date', how='left')\n",
    "    .merge(visitorsBDaily, left_on='date', right_on='date', how='left')\n",
    "    .merge(visitorsACummulative, left_on='date', right_on='date', how='left')\n",
    "    .merge(visitorsBCummulative, left_on='date', right_on='date', how='left')\n",
    ")\n",
    "\n",
    "ordersByUsersA = (\n",
    "    orders[orders['group'] == 'A']\n",
    "    .groupby('visitorId', as_index=False)\n",
    "    .agg({'transactionId': pd.Series.nunique})\n",
    ")\n",
    "ordersByUsersA.columns = ['userId', 'orders']\n",
    "\n",
    "ordersByUsersB = (\n",
    "    orders[orders['group'] == 'B']\n",
    "    .groupby('visitorId', as_index=False)\n",
    "    .agg({'transactionId': pd.Series.nunique})\n",
    ")\n",
    "ordersByUsersB.columns = ['userId', 'orders']\n",
    "\n",
    "sampleA = pd.concat(\n",
    "    [\n",
    "        ordersByUsersA['orders'],\n",
    "        pd.Series(\n",
    "            0,\n",
    "            index=np.arange(\n",
    "                cummulative['visitorsPerDateA'].sum() - len(ordersByUsersA['orders'])\n",
    "            ),\n",
    "            name='orders',\n",
    "        ),\n",
    "    ],\n",
    "    axis=0,\n",
    ")\n",
    "\n",
    "sampleB = pd.concat(\n",
    "    [\n",
    "        ordersByUsersB['orders'],\n",
    "        pd.Series(\n",
    "            0,\n",
    "            index=np.arange(\n",
    "                cummulative['visitorsPerDateB'].sum() - len(ordersByUsersB['orders'])\n",
    "            ),\n",
    "            name='orders',\n",
    "        ),\n",
    "    ],\n",
    "    axis=0,\n",
    ")"
   ]
  },
  {
   "cell_type": "markdown",
   "metadata": {},
   "source": [
    "Сформулируем гипотезы:"
   ]
  },
  {
   "cell_type": "markdown",
   "metadata": {},
   "source": [
    "Нулевая гипотеза: Среднее количество заказов между группами А и В равно.( Между выборками нет статистической значимости, либо она незначительна.)\n",
    "Альтернативная гипотеза: Среднее количество заказов между группами А и В различается. (Между выборками имеется статистическая значимость.)\n",
    "Применим критерием Манна-Уитни. Порогом статистической значимости установим alpha = 0.05"
   ]
  },
  {
   "cell_type": "code",
   "execution_count": 32,
   "metadata": {},
   "outputs": [
    {
     "name": "stdout",
     "output_type": "stream",
     "text": [
      "p-value нулевой гипотезы: 0.011018084\n",
      "p-value альтернативной гипотезы: 0.159797792\n"
     ]
    }
   ],
   "source": [
    "print('p-value нулевой гипотезы:', '{0:.9f}'.format(stats.mannwhitneyu(sampleA, sampleB)[1]))\n",
    "print('p-value альтернативной гипотезы:', '{0:.9f}'.format(sampleB.mean() / sampleA.mean() - 1))"
   ]
  },
  {
   "cell_type": "markdown",
   "metadata": {},
   "source": [
    "P-value значительно меньше 0.05, не получилось подтвердить нулевую гипотезу.Среднее количество заказов между группами А и В различается. Альтернативная гипотеза подтвердилась."
   ]
  },
  {
   "cell_type": "markdown",
   "metadata": {},
   "source": [
    "Расчет статистической значимости различий в среднем чеке заказа между группами по «сырым» данным. Выводы и предположения."
   ]
  },
  {
   "cell_type": "markdown",
   "metadata": {},
   "source": [
    "Сформулируем гипотезы:"
   ]
  },
  {
   "cell_type": "markdown",
   "metadata": {},
   "source": [
    "Нулевая гипотеза: Средний чек в группе A равен группе B (статистическая значимость не значительна и сделать вывод о различии нельзя)\n",
    "Альтернативная гипотеза: Средний чек в группе A не равен группе B (между выборками имеется статистическая значимость)\n",
    "Применим критерием Манна-Уитни. Порогом статистической значимости установим alpha = 0.05"
   ]
  },
  {
   "cell_type": "code",
   "execution_count": 33,
   "metadata": {},
   "outputs": [
    {
     "name": "stdout",
     "output_type": "stream",
     "text": [
      "0.829\n",
      "0.287\n"
     ]
    }
   ],
   "source": [
    "print('{0:.3f}'.format(stats.mannwhitneyu(orders[orders['group']=='A']['revenue'], orders[orders['group']=='B']['revenue'])[1]))\n",
    "print('{0:.3f}'.format(orders[orders['group']=='B']['revenue'].mean()/orders[orders['group']=='A']['revenue'].mean()-1)) "
   ]
  },
  {
   "cell_type": "markdown",
   "metadata": {},
   "source": [
    "P-value значительно больше 0.05, не получилось отвергнуть нулевую гипотезу. Средний чек в группе A равен группе B .\n",
    "Относительный прирост среднего чека группы В к группе А равен 28,7%. Что было заметно на графиках ранее."
   ]
  },
  {
   "cell_type": "markdown",
   "metadata": {},
   "source": [
    "Расчет статистической значимости различий в среднем количестве заказов на посетителя между группами по «очищенным» данным. Вывод и предположения."
   ]
  },
  {
   "cell_type": "markdown",
   "metadata": {},
   "source": [
    "Подготовка данных"
   ]
  },
  {
   "cell_type": "markdown",
   "metadata": {},
   "source": [
    "\n",
    "Ранее в исследовании, мы получили такие данные:\n",
    "- 95-й и 99-й перцентили стоимости заказов равны 26785 и 53904 рублям. \n",
    "- 95-й и 99-й перцентили числа заказов на одного пользователя равны 1 и 2 заказам на пользователя. \n",
    "\n",
    "Примем за аномальных пользователей тех, кто совершил более 2 заказов или совершил заказ на сумму свыше 53904 рублей для того, чтобы уберать 1% пользователей с наибольшим числом заказов и с наибольшей стоимостью."
   ]
  },
  {
   "cell_type": "code",
   "execution_count": 34,
   "metadata": {},
   "outputs": [],
   "source": [
    "usersWithManyOrders = pd.concat(\n",
    "    [\n",
    "        ordersByUsersA[ordersByUsersA['orders'] > 2]['userId'],\n",
    "        ordersByUsersB[ordersByUsersB['orders'] > 2]['userId'],\n",
    "        ordersByUsersA[ordersByUsersA['orders'] > int(np.percentile(visitors_orders['orders'], [99]))]['userId'],\n",
    "        ordersByUsersB[ordersByUsersB['orders'] > int(np.percentile(visitors_orders['orders'], [99]))]['userId'],\n",
    "    ],\n",
    "    axis=0,\n",
    ")\n",
    "\n",
    "usersWithExpensiveOrders = orders[orders['revenue'] > int(np.percentile(orders['revenue'], [99]))]['visitorId']\n",
    "usersWithExpensiveOrders = orders[orders['revenue'] > 53904]['visitorId']\n",
    "abnormalUsers = (\n",
    "    pd.concat([usersWithManyOrders, usersWithExpensiveOrders], axis=0)\n",
    "    .drop_duplicates()\n",
    "    .sort_values()\n",
    ")\n",
    "sampleAFiltered = pd.concat(\n",
    "    [\n",
    "        ordersByUsersA[\n",
    "            np.logical_not(ordersByUsersA['userId'].isin(abnormalUsers))\n",
    "        ]['orders'],\n",
    "        pd.Series(\n",
    "            0,\n",
    "            index=np.arange(\n",
    "                cummulative['visitorsPerDateA'].sum() - len(ordersByUsersA['orders'])\n",
    "            ),\n",
    "            name='orders',\n",
    "        ),\n",
    "    ],\n",
    "    axis=0,\n",
    ")\n",
    "\n",
    "sampleBFiltered = pd.concat(\n",
    "    [\n",
    "        ordersByUsersB[\n",
    "            np.logical_not(ordersByUsersB['userId'].isin(abnormalUsers))\n",
    "        ]['orders'],\n",
    "        pd.Series(\n",
    "            0,\n",
    "            index=np.arange(\n",
    "                cummulative['visitorsPerDateB'].sum() - len(ordersByUsersB['orders'])\n",
    "            ),\n",
    "            name='orders',\n",
    "        ),\n",
    "    ],\n",
    "    axis=0,\n",
    ") "
   ]
  },
  {
   "cell_type": "markdown",
   "metadata": {},
   "source": [
    "Сформулируем гипотезы:"
   ]
  },
  {
   "cell_type": "markdown",
   "metadata": {},
   "source": [
    "Нулевая гипотеза: Среднее количество заказов на посетителя между группами  A и B равна(статистическая значимость не значительна и сделать вывод о различии нельзя)\n",
    "Альтернативная гипотеза: Среднее количество заказов на посетителя  в группе A не равна группе B (между выборками имеется статистическая значимость)\n",
    "Применим критерием Манна-Уитни. Порогом статистической значимости установим alpha = 0.05"
   ]
  },
  {
   "cell_type": "code",
   "execution_count": 35,
   "metadata": {},
   "outputs": [
    {
     "name": "stdout",
     "output_type": "stream",
     "text": [
      "0.007\n",
      "0.189\n"
     ]
    }
   ],
   "source": [
    "print('{0:.3f}'.format(stats.mannwhitneyu(sampleAFiltered, sampleBFiltered)[1]))\n",
    "print('{0:.3f}'.format(sampleBFiltered.mean()/sampleAFiltered.mean()-1)) "
   ]
  },
  {
   "cell_type": "markdown",
   "metadata": {},
   "source": [
    "P-value значительно меньше 0.05, отвергаем нулевую гипотезу. Среднее количество заказов на посетителя  в группе A не равна группе B (между выборками имеется статистическая значимость)\n",
    "Относительный прирост среднего количество заказов на посетителя группы В к группе А равен 18,9%. Изменение по сравнению с прошлыми результатами почти 3%.\n",
    "Подтвердилась та же гипотеза."
   ]
  },
  {
   "cell_type": "markdown",
   "metadata": {},
   "source": [
    "Расчет статистической значимости различий в среднем чеке заказа между группами по «очищенным» данным. Выводы и предположения."
   ]
  },
  {
   "cell_type": "markdown",
   "metadata": {},
   "source": [
    "Сформулируем гипотезы:"
   ]
  },
  {
   "cell_type": "markdown",
   "metadata": {},
   "source": [
    "Нулевая гипотеза: Средний чек в группе A равен группе B (статистическая значимость не значительна и сделать вывод о различии нельзя)\n",
    "Альтернативная гипотеза: Средний чек в группе A не равен группе B (между выборками имеется статистическая значимость)\n",
    "Применим критерием Манна-Уитни. Порогом статистической значимости установим alpha = 0.05"
   ]
  },
  {
   "cell_type": "code",
   "execution_count": 36,
   "metadata": {},
   "outputs": [
    {
     "name": "stdout",
     "output_type": "stream",
     "text": [
      "0.788\n",
      "-0.032\n"
     ]
    }
   ],
   "source": [
    "print(\n",
    "    '{0:.3f}'.format(\n",
    "        stats.mannwhitneyu(\n",
    "            orders[\n",
    "                np.logical_and(\n",
    "                    orders['group'] == 'A',\n",
    "                    np.logical_not(orders['visitorId'].isin(abnormalUsers)),\n",
    "                )\n",
    "            ]['revenue'],\n",
    "            orders[\n",
    "                np.logical_and(\n",
    "                    orders['group'] == 'B',\n",
    "                    np.logical_not(orders['visitorId'].isin(abnormalUsers)),\n",
    "                )\n",
    "            ]['revenue'],\n",
    "        )[1]\n",
    "    )\n",
    ")\n",
    "\n",
    "print(\n",
    "    '{0:.3f}'.format(\n",
    "        orders[\n",
    "            np.logical_and(\n",
    "                orders['group'] == 'B',\n",
    "                np.logical_not(orders['visitorId'].isin(abnormalUsers)),\n",
    "            )\n",
    "        ]['revenue'].mean()\n",
    "        / orders[\n",
    "            np.logical_and(\n",
    "                orders['group'] == 'A',\n",
    "                np.logical_not(orders['visitorId'].isin(abnormalUsers)),\n",
    "            )\n",
    "        ]['revenue'].mean()\n",
    "        - 1\n",
    "    )\n",
    ")"
   ]
  },
  {
   "cell_type": "markdown",
   "metadata": {},
   "source": [
    "P-value значительно больше 0.05, не получилось отвергнуть нулевую гипотезу. Средний чек в группе A равен группе B (статистическая значимость не значительна и сделать вывод о различии нельзя).\n",
    "Относительное снижение среднего чека группы В к группе А примерно равен 3%. Изменение по сравнению с прошлыми результатами почти 30%.\n",
    "Подтвердилась та же гипотеза."
   ]
  },
  {
   "cell_type": "markdown",
   "metadata": {},
   "source": [
    "# Принятие решения по тестированию"
   ]
  },
  {
   "cell_type": "markdown",
   "metadata": {},
   "source": [
    "Тест можно остановить и считать успешно пройденным.\n",
    "\n",
    "Среднее количество заказов на посетителя  в группе A не равно группе B (между выборками имеется статистическая значимость) по сырым и по очищенным данным.\n",
    "\n",
    "Средний чек в группе A равен группе B (статистическая значимость не значительна и сделать вывод о различии нельзя) по сырым и по очищенным данным.\n",
    "\n",
    "В ходе анализа выяснили, что группа В показывает результаты по средним количествам заказов на посетителя, чем группа А.\n",
    "Среднемий чек не имеет значимых различий между группами."
   ]
  }
 ],
 "metadata": {
  "ExecuteTimeLog": [
   {
    "duration": 1379,
    "start_time": "2023-01-17T17:41:02.300Z"
   },
   {
    "duration": 216,
    "start_time": "2023-01-17T17:41:21.128Z"
   },
   {
    "duration": 12,
    "start_time": "2023-01-17T17:41:32.516Z"
   },
   {
    "duration": 17,
    "start_time": "2023-01-17T17:41:41.758Z"
   },
   {
    "duration": 16,
    "start_time": "2023-01-17T17:41:58.815Z"
   },
   {
    "duration": 12,
    "start_time": "2023-01-17T17:42:21.917Z"
   },
   {
    "duration": 9,
    "start_time": "2023-01-17T17:42:33.841Z"
   },
   {
    "duration": 19,
    "start_time": "2023-01-17T17:42:47.026Z"
   },
   {
    "duration": 10,
    "start_time": "2023-01-17T17:43:02.214Z"
   },
   {
    "duration": 6,
    "start_time": "2023-01-17T17:43:25.619Z"
   },
   {
    "duration": 7,
    "start_time": "2023-01-17T17:43:41.545Z"
   },
   {
    "duration": 12,
    "start_time": "2023-01-17T17:44:13.842Z"
   },
   {
    "duration": 7,
    "start_time": "2023-01-17T17:44:27.283Z"
   },
   {
    "duration": 5,
    "start_time": "2023-01-17T17:44:40.780Z"
   },
   {
    "duration": 16,
    "start_time": "2023-01-17T17:44:50.240Z"
   },
   {
    "duration": 8,
    "start_time": "2023-01-17T17:45:01.418Z"
   },
   {
    "duration": 14,
    "start_time": "2023-01-17T17:45:23.376Z"
   },
   {
    "duration": 9,
    "start_time": "2023-01-17T17:45:33.599Z"
   },
   {
    "duration": 4,
    "start_time": "2023-01-17T17:45:44.822Z"
   },
   {
    "duration": 8,
    "start_time": "2023-01-17T17:45:56.451Z"
   },
   {
    "duration": 13,
    "start_time": "2023-01-17T17:46:19.543Z"
   },
   {
    "duration": 13,
    "start_time": "2023-01-17T17:46:30.392Z"
   },
   {
    "duration": 8,
    "start_time": "2023-01-17T17:46:50.624Z"
   },
   {
    "duration": 8,
    "start_time": "2023-01-17T17:47:06.504Z"
   },
   {
    "duration": 15,
    "start_time": "2023-01-17T17:47:23.764Z"
   },
   {
    "duration": 20,
    "start_time": "2023-01-17T17:47:40.869Z"
   },
   {
    "duration": 6,
    "start_time": "2023-01-17T17:47:54.196Z"
   },
   {
    "duration": 429,
    "start_time": "2023-01-17T17:48:37.179Z"
   },
   {
    "duration": 1460,
    "start_time": "2023-01-24T11:48:48.905Z"
   },
   {
    "duration": 233,
    "start_time": "2023-01-24T11:48:59.771Z"
   },
   {
    "duration": 74,
    "start_time": "2023-01-24T11:50:14.147Z"
   },
   {
    "duration": 31,
    "start_time": "2023-01-24T11:51:18.773Z"
   },
   {
    "duration": 16,
    "start_time": "2023-01-24T11:56:41.668Z"
   },
   {
    "duration": 19,
    "start_time": "2023-01-24T12:00:21.750Z"
   },
   {
    "duration": 9,
    "start_time": "2023-01-24T12:04:31.137Z"
   },
   {
    "duration": 8,
    "start_time": "2023-01-24T12:06:02.172Z"
   },
   {
    "duration": 9,
    "start_time": "2023-01-24T12:07:20.951Z"
   },
   {
    "duration": 7,
    "start_time": "2023-01-24T12:10:17.659Z"
   },
   {
    "duration": 104,
    "start_time": "2023-01-24T12:18:05.459Z"
   },
   {
    "duration": 1194,
    "start_time": "2023-01-24T12:18:39.466Z"
   },
   {
    "duration": 1281,
    "start_time": "2023-01-24T12:20:26.049Z"
   },
   {
    "duration": 11,
    "start_time": "2023-01-24T12:20:56.683Z"
   },
   {
    "duration": 23,
    "start_time": "2023-01-24T12:21:19.619Z"
   },
   {
    "duration": 12,
    "start_time": "2023-01-24T12:21:25.356Z"
   },
   {
    "duration": 147,
    "start_time": "2023-01-24T12:26:58.789Z"
   },
   {
    "duration": 17,
    "start_time": "2023-01-24T12:28:14.008Z"
   },
   {
    "duration": 16,
    "start_time": "2023-01-24T12:28:25.595Z"
   },
   {
    "duration": 31,
    "start_time": "2023-01-24T13:13:24.222Z"
   },
   {
    "duration": 33,
    "start_time": "2023-01-24T13:13:44.962Z"
   },
   {
    "duration": 460,
    "start_time": "2023-01-24T13:14:37.848Z"
   },
   {
    "duration": 3,
    "start_time": "2023-01-24T13:15:27.409Z"
   },
   {
    "duration": 98,
    "start_time": "2023-01-24T13:15:27.970Z"
   },
   {
    "duration": 16,
    "start_time": "2023-01-24T13:15:29.060Z"
   },
   {
    "duration": 27,
    "start_time": "2023-01-24T13:15:29.427Z"
   },
   {
    "duration": 15,
    "start_time": "2023-01-24T13:15:30.201Z"
   },
   {
    "duration": 8,
    "start_time": "2023-01-24T13:15:31.263Z"
   },
   {
    "duration": 9,
    "start_time": "2023-01-24T13:15:32.389Z"
   },
   {
    "duration": 13,
    "start_time": "2023-01-24T13:15:34.401Z"
   },
   {
    "duration": 13,
    "start_time": "2023-01-24T13:15:35.618Z"
   },
   {
    "duration": 11,
    "start_time": "2023-01-24T13:15:36.482Z"
   },
   {
    "duration": 72,
    "start_time": "2023-01-24T13:15:38.560Z"
   },
   {
    "duration": 358,
    "start_time": "2023-01-24T13:15:39.057Z"
   },
   {
    "duration": 452,
    "start_time": "2023-01-24T13:16:08.035Z"
   },
   {
    "duration": 29,
    "start_time": "2023-01-24T13:18:10.464Z"
   },
   {
    "duration": 357,
    "start_time": "2023-01-24T13:19:18.108Z"
   },
   {
    "duration": 402,
    "start_time": "2023-01-24T13:20:16.806Z"
   },
   {
    "duration": 396,
    "start_time": "2023-01-24T13:20:43.025Z"
   },
   {
    "duration": 375,
    "start_time": "2023-01-24T13:21:48.990Z"
   },
   {
    "duration": 75,
    "start_time": "2023-01-24T13:23:09.104Z"
   },
   {
    "duration": 442,
    "start_time": "2023-01-24T13:23:27.375Z"
   },
   {
    "duration": 75,
    "start_time": "2023-01-24T15:05:45.479Z"
   },
   {
    "duration": 47,
    "start_time": "2023-01-24T15:05:51.692Z"
   },
   {
    "duration": 8,
    "start_time": "2023-01-24T15:07:19.851Z"
   },
   {
    "duration": 1465,
    "start_time": "2023-01-24T15:07:25.032Z"
   },
   {
    "duration": 274,
    "start_time": "2023-01-24T15:07:27.684Z"
   },
   {
    "duration": 21,
    "start_time": "2023-01-24T15:07:28.761Z"
   },
   {
    "duration": 18,
    "start_time": "2023-01-24T15:07:30.154Z"
   },
   {
    "duration": 16,
    "start_time": "2023-01-24T15:07:32.003Z"
   },
   {
    "duration": 8,
    "start_time": "2023-01-24T15:07:35.366Z"
   },
   {
    "duration": 9,
    "start_time": "2023-01-24T15:07:37.285Z"
   },
   {
    "duration": 18,
    "start_time": "2023-01-24T15:07:39.053Z"
   },
   {
    "duration": 520,
    "start_time": "2023-01-24T15:08:02.556Z"
   },
   {
    "duration": 10,
    "start_time": "2023-01-24T15:08:18.242Z"
   },
   {
    "duration": 5,
    "start_time": "2023-01-24T15:12:59.516Z"
   },
   {
    "duration": 1861,
    "start_time": "2023-01-24T15:17:47.941Z"
   },
   {
    "duration": 38,
    "start_time": "2023-01-24T15:18:29.580Z"
   },
   {
    "duration": 11,
    "start_time": "2023-01-24T15:18:49.159Z"
   },
   {
    "duration": 9,
    "start_time": "2023-01-24T15:19:22.807Z"
   },
   {
    "duration": 13,
    "start_time": "2023-01-24T15:20:06.011Z"
   },
   {
    "duration": 4,
    "start_time": "2023-01-24T15:30:43.030Z"
   },
   {
    "duration": 5,
    "start_time": "2023-01-24T15:31:38.270Z"
   },
   {
    "duration": 1908,
    "start_time": "2023-01-24T15:39:49.878Z"
   },
   {
    "duration": 28,
    "start_time": "2023-01-24T15:40:01.708Z"
   },
   {
    "duration": 1267,
    "start_time": "2023-01-24T15:40:35.954Z"
   },
   {
    "duration": 1308,
    "start_time": "2023-01-24T15:41:40.104Z"
   },
   {
    "duration": 92,
    "start_time": "2023-01-24T15:42:58.463Z"
   },
   {
    "duration": 82,
    "start_time": "2023-01-24T15:43:17.112Z"
   },
   {
    "duration": 79,
    "start_time": "2023-01-24T15:43:41.232Z"
   },
   {
    "duration": 17,
    "start_time": "2023-01-24T15:46:28.088Z"
   },
   {
    "duration": 23,
    "start_time": "2023-01-24T15:46:49.436Z"
   },
   {
    "duration": 21,
    "start_time": "2023-01-24T15:47:50.572Z"
   },
   {
    "duration": 4,
    "start_time": "2023-01-24T15:47:57.455Z"
   },
   {
    "duration": 87,
    "start_time": "2023-01-24T15:47:58.163Z"
   },
   {
    "duration": 20,
    "start_time": "2023-01-24T15:47:58.849Z"
   },
   {
    "duration": 18,
    "start_time": "2023-01-24T15:47:59.504Z"
   },
   {
    "duration": 15,
    "start_time": "2023-01-24T15:48:00.108Z"
   },
   {
    "duration": 9,
    "start_time": "2023-01-24T15:48:01.063Z"
   },
   {
    "duration": 18,
    "start_time": "2023-01-24T15:48:02.108Z"
   },
   {
    "duration": 13,
    "start_time": "2023-01-24T15:48:02.956Z"
   },
   {
    "duration": 5,
    "start_time": "2023-01-24T15:48:03.238Z"
   },
   {
    "duration": 6,
    "start_time": "2023-01-24T15:48:04.168Z"
   },
   {
    "duration": 12,
    "start_time": "2023-01-24T15:48:04.976Z"
   },
   {
    "duration": 5,
    "start_time": "2023-01-24T15:48:06.728Z"
   },
   {
    "duration": 13,
    "start_time": "2023-01-24T15:48:08.155Z"
   },
   {
    "duration": 15,
    "start_time": "2023-01-24T15:48:09.746Z"
   },
   {
    "duration": 20,
    "start_time": "2023-01-24T15:48:21.163Z"
   },
   {
    "duration": 15,
    "start_time": "2023-01-24T15:49:24.093Z"
   },
   {
    "duration": 17,
    "start_time": "2023-01-24T15:49:32.229Z"
   },
   {
    "duration": 341,
    "start_time": "2023-01-24T15:56:52.579Z"
   },
   {
    "duration": 316,
    "start_time": "2023-01-24T16:09:54.150Z"
   },
   {
    "duration": 330,
    "start_time": "2023-01-24T16:11:52.568Z"
   },
   {
    "duration": 241,
    "start_time": "2023-01-24T16:23:10.752Z"
   },
   {
    "duration": 359,
    "start_time": "2023-01-24T16:34:46.390Z"
   },
   {
    "duration": 244,
    "start_time": "2023-01-24T16:41:09.053Z"
   },
   {
    "duration": 340,
    "start_time": "2023-01-24T16:49:02.187Z"
   },
   {
    "duration": 245,
    "start_time": "2023-01-24T16:49:39.589Z"
   },
   {
    "duration": 238,
    "start_time": "2023-01-24T16:50:14.726Z"
   },
   {
    "duration": 420,
    "start_time": "2023-01-24T16:50:38.514Z"
   },
   {
    "duration": 383,
    "start_time": "2023-01-24T16:52:40.623Z"
   },
   {
    "duration": 352,
    "start_time": "2023-01-24T16:53:11.722Z"
   },
   {
    "duration": 77,
    "start_time": "2023-01-24T16:55:27.909Z"
   },
   {
    "duration": 12,
    "start_time": "2023-01-24T16:58:58.944Z"
   },
   {
    "duration": 18,
    "start_time": "2023-01-24T16:59:45.653Z"
   },
   {
    "duration": 189,
    "start_time": "2023-01-24T17:00:09.972Z"
   },
   {
    "duration": 8,
    "start_time": "2023-01-24T17:04:59.517Z"
   },
   {
    "duration": 9,
    "start_time": "2023-01-24T17:06:14.036Z"
   },
   {
    "duration": 5,
    "start_time": "2023-01-24T17:06:59.224Z"
   },
   {
    "duration": 4,
    "start_time": "2023-01-24T17:07:55.255Z"
   },
   {
    "duration": 4,
    "start_time": "2023-01-24T17:08:08.009Z"
   },
   {
    "duration": 6,
    "start_time": "2023-01-24T17:10:17.892Z"
   },
   {
    "duration": 162,
    "start_time": "2023-01-24T17:13:15.932Z"
   },
   {
    "duration": 157,
    "start_time": "2023-01-24T17:13:26.228Z"
   },
   {
    "duration": 518,
    "start_time": "2023-01-24T17:15:53.041Z"
   },
   {
    "duration": 8,
    "start_time": "2023-01-24T17:20:09.828Z"
   },
   {
    "duration": 115,
    "start_time": "2023-01-24T17:23:30.169Z"
   },
   {
    "duration": 344,
    "start_time": "2023-01-24T17:25:26.926Z"
   },
   {
    "duration": 330,
    "start_time": "2023-01-24T17:25:30.756Z"
   },
   {
    "duration": 25,
    "start_time": "2023-01-24T17:25:57.940Z"
   },
   {
    "duration": 11,
    "start_time": "2023-01-24T17:37:35.309Z"
   },
   {
    "duration": 12,
    "start_time": "2023-01-24T17:40:11.142Z"
   },
   {
    "duration": 27,
    "start_time": "2023-01-24T17:41:28.307Z"
   },
   {
    "duration": 91,
    "start_time": "2023-01-24T17:41:44.206Z"
   },
   {
    "duration": 26,
    "start_time": "2023-01-24T17:41:59.138Z"
   },
   {
    "duration": 14,
    "start_time": "2023-01-24T17:45:33.591Z"
   },
   {
    "duration": 26,
    "start_time": "2023-01-24T18:36:47.001Z"
   },
   {
    "duration": 1234,
    "start_time": "2023-01-25T13:36:03.263Z"
   },
   {
    "duration": 65,
    "start_time": "2023-01-25T13:36:04.499Z"
   },
   {
    "duration": 21,
    "start_time": "2023-01-25T13:36:04.565Z"
   },
   {
    "duration": 17,
    "start_time": "2023-01-25T13:36:04.588Z"
   },
   {
    "duration": 15,
    "start_time": "2023-01-25T13:36:04.606Z"
   },
   {
    "duration": 16,
    "start_time": "2023-01-25T13:36:04.623Z"
   },
   {
    "duration": 18,
    "start_time": "2023-01-25T13:36:04.641Z"
   },
   {
    "duration": 23,
    "start_time": "2023-01-25T13:36:04.660Z"
   },
   {
    "duration": 12,
    "start_time": "2023-01-25T13:36:04.685Z"
   },
   {
    "duration": 14,
    "start_time": "2023-01-25T13:36:04.699Z"
   },
   {
    "duration": 22,
    "start_time": "2023-01-25T13:36:04.715Z"
   },
   {
    "duration": 4,
    "start_time": "2023-01-25T13:36:04.739Z"
   },
   {
    "duration": 21,
    "start_time": "2023-01-25T13:36:04.744Z"
   },
   {
    "duration": 16,
    "start_time": "2023-01-25T13:36:04.766Z"
   },
   {
    "duration": 133,
    "start_time": "2023-01-25T13:36:04.784Z"
   },
   {
    "duration": 11,
    "start_time": "2023-01-25T13:36:04.918Z"
   },
   {
    "duration": 12,
    "start_time": "2023-01-25T13:36:04.930Z"
   },
   {
    "duration": 310,
    "start_time": "2023-01-25T13:36:04.943Z"
   },
   {
    "duration": 340,
    "start_time": "2023-01-25T13:36:05.255Z"
   },
   {
    "duration": 233,
    "start_time": "2023-01-25T13:36:05.597Z"
   },
   {
    "duration": 337,
    "start_time": "2023-01-25T13:36:05.831Z"
   },
   {
    "duration": 246,
    "start_time": "2023-01-25T13:36:06.169Z"
   },
   {
    "duration": 349,
    "start_time": "2023-01-25T13:36:06.416Z"
   },
   {
    "duration": 10,
    "start_time": "2023-01-25T13:36:06.767Z"
   },
   {
    "duration": 181,
    "start_time": "2023-01-25T13:36:06.779Z"
   },
   {
    "duration": 7,
    "start_time": "2023-01-25T13:36:06.961Z"
   },
   {
    "duration": 9,
    "start_time": "2023-01-25T13:36:06.970Z"
   },
   {
    "duration": 10,
    "start_time": "2023-01-25T13:36:06.982Z"
   },
   {
    "duration": 571,
    "start_time": "2023-01-25T13:36:06.993Z"
   },
   {
    "duration": 6,
    "start_time": "2023-01-25T13:36:07.566Z"
   },
   {
    "duration": 366,
    "start_time": "2023-01-25T13:36:07.574Z"
   },
   {
    "duration": 32,
    "start_time": "2023-01-25T13:36:07.942Z"
   },
   {
    "duration": 11,
    "start_time": "2023-01-25T13:36:07.976Z"
   },
   {
    "duration": 1658,
    "start_time": "2023-01-25T13:36:07.989Z"
   },
   {
    "duration": 0,
    "start_time": "2023-01-25T13:36:09.649Z"
   },
   {
    "duration": 0,
    "start_time": "2023-01-25T13:36:09.650Z"
   },
   {
    "duration": 10,
    "start_time": "2023-01-25T13:41:15.376Z"
   },
   {
    "duration": 65,
    "start_time": "2023-01-25T15:59:10.646Z"
   },
   {
    "duration": 9,
    "start_time": "2023-01-25T15:59:23.497Z"
   },
   {
    "duration": 1494,
    "start_time": "2023-01-25T15:59:34.455Z"
   },
   {
    "duration": 237,
    "start_time": "2023-01-25T15:59:36.883Z"
   },
   {
    "duration": 23,
    "start_time": "2023-01-25T15:59:38.702Z"
   },
   {
    "duration": 18,
    "start_time": "2023-01-25T15:59:40.018Z"
   },
   {
    "duration": 20,
    "start_time": "2023-01-25T15:59:41.010Z"
   },
   {
    "duration": 10,
    "start_time": "2023-01-25T15:59:42.509Z"
   },
   {
    "duration": 11,
    "start_time": "2023-01-25T15:59:43.904Z"
   },
   {
    "duration": 13,
    "start_time": "2023-01-25T15:59:45.211Z"
   },
   {
    "duration": 5,
    "start_time": "2023-01-25T15:59:45.560Z"
   },
   {
    "duration": 8,
    "start_time": "2023-01-25T15:59:46.753Z"
   },
   {
    "duration": 16,
    "start_time": "2023-01-25T15:59:47.546Z"
   },
   {
    "duration": 6,
    "start_time": "2023-01-25T15:59:49.110Z"
   },
   {
    "duration": 12,
    "start_time": "2023-01-25T15:59:49.444Z"
   },
   {
    "duration": 15,
    "start_time": "2023-01-25T15:59:50.843Z"
   },
   {
    "duration": 80,
    "start_time": "2023-01-25T15:59:52.253Z"
   },
   {
    "duration": 14,
    "start_time": "2023-01-25T15:59:55.085Z"
   },
   {
    "duration": 12,
    "start_time": "2023-01-25T16:00:02.201Z"
   },
   {
    "duration": 146,
    "start_time": "2023-01-25T16:01:37.257Z"
   },
   {
    "duration": 14,
    "start_time": "2023-01-25T16:02:17.180Z"
   },
   {
    "duration": 4,
    "start_time": "2023-01-25T16:03:27.929Z"
   },
   {
    "duration": 93,
    "start_time": "2023-01-25T16:03:28.378Z"
   },
   {
    "duration": 21,
    "start_time": "2023-01-25T16:03:28.828Z"
   },
   {
    "duration": 23,
    "start_time": "2023-01-25T16:03:29.263Z"
   },
   {
    "duration": 29,
    "start_time": "2023-01-25T16:03:29.713Z"
   },
   {
    "duration": 9,
    "start_time": "2023-01-25T16:03:30.412Z"
   },
   {
    "duration": 14,
    "start_time": "2023-01-25T16:03:31.066Z"
   },
   {
    "duration": 19,
    "start_time": "2023-01-25T16:03:31.683Z"
   },
   {
    "duration": 5,
    "start_time": "2023-01-25T16:03:31.884Z"
   },
   {
    "duration": 7,
    "start_time": "2023-01-25T16:03:32.507Z"
   },
   {
    "duration": 13,
    "start_time": "2023-01-25T16:03:33.142Z"
   },
   {
    "duration": 6,
    "start_time": "2023-01-25T16:03:33.562Z"
   },
   {
    "duration": 10,
    "start_time": "2023-01-25T16:03:33.996Z"
   },
   {
    "duration": 19,
    "start_time": "2023-01-25T16:03:34.467Z"
   },
   {
    "duration": 22,
    "start_time": "2023-01-25T16:03:34.943Z"
   },
   {
    "duration": 17,
    "start_time": "2023-01-25T16:03:36.571Z"
   },
   {
    "duration": 15,
    "start_time": "2023-01-25T16:03:37.960Z"
   },
   {
    "duration": 333,
    "start_time": "2023-01-25T16:03:39.885Z"
   },
   {
    "duration": 335,
    "start_time": "2023-01-25T16:03:40.736Z"
   },
   {
    "duration": 313,
    "start_time": "2023-01-25T16:03:41.915Z"
   },
   {
    "duration": 371,
    "start_time": "2023-01-25T16:03:43.091Z"
   },
   {
    "duration": 256,
    "start_time": "2023-01-25T16:03:44.164Z"
   },
   {
    "duration": 351,
    "start_time": "2023-01-25T16:03:45.036Z"
   },
   {
    "duration": 17,
    "start_time": "2023-01-25T16:03:46.125Z"
   },
   {
    "duration": 173,
    "start_time": "2023-01-25T16:03:46.356Z"
   },
   {
    "duration": 7,
    "start_time": "2023-01-25T16:03:47.276Z"
   },
   {
    "duration": 4,
    "start_time": "2023-01-25T16:03:47.970Z"
   },
   {
    "duration": 12,
    "start_time": "2023-01-25T16:03:49.287Z"
   },
   {
    "duration": 608,
    "start_time": "2023-01-25T16:03:49.444Z"
   },
   {
    "duration": 9,
    "start_time": "2023-01-25T16:03:50.752Z"
   },
   {
    "duration": 391,
    "start_time": "2023-01-25T16:03:52.070Z"
   },
   {
    "duration": 25,
    "start_time": "2023-01-25T16:03:53.708Z"
   },
   {
    "duration": 13,
    "start_time": "2023-01-25T16:03:56.720Z"
   },
   {
    "duration": 1211,
    "start_time": "2023-01-25T16:04:03.238Z"
   },
   {
    "duration": 17,
    "start_time": "2023-01-25T16:05:01.756Z"
   },
   {
    "duration": 22,
    "start_time": "2023-01-25T16:05:44.004Z"
   },
   {
    "duration": 19,
    "start_time": "2023-01-25T16:05:53.578Z"
   },
   {
    "duration": 40,
    "start_time": "2023-01-25T16:08:02.575Z"
   },
   {
    "duration": 25,
    "start_time": "2023-01-25T16:08:16.538Z"
   },
   {
    "duration": 23,
    "start_time": "2023-01-25T16:09:56.533Z"
   },
   {
    "duration": 23,
    "start_time": "2023-01-25T16:19:34.543Z"
   },
   {
    "duration": 22,
    "start_time": "2023-01-25T16:19:53.017Z"
   },
   {
    "duration": 1149,
    "start_time": "2023-01-26T09:37:54.324Z"
   },
   {
    "duration": 186,
    "start_time": "2023-01-26T09:37:55.475Z"
   },
   {
    "duration": 20,
    "start_time": "2023-01-26T09:37:55.663Z"
   },
   {
    "duration": 15,
    "start_time": "2023-01-26T09:37:55.685Z"
   },
   {
    "duration": 16,
    "start_time": "2023-01-26T09:37:55.701Z"
   },
   {
    "duration": 7,
    "start_time": "2023-01-26T09:37:55.719Z"
   },
   {
    "duration": 12,
    "start_time": "2023-01-26T09:37:55.727Z"
   },
   {
    "duration": 11,
    "start_time": "2023-01-26T09:37:55.741Z"
   },
   {
    "duration": 20,
    "start_time": "2023-01-26T09:37:55.754Z"
   },
   {
    "duration": 22,
    "start_time": "2023-01-26T09:37:55.776Z"
   },
   {
    "duration": 11,
    "start_time": "2023-01-26T09:37:55.804Z"
   },
   {
    "duration": 9,
    "start_time": "2023-01-26T09:37:55.817Z"
   },
   {
    "duration": 12,
    "start_time": "2023-01-26T09:37:55.829Z"
   },
   {
    "duration": 15,
    "start_time": "2023-01-26T09:37:55.843Z"
   },
   {
    "duration": 135,
    "start_time": "2023-01-26T09:37:55.860Z"
   },
   {
    "duration": 14,
    "start_time": "2023-01-26T09:37:56.002Z"
   },
   {
    "duration": 15,
    "start_time": "2023-01-26T09:37:56.018Z"
   },
   {
    "duration": 329,
    "start_time": "2023-01-26T09:37:56.034Z"
   },
   {
    "duration": 306,
    "start_time": "2023-01-26T09:37:56.365Z"
   },
   {
    "duration": 243,
    "start_time": "2023-01-26T09:37:56.673Z"
   },
   {
    "duration": 315,
    "start_time": "2023-01-26T09:37:56.918Z"
   },
   {
    "duration": 252,
    "start_time": "2023-01-26T09:37:57.235Z"
   },
   {
    "duration": 339,
    "start_time": "2023-01-26T09:37:57.490Z"
   },
   {
    "duration": 11,
    "start_time": "2023-01-26T09:37:57.831Z"
   },
   {
    "duration": 187,
    "start_time": "2023-01-26T09:37:57.844Z"
   },
   {
    "duration": 8,
    "start_time": "2023-01-26T09:37:58.032Z"
   },
   {
    "duration": 10,
    "start_time": "2023-01-26T09:37:58.042Z"
   },
   {
    "duration": 12,
    "start_time": "2023-01-26T09:37:58.055Z"
   },
   {
    "duration": 564,
    "start_time": "2023-01-26T09:37:58.068Z"
   },
   {
    "duration": 6,
    "start_time": "2023-01-26T09:37:58.633Z"
   },
   {
    "duration": 362,
    "start_time": "2023-01-26T09:37:58.641Z"
   },
   {
    "duration": 21,
    "start_time": "2023-01-26T09:37:59.005Z"
   },
   {
    "duration": 10,
    "start_time": "2023-01-26T09:37:59.028Z"
   },
   {
    "duration": 16,
    "start_time": "2023-01-26T09:37:59.040Z"
   },
   {
    "duration": 48,
    "start_time": "2023-01-26T09:37:59.058Z"
   },
   {
    "duration": 15,
    "start_time": "2023-01-26T09:37:59.108Z"
   }
  ],
  "kernelspec": {
   "display_name": "Python 3 (ipykernel)",
   "language": "python",
   "name": "python3"
  },
  "language_info": {
   "codemirror_mode": {
    "name": "ipython",
    "version": 3
   },
   "file_extension": ".py",
   "mimetype": "text/x-python",
   "name": "python",
   "nbconvert_exporter": "python",
   "pygments_lexer": "ipython3",
   "version": "3.9.5"
  },
  "toc": {
   "base_numbering": 1,
   "nav_menu": {},
   "number_sections": true,
   "sideBar": true,
   "skip_h1_title": true,
   "title_cell": "Table of Contents",
   "title_sidebar": "Contents",
   "toc_cell": false,
   "toc_position": {},
   "toc_section_display": true,
   "toc_window_display": false
  }
 },
 "nbformat": 4,
 "nbformat_minor": 2
}
