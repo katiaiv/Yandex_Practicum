{
 "cells": [
  {
   "cell_type": "markdown",
   "id": "dd5f6b75",
   "metadata": {
    "deletable": false,
    "editable": false,
    "id": "c81daeeb"
   },
   "source": [
    "# Исследование надежности заемщиков"
   ]
  },
  {
   "cell_type": "markdown",
   "id": "a6637976",
   "metadata": {
    "deletable": false,
    "editable": false,
    "id": "-G3EJWzf62s6"
   },
  {
   "cell_type": "markdown",
   "id": "4c5de2ab",
   "metadata": {
    "deletable": false,
    "editable": false,
    "id": "744d7639"
   },
   "source": [
    "## Откройте таблицу и изучите общую информацию о данных"
   ]
  },
  {
   "cell_type": "markdown",
   "id": "7b2252ca",
   "metadata": {
    "deletable": false,
    "editable": false,
    "id": "e7a14c31",
    "tags": [
     "start_task"
    ]
   },
   "source": [
    "**Задание 1. Импортируйте библиотеку pandas. Считайте данные из csv-файла в датафрейм и сохраните в переменную `data`. Путь к файлу:**\n",
    "\n",
    "`/datasets/data.csv`"
   ]
  },
  {
   "cell_type": "code",
   "execution_count": 23,
   "id": "da77aedc",
   "metadata": {
    "id": "7bcf75c9"
   },
   "outputs": [],
   "source": [
    "import pandas as pd# импортируйте библиотеку pandas"
   ]
  },
  {
   "cell_type": "code",
   "execution_count": 24,
   "id": "92216637",
   "metadata": {
    "id": "4d240ee2"
   },
   "outputs": [],
   "source": [
    "data=pd.read_csv('/datasets/data.csv')# прочитайте csv-файл"
   ]
  },
  {
   "cell_type": "markdown",
   "id": "dcef19eb",
   "metadata": {
    "deletable": false,
    "editable": false,
    "id": "b8038fe3",
    "tags": [
     "start_task"
    ]
   },
   "source": [
    "**Задание 2. Выведите первые 20 строчек датафрейма `data` на экран.**"
   ]
  },
  {
   "cell_type": "code",
   "execution_count": 25,
   "id": "23f6c933",
   "metadata": {
    "id": "2a7cab99"
   },
   "outputs": [
    {
     "name": "stdout",
     "output_type": "stream",
     "text": [
      "    children  days_employed  dob_years            education  education_id  \\\n",
      "0          1   -8437.673028         42               высшее             0   \n",
      "1          1   -4024.803754         36              среднее             1   \n",
      "2          0   -5623.422610         33              Среднее             1   \n",
      "3          3   -4124.747207         32              среднее             1   \n",
      "4          0  340266.072047         53              среднее             1   \n",
      "5          0    -926.185831         27               высшее             0   \n",
      "6          0   -2879.202052         43               высшее             0   \n",
      "7          0    -152.779569         50              СРЕДНЕЕ             1   \n",
      "8          2   -6929.865299         35               ВЫСШЕЕ             0   \n",
      "9          0   -2188.756445         41              среднее             1   \n",
      "10         2   -4171.483647         36               высшее             0   \n",
      "11         0    -792.701887         40              среднее             1   \n",
      "12         0            NaN         65              среднее             1   \n",
      "13         0   -1846.641941         54  неоконченное высшее             2   \n",
      "14         0   -1844.956182         56               высшее             0   \n",
      "15         1    -972.364419         26              среднее             1   \n",
      "16         0   -1719.934226         35              среднее             1   \n",
      "17         0   -2369.999720         33               высшее             0   \n",
      "18         0  400281.136913         53              среднее             1   \n",
      "19         0  -10038.818549         48              СРЕДНЕЕ             1   \n",
      "\n",
      "       family_status  family_status_id gender income_type  debt  \\\n",
      "0    женат / замужем                 0      F   сотрудник     0   \n",
      "1    женат / замужем                 0      F   сотрудник     0   \n",
      "2    женат / замужем                 0      M   сотрудник     0   \n",
      "3    женат / замужем                 0      M   сотрудник     0   \n",
      "4   гражданский брак                 1      F   пенсионер     0   \n",
      "5   гражданский брак                 1      M   компаньон     0   \n",
      "6    женат / замужем                 0      F   компаньон     0   \n",
      "7    женат / замужем                 0      M   сотрудник     0   \n",
      "8   гражданский брак                 1      F   сотрудник     0   \n",
      "9    женат / замужем                 0      M   сотрудник     0   \n",
      "10   женат / замужем                 0      M   компаньон     0   \n",
      "11   женат / замужем                 0      F   сотрудник     0   \n",
      "12  гражданский брак                 1      M   пенсионер     0   \n",
      "13   женат / замужем                 0      F   сотрудник     0   \n",
      "14  гражданский брак                 1      F   компаньон     1   \n",
      "15   женат / замужем                 0      F   сотрудник     0   \n",
      "16   женат / замужем                 0      F   сотрудник     0   \n",
      "17  гражданский брак                 1      M   сотрудник     0   \n",
      "18    вдовец / вдова                 2      F   пенсионер     0   \n",
      "19         в разводе                 3      F   сотрудник     0   \n",
      "\n",
      "     total_income                                 purpose  \n",
      "0   253875.639453                           покупка жилья  \n",
      "1   112080.014102                 приобретение автомобиля  \n",
      "2   145885.952297                           покупка жилья  \n",
      "3   267628.550329              дополнительное образование  \n",
      "4   158616.077870                         сыграть свадьбу  \n",
      "5   255763.565419                           покупка жилья  \n",
      "6   240525.971920                       операции с жильем  \n",
      "7   135823.934197                             образование  \n",
      "8    95856.832424                   на проведение свадьбы  \n",
      "9   144425.938277                 покупка жилья для семьи  \n",
      "10  113943.491460                    покупка недвижимости  \n",
      "11   77069.234271       покупка коммерческой недвижимости  \n",
      "12            NaN                         сыграть свадьбу  \n",
      "13  130458.228857                 приобретение автомобиля  \n",
      "14  165127.911772              покупка жилой недвижимости  \n",
      "15  116820.904450  строительство собственной недвижимости  \n",
      "16  289202.704229                            недвижимость  \n",
      "17   90410.586745              строительство недвижимости  \n",
      "18   56823.777243      на покупку подержанного автомобиля  \n",
      "19  242831.107982            на покупку своего автомобиля  \n"
     ]
    }
   ],
   "source": [
    "print(data.head(20))# ваш код здесь"
   ]
  },
  {
   "cell_type": "markdown",
   "id": "38a981ab",
   "metadata": {
    "deletable": false,
    "editable": false,
    "id": "1c12e233",
    "tags": [
     "start_task"
    ]
   },
   "source": [
    "**Задание 3. Выведите основную информацию о датафрейме с помощью метода `info()`.**"
   ]
  },
  {
   "cell_type": "code",
   "execution_count": 26,
   "id": "9c9461d5",
   "metadata": {
    "id": "2b757bca"
   },
   "outputs": [
    {
     "name": "stdout",
     "output_type": "stream",
     "text": [
      "<class 'pandas.core.frame.DataFrame'>\n",
      "RangeIndex: 21525 entries, 0 to 21524\n",
      "Data columns (total 12 columns):\n",
      " #   Column            Non-Null Count  Dtype  \n",
      "---  ------            --------------  -----  \n",
      " 0   children          21525 non-null  int64  \n",
      " 1   days_employed     19351 non-null  float64\n",
      " 2   dob_years         21525 non-null  int64  \n",
      " 3   education         21525 non-null  object \n",
      " 4   education_id      21525 non-null  int64  \n",
      " 5   family_status     21525 non-null  object \n",
      " 6   family_status_id  21525 non-null  int64  \n",
      " 7   gender            21525 non-null  object \n",
      " 8   income_type       21525 non-null  object \n",
      " 9   debt              21525 non-null  int64  \n",
      " 10  total_income      19351 non-null  float64\n",
      " 11  purpose           21525 non-null  object \n",
      "dtypes: float64(2), int64(5), object(5)\n",
      "memory usage: 2.0+ MB\n",
      "None\n"
     ]
    }
   ],
   "source": [
    "print(data.info())# ваш код здесь"
   ]
  },
  {
   "cell_type": "markdown",
   "id": "eaf2c54d",
   "metadata": {
    "deletable": false,
    "editable": false,
    "id": "333ec665"
   },
   "source": [
    "## Предобработка данных"
   ]
  },
  {
   "cell_type": "markdown",
   "id": "0c668c40",
   "metadata": {
    "deletable": false,
    "editable": false,
    "id": "02d92d53"
   },
   "source": [
    "### Удаление пропусков"
   ]
  },
  {
   "cell_type": "markdown",
   "id": "86a90df9",
   "metadata": {
    "deletable": false,
    "editable": false,
    "id": "cd84967c",
    "tags": [
     "start_task"
    ]
   },
   "source": [
    "**Задание 4. Выведите количество пропущенных значений для каждого столбца. Используйте комбинацию двух методов.**"
   ]
  },
  {
   "cell_type": "code",
   "execution_count": 27,
   "id": "400d15ea",
   "metadata": {
    "id": "7f9b2309"
   },
   "outputs": [
    {
     "name": "stdout",
     "output_type": "stream",
     "text": [
      "children               0\n",
      "days_employed       2174\n",
      "dob_years              0\n",
      "education              0\n",
      "education_id           0\n",
      "family_status          0\n",
      "family_status_id       0\n",
      "gender                 0\n",
      "income_type            0\n",
      "debt                   0\n",
      "total_income        2174\n",
      "purpose                0\n",
      "dtype: int64\n"
     ]
    }
   ],
   "source": [
    "print(data.isna().sum()) # ваш код здесь"
   ]
  },
  {
   "cell_type": "markdown",
   "id": "7ac578b7",
   "metadata": {
    "deletable": false,
    "editable": false,
    "id": "db86e27b",
    "tags": [
     "start_task"
    ]
   },
   "source": [
    "**Задание 5. В двух столбцах есть пропущенные значения. Один из них — `days_employed`. Пропуски в этом столбце вы обработаете на следующем этапе. Другой столбец с пропущенными значениями — `total_income` — хранит данные о доходах. На сумму дохода сильнее всего влияет тип занятости, поэтому заполнить пропуски в этом столбце нужно медианным значением по каждому типу из столбца `income_type`. Например, у человека с типом занятости `сотрудник` пропуск в столбце `total_income` должен быть заполнен медианным доходом среди всех записей с тем же типом.**"
   ]
  },
  {
   "cell_type": "code",
   "execution_count": 28,
   "id": "71ce5f3b",
   "metadata": {
    "id": "42006a93"
   },
   "outputs": [
    {
     "name": "stdout",
     "output_type": "stream",
     "text": [
      "       children  days_employed  dob_years education  education_id  \\\n",
      "0             1   -8437.673028         42    высшее             0   \n",
      "1             1   -4024.803754         36   среднее             1   \n",
      "2             0   -5623.422610         33   Среднее             1   \n",
      "3             3   -4124.747207         32   среднее             1   \n",
      "4             0  340266.072047         53   среднее             1   \n",
      "...         ...            ...        ...       ...           ...   \n",
      "21520         1   -4529.316663         43   среднее             1   \n",
      "21521         0  343937.404131         67   среднее             1   \n",
      "21522         1   -2113.346888         38   среднее             1   \n",
      "21523         3   -3112.481705         38   среднее             1   \n",
      "21524         2   -1984.507589         40   среднее             1   \n",
      "\n",
      "          family_status  family_status_id gender income_type  debt  \\\n",
      "0       женат / замужем                 0      F   сотрудник     0   \n",
      "1       женат / замужем                 0      F   сотрудник     0   \n",
      "2       женат / замужем                 0      M   сотрудник     0   \n",
      "3       женат / замужем                 0      M   сотрудник     0   \n",
      "4      гражданский брак                 1      F   пенсионер     0   \n",
      "...                 ...               ...    ...         ...   ...   \n",
      "21520  гражданский брак                 1      F   компаньон     0   \n",
      "21521   женат / замужем                 0      F   пенсионер     0   \n",
      "21522  гражданский брак                 1      M   сотрудник     1   \n",
      "21523   женат / замужем                 0      M   сотрудник     1   \n",
      "21524   женат / замужем                 0      F   сотрудник     0   \n",
      "\n",
      "        total_income                       purpose  \n",
      "0      253875.639453                 покупка жилья  \n",
      "1      112080.014102       приобретение автомобиля  \n",
      "2      145885.952297                 покупка жилья  \n",
      "3      267628.550329    дополнительное образование  \n",
      "4      158616.077870               сыграть свадьбу  \n",
      "...              ...                           ...  \n",
      "21520  224791.862382             операции с жильем  \n",
      "21521  155999.806512          сделка с автомобилем  \n",
      "21522   89672.561153                  недвижимость  \n",
      "21523  244093.050500  на покупку своего автомобиля  \n",
      "21524   82047.418899         на покупку автомобиля  \n",
      "\n",
      "[21525 rows x 12 columns]\n"
     ]
    }
   ],
   "source": [
    "data['total_income'] = data['total_income'].fillna(data.groupby('income_type')['total_income'].transform('median'))\n",
    "print(data)# ваш код здесь"
   ]
  },
  {
   "cell_type": "markdown",
   "id": "48c96e97",
   "metadata": {
    "deletable": false,
    "editable": false,
    "id": "89da5ece"
   },
   "source": [
    "### Обработка аномальных значений"
   ]
  },
  {
   "cell_type": "markdown",
   "id": "ec654a4f",
   "metadata": {
    "deletable": false,
    "editable": false,
    "id": "57964554",
    "tags": [
     "start_task"
    ]
   },
   "source": [
    "**Задание 6. В данных могут встречаться артефакты (аномалии) — значения, которые не отражают действительность и появились по какой-то ошибке. Таким артефактом будет отрицательное количество дней трудового стажа в столбце `days_employed`. Для реальных данных это нормально. Обработайте значения в этом столбце: замените все отрицательные значения положительными с помощью метода `abs()`.**"
   ]
  },
  {
   "cell_type": "code",
   "execution_count": 29,
   "id": "a0406b1e",
   "metadata": {
    "id": "f6f055bf"
   },
   "outputs": [
    {
     "name": "stdout",
     "output_type": "stream",
     "text": [
      "       children  days_employed  dob_years education  education_id  \\\n",
      "0             1    8437.673028         42    высшее             0   \n",
      "1             1    4024.803754         36   среднее             1   \n",
      "2             0    5623.422610         33   Среднее             1   \n",
      "3             3    4124.747207         32   среднее             1   \n",
      "4             0  340266.072047         53   среднее             1   \n",
      "...         ...            ...        ...       ...           ...   \n",
      "21520         1    4529.316663         43   среднее             1   \n",
      "21521         0  343937.404131         67   среднее             1   \n",
      "21522         1    2113.346888         38   среднее             1   \n",
      "21523         3    3112.481705         38   среднее             1   \n",
      "21524         2    1984.507589         40   среднее             1   \n",
      "\n",
      "          family_status  family_status_id gender income_type  debt  \\\n",
      "0       женат / замужем                 0      F   сотрудник     0   \n",
      "1       женат / замужем                 0      F   сотрудник     0   \n",
      "2       женат / замужем                 0      M   сотрудник     0   \n",
      "3       женат / замужем                 0      M   сотрудник     0   \n",
      "4      гражданский брак                 1      F   пенсионер     0   \n",
      "...                 ...               ...    ...         ...   ...   \n",
      "21520  гражданский брак                 1      F   компаньон     0   \n",
      "21521   женат / замужем                 0      F   пенсионер     0   \n",
      "21522  гражданский брак                 1      M   сотрудник     1   \n",
      "21523   женат / замужем                 0      M   сотрудник     1   \n",
      "21524   женат / замужем                 0      F   сотрудник     0   \n",
      "\n",
      "        total_income                       purpose  \n",
      "0      253875.639453                 покупка жилья  \n",
      "1      112080.014102       приобретение автомобиля  \n",
      "2      145885.952297                 покупка жилья  \n",
      "3      267628.550329    дополнительное образование  \n",
      "4      158616.077870               сыграть свадьбу  \n",
      "...              ...                           ...  \n",
      "21520  224791.862382             операции с жильем  \n",
      "21521  155999.806512          сделка с автомобилем  \n",
      "21522   89672.561153                  недвижимость  \n",
      "21523  244093.050500  на покупку своего автомобиля  \n",
      "21524   82047.418899         на покупку автомобиля  \n",
      "\n",
      "[21525 rows x 12 columns]\n"
     ]
    }
   ],
   "source": [
    "data['days_employed'] = data['days_employed'].abs()\n",
    "print(data)# ваш код здесь"
   ]
  },
  {
   "cell_type": "markdown",
   "id": "cd3ae140",
   "metadata": {
    "deletable": false,
    "editable": false,
    "id": "6107dd2f",
    "tags": [
     "start_task"
    ]
   },
   "source": [
    "**Задание 7. Для каждого типа занятости выведите медианное значение трудового стажа `days_employed` в днях.**"
   ]
  },
  {
   "cell_type": "code",
   "execution_count": 30,
   "id": "9808ccc7",
   "metadata": {
    "id": "85a5faf6"
   },
   "outputs": [
    {
     "data": {
      "text/plain": [
       "income_type\n",
       "безработный        366413.652744\n",
       "в декрете            3296.759962\n",
       "госслужащий          2689.368353\n",
       "компаньон            1547.382223\n",
       "пенсионер          365213.306266\n",
       "предприниматель       520.848083\n",
       "сотрудник            1574.202821\n",
       "студент               578.751554\n",
       "Name: days_employed, dtype: float64"
      ]
     },
     "execution_count": 30,
     "metadata": {},
     "output_type": "execute_result"
    }
   ],
   "source": [
    "data.groupby('income_type')['days_employed'].median()# ваш код здесь"
   ]
  },
  {
   "cell_type": "markdown",
   "id": "d613dae5",
   "metadata": {
    "deletable": false,
    "editable": false,
    "id": "38d1a030"
   },
   "source": [
    "У двух типов (безработные и пенсионеры) получатся аномально большие значения. Исправить такие значения сложно, поэтому оставьте их как есть. Тем более этот столбец не понадобится вам для исследования."
   ]
  },
  {
   "cell_type": "markdown",
   "id": "a6affd38",
   "metadata": {
    "deletable": false,
    "editable": false,
    "id": "d8a9f147",
    "tags": [
     "start_task"
    ]
   },
   "source": [
    "**Задание 8. Выведите перечень уникальных значений столбца `children`.**"
   ]
  },
  {
   "cell_type": "code",
   "execution_count": 31,
   "id": "bdc32301",
   "metadata": {
    "id": "ef5056eb"
   },
   "outputs": [
    {
     "data": {
      "text/plain": [
       "array([ 1,  0,  3,  2, -1,  4, 20,  5])"
      ]
     },
     "execution_count": 31,
     "metadata": {},
     "output_type": "execute_result"
    }
   ],
   "source": [
    "data['children'].unique()# ваш код здесь"
   ]
  },
  {
   "cell_type": "markdown",
   "id": "55c71715",
   "metadata": {
    "deletable": false,
    "editable": false,
    "id": "40b9ebf2",
    "tags": [
     "start_task"
    ]
   },
   "source": [
    "**Задание 9. В столбце `children` есть два аномальных значения. Удалите строки, в которых встречаются такие аномальные значения из датафрейма `data`.**"
   ]
  },
  {
   "cell_type": "code",
   "execution_count": 32,
   "id": "8cfac4b8",
   "metadata": {
    "id": "3ff9801d"
   },
   "outputs": [],
   "source": [
    "data = data[(data['children'] != -1) & (data['children'] != 20)]# ваш код здесь"
   ]
  },
  {
   "cell_type": "markdown",
   "id": "9526e094",
   "metadata": {
    "deletable": false,
    "editable": false,
    "id": "bbc4d0ce",
    "tags": [
     "start_task"
    ]
   },
   "source": [
    "**Задание 10. Ещё раз выведите перечень уникальных значений столбца `children`, чтобы убедиться, что артефакты удалены.**"
   ]
  },
  {
   "cell_type": "code",
   "execution_count": 33,
   "id": "3fe9b2e2",
   "metadata": {
    "id": "ad4fa8b7"
   },
   "outputs": [
    {
     "data": {
      "text/plain": [
       "array([1, 0, 3, 2, 4, 5])"
      ]
     },
     "execution_count": 33,
     "metadata": {},
     "output_type": "execute_result"
    }
   ],
   "source": [
    "data['children'].unique()# ваш код здесь"
   ]
  },
  {
   "cell_type": "markdown",
   "id": "1b64b16c",
   "metadata": {
    "deletable": false,
    "editable": false,
    "id": "75440b63"
   },
   "source": [
    "### Удаление пропусков (продолжение)"
   ]
  },
  {
   "cell_type": "markdown",
   "id": "021c9410",
   "metadata": {
    "deletable": false,
    "editable": false,
    "id": "f4ea573f",
    "tags": [
     "start_task"
    ]
   },
   "source": [
    "**Задание 11. Заполните пропуски в столбце `days_employed` медианными значениями по каждому типу занятости `income_type`.**"
   ]
  },
  {
   "cell_type": "code",
   "execution_count": 34,
   "id": "cf458900",
   "metadata": {
    "id": "af6b1a7e"
   },
   "outputs": [],
   "source": [
    "data['days_employed'] = data['days_employed'].fillna(data.groupby('income_type')['days_employed'].transform('median'))# ваш код здесь"
   ]
  },
  {
   "cell_type": "markdown",
   "id": "f1c90d5d",
   "metadata": {
    "deletable": false,
    "editable": false,
    "id": "2753f40d",
    "tags": [
     "start_task"
    ]
   },
   "source": [
    "**Задание 12. Убедитесь, что все пропуски заполнены. Проверьте себя и ещё раз выведите количество пропущенных значений для каждого столбца с помощью двух методов.**"
   ]
  },
  {
   "cell_type": "code",
   "execution_count": 35,
   "id": "148eaec1",
   "metadata": {
    "id": "55f78bc2"
   },
   "outputs": [
    {
     "name": "stdout",
     "output_type": "stream",
     "text": [
      "children            0\n",
      "days_employed       0\n",
      "dob_years           0\n",
      "education           0\n",
      "education_id        0\n",
      "family_status       0\n",
      "family_status_id    0\n",
      "gender              0\n",
      "income_type         0\n",
      "debt                0\n",
      "total_income        0\n",
      "purpose             0\n",
      "dtype: int64\n"
     ]
    }
   ],
   "source": [
    "print(data.isna().sum())# ваш код здесь"
   ]
  },
  {
   "cell_type": "markdown",
   "id": "faf93863",
   "metadata": {
    "deletable": false,
    "editable": false,
    "id": "ddc81e43"
   },
   "source": [
    "### Изменение типов данных"
   ]
  },
  {
   "cell_type": "markdown",
   "id": "afb9f384",
   "metadata": {
    "deletable": false,
    "editable": false,
    "id": "42d19d24",
    "tags": [
     "start_task"
    ]
   },
   "source": [
    "**Задание 13. Замените вещественный тип данных в столбце `total_income` на целочисленный с помощью метода `astype()`.**"
   ]
  },
  {
   "cell_type": "code",
   "execution_count": 36,
   "id": "85e049fc",
   "metadata": {
    "id": "920b65ad"
   },
   "outputs": [],
   "source": [
    "data['total_income'] = data['total_income'].astype('int')# ваш код здесь"
   ]
  },
  {
   "cell_type": "markdown",
   "id": "3354774c",
   "metadata": {
    "deletable": false,
    "editable": false,
    "id": "80c420ba"
   },
   "source": [
    "### Обработка дубликатов"
   ]
  },
  {
   "cell_type": "markdown",
   "id": "9297c4c0",
   "metadata": {
    "deletable": false,
    "editable": false,
    "tags": [
     "start_task"
    ]
   },
   "source": [
    "**Задание 14. Обработайте неявные дубликаты в столбце `education`. В этом столбце есть одни и те же значения, но записанные по-разному: с использованием заглавных и строчных букв. Приведите их к нижнему регистру. Проверьте остальные столбцы.**"
   ]
  },
  {
   "cell_type": "code",
   "execution_count": 37,
   "id": "1c46563d",
   "metadata": {},
   "outputs": [],
   "source": [
    "data['education'] = data['education'].str.lower() # ваш код здесь"
   ]
  },
  {
   "cell_type": "markdown",
   "id": "9df22bfd",
   "metadata": {
    "deletable": false,
    "editable": false,
    "id": "dc587695",
    "tags": [
     "start_task"
    ]
   },
   "source": [
    "**Задание 15. Выведите на экран количество строк-дубликатов в данных. Если такие строки присутствуют, удалите их.**"
   ]
  },
  {
   "cell_type": "code",
   "execution_count": 38,
   "id": "6bf65c37",
   "metadata": {
    "id": "3ee445e4"
   },
   "outputs": [
    {
     "name": "stdout",
     "output_type": "stream",
     "text": [
      "71\n"
     ]
    }
   ],
   "source": [
    "print(data.duplicated().sum()) # посчитайте дубликаты"
   ]
  },
  {
   "cell_type": "code",
   "execution_count": 39,
   "id": "8a887a06",
   "metadata": {
    "id": "8575fe05"
   },
   "outputs": [],
   "source": [
    "data = data.drop_duplicates()# удалите дубликаты"
   ]
  },
  {
   "cell_type": "markdown",
   "id": "440c6352",
   "metadata": {
    "deletable": false,
    "editable": false,
    "id": "9904cf55"
   },
   "source": [
    "### Категоризация данных"
   ]
  },
  {
   "cell_type": "markdown",
   "id": "72c9d404",
   "metadata": {
    "deletable": false,
    "editable": false,
    "id": "72fcc8a2",
    "tags": [
     "start_task"
    ]
   },
   "source": [
    "**Задание 16. На основании диапазонов, указанных ниже, создайте в датафрейме `data` столбец `total_income_category` с категориями:**\n",
    "\n",
    "- 0–30000 — `'E'`;\n",
    "- 30001–50000 — `'D'`;\n",
    "- 50001–200000 — `'C'`;\n",
    "- 200001–1000000 — `'B'`;\n",
    "- 1000001 и выше — `'A'`.\n",
    "\n",
    "\n",
    "**Например, кредитополучателю с доходом 25000 нужно назначить категорию `'E'`, а клиенту, получающему 235000, — `'B'`. Используйте собственную функцию с именем `categorize_income()` и метод `apply()`.**"
   ]
  },
  {
   "cell_type": "code",
   "execution_count": 40,
   "id": "2e5fd2fa",
   "metadata": {
    "id": "e1771346"
   },
   "outputs": [],
   "source": [
    "def categorize_income(total_income):\n",
    "    if total_income >=0 and total_income <= 30000:\n",
    "        return('E')\n",
    "    if total_income >= 30001 and total_income <= 50000:\n",
    "        return('D')\n",
    "    if total_income >= 50001 and total_income <= 200000:\n",
    "        return('C')\n",
    "    if total_income >= 200001 and total_income <= 1000000:\n",
    "        return('B')\n",
    "    return('A')# создайте функцию categorize_income()"
   ]
  },
  {
   "cell_type": "code",
   "execution_count": 41,
   "id": "5ecc6b60",
   "metadata": {
    "id": "d5f3586d"
   },
   "outputs": [],
   "source": [
    "data['total_income_category'] = data['total_income'].apply(categorize_income)# примените функцию методом apply()"
   ]
  },
  {
   "cell_type": "markdown",
   "id": "c52ddcc3",
   "metadata": {
    "deletable": false,
    "editable": false,
    "id": "dde49b5c",
    "tags": [
     "start_task"
    ]
   },
   "source": [
    "**Задание 17. Выведите на экран перечень уникальных целей взятия кредита из столбца `purpose`.**"
   ]
  },
  {
   "cell_type": "code",
   "execution_count": 42,
   "id": "cfb6774f",
   "metadata": {
    "id": "f67ce9b3"
   },
   "outputs": [
    {
     "data": {
      "text/plain": [
       "array(['покупка жилья', 'приобретение автомобиля',\n",
       "       'дополнительное образование', 'сыграть свадьбу',\n",
       "       'операции с жильем', 'образование', 'на проведение свадьбы',\n",
       "       'покупка жилья для семьи', 'покупка недвижимости',\n",
       "       'покупка коммерческой недвижимости', 'покупка жилой недвижимости',\n",
       "       'строительство собственной недвижимости', 'недвижимость',\n",
       "       'строительство недвижимости', 'на покупку подержанного автомобиля',\n",
       "       'на покупку своего автомобиля',\n",
       "       'операции с коммерческой недвижимостью',\n",
       "       'строительство жилой недвижимости', 'жилье',\n",
       "       'операции со своей недвижимостью', 'автомобили',\n",
       "       'заняться образованием', 'сделка с подержанным автомобилем',\n",
       "       'получение образования', 'автомобиль', 'свадьба',\n",
       "       'получение дополнительного образования', 'покупка своего жилья',\n",
       "       'операции с недвижимостью', 'получение высшего образования',\n",
       "       'свой автомобиль', 'сделка с автомобилем',\n",
       "       'профильное образование', 'высшее образование',\n",
       "       'покупка жилья для сдачи', 'на покупку автомобиля', 'ремонт жилью',\n",
       "       'заняться высшим образованием'], dtype=object)"
      ]
     },
     "execution_count": 42,
     "metadata": {},
     "output_type": "execute_result"
    }
   ],
   "source": [
    "data['purpose'].unique()# ваш код здесь"
   ]
  },
  {
   "cell_type": "markdown",
   "id": "7fc75bc5",
   "metadata": {
    "deletable": false,
    "editable": false,
    "id": "85d0aef0",
    "tags": [
     "start_task"
    ]
   },
   "source": [
    "**Задание 18. Создайте функцию, которая на основании данных из столбца `purpose` сформирует новый столбец `purpose_category`, в который войдут следующие категории:**\n",
    "\n",
    "- `'операции с автомобилем'`,\n",
    "- `'операции с недвижимостью'`,\n",
    "- `'проведение свадьбы'`,\n",
    "- `'получение образования'`.\n",
    "\n",
    "**Например, если в столбце `purpose` находится подстрока `'на покупку автомобиля'`, то в столбце `purpose_category` должна появиться строка `'операции с автомобилем'`.**\n",
    "\n",
    "**Используйте собственную функцию с именем `categorize_purpose()` и метод `apply()`. Изучите данные в столбце `purpose` и определите, какие подстроки помогут вам правильно определить категорию.**"
   ]
  },
  {
   "cell_type": "code",
   "execution_count": 43,
   "id": "1acd181a",
   "metadata": {
    "id": "e149fab4"
   },
   "outputs": [],
   "source": [
    "def categorize_purpose(purpose):\n",
    "    \n",
    "    if 'автомобил' in purpose:\n",
    "        return'операции с автомобилем'\n",
    "    elif 'недвижим' in purpose:\n",
    "        return'операции с недвижимостью'\n",
    "    elif 'жиль' in purpose:\n",
    "        return'операции с недвижимостью'\n",
    "    elif 'свад' in purpose:\n",
    "        return'проведение свадьбы'\n",
    "    elif 'жилой недвиж' in purpose:\n",
    "        return'операции с недвижимостью'\n",
    "    elif 'образ' in purpose:\n",
    "        return'получение образования'# создайте функцию categorize_purpose()"
   ]
  },
  {
   "cell_type": "code",
   "execution_count": 44,
   "id": "606f5cc9",
   "metadata": {
    "id": "bf36e69b"
   },
   "outputs": [],
   "source": [
    "data['purpose_category'] = data['purpose'].apply(categorize_purpose)# примените функцию методом apply()"
   ]
  }
 ],
 "metadata": {
  "ExecuteTimeLog": [
   {
    "duration": 9,
    "start_time": "2022-10-04T19:09:31.783Z"
   },
   {
    "duration": 7,
    "start_time": "2022-10-04T19:09:43.731Z"
   },
   {
    "duration": 7,
    "start_time": "2022-10-04T19:10:31.041Z"
   },
   {
    "duration": 6,
    "start_time": "2022-10-04T19:12:13.474Z"
   },
   {
    "duration": 578,
    "start_time": "2022-10-04T19:12:46.362Z"
   },
   {
    "duration": 76,
    "start_time": "2022-10-04T19:13:49.432Z"
   },
   {
    "duration": 100,
    "start_time": "2022-10-04T19:14:47.672Z"
   },
   {
    "duration": 79,
    "start_time": "2022-10-04T19:15:57.806Z"
   },
   {
    "duration": 4,
    "start_time": "2023-04-29T09:04:57.448Z"
   },
   {
    "duration": 68,
    "start_time": "2023-04-29T09:04:57.655Z"
   },
   {
    "duration": 9,
    "start_time": "2023-04-29T09:04:58.028Z"
   },
   {
    "duration": 14,
    "start_time": "2023-04-29T09:04:58.470Z"
   },
   {
    "duration": 9,
    "start_time": "2023-04-29T09:04:59.338Z"
   },
   {
    "duration": 13,
    "start_time": "2023-04-29T09:04:59.773Z"
   },
   {
    "duration": 13,
    "start_time": "2023-04-29T09:05:00.466Z"
   },
   {
    "duration": 7,
    "start_time": "2023-04-29T09:05:00.912Z"
   },
   {
    "duration": 5,
    "start_time": "2023-04-29T09:05:01.585Z"
   },
   {
    "duration": 8,
    "start_time": "2023-04-29T09:05:02.018Z"
   },
   {
    "duration": 6,
    "start_time": "2023-04-29T09:05:02.465Z"
   },
   {
    "duration": 10,
    "start_time": "2023-04-29T09:05:03.177Z"
   },
   {
    "duration": 10,
    "start_time": "2023-04-29T09:05:03.629Z"
   },
   {
    "duration": 5,
    "start_time": "2023-04-29T09:05:04.300Z"
   },
   {
    "duration": 18,
    "start_time": "2023-04-29T09:05:04.990Z"
   },
   {
    "duration": 22,
    "start_time": "2023-04-29T09:05:05.440Z"
   },
   {
    "duration": 35,
    "start_time": "2023-04-29T09:05:05.698Z"
   },
   {
    "duration": 5,
    "start_time": "2023-04-29T09:05:06.395Z"
   },
   {
    "duration": 12,
    "start_time": "2023-04-29T09:05:06.628Z"
   },
   {
    "duration": 7,
    "start_time": "2023-04-29T09:05:07.111Z"
   },
   {
    "duration": 4,
    "start_time": "2023-04-29T09:05:07.582Z"
   },
   {
    "duration": 10,
    "start_time": "2023-04-29T09:05:07.829Z"
   }
  ],
  "colab": {
   "name": "dpp_template_part1.ipynb",
   "provenance": []
  },
  "kernelspec": {
   "display_name": "Python 3 (ipykernel)",
   "language": "python",
   "name": "python3"
  },
  "language_info": {
   "codemirror_mode": {
    "name": "ipython",
    "version": 3
   },
   "file_extension": ".py",
   "mimetype": "text/x-python",
   "name": "python",
   "nbconvert_exporter": "python",
   "pygments_lexer": "ipython3",
   "version": "3.9.5"
  },
  "toc": {
   "base_numbering": 1,
   "nav_menu": {},
   "number_sections": true,
   "sideBar": true,
   "skip_h1_title": true,
   "title_cell": "Table of Contents",
   "title_sidebar": "Contents",
   "toc_cell": false,
   "toc_position": {},
   "toc_section_display": true,
   "toc_window_display": false
  }
 },
 "nbformat": 4,
 "nbformat_minor": 5
}
